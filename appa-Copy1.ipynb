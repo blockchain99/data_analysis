{
 "cells": [
  {
   "cell_type": "markdown",
   "metadata": {},
   "source": [
    "# Advanced NumPy"
   ]
  },
  {
   "cell_type": "code",
   "execution_count": 1,
   "metadata": {},
   "outputs": [],
   "source": [
    "import numpy as np\n",
    "import pandas as pd\n",
    "np.random.seed(12345)\n",
    "import matplotlib.pyplot as plt\n",
    "plt.rc('figure', figsize=(10, 6))\n",
    "PREVIOUS_MAX_ROWS = pd.options.display.max_rows\n",
    "pd.options.display.max_rows = 20\n",
    "np.set_printoptions(precision=4, suppress=True)"
   ]
  },
  {
   "cell_type": "markdown",
   "metadata": {},
   "source": [
    "## ndarray Object Internals"
   ]
  },
  {
   "cell_type": "code",
   "execution_count": 2,
   "metadata": {},
   "outputs": [
    {
     "data": {
      "text/plain": [
       "(10, 5)"
      ]
     },
     "execution_count": 2,
     "metadata": {},
     "output_type": "execute_result"
    }
   ],
   "source": [
    "np.ones((10, 5)).shape"
   ]
  },
  {
   "cell_type": "code",
   "execution_count": 3,
   "metadata": {},
   "outputs": [
    {
     "data": {
      "text/plain": [
       "(160, 40, 8)"
      ]
     },
     "execution_count": 3,
     "metadata": {},
     "output_type": "execute_result"
    }
   ],
   "source": [
    "np.ones((3, 4, 5), dtype=np.float64).strides"
   ]
  },
  {
   "cell_type": "markdown",
   "metadata": {},
   "source": [
    "### NumPy dtype Hierarchy"
   ]
  },
  {
   "cell_type": "code",
   "execution_count": 4,
   "metadata": {},
   "outputs": [
    {
     "data": {
      "text/plain": [
       "True"
      ]
     },
     "execution_count": 4,
     "metadata": {},
     "output_type": "execute_result"
    }
   ],
   "source": [
    "ints = np.ones(10, dtype=np.uint16)\n",
    "floats = np.ones(10, dtype=np.float32)\n",
    "np.issubdtype(ints.dtype, np.integer)\n",
    "np.issubdtype(floats.dtype, np.floating)"
   ]
  },
  {
   "cell_type": "code",
   "execution_count": 5,
   "metadata": {},
   "outputs": [
    {
     "data": {
      "text/plain": [
       "[numpy.float64,\n",
       " numpy.floating,\n",
       " numpy.inexact,\n",
       " numpy.number,\n",
       " numpy.generic,\n",
       " float,\n",
       " object]"
      ]
     },
     "execution_count": 5,
     "metadata": {},
     "output_type": "execute_result"
    }
   ],
   "source": [
    "np.float64.mro()"
   ]
  },
  {
   "cell_type": "code",
   "execution_count": 6,
   "metadata": {},
   "outputs": [
    {
     "data": {
      "text/plain": [
       "True"
      ]
     },
     "execution_count": 6,
     "metadata": {},
     "output_type": "execute_result"
    }
   ],
   "source": [
    "np.issubdtype(ints.dtype, np.number)"
   ]
  },
  {
   "cell_type": "markdown",
   "metadata": {},
   "source": [
    "## Advanced Array Manipulation"
   ]
  },
  {
   "cell_type": "markdown",
   "metadata": {},
   "source": [
    "### Reshaping Arrays"
   ]
  },
  {
   "cell_type": "code",
   "execution_count": 7,
   "metadata": {},
   "outputs": [
    {
     "data": {
      "text/plain": [
       "array([[0, 1],\n",
       "       [2, 3],\n",
       "       [4, 5],\n",
       "       [6, 7]])"
      ]
     },
     "execution_count": 7,
     "metadata": {},
     "output_type": "execute_result"
    }
   ],
   "source": [
    "arr = np.arange(8)\n",
    "arr\n",
    "arr.reshape((4, 2))"
   ]
  },
  {
   "cell_type": "code",
   "execution_count": 8,
   "metadata": {},
   "outputs": [
    {
     "data": {
      "text/plain": [
       "array([[0, 1, 2, 3],\n",
       "       [4, 5, 6, 7]])"
      ]
     },
     "execution_count": 8,
     "metadata": {},
     "output_type": "execute_result"
    }
   ],
   "source": [
    "arr.reshape((4, 2)).reshape((2, 4))"
   ]
  },
  {
   "cell_type": "code",
   "execution_count": 9,
   "metadata": {},
   "outputs": [
    {
     "data": {
      "text/plain": [
       "array([[ 0,  1,  2],\n",
       "       [ 3,  4,  5],\n",
       "       [ 6,  7,  8],\n",
       "       [ 9, 10, 11],\n",
       "       [12, 13, 14]])"
      ]
     },
     "execution_count": 9,
     "metadata": {},
     "output_type": "execute_result"
    }
   ],
   "source": [
    "arr = np.arange(15)\n",
    "arr.reshape((5, -1))"
   ]
  },
  {
   "cell_type": "code",
   "execution_count": 10,
   "metadata": {},
   "outputs": [
    {
     "name": "stdout",
     "output_type": "stream",
     "text": [
      "-----------other_arr---------\n",
      "[[1. 1. 1. 1. 1.]\n",
      " [1. 1. 1. 1. 1.]\n",
      " [1. 1. 1. 1. 1.]]\n",
      "(3, 5)\n",
      "-------arr---------\n",
      "[ 0  1  2  3  4  5  6  7  8  9 10 11 12 13 14]\n"
     ]
    },
    {
     "data": {
      "text/plain": [
       "array([[ 0,  1,  2,  3,  4],\n",
       "       [ 5,  6,  7,  8,  9],\n",
       "       [10, 11, 12, 13, 14]])"
      ]
     },
     "execution_count": 10,
     "metadata": {},
     "output_type": "execute_result"
    }
   ],
   "source": [
    "other_arr = np.ones((3, 5))\n",
    "print(\"-----------other_arr---------\")\n",
    "print(other_arr)\n",
    "print(other_arr.shape)\n",
    "print(\"-------arr---------\")\n",
    "print(arr)\n",
    "arr.reshape(other_arr.shape)"
   ]
  },
  {
   "cell_type": "code",
   "execution_count": 11,
   "metadata": {},
   "outputs": [
    {
     "name": "stdout",
     "output_type": "stream",
     "text": [
      "[[ 0  1  2]\n",
      " [ 3  4  5]\n",
      " [ 6  7  8]\n",
      " [ 9 10 11]\n",
      " [12 13 14]]\n",
      "---------------\n"
     ]
    },
    {
     "data": {
      "text/plain": [
       "array([ 0,  1,  2,  3,  4,  5,  6,  7,  8,  9, 10, 11, 12, 13, 14])"
      ]
     },
     "execution_count": 11,
     "metadata": {},
     "output_type": "execute_result"
    }
   ],
   "source": [
    "arr = np.arange(15).reshape((5, 3))\n",
    "print(arr)\n",
    "print(\"---------------\")\n",
    "arr.ravel() #back to be flatten by ravel(), same as flatten()"
   ]
  },
  {
   "cell_type": "code",
   "execution_count": 12,
   "metadata": {},
   "outputs": [
    {
     "data": {
      "text/plain": [
       "array([ 0,  1,  2,  3,  4,  5,  6,  7,  8,  9, 10, 11, 12, 13, 14])"
      ]
     },
     "execution_count": 12,
     "metadata": {},
     "output_type": "execute_result"
    }
   ],
   "source": [
    "arr.flatten()"
   ]
  },
  {
   "cell_type": "markdown",
   "metadata": {},
   "source": [
    "### C Versus Fortran Order"
   ]
  },
  {
   "cell_type": "code",
   "execution_count": 13,
   "metadata": {},
   "outputs": [
    {
     "name": "stdout",
     "output_type": "stream",
     "text": [
      "[ 0  1  2  3  4  5  6  7  8  9 10 11]\n"
     ]
    },
    {
     "data": {
      "text/plain": [
       "array([ 0,  4,  8,  1,  5,  9,  2,  6, 10,  3,  7, 11])"
      ]
     },
     "execution_count": 13,
     "metadata": {},
     "output_type": "execute_result"
    }
   ],
   "source": [
    "arr = np.arange(12).reshape((3, 4))\n",
    "arr\n",
    "print(arr.ravel())\n",
    "arr.ravel('F')"
   ]
  },
  {
   "cell_type": "markdown",
   "metadata": {},
   "source": [
    "### Concatenating and Splitting Arrays"
   ]
  },
  {
   "cell_type": "code",
   "execution_count": 39,
   "metadata": {},
   "outputs": [
    {
     "name": "stdout",
     "output_type": "stream",
     "text": [
      "[[1 2 3]\n",
      " [4 5 6]]\n",
      "---------\n",
      "[[ 7  8  9]\n",
      " [10 11 12]]\n",
      "===========================\n",
      "concatenate axis=0 : \n",
      "[[ 1  2  3]\n",
      " [ 4  5  6]\n",
      " [ 7  8  9]\n",
      " [10 11 12]]\n",
      "concatenate axis=1 : \n",
      "[[ 1  2  3  7  8  9]\n",
      " [ 4  5  6 10 11 12]]\n"
     ]
    },
    {
     "data": {
      "text/plain": [
       "array([[ 1,  2,  3,  7,  8,  9],\n",
       "       [ 4,  5,  6, 10, 11, 12]])"
      ]
     },
     "execution_count": 39,
     "metadata": {},
     "output_type": "execute_result"
    }
   ],
   "source": [
    "arr1 = np.array([[1, 2, 3], [4, 5, 6]])  #(2,6)\n",
    "print(arr1)\n",
    "print(\"---------\")\n",
    "arr2 = np.array([[7, 8, 9], [10, 11, 12]]) #(2,6)\n",
    "print(arr2)\n",
    "print(\"===========================\")\n",
    "\n",
    "print(\"concatenate axis=0 : \")\n",
    "print(np.concatenate([arr1, arr2], axis=0)) #\n",
    "print(\"concatenate axis=1 : \")\n",
    "print(np.concatenate([arr1, arr2], axis=1))\n",
    "\n",
    "print(\"concatenate axis=1 : \")\n",
    "print(np.concatenate([arr1, np.arange(2).reshape(2,1)], axis=1))"
   ]
  },
  {
   "cell_type": "code",
   "execution_count": 40,
   "metadata": {},
   "outputs": [
    {
     "name": "stdout",
     "output_type": "stream",
     "text": [
      "[[ 1  2  3]\n",
      " [ 4  5  6]\n",
      " [ 7  8  9]\n",
      " [10 11 12]]\n",
      "-------------------------\n",
      "[[ 1  2  3  7  8  9]\n",
      " [ 4  5  6 10 11 12]]\n"
     ]
    }
   ],
   "source": [
    "print(np.vstack((arr1, arr2)))  #np.concatenate axis=0\n",
    "print(\"-------------------------\")\n",
    "print(np.hstack((arr1, arr2)))  #np.concatenate axis=1"
   ]
  },
  {
   "cell_type": "markdown",
   "metadata": {},
   "source": [
    "[split , on the other hand, slices apart an array into multiple arrays along an axis:](https://www.tutorialsandyou.com/python/numpy-split-in-python-76.html)\n",
    "* The code np.split(x, 2) has splitted Numpy array x into two equal sub-arrays- [1, 2] and [3, 4]\n",
    "* The code np.split(y, [2, 3]) has splitted array y into three sub-arrays- y[:2], y[2:3] and y[3:]"
   ]
  },
  {
   "cell_type": "code",
   "execution_count": 62,
   "metadata": {},
   "outputs": [
    {
     "name": "stdout",
     "output_type": "stream",
     "text": [
      "Split the array at positions indicated in 1-D array:\n",
      "[[-0.4457  0.4684]\n",
      " [-0.9616 -1.8245]\n",
      " [ 0.6254  1.0229]\n",
      " [ 1.1074  0.0909]\n",
      " [-0.3501  0.218 ]]\n",
      "==========================\n",
      "-----first----------\n",
      "[[-0.4457  0.4684]\n",
      " [-0.9616 -1.8245]\n",
      " [ 0.6254  1.0229]\n",
      " [ 1.1074  0.0909]\n",
      " [-0.3501  0.218 ]]\n",
      "-----second----------\n",
      "[]\n",
      "-----third----------\n",
      "[[ 1.1074  0.0909]\n",
      " [-0.3501  0.218 ]]\n",
      "==========================\n",
      "-----first----------\n",
      "[[-0.4457  0.4684]\n",
      " [-0.9616 -1.8245]]\n",
      "-----second----------\n",
      "[[0.6254 1.0229]]\n",
      "-----third----------\n",
      "[[ 1.1074  0.0909]\n",
      " [-0.3501  0.218 ]]\n",
      "==========================\n",
      "-----first----------\n",
      "[[-0.4457  0.4684]]\n",
      "-----second----------\n",
      "[[-0.9616 -1.8245]]\n",
      "-----third----------\n",
      "[[ 0.6254  1.0229]\n",
      " [ 1.1074  0.0909]\n",
      " [-0.3501  0.218 ]]\n"
     ]
    }
   ],
   "source": [
    "print ('Split the array at positions indicated in 1-D array:' )\n",
    "arr = np.random.randn(5, 2)\n",
    "print(arr)\n",
    "\n",
    "print(\"==========================\")\n",
    "first, second, third = np.split(arr, [5, 3]) #\n",
    "print(\"-----first----------\")\n",
    "print(first)\n",
    "print(\"-----second----------\")\n",
    "print(second)\n",
    "print(\"-----third----------\")\n",
    "print(third)\n",
    "\n",
    "print(\"==========================\")\n",
    "first, second, third = np.split(arr, [2, 3]) #\n",
    "print(\"-----first----------\")\n",
    "print(first)\n",
    "print(\"-----second----------\")\n",
    "print(second)\n",
    "print(\"-----third----------\")\n",
    "print(third)\n",
    "print(\"==========================\")\n",
    "first, second, third = np.split(arr, [1, 2]) #\n",
    "print(\"-----first----------\")\n",
    "print(first)\n",
    "print(\"-----second----------\")\n",
    "print(second)\n",
    "print(\"-----third----------\")\n",
    "print(third)\n"
   ]
  },
  {
   "cell_type": "code",
   "execution_count": 63,
   "metadata": {},
   "outputs": [
    {
     "name": "stdout",
     "output_type": "stream",
     "text": [
      "First array:\n",
      "[0 1 2 3 4 5 6 7 8]\n",
      "Split the array in 3 equal-sized subarrays:\n",
      "[array([0, 1, 2]), array([3, 4, 5]), array([6, 7, 8])]\n",
      "Split the array at positions indicated in 1-D array:\n",
      "[array([0, 1, 2, 3]), array([4, 5, 6]), array([7, 8])]\n"
     ]
    }
   ],
   "source": [
    "#numpy.split(ary, indices_or_sections, axis)\n",
    "\n",
    "#indices_or_sections : \n",
    "# Can be an integer, indicating the number of equal sized subarrays \n",
    "# to be created from the input array. If this parameter is a 1-D array, \n",
    "# the entries indicate the points at which a new subarray is to be created.\n",
    "\n",
    "# axis : default is 0 (row , below direction)\n",
    "import numpy as np \n",
    "a = np.arange(9) \n",
    "\n",
    "print ('First array:')\n",
    "print (a )\n",
    "\n",
    "\n",
    "print ('Split the array in 3 equal-sized subarrays:' )\n",
    "b = np.split(a,3) \n",
    "print( b )\n",
    " \n",
    "\n",
    "print ('Split the array at positions indicated in 1-D array:' )\n",
    "b = np.split(a,[4,7])\n",
    "print (b) "
   ]
  },
  {
   "cell_type": "markdown",
   "metadata": {},
   "source": [
    "#### Stacking helpers: r_ and c_"
   ]
  },
  {
   "cell_type": "code",
   "execution_count": 108,
   "metadata": {},
   "outputs": [
    {
     "name": "stdout",
     "output_type": "stream",
     "text": [
      "[[0 1]\n",
      " [2 3]\n",
      " [4 5]]\n",
      "--------------\n",
      "[[-0.2551  0.8541]\n",
      " [-0.3648  0.1311]\n",
      " [-0.6976  1.3356]]\n",
      "------=======np.r_--------\n",
      "--np.r_[arr1, arr2]\n",
      "[[ 0.      1.    ]\n",
      " [ 2.      3.    ]\n",
      " [ 4.      5.    ]\n",
      " [-0.2551  0.8541]\n",
      " [-0.3648  0.1311]\n",
      " [-0.6976  1.3356]]\n",
      "--concatenate((a,b)), axis = 0)\n",
      "[[ 0.      1.    ]\n",
      " [ 2.      3.    ]\n",
      " [ 4.      5.    ]\n",
      " [-0.2551  0.8541]\n",
      " [-0.3648  0.1311]\n",
      " [-0.6976  1.3356]]\n",
      "--concatenate([a,b], axis = 0)\n",
      "[[ 0.      1.    ]\n",
      " [ 2.      3.    ]\n",
      " [ 4.      5.    ]\n",
      " [-0.2551  0.8541]\n",
      " [-0.3648  0.1311]\n",
      " [-0.6976  1.3356]]\n",
      "--------=======np.c_-----------\n",
      "[[ 0.      1.      0.    ]\n",
      " [ 2.      3.      1.    ]\n",
      " [ 4.      5.      2.    ]\n",
      " [-0.2551  0.8541  3.    ]\n",
      " [-0.3648  0.1311  4.    ]\n",
      " [-0.6976  1.3356  5.    ]]\n",
      "---- ---- ---\n",
      "(6, 2)\n",
      "[[ 0.      1.    ]\n",
      " [ 2.      3.    ]\n",
      " [ 4.      5.    ]\n",
      " [-0.2551  0.8541]\n",
      " [-0.3648  0.1311]\n",
      " [-0.6976  1.3356]]\n",
      "********\n",
      "(6,)\n",
      "[0 1 2 3 4 5]\n",
      "-------\n",
      "[[ 0.      1.      0.    ]\n",
      " [ 2.      3.      1.    ]\n",
      " [ 4.      5.      2.    ]\n",
      " [-0.2551  0.8541  3.    ]\n",
      " [-0.3648  0.1311  4.    ]\n",
      " [-0.6976  1.3356  5.    ]]\n",
      "-------\n"
     ]
    },
    {
     "data": {
      "text/plain": [
       "array([[ 0.    ,  1.    ,  0.    ],\n",
       "       [ 2.    ,  3.    ,  1.    ],\n",
       "       [ 4.    ,  5.    ,  2.    ],\n",
       "       [-0.2551,  0.8541,  3.    ],\n",
       "       [-0.3648,  0.1311,  4.    ],\n",
       "       [-0.6976,  1.3356,  5.    ]])"
      ]
     },
     "execution_count": 108,
     "metadata": {},
     "output_type": "execute_result"
    }
   ],
   "source": [
    "arr = np.arange(6)\n",
    "\n",
    "arr1 = arr.reshape((3, 2))\n",
    "print(arr1)\n",
    "print(\"--------------\")\n",
    "arr2 = np.random.randn(3, 2)\n",
    "print(arr2)\n",
    "print(\"------=======np.r_--------\")\n",
    "print(\"--np.r_[arr1, arr2]\")\n",
    "print(np.r_[arr1, arr2])  #.r_  row base concatenate axis=0\n",
    "print(\"--concatenate((a,b)), axis = 0)\")\n",
    "print(np.concatenate((arr1, arr2), axis=0))\n",
    "print(\"--concatenate([a,b], axis = 0)\")\n",
    "print(np.concatenate([arr1, arr2], axis=0))\n",
    "print(\"--------=======np.c_-----------\")\n",
    "print(np.c_[np.r_[arr1, arr2], arr])  #.c_ column base concatenate axis=1\n",
    "print(\"---- ---- ---\")\n",
    "# print(\"--np.concatenate( [np.concatenate([arr1, arr2], axis=0), arr], axis=1 ) \") #error 2d vs 1d\n",
    "# print(np.concatenate( [np.concatenate([arr1, arr2], axis=0), arr], axis=1 ) )\n",
    "#TypeError: concatenate() got multiple values for argument 'axis'\n",
    "# print(np.concatenate( np.concatenate([arr1, arr2], axis=0), arr, axis=1 ) ) S\n",
    "temp1 = np.concatenate([arr1, arr2], axis=0)\n",
    "print(temp1.shape)\n",
    "print(temp1)\n",
    "print('********')\n",
    "print(arr.shape)\n",
    "print(arr)\n",
    "print(\"-------\")\n",
    "# ValueError: all the input arrays must have same number of dimensions,\n",
    "# but the array at index 0 has 2 dimension(s) and the array at index 1 has 1 dimension(s)\n",
    "print(np.concatenate( [temp1, arr.reshape(6,1)], axis=1 ) ) \n",
    "print(\"-------\")\n",
    "# np.hstack((temp1,arr)) #error 2d vs. 1d\n",
    "np.hstack((temp1,arr.reshape(6,1)))"
   ]
  },
  {
   "cell_type": "code",
   "execution_count": 109,
   "metadata": {},
   "outputs": [
    {
     "name": "stdout",
     "output_type": "stream",
     "text": [
      "[1 2 3 4 5]\n",
      "[-10  -9  -8  -7  -6]\n",
      "------np.r_[a,b]-------\n",
      "[  1   2   3   4   5 -10  -9  -8  -7  -6]\n"
     ]
    },
    {
     "data": {
      "text/plain": [
       "array([[  1, -10],\n",
       "       [  2,  -9],\n",
       "       [  3,  -8],\n",
       "       [  4,  -7],\n",
       "       [  5,  -6]])"
      ]
     },
     "execution_count": 109,
     "metadata": {},
     "output_type": "execute_result"
    }
   ],
   "source": [
    "a = np.arange(1,6)\n",
    "print(a)\n",
    "b= np.arange(-10, -5)\n",
    "print(b)\n",
    "print(\"------np.r_[a,b]-------\")\n",
    "print(np.r_[a,b])\n",
    "np.c_[a, b]"
   ]
  },
  {
   "cell_type": "code",
   "execution_count": 110,
   "metadata": {},
   "outputs": [
    {
     "data": {
      "text/plain": [
       "array([[  1, -10],\n",
       "       [  2,  -9],\n",
       "       [  3,  -8],\n",
       "       [  4,  -7],\n",
       "       [  5,  -6]])"
      ]
     },
     "execution_count": 110,
     "metadata": {},
     "output_type": "execute_result"
    }
   ],
   "source": [
    "np.c_[1:6, -10:-5]"
   ]
  },
  {
   "cell_type": "markdown",
   "metadata": {},
   "source": [
    "### Repeating Elements: tile and repeat"
   ]
  },
  {
   "cell_type": "code",
   "execution_count": 112,
   "metadata": {},
   "outputs": [
    {
     "name": "stdout",
     "output_type": "stream",
     "text": [
      "[0 1 2]\n"
     ]
    },
    {
     "data": {
      "text/plain": [
       "array([0, 0, 0, 1, 1, 1, 2, 2, 2])"
      ]
     },
     "execution_count": 112,
     "metadata": {},
     "output_type": "execute_result"
    }
   ],
   "source": [
    "arr = np.arange(3)\n",
    "print(arr)\n",
    "arr.repeat(3)"
   ]
  },
  {
   "cell_type": "code",
   "execution_count": 20,
   "metadata": {},
   "outputs": [
    {
     "data": {
      "text/plain": [
       "array([0, 0, 1, 1, 1, 2, 2, 2, 2])"
      ]
     },
     "execution_count": 20,
     "metadata": {},
     "output_type": "execute_result"
    }
   ],
   "source": [
    "arr.repeat([2, 3, 4])"
   ]
  },
  {
   "cell_type": "code",
   "execution_count": 114,
   "metadata": {},
   "outputs": [
    {
     "name": "stdout",
     "output_type": "stream",
     "text": [
      "[[ 0.3563 -0.0101]\n",
      " [ 1.4158  0.5661]]\n",
      "--------------\n"
     ]
    },
    {
     "data": {
      "text/plain": [
       "array([[ 0.3563, -0.0101],\n",
       "       [ 0.3563, -0.0101],\n",
       "       [ 1.4158,  0.5661],\n",
       "       [ 1.4158,  0.5661]])"
      ]
     },
     "execution_count": 114,
     "metadata": {},
     "output_type": "execute_result"
    }
   ],
   "source": [
    "arr = np.random.randn(2, 2)\n",
    "print(arr)\n",
    "print(\"--------------\")\n",
    "arr.repeat(2, axis=0)"
   ]
  },
  {
   "cell_type": "code",
   "execution_count": 115,
   "metadata": {},
   "outputs": [
    {
     "name": "stdout",
     "output_type": "stream",
     "text": [
      "[[ 0.3563 -0.0101]\n",
      " [ 0.3563 -0.0101]\n",
      " [ 1.4158  0.5661]\n",
      " [ 1.4158  0.5661]\n",
      " [ 1.4158  0.5661]]\n"
     ]
    },
    {
     "data": {
      "text/plain": [
       "array([[ 0.3563,  0.3563, -0.0101, -0.0101, -0.0101],\n",
       "       [ 1.4158,  1.4158,  0.5661,  0.5661,  0.5661]])"
      ]
     },
     "execution_count": 115,
     "metadata": {},
     "output_type": "execute_result"
    }
   ],
   "source": [
    "print(arr.repeat([2, 3], axis=0))  #first row 2 times, second row 3 times\n",
    "arr.repeat([2, 3], axis=1) #1sst column 2times, 2nd column 3times"
   ]
  },
  {
   "cell_type": "code",
   "execution_count": 118,
   "metadata": {},
   "outputs": [
    {
     "name": "stdout",
     "output_type": "stream",
     "text": [
      "[[ 0.3563 -0.0101  0.3563 -0.0101]\n",
      " [ 1.4158  0.5661  1.4158  0.5661]]\n",
      "---------------\n",
      "[[ 0.3563  0.3563 -0.0101 -0.0101]\n",
      " [ 1.4158  1.4158  0.5661  0.5661]]\n"
     ]
    }
   ],
   "source": [
    "arr\n",
    "print(np.tile(arr, 2)) #whoel arr repeat column wise 2 times\n",
    "print(\"---------------\")\n",
    "print(arr.repeat(2, axis=1)) # each colum repeat colum wise 2 times"
   ]
  },
  {
   "cell_type": "code",
   "execution_count": 119,
   "metadata": {},
   "outputs": [
    {
     "name": "stdout",
     "output_type": "stream",
     "text": [
      "[[ 0.3563 -0.0101]\n",
      " [ 1.4158  0.5661]\n",
      " [ 0.3563 -0.0101]\n",
      " [ 1.4158  0.5661]]\n",
      "------------------------------\n"
     ]
    },
    {
     "data": {
      "text/plain": [
       "array([[ 0.3563, -0.0101,  0.3563, -0.0101],\n",
       "       [ 1.4158,  0.5661,  1.4158,  0.5661],\n",
       "       [ 0.3563, -0.0101,  0.3563, -0.0101],\n",
       "       [ 1.4158,  0.5661,  1.4158,  0.5661],\n",
       "       [ 0.3563, -0.0101,  0.3563, -0.0101],\n",
       "       [ 1.4158,  0.5661,  1.4158,  0.5661]])"
      ]
     },
     "execution_count": 119,
     "metadata": {},
     "output_type": "execute_result"
    }
   ],
   "source": [
    "arr\n",
    "print(np.tile(arr, (2, 1)))\n",
    "print(\"------------------------------\")\n",
    "np.tile(arr, (3, 2))#whole arr repeat row wise 3times , whole arr repeat column wise 2 times"
   ]
  },
  {
   "cell_type": "markdown",
   "metadata": {},
   "source": [
    "### Fancy Indexing Equivalents: take and put"
   ]
  },
  {
   "cell_type": "code",
   "execution_count": 146,
   "metadata": {},
   "outputs": [
    {
     "name": "stdout",
     "output_type": "stream",
     "text": [
      "[  0 100 200 300 400 500 600 700 800 900]\n",
      "--------------------\n"
     ]
    },
    {
     "data": {
      "text/plain": [
       "array([700, 100, 200, 600])"
      ]
     },
     "execution_count": 146,
     "metadata": {},
     "output_type": "execute_result"
    }
   ],
   "source": [
    "arr = np.arange(10) * 100\n",
    "print(arr)\n",
    "print(\"--------------------\")\n",
    "inds = [7, 1, 2, 6]  #reorder arr according to [index 7th element, 1st, 2nd...]\n",
    "arr[inds]"
   ]
  },
  {
   "cell_type": "code",
   "execution_count": 147,
   "metadata": {},
   "outputs": [
    {
     "name": "stdout",
     "output_type": "stream",
     "text": [
      "[  0 100 200 300 400 500 600 700 800 900]\n",
      "--\n",
      "[700 100 200 600]\n",
      "[700 100 200 600]\n",
      "[7, 1, 2, 6]\n",
      "---------------\n",
      "*replace inds 7's value 700 to 42, 1's 100 to 42, 2's 200 to 42...from arr \n",
      "[  0  42  42 300 400 500  42  42 800 900]\n"
     ]
    },
    {
     "data": {
      "text/plain": [
       "array([  0,  41,  42, 300, 400, 500,  43,  40, 800, 900])"
      ]
     },
     "execution_count": 147,
     "metadata": {},
     "output_type": "execute_result"
    }
   ],
   "source": [
    "############ ? #############\n",
    "# put: Replaces specified elements of an array with given values.\n",
    "print(arr)\n",
    "print(\"--\")\n",
    "print(arr.take(inds))\n",
    "print(arr[inds])\n",
    "print(inds)\n",
    "print(\"---------------\")\n",
    "arr.put(inds, 42) #replace all inds' element values with 42\n",
    "print(\"*replace inds 7's value 700 to 42, 1's 100 to 42, 2's 200 to 42...from arr \")\n",
    "print(arr)\n",
    "arr.put(inds, [40, 41, 42, 43])\n",
    "arr"
   ]
  },
  {
   "cell_type": "code",
   "execution_count": 150,
   "metadata": {},
   "outputs": [
    {
     "name": "stdout",
     "output_type": "stream",
     "text": [
      "[[-0.0316  0.2341  0.2719  1.2308]\n",
      " [ 1.2883  0.8518 -1.5292 -1.5517]]\n"
     ]
    },
    {
     "data": {
      "text/plain": [
       "array([[ 0.2719, -0.0316,  0.2719,  0.2341],\n",
       "       [-1.5292,  1.2883, -1.5292,  0.8518]])"
      ]
     },
     "execution_count": 150,
     "metadata": {},
     "output_type": "execute_result"
    }
   ],
   "source": [
    "inds = [2, 0, 2, 1]\n",
    "arr = np.random.randn(2, 4)\n",
    "print(arr)\n",
    "arr.take(inds, axis=1) #column-wise reorder element of index 2-> first, index 0-> second..."
   ]
  },
  {
   "cell_type": "markdown",
   "metadata": {},
   "source": [
    "## Broadcasting"
   ]
  },
  {
   "cell_type": "code",
   "execution_count": 151,
   "metadata": {},
   "outputs": [
    {
     "data": {
      "text/plain": [
       "array([ 0,  4,  8, 12, 16])"
      ]
     },
     "execution_count": 151,
     "metadata": {},
     "output_type": "execute_result"
    }
   ],
   "source": [
    "arr = np.arange(5)\n",
    "arr\n",
    "arr * 4"
   ]
  },
  {
   "cell_type": "code",
   "execution_count": 177,
   "metadata": {},
   "outputs": [
    {
     "name": "stdout",
     "output_type": "stream",
     "text": [
      "[[-0.7164 -0.1033 -1.141 ]\n",
      " [-0.5008 -0.3893 -0.4739]\n",
      " [ 0.1287  0.1537  0.4448]\n",
      " [ 0.1285  0.2525 -0.9406]]\n",
      "----arr.mean(0): row-wise(top-to-bottom): ttl 3----\n",
      "[-0.24   -0.0216 -0.5277]\n",
      "-------arr-arr.mean(0)-------------\n",
      "[[-0.4764 -0.0817 -0.6134]\n",
      " [-0.2608 -0.3677  0.0538]\n",
      " [ 0.3687  0.1753  0.9725]\n",
      " [ 0.3685  0.2741 -0.413 ]]\n",
      "----------------------------\n",
      "[ 0.  0. -0.]\n",
      "============\n"
     ]
    },
    {
     "data": {
      "text/plain": [
       "array([ 0.,  0., -0.])"
      ]
     },
     "execution_count": 177,
     "metadata": {},
     "output_type": "execute_result"
    }
   ],
   "source": [
    "arr = np.random.randn(4, 3)\n",
    "print(arr)\n",
    "print(\"----arr.mean(0): row-wise(top-to-bottom): ttl 3----\")\n",
    "print(arr.mean(0))\n",
    "print(\"-------arr-arr.mean(0)-------------\")\n",
    "demeaned = arr - arr.mean(0)\n",
    "print(demeaned)\n",
    "print(\"----------------------------\")\n",
    "print(demeaned.mean(0))\n",
    "\n",
    "print(\"============\")\n",
    "sum(arr -arr.mean(0)) / len(arr[:,0])"
   ]
  },
  {
   "cell_type": "code",
   "execution_count": 168,
   "metadata": {},
   "outputs": [
    {
     "name": "stdout",
     "output_type": "stream",
     "text": [
      "-0.0805\n"
     ]
    },
    {
     "data": {
      "text/plain": [
       "array([-0.0805,  1.0339, -0.1469])"
      ]
     },
     "execution_count": 168,
     "metadata": {},
     "output_type": "execute_result"
    }
   ],
   "source": [
    "print(round(sum(arr[:,0])/len(arr[:,0]), 4))\n",
    "sum(arr)/len(arr[:,0])"
   ]
  },
  {
   "cell_type": "code",
   "execution_count": 169,
   "metadata": {},
   "outputs": [
    {
     "data": {
      "text/plain": [
       "-0.08049476799496183"
      ]
     },
     "execution_count": 169,
     "metadata": {},
     "output_type": "execute_result"
    }
   ],
   "source": [
    "arr[:,0].sum()/len(arr[:,0])"
   ]
  },
  {
   "cell_type": "code",
   "execution_count": 181,
   "metadata": {},
   "outputs": [
    {
     "name": "stdout",
     "output_type": "stream",
     "text": [
      "[[-0.7164 -0.1033 -1.141 ]\n",
      " [-0.5008 -0.3893 -0.4739]\n",
      " [ 0.1287  0.1537  0.4448]\n",
      " [ 0.1285  0.2525 -0.9406]]\n",
      "----columnwise (left to right) mean: ttl 4-----------\n",
      " --1st col mean, 2nd , 3rd, 4th\n",
      "[-0.6536 -0.4546  0.2424 -0.1865]\n",
      "(4,)\n",
      "[[-0.6536]\n",
      " [-0.4546]\n",
      " [ 0.2424]\n",
      " [-0.1865]]\n",
      "-----------------\n",
      "[-0. -0.  0.  0.]\n"
     ]
    },
    {
     "data": {
      "text/plain": [
       "array([[-0.],\n",
       "       [-0.],\n",
       "       [ 0.],\n",
       "       [ 0.]])"
      ]
     },
     "execution_count": 181,
     "metadata": {},
     "output_type": "execute_result"
    }
   ],
   "source": [
    "print(arr)\n",
    "print(\"----columnwise (left to right) mean: ttl 4-----------\")\n",
    "row_means = arr.mean(1) #columnwise (left to right)\n",
    "print(\" --1st col mean, 2nd , 3rd, 4th\")\n",
    "print(row_means)\n",
    "print(row_means.shape)\n",
    "print(row_means.reshape((4, 1)))\n",
    "print(\"-----------------\")\n",
    "demeaned = arr - row_means.reshape((4, 1))\n",
    "print(demeaned.mean(1))\n",
    "demeaned.mean(1).reshape(4,1)"
   ]
  },
  {
   "cell_type": "markdown",
   "metadata": {},
   "source": [
    "### Broadcasting Over Other Axes"
   ]
  },
  {
   "cell_type": "code",
   "execution_count": 184,
   "metadata": {},
   "outputs": [
    {
     "name": "stdout",
     "output_type": "stream",
     "text": [
      "(4, 3)\n",
      "(4,)\n"
     ]
    }
   ],
   "source": [
    "print(arr.shape)\n",
    "print(arr.mean(1).shape)"
   ]
  },
  {
   "cell_type": "code",
   "execution_count": 182,
   "metadata": {},
   "outputs": [
    {
     "ename": "ValueError",
     "evalue": "operands could not be broadcast together with shapes (4,3) (4,) ",
     "output_type": "error",
     "traceback": [
      "\u001b[0;31m---------------------------------------------------------------------------\u001b[0m",
      "\u001b[0;31mValueError\u001b[0m                                Traceback (most recent call last)",
      "\u001b[0;32m<ipython-input-182-8b8ada26fac0>\u001b[0m in \u001b[0;36m<module>\u001b[0;34m\u001b[0m\n\u001b[0;32m----> 1\u001b[0;31m \u001b[0marr\u001b[0m \u001b[0;34m-\u001b[0m \u001b[0marr\u001b[0m\u001b[0;34m.\u001b[0m\u001b[0mmean\u001b[0m\u001b[0;34m(\u001b[0m\u001b[0;36m1\u001b[0m\u001b[0;34m)\u001b[0m\u001b[0;34m\u001b[0m\u001b[0;34m\u001b[0m\u001b[0m\n\u001b[0m",
      "\u001b[0;31mValueError\u001b[0m: operands could not be broadcast together with shapes (4,3) (4,) "
     ]
    }
   ],
   "source": [
    "arr - arr.mean(1)#ValueError: operands could not be broadcast together with shapes (4,3) (4,) "
   ]
  },
  {
   "cell_type": "code",
   "execution_count": 185,
   "metadata": {},
   "outputs": [
    {
     "data": {
      "text/plain": [
       "array([[-0.0628,  0.5503, -0.4875],\n",
       "       [-0.0461,  0.0653, -0.0192],\n",
       "       [-0.1137, -0.0887,  0.2024],\n",
       "       [ 0.3151,  0.4391, -0.7541]])"
      ]
     },
     "execution_count": 185,
     "metadata": {},
     "output_type": "execute_result"
    }
   ],
   "source": [
    "arr - arr.mean(1).reshape((4, 1))"
   ]
  },
  {
   "cell_type": "code",
   "execution_count": 188,
   "metadata": {},
   "outputs": [
    {
     "data": {
      "text/plain": [
       "array([[0.],\n",
       "       [0.],\n",
       "       [0.],\n",
       "       [0.]])"
      ]
     },
     "execution_count": 188,
     "metadata": {},
     "output_type": "execute_result"
    }
   ],
   "source": [
    "sum(arr - arr.mean(1).reshape((4, 1))).reshape(4,1)"
   ]
  },
  {
   "cell_type": "code",
   "execution_count": 186,
   "metadata": {},
   "outputs": [
    {
     "data": {
      "text/plain": [
       "array([[ 1.0021, -0.5254, -0.8874]])"
      ]
     },
     "execution_count": 186,
     "metadata": {},
     "output_type": "execute_result"
    }
   ],
   "source": [
    "arr = np.zeros((4, 4))\n",
    "arr_3d = arr[:, np.newaxis, :]\n",
    "arr_3d.shape\n",
    "arr_1d = np.random.normal(size=3)\n",
    "arr_1d[:, np.newaxis]\n",
    "arr_1d[np.newaxis, :]"
   ]
  },
  {
   "cell_type": "code",
   "execution_count": 214,
   "metadata": {},
   "outputs": [
    {
     "name": "stdout",
     "output_type": "stream",
     "text": [
      "[[[-1.5556  1.103   0.5547 -1.289   0.3852]\n",
      "  [-1.7173 -1.0184  0.0516  0.5033 -0.5432]\n",
      "  [-0.5067  0.7297  0.4343 -1.1337  1.424 ]\n",
      "  [ 0.2664 -0.8543 -0.5506 -0.6191  1.0389]]\n",
      "\n",
      " [[-0.9106  0.53   -0.0085 -1.129   0.5699]\n",
      "  [-0.8634 -1.3561 -0.0572 -0.1086  1.6524]\n",
      "  [-1.3509 -0.5461  0.9914  2.201   0.4279]\n",
      "  [ 0.2905  0.612  -0.5125 -0.7242  1.6929]]\n",
      "\n",
      " [[-0.2993  1.5717  0.4614 -0.6738 -1.141 ]\n",
      "  [-1.2289 -1.1593 -0.3208  1.0883 -0.9062]\n",
      "  [-0.4642 -0.5134  1.6178 -0.8167  0.2447]\n",
      "  [-1.3111  0.3884  1.5924  0.8704  0.3352]]]\n",
      "--------------\n",
      "[[-0.1603 -0.5448  0.1895 -0.1437]\n",
      " [-0.1897 -0.1466  0.3447  0.2717]\n",
      " [-0.0162 -0.5054  0.0137  0.3751]]\n",
      "(3, 4)\n",
      "-----====--------\n"
     ]
    },
    {
     "data": {
      "text/plain": [
       "array([[-0., -0.,  0., -0.],\n",
       "       [ 0., -0., -0.,  0.],\n",
       "       [ 0., -0., -0.,  0.]])"
      ]
     },
     "execution_count": 214,
     "metadata": {},
     "output_type": "execute_result"
    }
   ],
   "source": [
    "arr = np.random.randn(3, 4, 5)\n",
    "print(arr)\n",
    "print(\"--------------\")\n",
    "depth_means = arr.mean(2)\n",
    "print(depth_means)\n",
    "print(depth_means.shape)\n",
    "print(\"-----====--------\")\n",
    "demeaned = arr - depth_means[:, :, np.newaxis]\n",
    "demeaned.mean(2)"
   ]
  },
  {
   "cell_type": "code",
   "execution_count": 215,
   "metadata": {},
   "outputs": [
    {
     "name": "stdout",
     "output_type": "stream",
     "text": [
      "[[[ 0.649  -0.1832  0.5002  1.3688  0.8951]\n",
      "  [ 0.6473 -0.5679 -0.5795 -0.7514  1.0755]\n",
      "  [-0.6211  1.8786  1.2602  0.3101  0.1064]\n",
      "  [ 0.248  -1.3938 -0.6694 -0.5668 -0.3818]]\n",
      "\n",
      " [[-0.9465 -1.0651 -1.3318 -0.9865 -0.3784]\n",
      "  [ 0.7647  0.0604  0.6185 -0.4849 -0.2805]\n",
      "  [ 0.407   1.0252  0.2548  0.0875  0.0707]\n",
      "  [-0.5732  1.2289 -0.9622  1.5256  0.8273]]\n",
      "\n",
      " [[ 0.9125 -0.1273  0.6343 -1.5309 -1.2907]\n",
      "  [-0.5262 -1.1322 -0.4998 -0.7285 -0.5831]\n",
      "  [ 0.3293 -0.8269 -0.5369 -0.563   0.9184]\n",
      "  [-0.0794 -0.2786 -0.1305 -1.397  -0.2447]]]\n",
      "------arr.mean(2) -> depth:5's mean --------\n",
      "[[ 0.646  -0.0352  0.5868 -0.5528]\n",
      " [-0.9417  0.1356  0.369   0.4093]\n",
      " [-0.2804 -0.694  -0.1358 -0.426 ]]\n",
      "(3, 4)\n",
      "-----====--------\n",
      "(3, 4, 5)\n",
      "(3, 4)\n"
     ]
    },
    {
     "data": {
      "text/plain": [
       "array([[-0.,  0.,  0., -0.],\n",
       "       [-0., -0., -0., -0.],\n",
       "       [ 0., -0.,  0.,  0.]])"
      ]
     },
     "execution_count": 215,
     "metadata": {},
     "output_type": "execute_result"
    }
   ],
   "source": [
    "arr = np.random.randn(3, 4, 5) #row:3, column:4 , depth:5\n",
    "print(arr)\n",
    "print(\"------arr.mean(2) -> depth:5's mean --------\")\n",
    "depth_means = arr.mean(2)\n",
    "print(depth_means)\n",
    "print(depth_means.shape)\n",
    "print(\"-----====--------\")\n",
    "print(arr.shape)\n",
    "print(depth_means.shape)\n",
    "demeaned = arr - depth_means[:, :, np.newaxis] # convert 2d to 3d by [:,:,np.newaxis]\n",
    "demeaned.mean(2)"
   ]
  },
  {
   "cell_type": "markdown",
   "metadata": {},
   "source": [
    "```python\n",
    "def demean_axis(arr, axis=0):\n",
    "    means = arr.mean(axis)\n",
    "\n",
    "    # This generalizes things like [:, :, np.newaxis] to N dimensions\n",
    "    indexer = [slice(None)] * arr.ndim\n",
    "    indexer[axis] = np.newaxis\n",
    "    return arr - means[indexer]\n",
    "```"
   ]
  },
  {
   "cell_type": "markdown",
   "metadata": {},
   "source": [
    "### Setting Array Values by Broadcasting"
   ]
  },
  {
   "cell_type": "code",
   "execution_count": 216,
   "metadata": {},
   "outputs": [
    {
     "data": {
      "text/plain": [
       "array([[5., 5., 5.],\n",
       "       [5., 5., 5.],\n",
       "       [5., 5., 5.],\n",
       "       [5., 5., 5.]])"
      ]
     },
     "execution_count": 216,
     "metadata": {},
     "output_type": "execute_result"
    }
   ],
   "source": [
    "#setting values via array indexing.\n",
    "arr = np.zeros((4, 3))\n",
    "arr[:] = 5\n",
    "arr"
   ]
  },
  {
   "cell_type": "code",
   "execution_count": 217,
   "metadata": {},
   "outputs": [
    {
     "data": {
      "text/plain": [
       "array([[5., 5., 5.],\n",
       "       [5., 5., 5.],\n",
       "       [5., 5., 5.],\n",
       "       [5., 5., 5.]])"
      ]
     },
     "execution_count": 217,
     "metadata": {},
     "output_type": "execute_result"
    }
   ],
   "source": [
    "arr = np.zeros((4, 3))\n",
    "arr[:,:] = 5\n",
    "arr"
   ]
  },
  {
   "cell_type": "code",
   "execution_count": 218,
   "metadata": {},
   "outputs": [
    {
     "name": "stdout",
     "output_type": "stream",
     "text": [
      "** col,  (4,)\n",
      "[ 1.28 -0.42  0.44  1.6 ]\n",
      "*** arr,  (4, 3)\n",
      "[[5. 5. 5.]\n",
      " [5. 5. 5.]\n",
      " [5. 5. 5.]\n",
      " [5. 5. 5.]]\n",
      "----------------------------------\n",
      "* col[:,np.newaxis].shape : (4, 1)\n",
      "[[ 1.28]\n",
      " [-0.42]\n",
      " [ 0.44]\n",
      " [ 1.6 ]]\n",
      "-----arr[:] = col[:, np.newaxis]----------\n",
      "[[ 1.28  1.28  1.28]\n",
      " [-0.42 -0.42 -0.42]\n",
      " [ 0.44  0.44  0.44]\n",
      " [ 1.6   1.6   1.6 ]]\n"
     ]
    },
    {
     "data": {
      "text/plain": [
       "array([[-1.37 , -1.37 , -1.37 ],\n",
       "       [ 0.509,  0.509,  0.509],\n",
       "       [ 0.44 ,  0.44 ,  0.44 ],\n",
       "       [ 1.6  ,  1.6  ,  1.6  ]])"
      ]
     },
     "execution_count": 218,
     "metadata": {},
     "output_type": "execute_result"
    }
   ],
   "source": [
    "## Set into column: row number must be matched, rows are replaced.\n",
    "\n",
    "# if we had a one-dimensional array of values we wanted \n",
    "# to set into the columns of the array, \n",
    "# we can do that as long as the shape is compatible:\n",
    "col = np.array([1.28, -0.42, 0.44, 1.6])\n",
    "print(\"** col, \", col.shape); print(col)\n",
    "print(\"*** arr, \",arr.shape); print(arr)\n",
    "print(\"----------------------------------\")\n",
    "print(\"* col[:,np.newaxis].shape :\",col[:,np.newaxis].shape)\n",
    "print(col[:,np.newaxis])\n",
    "print(\"-----arr[:] = col[:, np.newaxis]----------\")\n",
    "arr[:] = col[:, np.newaxis] #set into the column of array:for all columns, all rows are replaced\n",
    "print(arr)\n",
    "arr[:2] = [[-1.37], [0.509]] #for all columns, row1 and row 2 are replaced with-1.37 and 0.509 \n",
    "arr"
   ]
  },
  {
   "cell_type": "code",
   "execution_count": 220,
   "metadata": {},
   "outputs": [
    {
     "name": "stdout",
     "output_type": "stream",
     "text": [
      "** row,  (4,)\n",
      "[ 1.28 -0.42  0.44  1.6 ]\n",
      "*** arr,  (3, 4)\n",
      "[[ 0.8303  0.2408 -0.9157 -2.2253]\n",
      " [-0.6631 -0.3212  0.4984  0.3803]\n",
      " [-1.067   0.2555  2.1113 -0.6342]]\n",
      "----------------------------------\n",
      "* row[np.newaxis,:].shape : (1, 4)\n",
      "[[ 1.28 -0.42  0.44  1.6 ]]\n",
      "-----arr[:] = row[np.newaxis, :]----------\n",
      "[[ 1.28 -0.42  0.44  1.6 ]\n",
      " [ 1.28 -0.42  0.44  1.6 ]\n",
      " [ 1.28 -0.42  0.44  1.6 ]]\n"
     ]
    },
    {
     "data": {
      "text/plain": [
       "array([[-1.37 , -1.37 , -1.37 , -1.37 ],\n",
       "       [ 0.509,  0.509,  0.509,  0.509],\n",
       "       [ 1.28 , -0.42 ,  0.44 ,  1.6  ]])"
      ]
     },
     "execution_count": 220,
     "metadata": {},
     "output_type": "execute_result"
    }
   ],
   "source": [
    "## columns number must be matched: columns are replaced\n",
    "# arr = np.arange(12).reshape(3,4)\n",
    "arr = np.random.randn(3, 4)\n",
    "row = np.array([1.28, -0.42, 0.44, 1.6])\n",
    "print(\"** row, \", row.shape); print(row)\n",
    "print(\"*** arr, \",arr.shape); print(arr)\n",
    "print(\"----------------------------------\")\n",
    "print(\"* row[np.newaxis,:].shape :\",row[np.newaxis,:].shape)\n",
    "print(row[np.newaxis,:])\n",
    "print(\"-----arr[:] = row[np.newaxis, :]----------\")\n",
    "arr[:] = row[np.newaxis,:] #set into the row of array:for all rows, all columns are replaced\n",
    "print(arr)\n",
    "arr[:2] = [[-1.37], [0.509]] #for all row, col 1 and col 2 are replaced with-1.37 and 0.509 \n",
    "arr"
   ]
  },
  {
   "cell_type": "markdown",
   "metadata": {},
   "source": [
    "## Advanced ufunc Usage"
   ]
  },
  {
   "cell_type": "markdown",
   "metadata": {},
   "source": [
    "### ufunc Instance Methods"
   ]
  },
  {
   "cell_type": "code",
   "execution_count": 222,
   "metadata": {},
   "outputs": [
    {
     "name": "stdout",
     "output_type": "stream",
     "text": [
      "45\n"
     ]
    },
    {
     "data": {
      "text/plain": [
       "45"
      ]
     },
     "execution_count": 222,
     "metadata": {},
     "output_type": "execute_result"
    }
   ],
   "source": [
    "# reduce takes a single array and aggregates its values, optionally along an axis,\n",
    "arr = np.arange(10)\n",
    "print(np.add.reduce(arr))\n",
    "arr.sum()"
   ]
  },
  {
   "cell_type": "code",
   "execution_count": 246,
   "metadata": {},
   "outputs": [
    {
     "name": "stdout",
     "output_type": "stream",
     "text": [
      "[[-0.09    0.7594  0.7483 -0.9815  0.3658]\n",
      " [-0.3154 -0.8661  0.0279 -0.4556 -1.6019]\n",
      " [ 0.2483 -0.3215 -0.8487  0.0005 -0.5465]\n",
      " [ 0.2539  1.9368 -0.7995 -0.5692  0.0489]\n",
      " [-0.6491 -0.4795 -0.9535  1.4225  0.1754]]\n",
      "------ arr[::2]----\n",
      "[[-0.09    0.7594  0.7483 -0.9815  0.3658]\n",
      " [ 0.2483 -0.3215 -0.8487  0.0005 -0.5465]\n",
      " [-0.6491 -0.4795 -0.9535  1.4225  0.1754]]\n",
      "------ arr[::1]----\n",
      "[[-0.09    0.7594  0.7483 -0.9815  0.3658]\n",
      " [-0.3154 -0.8661  0.0279 -0.4556 -1.6019]\n",
      " [ 0.2483 -0.3215 -0.8487  0.0005 -0.5465]\n",
      " [ 0.2539  1.9368 -0.7995 -0.5692  0.0489]\n",
      " [-0.6491 -0.4795 -0.9535  1.4225  0.1754]]\n",
      "------ arr[::3]----\n",
      "[[-0.09    0.7594  0.7483 -0.9815  0.3658]\n",
      " [ 0.2539  1.9368 -0.7995 -0.5692  0.0489]]\n",
      "arr---\n",
      "[[-0.09    0.7594  0.7483 -0.9815  0.3658]\n",
      " [-0.3154 -0.8661  0.0279 -0.4556 -1.6019]\n",
      " [ 0.2483 -0.3215 -0.8487  0.0005 -0.5465]\n",
      " [ 0.2539  1.9368 -0.7995 -0.5692  0.0489]\n",
      " [-0.6491 -0.4795 -0.9535  1.4225  0.1754]]\n",
      "************\n",
      "[[-0.09    0.7594  0.7483 -0.9815  0.3658]\n",
      " [ 0.2483 -0.3215 -0.8487  0.0005 -0.5465]\n",
      " [-0.6491 -0.4795 -0.9535  1.4225  0.1754]]\n",
      "-----after arr[::2].sort(1)-for every other row(increment 2)-(default is row),column wise(left to right) sort----\n",
      "[[-0.9815 -0.09    0.3658  0.7483  0.7594]\n",
      " [-0.3154 -0.8661  0.0279 -0.4556 -1.6019]\n",
      " [-0.8487 -0.5465 -0.3215  0.0005  0.2483]\n",
      " [ 0.2539  1.9368 -0.7995 -0.5692  0.0489]\n",
      " [-0.9535 -0.6491 -0.4795  0.1754  1.4225]]\n",
      "======arr[:, :-1]========\n",
      "[[-0.9815 -0.09    0.3658  0.7483]\n",
      " [-0.3154 -0.8661  0.0279 -0.4556]\n",
      " [-0.8487 -0.5465 -0.3215  0.0005]\n",
      " [ 0.2539  1.9368 -0.7995 -0.5692]\n",
      " [-0.9535 -0.6491 -0.4795  0.1754]]\n",
      "---- arr[:, 1:]------\n",
      "[[-0.09    0.3658  0.7483  0.7594]\n",
      " [-0.8661  0.0279 -0.4556 -1.6019]\n",
      " [-0.5465 -0.3215  0.0005  0.2483]\n",
      " [ 1.9368 -0.7995 -0.5692  0.0489]\n",
      " [-0.6491 -0.4795  0.1754  1.4225]]\n",
      "---------arr[:, :-1] < arr[:, 1:]------\n",
      "[[ True  True  True  True]\n",
      " [False  True False False]\n",
      " [ True  True  True  True]\n",
      " [ True False  True  True]\n",
      " [ True  True  True  True]]\n"
     ]
    },
    {
     "data": {
      "text/plain": [
       "array([ True, False,  True, False,  True])"
      ]
     },
     "execution_count": 246,
     "metadata": {},
     "output_type": "execute_result"
    }
   ],
   "source": [
    "np.random.seed(12346)  # for reproducibility\n",
    "arr = np.random.randn(5, 5)\n",
    "print(arr)\n",
    "print(\"------ arr[::2]----\") #from start, to end, increment 2\n",
    "print(arr[::2])\n",
    "print(\"------ arr[::1]----\") #increment 1\n",
    "print(arr[::1])\n",
    "print(\"------ arr[::3]----\") #increment 3\n",
    "print(arr[::3])\n",
    "\n",
    "print(\"arr---\")\n",
    "print(arr)\n",
    "print(\"************\")\n",
    "print(arr[::2])\n",
    "\n",
    "print(\"-----after arr[::2].sort(1)-for every other row(increment 2)-(default is row),column wise(left to right) sort----\")\n",
    "arr[::2].sort(1) # sort only even row, sorting method: column-wise(left to right) sort.\n",
    "print(arr)\n",
    "print(\"======arr[:, :-1]========\")\n",
    "print(arr[:, :-1])\n",
    "print(\"---- arr[:, 1:]------\")\n",
    "print( arr[:, 1:])\n",
    "print(\"---------arr[:, :-1] < arr[:, 1:]------\")\n",
    "print(arr[:, :-1] < arr[:, 1:])\n",
    "\n",
    "np.logical_and.reduce(arr[:, :-1] < arr[:, 1:], axis=1) #column-wise, from left to right 'np.logical_and' op"
   ]
  },
  {
   "cell_type": "code",
   "execution_count": 245,
   "metadata": {},
   "outputs": [
    {
     "name": "stdout",
     "output_type": "stream",
     "text": [
      "[[-0.9815 -0.09    0.3658  0.7483  0.7594]\n",
      " [-0.3154 -0.8661  0.0279 -0.4556 -1.6019]\n",
      " [-0.8487 -0.5465 -0.3215  0.0005  0.2483]\n",
      " [ 0.2539  1.9368 -0.7995 -0.5692  0.0489]\n",
      " [-0.9535 -0.6491 -0.4795  0.1754  1.4225]]\n",
      "======arr[:, :-2]========\n",
      "[[-0.9815 -0.09    0.3658]\n",
      " [-0.3154 -0.8661  0.0279]\n",
      " [-0.8487 -0.5465 -0.3215]\n",
      " [ 0.2539  1.9368 -0.7995]\n",
      " [-0.9535 -0.6491 -0.4795]]\n",
      "======arr[::-2]========\n",
      "[[-0.9535 -0.6491 -0.4795  0.1754  1.4225]\n",
      " [-0.8487 -0.5465 -0.3215  0.0005  0.2483]\n",
      " [-0.9815 -0.09    0.3658  0.7483  0.7594]]\n",
      "---- arr[:, 2:]------\n",
      "[[ 0.3658  0.7483  0.7594]\n",
      " [ 0.0279 -0.4556 -1.6019]\n",
      " [-0.3215  0.0005  0.2483]\n",
      " [-0.7995 -0.5692  0.0489]\n",
      " [-0.4795  0.1754  1.4225]]\n"
     ]
    }
   ],
   "source": [
    "print(arr)\n",
    "print(\"======arr[:, :-2]========\") #all row, colunm is from start to (-2: from rear 2nd -> this is not incl)\n",
    "print(arr[:, :-2])\n",
    "print(\"======arr[::-2]========\")# increment -2 row-wise(default)-every other row (from rear)\n",
    "print(arr[::-2])\n",
    "print(\"---- arr[:, 2:]------\") #all row, column is from 2 row to the end.\n",
    "print( arr[:, 2:])"
   ]
  },
  {
   "cell_type": "code",
   "execution_count": 248,
   "metadata": {},
   "outputs": [
    {
     "name": "stdout",
     "output_type": "stream",
     "text": [
      "[[ 0  1  2  3  4]\n",
      " [ 5  6  7  8  9]\n",
      " [10 11 12 13 14]]\n",
      "-----------------\n"
     ]
    },
    {
     "data": {
      "text/plain": [
       "array([[ 0,  1,  3,  6, 10],\n",
       "       [ 5, 11, 18, 26, 35],\n",
       "       [10, 21, 33, 46, 60]])"
      ]
     },
     "execution_count": 248,
     "metadata": {},
     "output_type": "execute_result"
    }
   ],
   "source": [
    "#It produces an array of the same size \n",
    "# with the intermediate “accumulated” values:\n",
    "arr = np.arange(15).reshape((3, 5))\n",
    "print(arr)\n",
    "print(\"-----------------\")\n",
    "np.add.accumulate(arr, axis=1)"
   ]
  },
  {
   "cell_type": "code",
   "execution_count": 267,
   "metadata": {},
   "outputs": [
    {
     "name": "stdout",
     "output_type": "stream",
     "text": [
      "(5,)\n",
      "[0 1 1 2 2]\n",
      "******\n",
      "(5,)\n",
      "[0 1 2 3 4]\n",
      "-------np.multiply.outer-------------\n",
      "[[0 0 0 0 0]\n",
      " [0 1 2 3 4]\n",
      " [0 1 2 3 4]\n",
      " [0 2 4 6 8]\n",
      " [0 2 4 6 8]]\n",
      "shape :  (5, 5)\n",
      "-------np.multiply-------------\n",
      "[0 1 2 6 8]\n",
      "--------arr * np.arange(5)-----------\n",
      "[0 1 2 6 8]\n",
      "--------np.dot------------\n"
     ]
    },
    {
     "data": {
      "text/plain": [
       "17"
      ]
     },
     "execution_count": 267,
     "metadata": {},
     "output_type": "execute_result"
    }
   ],
   "source": [
    "arr = np.arange(3).repeat([1, 2, 2]) # 0-> once, 1 -> 2 times, 2 -> 2 times\n",
    "print(arr.shape)\n",
    "print(arr)\n",
    "print(\"******\")\n",
    "print((np.arange(5).shape))\n",
    "print(np.arange(5))\n",
    "print(\"-------np.multiply.outer-------------\")\n",
    "print(np.multiply.outer(arr, np.arange(5)))\n",
    "print(\"shape : \",np.multiply.outer(arr, np.arange(5)).shape)\n",
    "print(\"-------np.multiply-------------\")\n",
    "print(np.multiply(arr, np.arange(5)))\n",
    "print(\"--------arr * np.arange(5)-----------\")\n",
    "print(arr * np.arange(5))\n",
    "print(\"--------np.dot------------\")\n",
    "np.dot(arr, np.arange(5))"
   ]
  },
  {
   "cell_type": "code",
   "execution_count": 268,
   "metadata": {},
   "outputs": [
    {
     "name": "stdout",
     "output_type": "stream",
     "text": [
      "[[ 0.5737  0.5605  0.2095 -0.8083]\n",
      " [ 0.8893  1.1924 -0.2881 -1.6406]\n",
      " [-1.6053 -1.2456 -1.0231  0.5297]]\n",
      "(3, 4)\n",
      "---------------\n",
      "[ 0.7745 -1.7123  0.7562 -1.4077 -0.8812]\n",
      "(5,)\n",
      "---------------\n",
      "[[[-0.2008  2.286  -0.1825  1.9814  1.4549]\n",
      "  [-0.214   2.2728 -0.1957  1.9682  1.4417]\n",
      "  [-0.565   1.9218 -0.5467  1.6172  1.0907]\n",
      "  [-1.5828  0.9039 -1.5646  0.5993  0.0728]]\n",
      "\n",
      " [[ 0.1149  2.6016  0.1331  2.297   1.7705]\n",
      "  [ 0.4179  2.9046  0.4361  2.6     2.0735]\n",
      "  [-1.0626  1.4242 -1.0443  1.1196  0.5931]\n",
      "  [-2.4151  0.0717 -2.3968 -0.2329 -0.7594]]\n",
      "\n",
      " [[-2.3798  0.107  -2.3615 -0.1976 -0.7241]\n",
      "  [-2.0201  0.4667 -2.0018  0.1621 -0.3644]\n",
      "  [-1.7976  0.6892 -1.7793  0.3846 -0.1419]\n",
      "  [-0.2448  2.2419 -0.2266  1.9373  1.4108]]]\n"
     ]
    },
    {
     "data": {
      "text/plain": [
       "(3, 4, 5)"
      ]
     },
     "execution_count": 268,
     "metadata": {},
     "output_type": "execute_result"
    }
   ],
   "source": [
    "x, y = np.random.randn(3, 4), np.random.randn(5)\n",
    "print(x)\n",
    "print(x.shape)\n",
    "print(\"---------------\")\n",
    "print(y)\n",
    "print(y.shape)\n",
    "print(\"---------------\")\n",
    "result = np.subtract.outer(x, y)\n",
    "print(result)\n",
    "result.shape"
   ]
  },
  {
   "cell_type": "code",
   "execution_count": 271,
   "metadata": {},
   "outputs": [
    {
     "name": "stdout",
     "output_type": "stream",
     "text": [
      "[0 1 2 3 4 5 6 7 8 9]\n"
     ]
    },
    {
     "data": {
      "text/plain": [
       "45"
      ]
     },
     "execution_count": 271,
     "metadata": {},
     "output_type": "execute_result"
    }
   ],
   "source": [
    "arr = np.arange(10)\n",
    "print(arr)\n",
    "np.add.reduce(arr)"
   ]
  },
  {
   "cell_type": "code",
   "execution_count": 272,
   "metadata": {},
   "outputs": [
    {
     "data": {
      "text/plain": [
       "array([45])"
      ]
     },
     "execution_count": 272,
     "metadata": {},
     "output_type": "execute_result"
    }
   ],
   "source": [
    "arr = np.arange(10)\n",
    "np.add.reduceat(arr, [0])"
   ]
  },
  {
   "cell_type": "code",
   "execution_count": 274,
   "metadata": {},
   "outputs": [
    {
     "data": {
      "text/plain": [
       "array([ 1, 44])"
      ]
     },
     "execution_count": 274,
     "metadata": {},
     "output_type": "execute_result"
    }
   ],
   "source": [
    "arr = np.arange(10)\n",
    "np.add.reduceat(arr, [0, 2])"
   ]
  },
  {
   "cell_type": "code",
   "execution_count": 275,
   "metadata": {},
   "outputs": [
    {
     "data": {
      "text/plain": [
       "array([ 0, 45])"
      ]
     },
     "execution_count": 275,
     "metadata": {},
     "output_type": "execute_result"
    }
   ],
   "source": [
    "arr = np.arange(10)\n",
    "np.add.reduceat(arr, [0, 1])"
   ]
  },
  {
   "cell_type": "code",
   "execution_count": 276,
   "metadata": {},
   "outputs": [
    {
     "data": {
      "text/plain": [
       "array([ 5, 39])"
      ]
     },
     "execution_count": 276,
     "metadata": {},
     "output_type": "execute_result"
    }
   ],
   "source": [
    "arr = np.arange(10)\n",
    "np.add.reduceat(arr, [2, 4])"
   ]
  },
  {
   "cell_type": "code",
   "execution_count": 277,
   "metadata": {},
   "outputs": [
    {
     "data": {
      "text/plain": [
       "array([ 6, 39])"
      ]
     },
     "execution_count": 277,
     "metadata": {},
     "output_type": "execute_result"
    }
   ],
   "source": [
    "arr = np.arange(10)\n",
    "np.add.reduceat(arr, [0, 4])"
   ]
  },
  {
   "cell_type": "code",
   "execution_count": 278,
   "metadata": {},
   "outputs": [
    {
     "data": {
      "text/plain": [
       "array([10, 35])"
      ]
     },
     "execution_count": 278,
     "metadata": {},
     "output_type": "execute_result"
    }
   ],
   "source": [
    "arr = np.arange(10)\n",
    "np.add.reduceat(arr, [0, 5])"
   ]
  },
  {
   "cell_type": "code",
   "execution_count": 269,
   "metadata": {},
   "outputs": [
    {
     "data": {
      "text/plain": [
       "array([10, 18, 17])"
      ]
     },
     "execution_count": 269,
     "metadata": {},
     "output_type": "execute_result"
    }
   ],
   "source": [
    "arr = np.arange(10)\n",
    "np.add.reduceat(arr, [0, 5, 8])"
   ]
  },
  {
   "cell_type": "code",
   "execution_count": null,
   "metadata": {},
   "outputs": [],
   "source": [
    "arr = np.multiply.outer(np.arange(4), np.arange(5))\n",
    "arr\n",
    "np.add.reduceat(arr, [0, 2, 4], axis=1)"
   ]
  },
  {
   "cell_type": "markdown",
   "metadata": {},
   "source": [
    "### Writing New ufuncs in Python"
   ]
  },
  {
   "cell_type": "code",
   "execution_count": null,
   "metadata": {},
   "outputs": [],
   "source": [
    "def add_elements(x, y):\n",
    "    return x + y\n",
    "add_them = np.frompyfunc(add_elements, 2, 1)\n",
    "add_them(np.arange(8), np.arange(8))"
   ]
  },
  {
   "cell_type": "code",
   "execution_count": null,
   "metadata": {},
   "outputs": [],
   "source": [
    "add_them = np.vectorize(add_elements, otypes=[np.float64])\n",
    "add_them(np.arange(8), np.arange(8))"
   ]
  },
  {
   "cell_type": "code",
   "execution_count": null,
   "metadata": {},
   "outputs": [],
   "source": [
    "arr = np.random.randn(10000)\n",
    "%timeit add_them(arr, arr)\n",
    "%timeit np.add(arr, arr)"
   ]
  },
  {
   "cell_type": "markdown",
   "metadata": {},
   "source": [
    "## Structured and Record Arrays"
   ]
  },
  {
   "cell_type": "code",
   "execution_count": null,
   "metadata": {},
   "outputs": [],
   "source": [
    "dtype = [('x', np.float64), ('y', np.int32)]\n",
    "sarr = np.array([(1.5, 6), (np.pi, -2)], dtype=dtype)\n",
    "sarr"
   ]
  },
  {
   "cell_type": "code",
   "execution_count": null,
   "metadata": {},
   "outputs": [],
   "source": [
    "sarr[0]\n",
    "sarr[0]['y']"
   ]
  },
  {
   "cell_type": "code",
   "execution_count": null,
   "metadata": {},
   "outputs": [],
   "source": [
    "sarr['x']"
   ]
  },
  {
   "cell_type": "markdown",
   "metadata": {},
   "source": [
    "### Nested dtypes and Multidimensional Fields"
   ]
  },
  {
   "cell_type": "code",
   "execution_count": null,
   "metadata": {},
   "outputs": [],
   "source": [
    "dtype = [('x', np.int64, 3), ('y', np.int32)]\n",
    "arr = np.zeros(4, dtype=dtype)\n",
    "arr"
   ]
  },
  {
   "cell_type": "code",
   "execution_count": null,
   "metadata": {},
   "outputs": [],
   "source": [
    "arr[0]['x']"
   ]
  },
  {
   "cell_type": "code",
   "execution_count": null,
   "metadata": {},
   "outputs": [],
   "source": [
    "arr['x']"
   ]
  },
  {
   "cell_type": "code",
   "execution_count": null,
   "metadata": {},
   "outputs": [],
   "source": [
    "dtype = [('x', [('a', 'f8'), ('b', 'f4')]), ('y', np.int32)]\n",
    "data = np.array([((1, 2), 5), ((3, 4), 6)], dtype=dtype)\n",
    "data['x']\n",
    "data['y']\n",
    "data['x']['a']"
   ]
  },
  {
   "cell_type": "markdown",
   "metadata": {},
   "source": [
    "### Why Use Structured Arrays?"
   ]
  },
  {
   "cell_type": "markdown",
   "metadata": {},
   "source": [
    "## More About Sorting"
   ]
  },
  {
   "cell_type": "code",
   "execution_count": null,
   "metadata": {},
   "outputs": [],
   "source": [
    "arr = np.random.randn(6)\n",
    "arr.sort()\n",
    "arr"
   ]
  },
  {
   "cell_type": "code",
   "execution_count": null,
   "metadata": {},
   "outputs": [],
   "source": [
    "arr = np.random.randn(3, 5)\n",
    "arr\n",
    "arr[:, 0].sort()  # Sort first column values in-place\n",
    "arr"
   ]
  },
  {
   "cell_type": "code",
   "execution_count": null,
   "metadata": {},
   "outputs": [],
   "source": [
    "arr = np.random.randn(5)\n",
    "arr\n",
    "np.sort(arr)\n",
    "arr"
   ]
  },
  {
   "cell_type": "code",
   "execution_count": null,
   "metadata": {},
   "outputs": [],
   "source": [
    "arr = np.random.randn(3, 5)\n",
    "arr\n",
    "arr.sort(axis=1)\n",
    "arr"
   ]
  },
  {
   "cell_type": "code",
   "execution_count": null,
   "metadata": {},
   "outputs": [],
   "source": [
    "arr[:, ::-1]"
   ]
  },
  {
   "cell_type": "markdown",
   "metadata": {},
   "source": [
    "### Indirect Sorts: argsort and lexsort"
   ]
  },
  {
   "cell_type": "code",
   "execution_count": null,
   "metadata": {},
   "outputs": [],
   "source": [
    "values = np.array([5, 0, 1, 3, 2])\n",
    "indexer = values.argsort()\n",
    "indexer\n",
    "values[indexer]"
   ]
  },
  {
   "cell_type": "code",
   "execution_count": null,
   "metadata": {},
   "outputs": [],
   "source": [
    "arr = np.random.randn(3, 5)\n",
    "arr[0] = values\n",
    "arr\n",
    "arr[:, arr[0].argsort()]"
   ]
  },
  {
   "cell_type": "code",
   "execution_count": null,
   "metadata": {},
   "outputs": [],
   "source": [
    "first_name = np.array(['Bob', 'Jane', 'Steve', 'Bill', 'Barbara'])\n",
    "last_name = np.array(['Jones', 'Arnold', 'Arnold', 'Jones', 'Walters'])\n",
    "sorter = np.lexsort((first_name, last_name))\n",
    "sorter\n",
    "zip(last_name[sorter], first_name[sorter])"
   ]
  },
  {
   "cell_type": "markdown",
   "metadata": {},
   "source": [
    "### Alternative Sort Algorithms"
   ]
  },
  {
   "cell_type": "code",
   "execution_count": null,
   "metadata": {},
   "outputs": [],
   "source": [
    "values = np.array(['2:first', '2:second', '1:first', '1:second',\n",
    "                   '1:third'])\n",
    "key = np.array([2, 2, 1, 1, 1])\n",
    "indexer = key.argsort(kind='mergesort')\n",
    "indexer\n",
    "values.take(indexer)"
   ]
  },
  {
   "cell_type": "markdown",
   "metadata": {},
   "source": [
    "### Partially Sorting Arrays"
   ]
  },
  {
   "cell_type": "code",
   "execution_count": null,
   "metadata": {},
   "outputs": [],
   "source": [
    "np.random.seed(12345)\n",
    "arr = np.random.randn(20)\n",
    "arr\n",
    "np.partition(arr, 3)"
   ]
  },
  {
   "cell_type": "code",
   "execution_count": null,
   "metadata": {},
   "outputs": [],
   "source": [
    "indices = np.argpartition(arr, 3)\n",
    "indices\n",
    "arr.take(indices)"
   ]
  },
  {
   "cell_type": "markdown",
   "metadata": {},
   "source": [
    "### numpy.searchsorted: Finding Elements in a Sorted Array"
   ]
  },
  {
   "cell_type": "code",
   "execution_count": null,
   "metadata": {},
   "outputs": [],
   "source": [
    "arr = np.array([0, 1, 7, 12, 15])\n",
    "arr.searchsorted(9)"
   ]
  },
  {
   "cell_type": "code",
   "execution_count": null,
   "metadata": {},
   "outputs": [],
   "source": [
    "arr.searchsorted([0, 8, 11, 16])"
   ]
  },
  {
   "cell_type": "code",
   "execution_count": null,
   "metadata": {},
   "outputs": [],
   "source": [
    "arr = np.array([0, 0, 0, 1, 1, 1, 1])\n",
    "arr.searchsorted([0, 1])\n",
    "arr.searchsorted([0, 1], side='right')"
   ]
  },
  {
   "cell_type": "code",
   "execution_count": null,
   "metadata": {},
   "outputs": [],
   "source": [
    "data = np.floor(np.random.uniform(0, 10000, size=50))\n",
    "bins = np.array([0, 100, 1000, 5000, 10000])\n",
    "data"
   ]
  },
  {
   "cell_type": "code",
   "execution_count": null,
   "metadata": {},
   "outputs": [],
   "source": [
    "labels = bins.searchsorted(data)\n",
    "labels"
   ]
  },
  {
   "cell_type": "code",
   "execution_count": null,
   "metadata": {},
   "outputs": [],
   "source": [
    "pd.Series(data).groupby(labels).mean()"
   ]
  },
  {
   "cell_type": "markdown",
   "metadata": {},
   "source": [
    "## Writing Fast NumPy Functions with Numba"
   ]
  },
  {
   "cell_type": "code",
   "execution_count": null,
   "metadata": {},
   "outputs": [],
   "source": [
    "import numpy as np\n",
    "\n",
    "def mean_distance(x, y):\n",
    "    nx = len(x)\n",
    "    result = 0.0\n",
    "    count = 0\n",
    "    for i in range(nx):\n",
    "        result += x[i] - y[i]\n",
    "        count += 1\n",
    "    return result / count"
   ]
  },
  {
   "cell_type": "markdown",
   "metadata": {},
   "source": [
    "```python\n",
    "In [209]: x = np.random.randn(10000000)\n",
    "\n",
    "In [210]: y = np.random.randn(10000000)\n",
    "\n",
    "In [211]: %timeit mean_distance(x, y)\n",
    "1 loop, best of 3: 2 s per loop\n",
    "\n",
    "In [212]: %timeit (x - y).mean()\n",
    "100 loops, best of 3: 14.7 ms per loop\n",
    "```"
   ]
  },
  {
   "cell_type": "markdown",
   "metadata": {},
   "source": [
    "```python\n",
    "In [213]: import numba as nb\n",
    "\n",
    "In [214]: numba_mean_distance = nb.jit(mean_distance)\n",
    "```"
   ]
  },
  {
   "cell_type": "markdown",
   "metadata": {},
   "source": [
    "```python\n",
    "@nb.jit\n",
    "def mean_distance(x, y):\n",
    "    nx = len(x)\n",
    "    result = 0.0\n",
    "    count = 0\n",
    "    for i in range(nx):\n",
    "        result += x[i] - y[i]\n",
    "        count += 1\n",
    "    return result / count\n",
    "```"
   ]
  },
  {
   "cell_type": "markdown",
   "metadata": {},
   "source": [
    "```python\n",
    "In [215]: %timeit numba_mean_distance(x, y)\n",
    "100 loops, best of 3: 10.3 ms per loop\n",
    "```"
   ]
  },
  {
   "cell_type": "markdown",
   "metadata": {},
   "source": [
    "```python\n",
    "from numba import float64, njit\n",
    "\n",
    "@njit(float64(float64[:], float64[:]))\n",
    "def mean_distance(x, y):\n",
    "    return (x - y).mean()\n",
    "```"
   ]
  },
  {
   "cell_type": "markdown",
   "metadata": {},
   "source": [
    "### Creating Custom numpy.ufunc Objects with Numba"
   ]
  },
  {
   "cell_type": "markdown",
   "metadata": {},
   "source": [
    "```python\n",
    "from numba import vectorize\n",
    "\n",
    "@vectorize\n",
    "def nb_add(x, y):\n",
    "    return x + y\n",
    "```"
   ]
  },
  {
   "cell_type": "markdown",
   "metadata": {},
   "source": [
    "```python\n",
    "In [13]: x = np.arange(10)\n",
    "\n",
    "In [14]: nb_add(x, x)\n",
    "Out[14]: array([  0.,   2.,   4.,   6.,   8.,  10.,  12.,  14.,  16.,  18.])\n",
    "\n",
    "In [15]: nb_add.accumulate(x, 0)\n",
    "Out[15]: array([  0.,   1.,   3.,   6.,  10.,  15.,  21.,  28.,  36.,  45.])\n",
    "```"
   ]
  },
  {
   "cell_type": "markdown",
   "metadata": {},
   "source": [
    "## Advanced Array Input and Output"
   ]
  },
  {
   "cell_type": "markdown",
   "metadata": {},
   "source": [
    "### Memory-Mapped Files"
   ]
  },
  {
   "cell_type": "code",
   "execution_count": null,
   "metadata": {},
   "outputs": [],
   "source": [
    "mmap = np.memmap('mymmap', dtype='float64', mode='w+',\n",
    "                 shape=(10000, 10000))\n",
    "mmap"
   ]
  },
  {
   "cell_type": "code",
   "execution_count": null,
   "metadata": {},
   "outputs": [],
   "source": [
    "section = mmap[:5]"
   ]
  },
  {
   "cell_type": "code",
   "execution_count": null,
   "metadata": {},
   "outputs": [],
   "source": [
    "section[:] = np.random.randn(5, 10000)\n",
    "mmap.flush()\n",
    "mmap\n",
    "del mmap"
   ]
  },
  {
   "cell_type": "code",
   "execution_count": null,
   "metadata": {},
   "outputs": [],
   "source": [
    "mmap = np.memmap('mymmap', dtype='float64', shape=(10000, 10000))\n",
    "mmap"
   ]
  },
  {
   "cell_type": "code",
   "execution_count": null,
   "metadata": {},
   "outputs": [],
   "source": [
    "%xdel mmap\n",
    "!rm mymmap"
   ]
  },
  {
   "cell_type": "markdown",
   "metadata": {},
   "source": [
    "### HDF5 and Other Array Storage Options"
   ]
  },
  {
   "cell_type": "markdown",
   "metadata": {},
   "source": [
    "## Performance Tips"
   ]
  },
  {
   "cell_type": "markdown",
   "metadata": {},
   "source": [
    "### The Importance of Contiguous Memory"
   ]
  },
  {
   "cell_type": "code",
   "execution_count": null,
   "metadata": {},
   "outputs": [],
   "source": [
    "arr_c = np.ones((1000, 1000), order='C')\n",
    "arr_f = np.ones((1000, 1000), order='F')\n",
    "arr_c.flags\n",
    "arr_f.flags\n",
    "arr_f.flags.f_contiguous"
   ]
  },
  {
   "cell_type": "code",
   "execution_count": null,
   "metadata": {},
   "outputs": [],
   "source": [
    "%timeit arr_c.sum(1)\n",
    "%timeit arr_f.sum(1)"
   ]
  },
  {
   "cell_type": "code",
   "execution_count": null,
   "metadata": {},
   "outputs": [],
   "source": [
    "arr_f.copy('C').flags"
   ]
  },
  {
   "cell_type": "code",
   "execution_count": null,
   "metadata": {},
   "outputs": [],
   "source": [
    "arr_c[:50].flags.contiguous\n",
    "arr_c[:, :50].flags"
   ]
  },
  {
   "cell_type": "code",
   "execution_count": null,
   "metadata": {},
   "outputs": [],
   "source": [
    "%xdel arr_c\n",
    "%xdel arr_f"
   ]
  },
  {
   "cell_type": "code",
   "execution_count": null,
   "metadata": {},
   "outputs": [],
   "source": [
    "pd.options.display.max_rows = PREVIOUS_MAX_ROWS"
   ]
  }
 ],
 "metadata": {
  "kernelspec": {
   "display_name": "Python 3",
   "language": "python",
   "name": "python3"
  },
  "language_info": {
   "codemirror_mode": {
    "name": "ipython",
    "version": 3
   },
   "file_extension": ".py",
   "mimetype": "text/x-python",
   "name": "python",
   "nbconvert_exporter": "python",
   "pygments_lexer": "ipython3",
   "version": "3.7.5"
  }
 },
 "nbformat": 4,
 "nbformat_minor": 1
}
