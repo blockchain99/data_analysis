{
 "cells": [
  {
   "cell_type": "markdown",
   "metadata": {},
   "source": [
    "# Advanced NumPy"
   ]
  },
  {
   "cell_type": "code",
   "execution_count": 1,
   "metadata": {},
   "outputs": [],
   "source": [
    "import numpy as np\n",
    "import pandas as pd\n",
    "np.random.seed(12345)\n",
    "import matplotlib.pyplot as plt\n",
    "plt.rc('figure', figsize=(10, 6))\n",
    "PREVIOUS_MAX_ROWS = pd.options.display.max_rows\n",
    "pd.options.display.max_rows = 20\n",
    "np.set_printoptions(precision=4, suppress=True)"
   ]
  },
  {
   "cell_type": "markdown",
   "metadata": {},
   "source": [
    "## ndarray Object Internals"
   ]
  },
  {
   "cell_type": "code",
   "execution_count": 2,
   "metadata": {},
   "outputs": [
    {
     "data": {
      "text/plain": [
       "(10, 5)"
      ]
     },
     "execution_count": 2,
     "metadata": {},
     "output_type": "execute_result"
    }
   ],
   "source": [
    "np.ones((10, 5)).shape"
   ]
  },
  {
   "cell_type": "code",
   "execution_count": 3,
   "metadata": {},
   "outputs": [
    {
     "data": {
      "text/plain": [
       "(160, 40, 8)"
      ]
     },
     "execution_count": 3,
     "metadata": {},
     "output_type": "execute_result"
    }
   ],
   "source": [
    "np.ones((3, 4, 5), dtype=np.float64).strides"
   ]
  },
  {
   "cell_type": "markdown",
   "metadata": {},
   "source": [
    "### NumPy dtype Hierarchy"
   ]
  },
  {
   "cell_type": "code",
   "execution_count": 4,
   "metadata": {},
   "outputs": [
    {
     "data": {
      "text/plain": [
       "True"
      ]
     },
     "execution_count": 4,
     "metadata": {},
     "output_type": "execute_result"
    }
   ],
   "source": [
    "ints = np.ones(10, dtype=np.uint16)\n",
    "floats = np.ones(10, dtype=np.float32)\n",
    "np.issubdtype(ints.dtype, np.integer)\n",
    "np.issubdtype(floats.dtype, np.floating)"
   ]
  },
  {
   "cell_type": "code",
   "execution_count": 5,
   "metadata": {},
   "outputs": [
    {
     "data": {
      "text/plain": [
       "[numpy.float64,\n",
       " numpy.floating,\n",
       " numpy.inexact,\n",
       " numpy.number,\n",
       " numpy.generic,\n",
       " float,\n",
       " object]"
      ]
     },
     "execution_count": 5,
     "metadata": {},
     "output_type": "execute_result"
    }
   ],
   "source": [
    "np.float64.mro()"
   ]
  },
  {
   "cell_type": "code",
   "execution_count": 6,
   "metadata": {},
   "outputs": [
    {
     "data": {
      "text/plain": [
       "True"
      ]
     },
     "execution_count": 6,
     "metadata": {},
     "output_type": "execute_result"
    }
   ],
   "source": [
    "np.issubdtype(ints.dtype, np.number)"
   ]
  },
  {
   "cell_type": "markdown",
   "metadata": {},
   "source": [
    "## Advanced Array Manipulation"
   ]
  },
  {
   "cell_type": "markdown",
   "metadata": {},
   "source": [
    "### Reshaping Arrays"
   ]
  },
  {
   "cell_type": "code",
   "execution_count": 7,
   "metadata": {},
   "outputs": [
    {
     "data": {
      "text/plain": [
       "array([[0, 1],\n",
       "       [2, 3],\n",
       "       [4, 5],\n",
       "       [6, 7]])"
      ]
     },
     "execution_count": 7,
     "metadata": {},
     "output_type": "execute_result"
    }
   ],
   "source": [
    "arr = np.arange(8)\n",
    "arr\n",
    "arr.reshape((4, 2))"
   ]
  },
  {
   "cell_type": "code",
   "execution_count": 8,
   "metadata": {},
   "outputs": [
    {
     "data": {
      "text/plain": [
       "array([[0, 1, 2, 3],\n",
       "       [4, 5, 6, 7]])"
      ]
     },
     "execution_count": 8,
     "metadata": {},
     "output_type": "execute_result"
    }
   ],
   "source": [
    "arr.reshape((4, 2)).reshape((2, 4))"
   ]
  },
  {
   "cell_type": "code",
   "execution_count": 9,
   "metadata": {},
   "outputs": [
    {
     "data": {
      "text/plain": [
       "array([[ 0,  1,  2],\n",
       "       [ 3,  4,  5],\n",
       "       [ 6,  7,  8],\n",
       "       [ 9, 10, 11],\n",
       "       [12, 13, 14]])"
      ]
     },
     "execution_count": 9,
     "metadata": {},
     "output_type": "execute_result"
    }
   ],
   "source": [
    "arr = np.arange(15)\n",
    "arr.reshape((5, -1))"
   ]
  },
  {
   "cell_type": "code",
   "execution_count": 10,
   "metadata": {},
   "outputs": [
    {
     "name": "stdout",
     "output_type": "stream",
     "text": [
      "-----------other_arr---------\n",
      "[[1. 1. 1. 1. 1.]\n",
      " [1. 1. 1. 1. 1.]\n",
      " [1. 1. 1. 1. 1.]]\n",
      "(3, 5)\n",
      "-------arr---------\n",
      "[ 0  1  2  3  4  5  6  7  8  9 10 11 12 13 14]\n"
     ]
    },
    {
     "data": {
      "text/plain": [
       "array([[ 0,  1,  2,  3,  4],\n",
       "       [ 5,  6,  7,  8,  9],\n",
       "       [10, 11, 12, 13, 14]])"
      ]
     },
     "execution_count": 10,
     "metadata": {},
     "output_type": "execute_result"
    }
   ],
   "source": [
    "other_arr = np.ones((3, 5))\n",
    "print(\"-----------other_arr---------\")\n",
    "print(other_arr)\n",
    "print(other_arr.shape)\n",
    "print(\"-------arr---------\")\n",
    "print(arr)\n",
    "arr.reshape(other_arr.shape)"
   ]
  },
  {
   "cell_type": "markdown",
   "metadata": {},
   "source": [
    "The opposite operation of reshape from one-dimensional to a higher dimension is\n",
    "typically known as **flattening** or **raveling**:"
   ]
  },
  {
   "cell_type": "code",
   "execution_count": 11,
   "metadata": {},
   "outputs": [
    {
     "name": "stdout",
     "output_type": "stream",
     "text": [
      "[[ 0  1  2]\n",
      " [ 3  4  5]\n",
      " [ 6  7  8]\n",
      " [ 9 10 11]\n",
      " [12 13 14]]\n",
      "---------------\n"
     ]
    },
    {
     "data": {
      "text/plain": [
       "array([ 0,  1,  2,  3,  4,  5,  6,  7,  8,  9, 10, 11, 12, 13, 14])"
      ]
     },
     "execution_count": 11,
     "metadata": {},
     "output_type": "execute_result"
    }
   ],
   "source": [
    "arr = np.arange(15).reshape((5, 3))\n",
    "print(arr)\n",
    "print(\"---------------\")\n",
    "arr.ravel() #back to be flatten by ravel(), same as flatten()"
   ]
  },
  {
   "cell_type": "code",
   "execution_count": 12,
   "metadata": {},
   "outputs": [
    {
     "data": {
      "text/plain": [
       "array([ 0,  1,  2,  3,  4,  5,  6,  7,  8,  9, 10, 11, 12, 13, 14])"
      ]
     },
     "execution_count": 12,
     "metadata": {},
     "output_type": "execute_result"
    }
   ],
   "source": [
    "arr.flatten()"
   ]
  },
  {
   "cell_type": "markdown",
   "metadata": {},
   "source": [
    "### C Versus Fortran Order"
   ]
  },
  {
   "cell_type": "code",
   "execution_count": 13,
   "metadata": {},
   "outputs": [
    {
     "data": {
      "text/plain": [
       "array([[ 0,  1,  2,  3],\n",
       "       [ 4,  5,  6,  7],\n",
       "       [ 8,  9, 10, 11]])"
      ]
     },
     "execution_count": 13,
     "metadata": {},
     "output_type": "execute_result"
    }
   ],
   "source": [
    "arr = np.arange(12).reshape((3, 4))\n",
    "arr\n"
   ]
  },
  {
   "cell_type": "code",
   "execution_count": 14,
   "metadata": {},
   "outputs": [
    {
     "name": "stdout",
     "output_type": "stream",
     "text": [
      "[ 0  1  2  3  4  5  6  7  8  9 10 11]\n"
     ]
    },
    {
     "data": {
      "text/plain": [
       "array([ 0,  4,  8,  1,  5,  9,  2,  6, 10,  3,  7, 11])"
      ]
     },
     "execution_count": 14,
     "metadata": {},
     "output_type": "execute_result"
    }
   ],
   "source": [
    "print(arr.ravel()) #row major\n",
    "arr.ravel('F') #column major"
   ]
  },
  {
   "cell_type": "markdown",
   "metadata": {},
   "source": [
    "### Concatenating and Splitting Arrays"
   ]
  },
  {
   "cell_type": "code",
   "execution_count": 15,
   "metadata": {},
   "outputs": [
    {
     "name": "stdout",
     "output_type": "stream",
     "text": [
      "[[1 2 3]\n",
      " [4 5 6]]\n",
      "---------\n",
      "[[ 7  8  9]\n",
      " [10 11 12]]\n",
      "===========================\n",
      "concatenate axis=0 : \n",
      "[[ 1  2  3]\n",
      " [ 4  5  6]\n",
      " [ 7  8  9]\n",
      " [10 11 12]]\n",
      "concatenate axis=1 : \n",
      "[[ 1  2  3  7  8  9]\n",
      " [ 4  5  6 10 11 12]]\n",
      "concatenate axis=1 : \n",
      "[[1 2 3 0]\n",
      " [4 5 6 1]]\n"
     ]
    }
   ],
   "source": [
    "arr1 = np.array([[1, 2, 3], [4, 5, 6]])  #(2,3)\n",
    "print(arr1)\n",
    "print(\"---------\")\n",
    "arr2 = np.array([[7, 8, 9], [10, 11, 12]]) #(2,3)\n",
    "print(arr2)\n",
    "print(\"===========================\")\n",
    "\n",
    "print(\"concatenate axis=0 : \")\n",
    "print(np.concatenate([arr1, arr2], axis=0)) #\n",
    "print(\"concatenate axis=1 : \")\n",
    "print(np.concatenate([arr1, arr2], axis=1))\n",
    "\n",
    "print(\"concatenate axis=1 : \")\n",
    "print(np.concatenate([arr1, np.arange(2).reshape(2,1)], axis=1))"
   ]
  },
  {
   "cell_type": "code",
   "execution_count": 16,
   "metadata": {},
   "outputs": [
    {
     "name": "stdout",
     "output_type": "stream",
     "text": [
      "[[ 1  2  3]\n",
      " [ 4  5  6]\n",
      " [ 7  8  9]\n",
      " [10 11 12]]\n",
      "-------------------------\n",
      "[[ 1  2  3  7  8  9]\n",
      " [ 4  5  6 10 11 12]]\n"
     ]
    }
   ],
   "source": [
    "print(np.vstack((arr1, arr2)))  #np.concatenate([arr1, arr2], axis=0)\n",
    "print(\"-------------------------\")\n",
    "print(np.hstack((arr1, arr2)))  #np.concatenate([arr1, arr2], axis=1)"
   ]
  },
  {
   "cell_type": "markdown",
   "metadata": {},
   "source": [
    "[split , on the other hand, slices apart an array into multiple arrays along an axis:](https://www.tutorialsandyou.com/python/numpy-split-in-python-76.html)\n",
    "* The code np.split(x, 2) has splitted Numpy array x into two equal sub-arrays- [1, 2] and [3, 4]\n",
    "* The code np.split(y, [2, 3]) has splitted array y into three sub-arrays- y[:2], y[2:3] and y[3:]"
   ]
  },
  {
   "cell_type": "code",
   "execution_count": 17,
   "metadata": {},
   "outputs": [
    {
     "name": "stdout",
     "output_type": "stream",
     "text": [
      "Split the array at positions indicated in 1-D array:\n",
      "[[-0.2047  0.4789]\n",
      " [-0.5194 -0.5557]\n",
      " [ 1.9658  1.3934]\n",
      " [ 0.0929  0.2817]\n",
      " [ 0.769   1.2464]]\n",
      "==========================\n",
      "-----first----------\n",
      "[[-0.2047  0.4789]\n",
      " [-0.5194 -0.5557]\n",
      " [ 1.9658  1.3934]\n",
      " [ 0.0929  0.2817]\n",
      " [ 0.769   1.2464]]\n",
      "-----second----------\n",
      "[]\n",
      "-----third----------\n",
      "[[0.0929 0.2817]\n",
      " [0.769  1.2464]]\n",
      "==========================\n",
      "-----first----------\n",
      "[[-0.2047  0.4789]\n",
      " [-0.5194 -0.5557]]\n",
      "-----second----------\n",
      "[[1.9658 1.3934]]\n",
      "-----third----------\n",
      "[[0.0929 0.2817]\n",
      " [0.769  1.2464]]\n",
      "==========================\n",
      "-----first----------\n",
      "[[-0.2047  0.4789]]\n",
      "-----second----------\n",
      "[[-0.5194 -0.5557]]\n",
      "-----third----------\n",
      "[[1.9658 1.3934]\n",
      " [0.0929 0.2817]\n",
      " [0.769  1.2464]]\n"
     ]
    }
   ],
   "source": [
    "print ('Split the array at positions indicated in 1-D array:' )\n",
    "arr = np.random.randn(5, 2)\n",
    "print(arr)\n",
    "\n",
    "print(\"==========================\")\n",
    "first, second, third = np.split(arr, [5, 3]) #[:5], [5:3], [3:]\n",
    "print(\"-----first----------\")\n",
    "print(first)\n",
    "print(\"-----second----------\")\n",
    "print(second)\n",
    "print(\"-----third----------\")\n",
    "print(third)\n",
    "\n",
    "print(\"==========================\")\n",
    "first, second, third = np.split(arr, [2, 3]) #[:2], [2:3], [3:]\n",
    "print(\"-----first----------\")\n",
    "print(first)\n",
    "print(\"-----second----------\")\n",
    "print(second)\n",
    "print(\"-----third----------\")\n",
    "print(third)\n",
    "print(\"==========================\")\n",
    "first, second, third = np.split(arr, [1, 2]) #[:1], [1:2] [2:]\n",
    "print(\"-----first----------\")\n",
    "print(first)\n",
    "print(\"-----second----------\")\n",
    "print(second)\n",
    "print(\"-----third----------\")\n",
    "print(third)\n"
   ]
  },
  {
   "cell_type": "code",
   "execution_count": 18,
   "metadata": {},
   "outputs": [
    {
     "name": "stdout",
     "output_type": "stream",
     "text": [
      "First array:\n",
      "[0 1 2 3 4 5 6 7 8]\n",
      "Split the array in 3 equal-sized subarrays:\n",
      "[array([0, 1, 2]), array([3, 4, 5]), array([6, 7, 8])]\n",
      "Split the array at positions indicated in 1-D array:\n",
      "[array([0, 1, 2, 3]), array([4, 5, 6]), array([7, 8])]\n"
     ]
    }
   ],
   "source": [
    "#numpy.split(ary, indices_or_sections, axis)\n",
    "\n",
    "#indices_or_sections : \n",
    "# Can be an integer, indicating the number of equal sized subarrays \n",
    "# to be created from the input array. If this parameter is a 1-D array, \n",
    "# the entries indicate the points at which a new subarray is to be created.\n",
    "\n",
    "# axis : default is 0 (row , below direction)\n",
    "import numpy as np \n",
    "a = np.arange(9) \n",
    "\n",
    "print ('First array:')\n",
    "print (a )\n",
    "\n",
    "\n",
    "print ('Split the array in 3 equal-sized subarrays:' )\n",
    "b = np.split(a,3) \n",
    "print( b )\n",
    " \n",
    "\n",
    "print ('Split the array at positions indicated in 1-D array:' )\n",
    "b = np.split(a,[4,7]) #[:4], [4:7], [7:]\n",
    "print (b) "
   ]
  },
  {
   "cell_type": "markdown",
   "metadata": {},
   "source": [
    "#### Stacking helpers: r_ and c_"
   ]
  },
  {
   "cell_type": "code",
   "execution_count": 19,
   "metadata": {},
   "outputs": [
    {
     "name": "stdout",
     "output_type": "stream",
     "text": [
      "------=======np.r_--------\n",
      "--np.r_[arr1, arr2]\n",
      "[[0 1]\n",
      " [2 3]\n",
      " [4 5]]\n",
      "--------------\n",
      "[[ 1.0072 -1.2962]\n",
      " [ 0.275   0.2289]\n",
      " [ 1.3529  0.8864]]\n",
      "------=======np.r_--------\n",
      "--np.r_[arr1, arr2]\n",
      "[[ 0.      1.    ]\n",
      " [ 2.      3.    ]\n",
      " [ 4.      5.    ]\n",
      " [ 1.0072 -1.2962]\n",
      " [ 0.275   0.2289]\n",
      " [ 1.3529  0.8864]]\n",
      "--concatenate((a,b)), axis = 0)\n",
      "[[ 0.      1.    ]\n",
      " [ 2.      3.    ]\n",
      " [ 4.      5.    ]\n",
      " [ 1.0072 -1.2962]\n",
      " [ 0.275   0.2289]\n",
      " [ 1.3529  0.8864]]\n",
      "--concatenate([a,b], axis = 0)\n",
      "[[ 0.      1.    ]\n",
      " [ 2.      3.    ]\n",
      " [ 4.      5.    ]\n",
      " [ 1.0072 -1.2962]\n",
      " [ 0.275   0.2289]\n",
      " [ 1.3529  0.8864]]\n",
      "--------=======np.c_-----------\n",
      "[[ 0.      1.      0.    ]\n",
      " [ 2.      3.      1.    ]\n",
      " [ 4.      5.      2.    ]\n",
      " [ 1.0072 -1.2962  3.    ]\n",
      " [ 0.275   0.2289  4.    ]\n",
      " [ 1.3529  0.8864  5.    ]]\n",
      "---- ---- ---\n",
      "(6, 2)\n",
      "[[ 0.      1.    ]\n",
      " [ 2.      3.    ]\n",
      " [ 4.      5.    ]\n",
      " [ 1.0072 -1.2962]\n",
      " [ 0.275   0.2289]\n",
      " [ 1.3529  0.8864]]\n",
      "********\n",
      "(6,)\n",
      "[0 1 2 3 4 5]\n",
      "-------\n",
      "[[ 0.      1.      0.    ]\n",
      " [ 2.      3.      1.    ]\n",
      " [ 4.      5.      2.    ]\n",
      " [ 1.0072 -1.2962  3.    ]\n",
      " [ 0.275   0.2289  4.    ]\n",
      " [ 1.3529  0.8864  5.    ]]\n",
      "-------\n",
      "[[ 0.      1.    ]\n",
      " [ 2.      3.    ]\n",
      " [ 4.      5.    ]\n",
      " [ 1.0072 -1.2962]\n",
      " [ 0.275   0.2289]\n",
      " [ 1.3529  0.8864]]\n",
      "--concatenate((a,b)), axis = 0)\n",
      "[[ 0.      1.    ]\n",
      " [ 2.      3.    ]\n",
      " [ 4.      5.    ]\n",
      " [ 1.0072 -1.2962]\n",
      " [ 0.275   0.2289]\n",
      " [ 1.3529  0.8864]]\n",
      "--concatenate([a,b], axis = 0)\n",
      "[[ 0.      1.    ]\n",
      " [ 2.      3.    ]\n",
      " [ 4.      5.    ]\n",
      " [ 1.0072 -1.2962]\n",
      " [ 0.275   0.2289]\n",
      " [ 1.3529  0.8864]]\n",
      "--------=======np.c_-----------\n",
      "[[ 0.      1.      0.    ]\n",
      " [ 2.      3.      1.    ]\n",
      " [ 4.      5.      2.    ]\n",
      " [ 1.0072 -1.2962  3.    ]\n",
      " [ 0.275   0.2289  4.    ]\n",
      " [ 1.3529  0.8864  5.    ]]\n",
      "---- ---- ---\n",
      "(6, 2)\n",
      "[[ 0.      1.    ]\n",
      " [ 2.      3.    ]\n",
      " [ 4.      5.    ]\n",
      " [ 1.0072 -1.2962]\n",
      " [ 0.275   0.2289]\n",
      " [ 1.3529  0.8864]]\n",
      "********\n",
      "(6,)\n",
      "[0 1 2 3 4 5]\n",
      "-------\n",
      "[[ 0.      1.      0.    ]\n",
      " [ 2.      3.      1.    ]\n",
      " [ 4.      5.      2.    ]\n",
      " [ 1.0072 -1.2962  3.    ]\n",
      " [ 0.275   0.2289  4.    ]\n",
      " [ 1.3529  0.8864  5.    ]]\n",
      "-------\n"
     ]
    },
    {
     "data": {
      "text/plain": [
       "array([[ 0.    ,  1.    ,  0.    ],\n",
       "       [ 2.    ,  3.    ,  1.    ],\n",
       "       [ 4.    ,  5.    ,  2.    ],\n",
       "       [ 1.0072, -1.2962,  3.    ],\n",
       "       [ 0.275 ,  0.2289,  4.    ],\n",
       "       [ 1.3529,  0.8864,  5.    ]])"
      ]
     },
     "execution_count": 19,
     "metadata": {},
     "output_type": "execute_result"
    }
   ],
   "source": [
    "arr = np.arange(6)\n",
    "\n",
    "print(\"------=======np.r_--------\")\n",
    "print(\"--np.r_[arr1, arr2]\")\n",
    "\n",
    "arr1 = arr.reshape((3, 2))\n",
    "print(arr1)\n",
    "print(\"--------------\")\n",
    "arr2 = np.random.randn(3, 2)\n",
    "print(arr2)\n",
    "print(\"------=======np.r_--------\")\n",
    "print(\"--np.r_[arr1, arr2]\")\n",
    "print(np.r_[arr1, arr2])  #.r_  row base concatenate axis=0\n",
    "print(\"--concatenate((a,b)), axis = 0)\")\n",
    "print(np.concatenate((arr1, arr2), axis=0))\n",
    "print(\"--concatenate([a,b], axis = 0)\")\n",
    "print(np.concatenate([arr1, arr2], axis=0))\n",
    "print(\"--------=======np.c_-----------\")\n",
    "print(np.c_[np.r_[arr1, arr2], arr])  #.c_ column base concatenate axis=1\n",
    "print(\"---- ---- ---\")\n",
    "# print(\"--np.concatenate( [np.concatenate([arr1, arr2], axis=0), arr], axis=1 ) \") #error 2d vs 1d\n",
    "# print(np.concatenate( [np.concatenate([arr1, arr2], axis=0), arr], axis=1 ) )\n",
    "#TypeError: concatenate() got multiple values for argument 'axis'\n",
    "# print(np.concatenate( np.concatenate([arr1, arr2], axis=0), arr, axis=1 ) ) S\n",
    "temp1 = np.concatenate([arr1, arr2], axis=0)\n",
    "print(temp1.shape)\n",
    "print(temp1)\n",
    "print('********')\n",
    "print(arr.shape)\n",
    "print(arr)\n",
    "print(\"-------\")\n",
    "# ValueError: all the input arrays must have same number of dimensions,\n",
    "# but the array at index 0 has 2 dimension(s) and the array at index 1 has 1 dimension(s)\n",
    "print(np.concatenate( [temp1, arr.reshape(6,1)], axis=1 ) ) \n",
    "print(\"-------\")\n",
    "# np.hstack((temp1,arr)) #error 2d vs. 1d\n",
    "np.hstack((temp1,arr.reshape(6,1)))\n",
    "print(np.r_[arr1, arr2])  #.r_  row base concatenate axis=0\n",
    "print(\"--concatenate((a,b)), axis = 0)\")\n",
    "print(np.concatenate((arr1, arr2), axis=0))\n",
    "print(\"--concatenate([a,b], axis = 0)\")\n",
    "print(np.concatenate([arr1, arr2], axis=0))\n",
    "print(\"--------=======np.c_-----------\")\n",
    "print(np.c_[np.r_[arr1, arr2], arr])  #.c_ column base concatenate axis=1\n",
    "print(\"---- ---- ---\")\n",
    "# print(\"--np.concatenate( [np.concatenate([arr1, arr2], axis=0), arr], axis=1 ) \") #error 2d vs 1d\n",
    "# print(np.concatenate( [np.concatenate([arr1, arr2], axis=0), arr], axis=1 ) )\n",
    "#TypeError: concatenate() got multiple values for argument 'axis'\n",
    "# print(np.concatenate( np.concatenate([arr1, arr2], axis=0), arr, axis=1 ) ) S\n",
    "temp1 = np.concatenate([arr1, arr2], axis=0)\n",
    "print(temp1.shape)\n",
    "print(temp1)\n",
    "print('********')\n",
    "print(arr.shape)\n",
    "print(arr)\n",
    "print(\"-------\")\n",
    "# ValueError: all the input arrays must have same number of dimensions,\n",
    "# but the array at index 0 has 2 dimension(s) and the array at index 1 has 1 dimension(s)\n",
    "print(np.concatenate( [temp1, arr.reshape(6,1)], axis=1 ) ) \n",
    "print(\"-------\")\n",
    "# np.hstack((temp1,arr)) #error 2d vs. 1d\n",
    "np.hstack((temp1,arr.reshape(6,1)))"
   ]
  },
  {
   "cell_type": "code",
   "execution_count": 20,
   "metadata": {},
   "outputs": [
    {
     "name": "stdout",
     "output_type": "stream",
     "text": [
      "[1 2 3 4 5]\n",
      "[-10  -9  -8  -7  -6]\n",
      "------np.r_[a,b]-------\n",
      "[  1   2   3   4   5 -10  -9  -8  -7  -6]\n"
     ]
    },
    {
     "data": {
      "text/plain": [
       "array([[  1, -10],\n",
       "       [  2,  -9],\n",
       "       [  3,  -8],\n",
       "       [  4,  -7],\n",
       "       [  5,  -6]])"
      ]
     },
     "execution_count": 20,
     "metadata": {},
     "output_type": "execute_result"
    }
   ],
   "source": [
    "a = np.arange(1,6)\n",
    "print(a)\n",
    "b= np.arange(-10, -5)\n",
    "print(b)\n",
    "print(\"------np.r_[a,b]-------\")\n",
    "print(np.r_[a,b])\n",
    "np.c_[a, b]"
   ]
  },
  {
   "cell_type": "code",
   "execution_count": 21,
   "metadata": {},
   "outputs": [
    {
     "data": {
      "text/plain": [
       "array([[  1, -10],\n",
       "       [  2,  -9],\n",
       "       [  3,  -8],\n",
       "       [  4,  -7],\n",
       "       [  5,  -6]])"
      ]
     },
     "execution_count": 21,
     "metadata": {},
     "output_type": "execute_result"
    }
   ],
   "source": [
    "np.c_[1:6, -10:-5]"
   ]
  },
  {
   "cell_type": "markdown",
   "metadata": {},
   "source": [
    "### Repeating Elements: tile and repeat"
   ]
  },
  {
   "cell_type": "code",
   "execution_count": 22,
   "metadata": {},
   "outputs": [
    {
     "name": "stdout",
     "output_type": "stream",
     "text": [
      "[0 1 2]\n"
     ]
    },
    {
     "data": {
      "text/plain": [
       "array([0, 0, 0, 1, 1, 1, 2, 2, 2])"
      ]
     },
     "execution_count": 22,
     "metadata": {},
     "output_type": "execute_result"
    }
   ],
   "source": [
    "arr = np.arange(3)\n",
    "print(arr)\n",
    "arr.repeat(3)"
   ]
  },
  {
   "cell_type": "code",
   "execution_count": 23,
   "metadata": {},
   "outputs": [
    {
     "data": {
      "text/plain": [
       "array([0, 0, 1, 1, 1, 2, 2, 2, 2])"
      ]
     },
     "execution_count": 23,
     "metadata": {},
     "output_type": "execute_result"
    }
   ],
   "source": [
    "arr.repeat([2, 3, 4])"
   ]
  },
  {
   "cell_type": "code",
   "execution_count": 24,
   "metadata": {},
   "outputs": [
    {
     "name": "stdout",
     "output_type": "stream",
     "text": [
      "[[-2.0016 -0.3718]\n",
      " [ 1.669  -0.4386]]\n",
      "--------------\n"
     ]
    },
    {
     "data": {
      "text/plain": [
       "array([[-2.0016, -0.3718],\n",
       "       [-2.0016, -0.3718],\n",
       "       [ 1.669 , -0.4386],\n",
       "       [ 1.669 , -0.4386]])"
      ]
     },
     "execution_count": 24,
     "metadata": {},
     "output_type": "execute_result"
    }
   ],
   "source": [
    "arr = np.random.randn(2, 2)\n",
    "print(arr)\n",
    "print(\"--------------\")\n",
    "arr.repeat(2, axis=0)"
   ]
  },
  {
   "cell_type": "code",
   "execution_count": 25,
   "metadata": {},
   "outputs": [
    {
     "name": "stdout",
     "output_type": "stream",
     "text": [
      "[[-2.0016 -0.3718]\n",
      " [-2.0016 -0.3718]\n",
      " [ 1.669  -0.4386]\n",
      " [ 1.669  -0.4386]\n",
      " [ 1.669  -0.4386]]\n"
     ]
    },
    {
     "data": {
      "text/plain": [
       "array([[-2.0016, -2.0016, -0.3718, -0.3718, -0.3718],\n",
       "       [ 1.669 ,  1.669 , -0.4386, -0.4386, -0.4386]])"
      ]
     },
     "execution_count": 25,
     "metadata": {},
     "output_type": "execute_result"
    }
   ],
   "source": [
    "print(arr.repeat([2, 3], axis=0))  #first row 2 times, second row 3 times\n",
    "arr.repeat([2, 3], axis=1) #1sst column 2times, 2nd column 3times"
   ]
  },
  {
   "cell_type": "code",
   "execution_count": 26,
   "metadata": {},
   "outputs": [
    {
     "name": "stdout",
     "output_type": "stream",
     "text": [
      "[[-2.0016 -0.3718 -2.0016 -0.3718]\n",
      " [ 1.669  -0.4386  1.669  -0.4386]]\n",
      "---------------\n",
      "[[-2.0016 -2.0016 -0.3718 -0.3718]\n",
      " [ 1.669   1.669  -0.4386 -0.4386]]\n"
     ]
    }
   ],
   "source": [
    "arr\n",
    "print(np.tile(arr, 2)) #whole arr repeat column wise 2 times\n",
    "print(\"---------------\")\n",
    "print(arr.repeat(2, axis=1)) # each colum repeat colum wise 2 times"
   ]
  },
  {
   "cell_type": "code",
   "execution_count": 27,
   "metadata": {},
   "outputs": [
    {
     "name": "stdout",
     "output_type": "stream",
     "text": [
      "[[-2.0016 -0.3718]\n",
      " [ 1.669  -0.4386]\n",
      " [-2.0016 -0.3718]\n",
      " [ 1.669  -0.4386]]\n",
      "------------------------------\n"
     ]
    },
    {
     "data": {
      "text/plain": [
       "array([[-2.0016, -0.3718, -2.0016, -0.3718],\n",
       "       [ 1.669 , -0.4386,  1.669 , -0.4386],\n",
       "       [-2.0016, -0.3718, -2.0016, -0.3718],\n",
       "       [ 1.669 , -0.4386,  1.669 , -0.4386],\n",
       "       [-2.0016, -0.3718, -2.0016, -0.3718],\n",
       "       [ 1.669 , -0.4386,  1.669 , -0.4386]])"
      ]
     },
     "execution_count": 27,
     "metadata": {},
     "output_type": "execute_result"
    }
   ],
   "source": [
    "arr\n",
    "print(np.tile(arr, (2, 1)))\n",
    "print(\"------------------------------\")\n",
    "np.tile(arr, (3, 2))#whole arr repeat row wise 3times , whole arr repeat column wise 2 times"
   ]
  },
  {
   "cell_type": "markdown",
   "metadata": {},
   "source": [
    "### Fancy Indexing Equivalents: take and put"
   ]
  },
  {
   "cell_type": "code",
   "execution_count": 28,
   "metadata": {},
   "outputs": [
    {
     "name": "stdout",
     "output_type": "stream",
     "text": [
      "[  0 100 200 300 400 500 600 700 800 900]\n",
      "--------------------\n"
     ]
    },
    {
     "data": {
      "text/plain": [
       "array([700, 100, 200, 600])"
      ]
     },
     "execution_count": 28,
     "metadata": {},
     "output_type": "execute_result"
    }
   ],
   "source": [
    "arr = np.arange(10) * 100\n",
    "print(arr)\n",
    "print(\"--------------------\")\n",
    "inds = [7, 1, 2, 6]  #reorder arr according to [index 7th element, 1st, 2nd...]\n",
    "arr[inds]"
   ]
  },
  {
   "cell_type": "code",
   "execution_count": 29,
   "metadata": {},
   "outputs": [
    {
     "name": "stdout",
     "output_type": "stream",
     "text": [
      "[  0 100 200 300 400 500 600 700 800 900]\n",
      "--\n",
      "[700 100 200 600]\n",
      "[700 100 200 600]\n",
      "[7, 1, 2, 6]\n",
      "---------------\n",
      "*replace inds 7's value 700 to 42, 1's 100 to 42, 2's 200 to 42...from arr \n",
      "[  0  42  42 300 400 500  42  42 800 900]\n"
     ]
    },
    {
     "data": {
      "text/plain": [
       "array([  0,  41,  42, 300, 400, 500,  43,  40, 800, 900])"
      ]
     },
     "execution_count": 29,
     "metadata": {},
     "output_type": "execute_result"
    }
   ],
   "source": [
    "############ ? #############\n",
    "# put: Replaces specified elements of an array with given values.\n",
    "print(arr)\n",
    "print(\"--\")\n",
    "print(arr.take(inds))\n",
    "print(arr[inds])\n",
    "print(inds)\n",
    "print(\"---------------\")\n",
    "arr.put(inds, 42) #replace all inds' element values with 42\n",
    "print(\"*replace inds 7's value 700 to 42, 1's 100 to 42, 2's 200 to 42...from arr \")\n",
    "print(arr)\n",
    "arr.put(inds, [40, 41, 42, 43])\n",
    "arr"
   ]
  },
  {
   "cell_type": "code",
   "execution_count": 30,
   "metadata": {},
   "outputs": [
    {
     "name": "stdout",
     "output_type": "stream",
     "text": [
      "[[-0.5397  0.477   3.2489 -1.0212]\n",
      " [-0.5771  0.1241  0.3026  0.5238]]\n"
     ]
    },
    {
     "data": {
      "text/plain": [
       "array([[ 3.2489, -0.5397,  3.2489,  0.477 ],\n",
       "       [ 0.3026, -0.5771,  0.3026,  0.1241]])"
      ]
     },
     "execution_count": 30,
     "metadata": {},
     "output_type": "execute_result"
    }
   ],
   "source": [
    "inds = [2, 0, 2, 1]\n",
    "arr = np.random.randn(2, 4)\n",
    "print(arr)\n",
    "arr.take(inds, axis=1) #column-wise reorder element of index 2-> first, index 0-> second..."
   ]
  },
  {
   "cell_type": "markdown",
   "metadata": {},
   "source": [
    "## Broadcasting"
   ]
  },
  {
   "cell_type": "code",
   "execution_count": 31,
   "metadata": {},
   "outputs": [
    {
     "data": {
      "text/plain": [
       "array([ 0,  4,  8, 12, 16])"
      ]
     },
     "execution_count": 31,
     "metadata": {},
     "output_type": "execute_result"
    }
   ],
   "source": [
    "arr = np.arange(5)\n",
    "arr\n",
    "arr * 4"
   ]
  },
  {
   "cell_type": "code",
   "execution_count": 32,
   "metadata": {},
   "outputs": [
    {
     "name": "stdout",
     "output_type": "stream",
     "text": [
      "[[ 0.0009  1.3438 -0.7135]\n",
      " [-0.8312 -2.3702 -1.8608]\n",
      " [-0.8608  0.5601 -1.2659]\n",
      " [ 0.1198 -1.0635  0.3329]]\n",
      "----arr.mean(0): row-wise(top-to-bottom): ttl 3----\n",
      "[-0.3928 -0.3824 -0.8768]\n",
      "-------arr-arr.mean(0)-------------\n",
      "[[ 0.3937  1.7263  0.1633]\n",
      " [-0.4384 -1.9878 -0.9839]\n",
      " [-0.468   0.9426 -0.3891]\n",
      " [ 0.5126 -0.6811  1.2097]]\n",
      "----------------------------\n",
      "[-0.  0. -0.]\n",
      "============\n"
     ]
    },
    {
     "data": {
      "text/plain": [
       "array([-0.,  0., -0.])"
      ]
     },
     "execution_count": 32,
     "metadata": {},
     "output_type": "execute_result"
    }
   ],
   "source": [
    "arr = np.random.randn(4, 3)\n",
    "print(arr)\n",
    "print(\"----arr.mean(0): row-wise(top-to-bottom): ttl 3----\")\n",
    "print(arr.mean(0))\n",
    "print(\"-------arr-arr.mean(0)-------------\")\n",
    "demeaned = arr - arr.mean(0)\n",
    "print(demeaned)\n",
    "print(\"----------------------------\")\n",
    "print(demeaned.mean(0))\n",
    "\n",
    "print(\"============\")\n",
    "sum(arr -arr.mean(0)) / len(arr[:,0])"
   ]
  },
  {
   "cell_type": "code",
   "execution_count": 40,
   "metadata": {},
   "outputs": [
    {
     "data": {
      "text/plain": [
       "-0.38244725384202977"
      ]
     },
     "execution_count": 40,
     "metadata": {},
     "output_type": "execute_result"
    }
   ],
   "source": [
    "#test \n",
    "arr[:,1].sum()/len(arr) #2nd column sum/2nd column length -> 2nd column mean  "
   ]
  },
  {
   "cell_type": "code",
   "execution_count": 41,
   "metadata": {},
   "outputs": [
    {
     "name": "stdout",
     "output_type": "stream",
     "text": [
      "-0.3928\n"
     ]
    },
    {
     "data": {
      "text/plain": [
       "array([-0.3928, -0.3824, -0.8768])"
      ]
     },
     "execution_count": 41,
     "metadata": {},
     "output_type": "execute_result"
    }
   ],
   "source": [
    "print(round(sum(arr[:,0])/len(arr[:,0]), 4))\n",
    "sum(arr)/len(arr[:,0])"
   ]
  },
  {
   "cell_type": "code",
   "execution_count": 45,
   "metadata": {},
   "outputs": [],
   "source": [
    " np.testing.assert_equal(round(sum(arr[:,0])/len(arr[:,0]), 4), round(arr.mean(0)[0],4)) #equal as -0.3928"
   ]
  },
  {
   "cell_type": "code",
   "execution_count": 42,
   "metadata": {},
   "outputs": [
    {
     "data": {
      "text/plain": [
       "-0.39278588371244455"
      ]
     },
     "execution_count": 42,
     "metadata": {},
     "output_type": "execute_result"
    }
   ],
   "source": [
    "arr[:,0].sum()/len(arr[:,0])"
   ]
  },
  {
   "cell_type": "code",
   "execution_count": 53,
   "metadata": {},
   "outputs": [
    {
     "name": "stdout",
     "output_type": "stream",
     "text": [
      "[[ 0.0009  1.3438 -0.7135]\n",
      " [-0.8312 -2.3702 -1.8608]\n",
      " [-0.8608  0.5601 -1.2659]\n",
      " [ 0.1198 -1.0635  0.3329]]\n",
      "----columnwise (left to right) mean: ttl 4-----------\n",
      " --1st col mean, 2nd , 3rd, 4th\n",
      "[ 0.2104 -1.6874 -0.5222 -0.2036]\n",
      "(4,)\n",
      "[[ 0.2104]\n",
      " [-1.6874]\n",
      " [-0.5222]\n",
      " [-0.2036]]\n",
      "-----------------\n",
      "arr.shape :  (4, 3)\n",
      "row_means.reshape((4, 1) :  (4, 1)\n",
      "----------demeaned:(4,3) - (4,1)---------\n",
      "[[-0.2095  1.1334 -0.9239]\n",
      " [ 0.8562 -0.6828 -0.1734]\n",
      " [-0.3386  1.0823 -0.7438]\n",
      " [ 0.3234 -0.8599  0.5365]]\n",
      "------demeaned.mean(1)-------\n",
      "[ 0. -0.  0.  0.]\n"
     ]
    },
    {
     "data": {
      "text/plain": [
       "array([[ 0.],\n",
       "       [-0.],\n",
       "       [ 0.],\n",
       "       [ 0.]])"
      ]
     },
     "execution_count": 53,
     "metadata": {},
     "output_type": "execute_result"
    }
   ],
   "source": [
    "print(arr)\n",
    "print(\"----columnwise (left to right) mean: ttl 4-----------\")\n",
    "row_means = arr.mean(1) #columnwise (left to right)\n",
    "print(\" --1st col mean, 2nd , 3rd, 4th\")\n",
    "print(row_means)\n",
    "print(row_means.shape)\n",
    "print(row_means.reshape((4, 1)))\n",
    "print(\"-----------------\")\n",
    "print(\"arr.shape : \", arr.shape)\n",
    "print(\"row_means.reshape((4, 1) : \", row_means.reshape((4, 1)).shape)\n",
    "\n",
    "print(\"----------demeaned:(4,3) - (4,1)---------\")\n",
    "demeaned = arr - row_means.reshape((4, 1)) #(4,3) - (4,1)\n",
    "print(demeaned)\n",
    "print(\"------demeaned.mean(1)-------\")\n",
    "print(demeaned.mean(1))\n",
    "demeaned.mean(1).reshape(4,1)"
   ]
  },
  {
   "cell_type": "code",
   "execution_count": 75,
   "metadata": {},
   "outputs": [],
   "source": [
    "def column_stack(x):\n",
    "    return np.column_stack(x)"
   ]
  },
  {
   "cell_type": "code",
   "execution_count": 76,
   "metadata": {},
   "outputs": [],
   "source": [
    "def row_stack(x):\n",
    "    return np.row_stack(x)"
   ]
  },
  {
   "cell_type": "code",
   "execution_count": 77,
   "metadata": {},
   "outputs": [],
   "source": [
    "def vstack(x):\n",
    "    return np.vstack(x)"
   ]
  },
  {
   "cell_type": "code",
   "execution_count": 78,
   "metadata": {},
   "outputs": [],
   "source": [
    "def hstack(x):\n",
    "    return np.hstack(x)"
   ]
  },
  {
   "cell_type": "code",
   "execution_count": 91,
   "metadata": {},
   "outputs": [],
   "source": [
    "a = np.array((1,2,3))\n",
    "b = np.array((2,3,4))\n",
    "c = np.arange(2*3).reshape(2,3)\n",
    "d = np.random.randint(2, size=(2,3))"
   ]
  },
  {
   "cell_type": "code",
   "execution_count": 92,
   "metadata": {},
   "outputs": [
    {
     "data": {
      "text/plain": [
       "array([[1, 2],\n",
       "       [2, 3],\n",
       "       [3, 4]])"
      ]
     },
     "execution_count": 92,
     "metadata": {},
     "output_type": "execute_result"
    }
   ],
   "source": [
    "column_stack((a,b))"
   ]
  },
  {
   "cell_type": "code",
   "execution_count": 93,
   "metadata": {},
   "outputs": [
    {
     "name": "stdout",
     "output_type": "stream",
     "text": [
      "--------c---------\n",
      "[[0 1 2]\n",
      " [3 4 5]]\n",
      "----------d-----------\n",
      "[[0 0 1]\n",
      " [1 1 1]]\n"
     ]
    }
   ],
   "source": [
    "print(\"--------c---------\")\n",
    "print(c)\n",
    "print(\"----------d-----------\")\n",
    "print(d)"
   ]
  },
  {
   "cell_type": "code",
   "execution_count": 94,
   "metadata": {},
   "outputs": [
    {
     "data": {
      "text/plain": [
       "array([[0, 1, 2, 0, 0, 1],\n",
       "       [3, 4, 5, 1, 1, 1]])"
      ]
     },
     "execution_count": 94,
     "metadata": {},
     "output_type": "execute_result"
    }
   ],
   "source": [
    "column_stack((c,d))"
   ]
  },
  {
   "cell_type": "code",
   "execution_count": 96,
   "metadata": {},
   "outputs": [
    {
     "data": {
      "text/plain": [
       "array([[0, 1, 2],\n",
       "       [3, 4, 5],\n",
       "       [0, 0, 1],\n",
       "       [1, 1, 1]])"
      ]
     },
     "execution_count": 96,
     "metadata": {},
     "output_type": "execute_result"
    }
   ],
   "source": [
    "row_stack((c,d))"
   ]
  },
  {
   "cell_type": "code",
   "execution_count": 98,
   "metadata": {},
   "outputs": [
    {
     "data": {
      "text/plain": [
       "array([[0, 1, 2],\n",
       "       [3, 4, 5],\n",
       "       [0, 0, 1],\n",
       "       [1, 1, 1]])"
      ]
     },
     "execution_count": 98,
     "metadata": {},
     "output_type": "execute_result"
    }
   ],
   "source": [
    "vstack((c,d))"
   ]
  },
  {
   "cell_type": "code",
   "execution_count": 99,
   "metadata": {},
   "outputs": [
    {
     "data": {
      "text/plain": [
       "array([[0, 1, 2, 0, 0, 1],\n",
       "       [3, 4, 5, 1, 1, 1]])"
      ]
     },
     "execution_count": 99,
     "metadata": {},
     "output_type": "execute_result"
    }
   ],
   "source": [
    "hstack((c,d))"
   ]
  },
  {
   "cell_type": "code",
   "execution_count": 117,
   "metadata": {},
   "outputs": [
    {
     "data": {
      "text/plain": [
       "array([[1, 2],\n",
       "       [2, 3],\n",
       "       [3, 4]])"
      ]
     },
     "execution_count": 117,
     "metadata": {},
     "output_type": "execute_result"
    }
   ],
   "source": [
    "np.c_[a, b]"
   ]
  },
  {
   "cell_type": "code",
   "execution_count": 120,
   "metadata": {},
   "outputs": [
    {
     "data": {
      "text/plain": [
       "array([1, 2, 3, 2, 3, 4])"
      ]
     },
     "execution_count": 120,
     "metadata": {},
     "output_type": "execute_result"
    }
   ],
   "source": [
    "np.r_[a,b]"
   ]
  },
  {
   "cell_type": "code",
   "execution_count": 118,
   "metadata": {},
   "outputs": [
    {
     "data": {
      "text/plain": [
       "array([[0, 1, 2, 0, 0, 1],\n",
       "       [3, 4, 5, 1, 1, 1]])"
      ]
     },
     "execution_count": 118,
     "metadata": {},
     "output_type": "execute_result"
    }
   ],
   "source": [
    "np.c_[c,d]"
   ]
  },
  {
   "cell_type": "code",
   "execution_count": 121,
   "metadata": {},
   "outputs": [
    {
     "data": {
      "text/plain": [
       "array([[0, 1, 2],\n",
       "       [3, 4, 5],\n",
       "       [0, 0, 1],\n",
       "       [1, 1, 1]])"
      ]
     },
     "execution_count": 121,
     "metadata": {},
     "output_type": "execute_result"
    }
   ],
   "source": [
    "np.r_[c,d]"
   ]
  },
  {
   "cell_type": "markdown",
   "metadata": {},
   "source": [
    "### Broadcasting Over Other Axes"
   ]
  },
  {
   "cell_type": "code",
   "execution_count": null,
   "metadata": {},
   "outputs": [],
   "source": []
  },
  {
   "cell_type": "code",
   "execution_count": 107,
   "metadata": {},
   "outputs": [
    {
     "name": "stdout",
     "output_type": "stream",
     "text": [
      "(4, 3)\n",
      "(4,)\n"
     ]
    }
   ],
   "source": [
    "print(arr.shape)\n",
    "print(arr.mean(1).shape)"
   ]
  },
  {
   "cell_type": "code",
   "execution_count": 108,
   "metadata": {},
   "outputs": [],
   "source": [
    "# arr - arr.mean(1)#ValueError: operands could not be broadcast together with shapes (4,3) (4,) "
   ]
  },
  {
   "cell_type": "code",
   "execution_count": 109,
   "metadata": {},
   "outputs": [
    {
     "data": {
      "text/plain": [
       "array([[0., 0., 0.],\n",
       "       [0., 0., 0.],\n",
       "       [0., 0., 0.],\n",
       "       [0., 0., 0.]])"
      ]
     },
     "execution_count": 109,
     "metadata": {},
     "output_type": "execute_result"
    }
   ],
   "source": [
    "arr - arr.mean(1).reshape((4, 1))"
   ]
  },
  {
   "cell_type": "code",
   "execution_count": 110,
   "metadata": {},
   "outputs": [
    {
     "data": {
      "text/plain": [
       "array([0., 0., 0.])"
      ]
     },
     "execution_count": 110,
     "metadata": {},
     "output_type": "execute_result"
    }
   ],
   "source": [
    "sum(arr - arr.mean(1).reshape((4, 1))) #default row-wise(top-down) sume"
   ]
  },
  {
   "cell_type": "code",
   "execution_count": 104,
   "metadata": {},
   "outputs": [
    {
     "data": {
      "text/plain": [
       "array([[0.3313, 1.3497, 0.0699]])"
      ]
     },
     "execution_count": 104,
     "metadata": {},
     "output_type": "execute_result"
    }
   ],
   "source": [
    "arr = np.zeros((4, 4))\n",
    "arr_3d = arr[:, np.newaxis, :]\n",
    "arr_3d.shape\n",
    "arr_1d = np.random.normal(size=3)\n",
    "arr_1d[:, np.newaxis]\n",
    "arr_1d[np.newaxis, :]"
   ]
  },
  {
   "cell_type": "code",
   "execution_count": null,
   "metadata": {},
   "outputs": [],
   "source": [
    "arr = np.random.randn(3, 4, 5)\n",
    "print(arr)\n",
    "print(\"--------------\")\n",
    "depth_means = arr.mean(2)\n",
    "print(depth_means)\n",
    "print(depth_means.shape)\n",
    "print(\"-----====--------\")\n",
    "demeaned = arr - depth_means[:, :, np.newaxis]\n",
    "demeaned.mean(2)"
   ]
  },
  {
   "cell_type": "code",
   "execution_count": null,
   "metadata": {},
   "outputs": [],
   "source": [
    "arr = np.random.randn(3, 4, 5) #row:3, column:4 , depth:5\n",
    "print(arr)\n",
    "print(\"------arr.mean(2) -> depth:5's mean --------\")\n",
    "depth_means = arr.mean(2)\n",
    "print(depth_means)\n",
    "print(depth_means.shape)\n",
    "print(\"-----====--------\")\n",
    "print(arr.shape)\n",
    "print(depth_means.shape)\n",
    "demeaned = arr - depth_means[:, :, np.newaxis] # convert 2d to 3d by [:,:,np.newaxis]\n",
    "demeaned.mean(2)"
   ]
  },
  {
   "cell_type": "markdown",
   "metadata": {},
   "source": [
    "```python\n",
    "def demean_axis(arr, axis=0):\n",
    "    means = arr.mean(axis)\n",
    "\n",
    "    # This generalizes things like [:, :, np.newaxis] to N dimensions\n",
    "    indexer = [slice(None)] * arr.ndim\n",
    "    indexer[axis] = np.newaxis\n",
    "    return arr - means[indexer]\n",
    "```"
   ]
  },
  {
   "cell_type": "markdown",
   "metadata": {},
   "source": [
    "### Setting Array Values by Broadcasting"
   ]
  },
  {
   "cell_type": "code",
   "execution_count": 122,
   "metadata": {},
   "outputs": [
    {
     "data": {
      "text/plain": [
       "array([[5., 5., 5.],\n",
       "       [5., 5., 5.],\n",
       "       [5., 5., 5.],\n",
       "       [5., 5., 5.]])"
      ]
     },
     "execution_count": 122,
     "metadata": {},
     "output_type": "execute_result"
    }
   ],
   "source": [
    "#setting values via array indexing.\n",
    "arr = np.zeros((4, 3))\n",
    "arr[:] = 5\n",
    "arr"
   ]
  },
  {
   "cell_type": "code",
   "execution_count": 123,
   "metadata": {},
   "outputs": [
    {
     "data": {
      "text/plain": [
       "array([[5., 5., 5.],\n",
       "       [5., 5., 5.],\n",
       "       [5., 5., 5.],\n",
       "       [5., 5., 5.]])"
      ]
     },
     "execution_count": 123,
     "metadata": {},
     "output_type": "execute_result"
    }
   ],
   "source": [
    "arr = np.zeros((4, 3))\n",
    "arr[:,:] = 5\n",
    "arr"
   ]
  },
  {
   "cell_type": "code",
   "execution_count": 124,
   "metadata": {},
   "outputs": [
    {
     "name": "stdout",
     "output_type": "stream",
     "text": [
      "** col,  (4,)\n",
      "[ 1.28 -0.42  0.44  1.6 ]\n",
      "*** arr,  (4, 3)\n",
      "[[5. 5. 5.]\n",
      " [5. 5. 5.]\n",
      " [5. 5. 5.]\n",
      " [5. 5. 5.]]\n",
      "----------------------------------\n",
      "* col[:,np.newaxis].shape : (4, 1)\n",
      "[[ 1.28]\n",
      " [-0.42]\n",
      " [ 0.44]\n",
      " [ 1.6 ]]\n",
      "-----arr[:] = col[:, np.newaxis]----------\n",
      "[[ 1.28  1.28  1.28]\n",
      " [-0.42 -0.42 -0.42]\n",
      " [ 0.44  0.44  0.44]\n",
      " [ 1.6   1.6   1.6 ]]\n"
     ]
    },
    {
     "data": {
      "text/plain": [
       "array([[-1.37 , -1.37 , -1.37 ],\n",
       "       [ 0.509,  0.509,  0.509],\n",
       "       [ 0.44 ,  0.44 ,  0.44 ],\n",
       "       [ 1.6  ,  1.6  ,  1.6  ]])"
      ]
     },
     "execution_count": 124,
     "metadata": {},
     "output_type": "execute_result"
    }
   ],
   "source": [
    "## Set into column: row number must be matched, rows are replaced.\n",
    "\n",
    "# if we had a one-dimensional array of values we wanted \n",
    "# to set into the columns of the array, \n",
    "# we can do that as long as the shape is compatible:\n",
    "col = np.array([1.28, -0.42, 0.44, 1.6])\n",
    "print(\"** col, \", col.shape); print(col)\n",
    "print(\"*** arr, \",arr.shape); print(arr)\n",
    "print(\"----------------------------------\")\n",
    "print(\"* col[:,np.newaxis].shape :\",col[:,np.newaxis].shape)\n",
    "print(col[:,np.newaxis])\n",
    "print(\"-----arr[:] = col[:, np.newaxis]----------\")\n",
    "arr[:] = col[:, np.newaxis] #set into the column of array:for all columns, all rows are replaced\n",
    "print(arr)\n",
    "arr[:2] = [[-1.37], [0.509]] #for all columns, row1 and row 2 are replaced with-1.37 and 0.509 \n",
    "arr"
   ]
  },
  {
   "cell_type": "code",
   "execution_count": 125,
   "metadata": {},
   "outputs": [
    {
     "name": "stdout",
     "output_type": "stream",
     "text": [
      "** row,  (4,)\n",
      "[ 1.28 -0.42  0.44  1.6 ]\n",
      "*** arr,  (3, 4)\n",
      "[[ 0.2467 -0.0119  1.0048  1.3272]\n",
      " [-0.9193 -1.5491  0.0222  0.7584]\n",
      " [-0.6605  0.8626 -0.01    0.05  ]]\n",
      "----------------------------------\n",
      "* row[np.newaxis,:].shape : (1, 4)\n",
      "[[ 1.28 -0.42  0.44  1.6 ]]\n",
      "-----arr[:] = row[np.newaxis, :]----------\n",
      "[[ 1.28 -0.42  0.44  1.6 ]\n",
      " [ 1.28 -0.42  0.44  1.6 ]\n",
      " [ 1.28 -0.42  0.44  1.6 ]]\n"
     ]
    },
    {
     "data": {
      "text/plain": [
       "array([[-1.37 , -1.37 , -1.37 , -1.37 ],\n",
       "       [ 0.509,  0.509,  0.509,  0.509],\n",
       "       [ 1.28 , -0.42 ,  0.44 ,  1.6  ]])"
      ]
     },
     "execution_count": 125,
     "metadata": {},
     "output_type": "execute_result"
    }
   ],
   "source": [
    "## columns number must be matched: columns are replaced\n",
    "# arr = np.arange(12).reshape(3,4)\n",
    "arr = np.random.randn(3, 4)\n",
    "row = np.array([1.28, -0.42, 0.44, 1.6])\n",
    "print(\"** row, \", row.shape); print(row)\n",
    "print(\"*** arr, \",arr.shape); print(arr)\n",
    "print(\"----------------------------------\")\n",
    "print(\"* row[np.newaxis,:].shape :\",row[np.newaxis,:].shape)\n",
    "print(row[np.newaxis,:])\n",
    "print(\"-----arr[:] = row[np.newaxis, :]----------\")\n",
    "arr[:] = row[np.newaxis,:] #set into the row of array:for all rows, all columns are replaced\n",
    "print(arr)\n",
    "arr[:2] = [[-1.37], [0.509]] #for all row, col 1 and col 2 are replaced with-1.37 and 0.509 \n",
    "arr"
   ]
  },
  {
   "cell_type": "markdown",
   "metadata": {},
   "source": [
    "## Advanced ufunc Usage"
   ]
  },
  {
   "cell_type": "markdown",
   "metadata": {},
   "source": [
    "### ufunc Instance Methods"
   ]
  },
  {
   "cell_type": "code",
   "execution_count": 126,
   "metadata": {},
   "outputs": [
    {
     "name": "stdout",
     "output_type": "stream",
     "text": [
      "45\n"
     ]
    },
    {
     "data": {
      "text/plain": [
       "45"
      ]
     },
     "execution_count": 126,
     "metadata": {},
     "output_type": "execute_result"
    }
   ],
   "source": [
    "# reduce takes a single array and aggregates its values, optionally along an axis,\n",
    "arr = np.arange(10)\n",
    "print(np.add.reduce(arr))\n",
    "arr.sum()"
   ]
  },
  {
   "cell_type": "code",
   "execution_count": 127,
   "metadata": {},
   "outputs": [
    {
     "name": "stdout",
     "output_type": "stream",
     "text": [
      "[[-0.09    0.7594  0.7483 -0.9815  0.3658]\n",
      " [-0.3154 -0.8661  0.0279 -0.4556 -1.6019]\n",
      " [ 0.2483 -0.3215 -0.8487  0.0005 -0.5465]\n",
      " [ 0.2539  1.9368 -0.7995 -0.5692  0.0489]\n",
      " [-0.6491 -0.4795 -0.9535  1.4225  0.1754]]\n",
      "------ arr[::2]----\n",
      "[[-0.09    0.7594  0.7483 -0.9815  0.3658]\n",
      " [ 0.2483 -0.3215 -0.8487  0.0005 -0.5465]\n",
      " [-0.6491 -0.4795 -0.9535  1.4225  0.1754]]\n",
      "------ arr[::1]----\n",
      "[[-0.09    0.7594  0.7483 -0.9815  0.3658]\n",
      " [-0.3154 -0.8661  0.0279 -0.4556 -1.6019]\n",
      " [ 0.2483 -0.3215 -0.8487  0.0005 -0.5465]\n",
      " [ 0.2539  1.9368 -0.7995 -0.5692  0.0489]\n",
      " [-0.6491 -0.4795 -0.9535  1.4225  0.1754]]\n",
      "------ arr[::3]----\n",
      "[[-0.09    0.7594  0.7483 -0.9815  0.3658]\n",
      " [ 0.2539  1.9368 -0.7995 -0.5692  0.0489]]\n",
      "arr---\n",
      "[[-0.09    0.7594  0.7483 -0.9815  0.3658]\n",
      " [-0.3154 -0.8661  0.0279 -0.4556 -1.6019]\n",
      " [ 0.2483 -0.3215 -0.8487  0.0005 -0.5465]\n",
      " [ 0.2539  1.9368 -0.7995 -0.5692  0.0489]\n",
      " [-0.6491 -0.4795 -0.9535  1.4225  0.1754]]\n",
      "************\n",
      "[[-0.09    0.7594  0.7483 -0.9815  0.3658]\n",
      " [ 0.2483 -0.3215 -0.8487  0.0005 -0.5465]\n",
      " [-0.6491 -0.4795 -0.9535  1.4225  0.1754]]\n",
      "-----after arr[::2].sort(1)-for every other row(increment 2)-(default is row),column wise(left to right) sort----\n",
      "[[-0.9815 -0.09    0.3658  0.7483  0.7594]\n",
      " [-0.3154 -0.8661  0.0279 -0.4556 -1.6019]\n",
      " [-0.8487 -0.5465 -0.3215  0.0005  0.2483]\n",
      " [ 0.2539  1.9368 -0.7995 -0.5692  0.0489]\n",
      " [-0.9535 -0.6491 -0.4795  0.1754  1.4225]]\n",
      "======arr[:, :-1]========\n",
      "[[-0.9815 -0.09    0.3658  0.7483]\n",
      " [-0.3154 -0.8661  0.0279 -0.4556]\n",
      " [-0.8487 -0.5465 -0.3215  0.0005]\n",
      " [ 0.2539  1.9368 -0.7995 -0.5692]\n",
      " [-0.9535 -0.6491 -0.4795  0.1754]]\n",
      "---- arr[:, 1:]------\n",
      "[[-0.09    0.3658  0.7483  0.7594]\n",
      " [-0.8661  0.0279 -0.4556 -1.6019]\n",
      " [-0.5465 -0.3215  0.0005  0.2483]\n",
      " [ 1.9368 -0.7995 -0.5692  0.0489]\n",
      " [-0.6491 -0.4795  0.1754  1.4225]]\n",
      "---------arr[:, :-1] < arr[:, 1:]------\n",
      "[[ True  True  True  True]\n",
      " [False  True False False]\n",
      " [ True  True  True  True]\n",
      " [ True False  True  True]\n",
      " [ True  True  True  True]]\n"
     ]
    },
    {
     "data": {
      "text/plain": [
       "array([ True, False,  True, False,  True])"
      ]
     },
     "execution_count": 127,
     "metadata": {},
     "output_type": "execute_result"
    }
   ],
   "source": [
    "np.random.seed(12346)  # for reproducibility\n",
    "arr = np.random.randn(5, 5)\n",
    "print(arr)\n",
    "print(\"------ arr[::2]----\") #from start, to end, increment 2\n",
    "print(arr[::2])\n",
    "print(\"------ arr[::1]----\") #increment 1\n",
    "print(arr[::1])\n",
    "print(\"------ arr[::3]----\") #increment 3\n",
    "print(arr[::3])\n",
    "\n",
    "print(\"arr---\")\n",
    "print(arr)\n",
    "print(\"************\")\n",
    "print(arr[::2])\n",
    "\n",
    "print(\"-----after arr[::2].sort(1)-for every other row(increment 2)-(default is row),column wise(left to right) sort----\")\n",
    "arr[::2].sort(1) # sort only even row, sorting method: column-wise(left to right) sort.\n",
    "print(arr)\n",
    "print(\"======arr[:, :-1]========\")\n",
    "print(arr[:, :-1])\n",
    "print(\"---- arr[:, 1:]------\")\n",
    "print( arr[:, 1:])\n",
    "print(\"---------arr[:, :-1] < arr[:, 1:]------\")\n",
    "print(arr[:, :-1] < arr[:, 1:])\n",
    "\n",
    "np.logical_and.reduce(arr[:, :-1] < arr[:, 1:], axis=1) #column-wise, from left to right 'np.logical_and' op"
   ]
  },
  {
   "cell_type": "code",
   "execution_count": 128,
   "metadata": {},
   "outputs": [
    {
     "name": "stdout",
     "output_type": "stream",
     "text": [
      "[[-0.9815 -0.09    0.3658  0.7483  0.7594]\n",
      " [-0.3154 -0.8661  0.0279 -0.4556 -1.6019]\n",
      " [-0.8487 -0.5465 -0.3215  0.0005  0.2483]\n",
      " [ 0.2539  1.9368 -0.7995 -0.5692  0.0489]\n",
      " [-0.9535 -0.6491 -0.4795  0.1754  1.4225]]\n",
      "======arr[:, :-2]========\n",
      "[[-0.9815 -0.09    0.3658]\n",
      " [-0.3154 -0.8661  0.0279]\n",
      " [-0.8487 -0.5465 -0.3215]\n",
      " [ 0.2539  1.9368 -0.7995]\n",
      " [-0.9535 -0.6491 -0.4795]]\n",
      "======arr[::-2]========\n",
      "[[-0.9535 -0.6491 -0.4795  0.1754  1.4225]\n",
      " [-0.8487 -0.5465 -0.3215  0.0005  0.2483]\n",
      " [-0.9815 -0.09    0.3658  0.7483  0.7594]]\n",
      "---- arr[:, 2:]------\n",
      "[[ 0.3658  0.7483  0.7594]\n",
      " [ 0.0279 -0.4556 -1.6019]\n",
      " [-0.3215  0.0005  0.2483]\n",
      " [-0.7995 -0.5692  0.0489]\n",
      " [-0.4795  0.1754  1.4225]]\n"
     ]
    }
   ],
   "source": [
    "print(arr)\n",
    "print(\"======arr[:, :-2]========\") #all row, colunm is from start to (-2: from rear 2nd -> this is not incl)\n",
    "print(arr[:, :-2])\n",
    "print(\"======arr[::-2]========\")# increment -2 row-wise(default)-every other row (from rear)\n",
    "print(arr[::-2])\n",
    "print(\"---- arr[:, 2:]------\") #all row, column is from 2 row to the end.\n",
    "print( arr[:, 2:])"
   ]
  },
  {
   "cell_type": "code",
   "execution_count": null,
   "metadata": {},
   "outputs": [],
   "source": [
    "#It produces an array of the same size \n",
    "# with the intermediate “accumulated” values:\n",
    "arr = np.arange(15).reshape((3, 5))\n",
    "print(arr)\n",
    "print(\"-----------------\")\n",
    "np.add.accumulate(arr, axis=1)"
   ]
  },
  {
   "cell_type": "code",
   "execution_count": null,
   "metadata": {},
   "outputs": [],
   "source": [
    "arr = np.arange(3).repeat([1, 2, 2]) # 0-> once, 1 -> 2 times, 2 -> 2 times\n",
    "print(arr.shape)\n",
    "print(arr)\n",
    "print(\"******\")\n",
    "print((np.arange(5).shape))\n",
    "print(np.arange(5))\n",
    "print(\"-------np.multiply.outer-------------\")\n",
    "print(np.multiply.outer(arr, np.arange(5)))\n",
    "print(\"shape : \",np.multiply.outer(arr, np.arange(5)).shape)\n",
    "print(\"-------np.multiply-------------\")\n",
    "print(np.multiply(arr, np.arange(5)))\n",
    "print(\"--------arr * np.arange(5)-----------\")\n",
    "print(arr * np.arange(5))\n",
    "print(\"--------np.dot------------\")\n",
    "np.dot(arr, np.arange(5))"
   ]
  },
  {
   "cell_type": "code",
   "execution_count": null,
   "metadata": {},
   "outputs": [],
   "source": [
    "x, y = np.random.randn(3, 4), np.random.randn(5)\n",
    "print(x)\n",
    "print(x.shape)\n",
    "print(\"---------------\")\n",
    "print(y)\n",
    "print(y.shape)\n",
    "print(\"---------------\")\n",
    "result = np.subtract.outer(x, y)\n",
    "print(result)\n",
    "result.shape"
   ]
  },
  {
   "cell_type": "code",
   "execution_count": null,
   "metadata": {},
   "outputs": [],
   "source": [
    "arr = np.arange(10)\n",
    "print(arr)\n",
    "np.add.reduce(arr)"
   ]
  },
  {
   "cell_type": "code",
   "execution_count": 41,
   "metadata": {},
   "outputs": [
    {
     "data": {
      "text/plain": [
       "array([45])"
      ]
     },
     "execution_count": 41,
     "metadata": {},
     "output_type": "execute_result"
    }
   ],
   "source": [
    "arr = np.arange(10)\n",
    "np.add.reduceat(arr, [0])"
   ]
  },
  {
   "cell_type": "code",
   "execution_count": 42,
   "metadata": {},
   "outputs": [
    {
     "data": {
      "text/plain": [
       "array([ 1, 44])"
      ]
     },
     "execution_count": 42,
     "metadata": {},
     "output_type": "execute_result"
    }
   ],
   "source": [
    "arr = np.arange(10)\n",
    "np.add.reduceat(arr, [0, 2])"
   ]
  },
  {
   "cell_type": "code",
   "execution_count": 43,
   "metadata": {},
   "outputs": [
    {
     "data": {
      "text/plain": [
       "array([ 0, 45])"
      ]
     },
     "execution_count": 43,
     "metadata": {},
     "output_type": "execute_result"
    }
   ],
   "source": [
    "arr = np.arange(10)\n",
    "np.add.reduceat(arr, [0, 1])"
   ]
  },
  {
   "cell_type": "code",
   "execution_count": 44,
   "metadata": {},
   "outputs": [
    {
     "data": {
      "text/plain": [
       "array([ 5, 39])"
      ]
     },
     "execution_count": 44,
     "metadata": {},
     "output_type": "execute_result"
    }
   ],
   "source": [
    "arr = np.arange(10)\n",
    "np.add.reduceat(arr, [2, 4])"
   ]
  },
  {
   "cell_type": "code",
   "execution_count": 45,
   "metadata": {},
   "outputs": [
    {
     "data": {
      "text/plain": [
       "array([ 6, 39])"
      ]
     },
     "execution_count": 45,
     "metadata": {},
     "output_type": "execute_result"
    }
   ],
   "source": [
    "arr = np.arange(10)\n",
    "np.add.reduceat(arr, [0, 4])"
   ]
  },
  {
   "cell_type": "code",
   "execution_count": 46,
   "metadata": {},
   "outputs": [
    {
     "data": {
      "text/plain": [
       "array([10, 35])"
      ]
     },
     "execution_count": 46,
     "metadata": {},
     "output_type": "execute_result"
    }
   ],
   "source": [
    "arr = np.arange(10)\n",
    "np.add.reduceat(arr, [0, 5])"
   ]
  },
  {
   "cell_type": "code",
   "execution_count": 47,
   "metadata": {},
   "outputs": [
    {
     "data": {
      "text/plain": [
       "array([10, 18, 17])"
      ]
     },
     "execution_count": 47,
     "metadata": {},
     "output_type": "execute_result"
    }
   ],
   "source": [
    "arr = np.arange(10)\n",
    "np.add.reduceat(arr, [0, 5, 8])"
   ]
  },
  {
   "cell_type": "code",
   "execution_count": 48,
   "metadata": {},
   "outputs": [
    {
     "data": {
      "text/plain": [
       "array([[ 0,  0,  0],\n",
       "       [ 1,  5,  4],\n",
       "       [ 2, 10,  8],\n",
       "       [ 3, 15, 12]])"
      ]
     },
     "execution_count": 48,
     "metadata": {},
     "output_type": "execute_result"
    }
   ],
   "source": [
    "arr = np.multiply.outer(np.arange(4), np.arange(5))\n",
    "arr\n",
    "np.add.reduceat(arr, [0, 2, 4], axis=1)"
   ]
  },
  {
   "cell_type": "markdown",
   "metadata": {},
   "source": [
    "### Writing New ufuncs in Python"
   ]
  },
  {
   "cell_type": "code",
   "execution_count": 49,
   "metadata": {},
   "outputs": [
    {
     "data": {
      "text/plain": [
       "array([0, 2, 4, 6, 8, 10, 12, 14], dtype=object)"
      ]
     },
     "execution_count": 49,
     "metadata": {},
     "output_type": "execute_result"
    }
   ],
   "source": [
    "def add_elements(x, y):\n",
    "    return x + y\n",
    "add_them = np.frompyfunc(add_elements, 2, 1)\n",
    "add_them(np.arange(8), np.arange(8))"
   ]
  },
  {
   "cell_type": "code",
   "execution_count": 50,
   "metadata": {},
   "outputs": [
    {
     "data": {
      "text/plain": [
       "array([ 0.,  2.,  4.,  6.,  8., 10., 12., 14.])"
      ]
     },
     "execution_count": 50,
     "metadata": {},
     "output_type": "execute_result"
    }
   ],
   "source": [
    "add_them = np.vectorize(add_elements, otypes=[np.float64])\n",
    "add_them(np.arange(8), np.arange(8))"
   ]
  },
  {
   "cell_type": "code",
   "execution_count": 51,
   "metadata": {},
   "outputs": [
    {
     "name": "stdout",
     "output_type": "stream",
     "text": [
      "1.37 ms ± 15 µs per loop (mean ± std. dev. of 7 runs, 1000 loops each)\n",
      "4.11 µs ± 22.2 ns per loop (mean ± std. dev. of 7 runs, 100000 loops each)\n"
     ]
    }
   ],
   "source": [
    "arr = np.random.randn(10000)\n",
    "%timeit add_them(arr, arr)\n",
    "%timeit np.add(arr, arr)"
   ]
  },
  {
   "cell_type": "markdown",
   "metadata": {},
   "source": [
    "## Structured and Record Arrays"
   ]
  },
  {
   "cell_type": "code",
   "execution_count": 52,
   "metadata": {},
   "outputs": [
    {
     "data": {
      "text/plain": [
       "array([(1.5   ,  6), (3.1416, -2)], dtype=[('x', '<f8'), ('y', '<i4')])"
      ]
     },
     "execution_count": 52,
     "metadata": {},
     "output_type": "execute_result"
    }
   ],
   "source": [
    "dtype = [('x', np.float64), ('y', np.int32)]\n",
    "sarr = np.array([(1.5, 6), (np.pi, -2)], dtype=dtype)\n",
    "sarr"
   ]
  },
  {
   "cell_type": "code",
   "execution_count": 53,
   "metadata": {},
   "outputs": [
    {
     "data": {
      "text/plain": [
       "6"
      ]
     },
     "execution_count": 53,
     "metadata": {},
     "output_type": "execute_result"
    }
   ],
   "source": [
    "sarr[0]\n",
    "sarr[0]['y']"
   ]
  },
  {
   "cell_type": "code",
   "execution_count": 54,
   "metadata": {},
   "outputs": [
    {
     "data": {
      "text/plain": [
       "array([1.5   , 3.1416])"
      ]
     },
     "execution_count": 54,
     "metadata": {},
     "output_type": "execute_result"
    }
   ],
   "source": [
    "sarr['x']"
   ]
  },
  {
   "cell_type": "markdown",
   "metadata": {},
   "source": [
    "### Nested dtypes and Multidimensional Fields"
   ]
  },
  {
   "cell_type": "code",
   "execution_count": 55,
   "metadata": {},
   "outputs": [
    {
     "data": {
      "text/plain": [
       "array([([0, 0, 0], 0), ([0, 0, 0], 0), ([0, 0, 0], 0), ([0, 0, 0], 0)],\n",
       "      dtype=[('x', '<i8', (3,)), ('y', '<i4')])"
      ]
     },
     "execution_count": 55,
     "metadata": {},
     "output_type": "execute_result"
    }
   ],
   "source": [
    "dtype = [('x', np.int64, 3), ('y', np.int32)]\n",
    "arr = np.zeros(4, dtype=dtype)\n",
    "arr"
   ]
  },
  {
   "cell_type": "code",
   "execution_count": 56,
   "metadata": {},
   "outputs": [
    {
     "data": {
      "text/plain": [
       "array([0, 0, 0])"
      ]
     },
     "execution_count": 56,
     "metadata": {},
     "output_type": "execute_result"
    }
   ],
   "source": [
    "arr[0]['x']"
   ]
  },
  {
   "cell_type": "code",
   "execution_count": 57,
   "metadata": {},
   "outputs": [
    {
     "data": {
      "text/plain": [
       "array([[0, 0, 0],\n",
       "       [0, 0, 0],\n",
       "       [0, 0, 0],\n",
       "       [0, 0, 0]])"
      ]
     },
     "execution_count": 57,
     "metadata": {},
     "output_type": "execute_result"
    }
   ],
   "source": [
    "arr['x']"
   ]
  },
  {
   "cell_type": "code",
   "execution_count": 58,
   "metadata": {},
   "outputs": [
    {
     "data": {
      "text/plain": [
       "array([1., 3.])"
      ]
     },
     "execution_count": 58,
     "metadata": {},
     "output_type": "execute_result"
    }
   ],
   "source": [
    "dtype = [('x', [('a', 'f8'), ('b', 'f4')]), ('y', np.int32)]\n",
    "data = np.array([((1, 2), 5), ((3, 4), 6)], dtype=dtype)\n",
    "data['x']\n",
    "data['y']\n",
    "data['x']['a']"
   ]
  },
  {
   "cell_type": "markdown",
   "metadata": {},
   "source": [
    "### Why Use Structured Arrays?"
   ]
  },
  {
   "cell_type": "markdown",
   "metadata": {},
   "source": [
    "## More About Sorting"
   ]
  },
  {
   "cell_type": "code",
   "execution_count": 59,
   "metadata": {},
   "outputs": [
    {
     "data": {
      "text/plain": [
       "array([-1.0054, -0.4969, -0.2703, -0.2165,  0.51  ,  0.5927])"
      ]
     },
     "execution_count": 59,
     "metadata": {},
     "output_type": "execute_result"
    }
   ],
   "source": [
    "arr = np.random.randn(6)\n",
    "arr.sort()\n",
    "arr"
   ]
  },
  {
   "cell_type": "code",
   "execution_count": 60,
   "metadata": {},
   "outputs": [
    {
     "data": {
      "text/plain": [
       "array([[-0.9784,  0.6754, -0.044 , -0.6036, -0.3693],\n",
       "       [-0.6212,  1.1781, -2.8685,  0.108 ,  0.6046],\n",
       "       [ 1.0304,  2.0542, -1.2113, -1.0375,  0.7093]])"
      ]
     },
     "execution_count": 60,
     "metadata": {},
     "output_type": "execute_result"
    }
   ],
   "source": [
    "arr = np.random.randn(3, 5)\n",
    "arr\n",
    "arr[:, 0].sort()  # Sort first column values in-place\n",
    "arr"
   ]
  },
  {
   "cell_type": "code",
   "execution_count": 61,
   "metadata": {},
   "outputs": [
    {
     "data": {
      "text/plain": [
       "array([-0.4803, -0.8566,  1.1659,  0.2808, -0.8511])"
      ]
     },
     "execution_count": 61,
     "metadata": {},
     "output_type": "execute_result"
    }
   ],
   "source": [
    "arr = np.random.randn(5)\n",
    "arr\n",
    "np.sort(arr)\n",
    "arr"
   ]
  },
  {
   "cell_type": "code",
   "execution_count": 62,
   "metadata": {},
   "outputs": [
    {
     "data": {
      "text/plain": [
       "array([[-1.1091, -0.66  , -0.3381, -0.2201,  0.6632],\n",
       "       [-0.7161, -0.1332, -0.1168,  0.0229,  0.635 ],\n",
       "       [-1.8294, -1.7927, -0.1485,  0.035 ,  0.05  ]])"
      ]
     },
     "execution_count": 62,
     "metadata": {},
     "output_type": "execute_result"
    }
   ],
   "source": [
    "arr = np.random.randn(3, 5)\n",
    "arr\n",
    "arr.sort(axis=1)\n",
    "arr"
   ]
  },
  {
   "cell_type": "code",
   "execution_count": 63,
   "metadata": {},
   "outputs": [
    {
     "data": {
      "text/plain": [
       "array([[ 0.6632, -0.2201, -0.3381, -0.66  , -1.1091],\n",
       "       [ 0.635 ,  0.0229, -0.1168, -0.1332, -0.7161],\n",
       "       [ 0.05  ,  0.035 , -0.1485, -1.7927, -1.8294]])"
      ]
     },
     "execution_count": 63,
     "metadata": {},
     "output_type": "execute_result"
    }
   ],
   "source": [
    "arr[:, ::-1]"
   ]
  },
  {
   "cell_type": "markdown",
   "metadata": {},
   "source": [
    "### Indirect Sorts: argsort and lexsort"
   ]
  },
  {
   "cell_type": "code",
   "execution_count": 64,
   "metadata": {},
   "outputs": [
    {
     "data": {
      "text/plain": [
       "array([0, 1, 2, 3, 5])"
      ]
     },
     "execution_count": 64,
     "metadata": {},
     "output_type": "execute_result"
    }
   ],
   "source": [
    "values = np.array([5, 0, 1, 3, 2])\n",
    "indexer = values.argsort()\n",
    "indexer\n",
    "values[indexer]"
   ]
  },
  {
   "cell_type": "code",
   "execution_count": 65,
   "metadata": {},
   "outputs": [
    {
     "data": {
      "text/plain": [
       "array([[ 0.    ,  1.    ,  2.    ,  3.    ,  5.    ],\n",
       "       [ 0.5303,  1.0183,  0.8767,  0.1939,  0.0494],\n",
       "       [-1.4071, -0.4736,  1.4226, -0.853 ,  0.2835]])"
      ]
     },
     "execution_count": 65,
     "metadata": {},
     "output_type": "execute_result"
    }
   ],
   "source": [
    "arr = np.random.randn(3, 5)\n",
    "arr[0] = values\n",
    "arr\n",
    "arr[:, arr[0].argsort()]"
   ]
  },
  {
   "cell_type": "code",
   "execution_count": 66,
   "metadata": {},
   "outputs": [
    {
     "data": {
      "text/plain": [
       "<zip at 0x7feb424006e0>"
      ]
     },
     "execution_count": 66,
     "metadata": {},
     "output_type": "execute_result"
    }
   ],
   "source": [
    "first_name = np.array(['Bob', 'Jane', 'Steve', 'Bill', 'Barbara'])\n",
    "last_name = np.array(['Jones', 'Arnold', 'Arnold', 'Jones', 'Walters'])\n",
    "sorter = np.lexsort((first_name, last_name))\n",
    "sorter\n",
    "zip(last_name[sorter], first_name[sorter])"
   ]
  },
  {
   "cell_type": "markdown",
   "metadata": {},
   "source": [
    "### Alternative Sort Algorithms"
   ]
  },
  {
   "cell_type": "code",
   "execution_count": 67,
   "metadata": {},
   "outputs": [
    {
     "data": {
      "text/plain": [
       "array(['1:first', '1:second', '1:third', '2:first', '2:second'],\n",
       "      dtype='<U8')"
      ]
     },
     "execution_count": 67,
     "metadata": {},
     "output_type": "execute_result"
    }
   ],
   "source": [
    "values = np.array(['2:first', '2:second', '1:first', '1:second',\n",
    "                   '1:third'])\n",
    "key = np.array([2, 2, 1, 1, 1])\n",
    "indexer = key.argsort(kind='mergesort')\n",
    "indexer\n",
    "values.take(indexer)"
   ]
  },
  {
   "cell_type": "markdown",
   "metadata": {},
   "source": [
    "### Partially Sorting Arrays"
   ]
  },
  {
   "cell_type": "code",
   "execution_count": 68,
   "metadata": {},
   "outputs": [
    {
     "data": {
      "text/plain": [
       "array([-2.0016, -1.2962, -0.5557, -0.5194, -0.3718, -0.4386, -0.2047,\n",
       "        0.2817,  0.769 ,  0.4789,  1.0072,  0.0929,  0.275 ,  0.2289,\n",
       "        1.3529,  0.8864,  1.3934,  1.9658,  1.669 ,  1.2464])"
      ]
     },
     "execution_count": 68,
     "metadata": {},
     "output_type": "execute_result"
    }
   ],
   "source": [
    "np.random.seed(12345)\n",
    "arr = np.random.randn(20)\n",
    "arr\n",
    "np.partition(arr, 3)"
   ]
  },
  {
   "cell_type": "code",
   "execution_count": 69,
   "metadata": {},
   "outputs": [
    {
     "data": {
      "text/plain": [
       "array([-2.0016, -1.2962, -0.5557, -0.5194, -0.3718, -0.4386, -0.2047,\n",
       "        0.2817,  0.769 ,  0.4789,  1.0072,  0.0929,  0.275 ,  0.2289,\n",
       "        1.3529,  0.8864,  1.3934,  1.9658,  1.669 ,  1.2464])"
      ]
     },
     "execution_count": 69,
     "metadata": {},
     "output_type": "execute_result"
    }
   ],
   "source": [
    "indices = np.argpartition(arr, 3)\n",
    "indices\n",
    "arr.take(indices)"
   ]
  },
  {
   "cell_type": "markdown",
   "metadata": {},
   "source": [
    "### numpy.searchsorted: Finding Elements in a Sorted Array"
   ]
  },
  {
   "cell_type": "code",
   "execution_count": 70,
   "metadata": {},
   "outputs": [
    {
     "data": {
      "text/plain": [
       "3"
      ]
     },
     "execution_count": 70,
     "metadata": {},
     "output_type": "execute_result"
    }
   ],
   "source": [
    "arr = np.array([0, 1, 7, 12, 15])\n",
    "arr.searchsorted(9)"
   ]
  },
  {
   "cell_type": "code",
   "execution_count": 71,
   "metadata": {},
   "outputs": [
    {
     "data": {
      "text/plain": [
       "array([0, 3, 3, 5])"
      ]
     },
     "execution_count": 71,
     "metadata": {},
     "output_type": "execute_result"
    }
   ],
   "source": [
    "arr.searchsorted([0, 8, 11, 16])"
   ]
  },
  {
   "cell_type": "code",
   "execution_count": 72,
   "metadata": {},
   "outputs": [
    {
     "data": {
      "text/plain": [
       "array([3, 7])"
      ]
     },
     "execution_count": 72,
     "metadata": {},
     "output_type": "execute_result"
    }
   ],
   "source": [
    "arr = np.array([0, 0, 0, 1, 1, 1, 1])\n",
    "arr.searchsorted([0, 1])\n",
    "arr.searchsorted([0, 1], side='right')"
   ]
  },
  {
   "cell_type": "code",
   "execution_count": 73,
   "metadata": {},
   "outputs": [
    {
     "data": {
      "text/plain": [
       "array([9940., 6768., 7908., 1709.,  268., 8003., 9037.,  246., 4917.,\n",
       "       5262., 5963.,  519., 8950., 7282., 8183., 5002., 8101.,  959.,\n",
       "       2189., 2587., 4681., 4593., 7095., 1780., 5314., 1677., 7688.,\n",
       "       9281., 6094., 1501., 4896., 3773., 8486., 9110., 3838., 3154.,\n",
       "       5683., 1878., 1258., 6875., 7996., 5735., 9732., 6340., 8884.,\n",
       "       4954., 3516., 7142., 5039., 2256.])"
      ]
     },
     "execution_count": 73,
     "metadata": {},
     "output_type": "execute_result"
    }
   ],
   "source": [
    "data = np.floor(np.random.uniform(0, 10000, size=50))\n",
    "bins = np.array([0, 100, 1000, 5000, 10000])\n",
    "data"
   ]
  },
  {
   "cell_type": "code",
   "execution_count": 74,
   "metadata": {},
   "outputs": [
    {
     "data": {
      "text/plain": [
       "array([4, 4, 4, 3, 2, 4, 4, 2, 3, 4, 4, 2, 4, 4, 4, 4, 4, 2, 3, 3, 3, 3,\n",
       "       4, 3, 4, 3, 4, 4, 4, 3, 3, 3, 4, 4, 3, 3, 4, 3, 3, 4, 4, 4, 4, 4,\n",
       "       4, 3, 3, 4, 4, 3])"
      ]
     },
     "execution_count": 74,
     "metadata": {},
     "output_type": "execute_result"
    }
   ],
   "source": [
    "labels = bins.searchsorted(data)\n",
    "labels"
   ]
  },
  {
   "cell_type": "code",
   "execution_count": 75,
   "metadata": {},
   "outputs": [
    {
     "data": {
      "text/plain": [
       "2     498.000000\n",
       "3    3064.277778\n",
       "4    7389.035714\n",
       "dtype: float64"
      ]
     },
     "execution_count": 75,
     "metadata": {},
     "output_type": "execute_result"
    }
   ],
   "source": [
    "pd.Series(data).groupby(labels).mean()"
   ]
  },
  {
   "cell_type": "markdown",
   "metadata": {},
   "source": [
    "## Writing Fast NumPy Functions with Numba"
   ]
  },
  {
   "cell_type": "code",
   "execution_count": 76,
   "metadata": {},
   "outputs": [],
   "source": [
    "import numpy as np\n",
    "\n",
    "def mean_distance(x, y):\n",
    "    nx = len(x)\n",
    "    result = 0.0\n",
    "    count = 0\n",
    "    for i in range(nx):\n",
    "        result += x[i] - y[i]\n",
    "        count += 1\n",
    "    return result / count"
   ]
  },
  {
   "cell_type": "markdown",
   "metadata": {},
   "source": [
    "```python\n",
    "In [209]: x = np.random.randn(10000000)\n",
    "\n",
    "In [210]: y = np.random.randn(10000000)\n",
    "\n",
    "In [211]: %timeit mean_distance(x, y)\n",
    "1 loop, best of 3: 2 s per loop\n",
    "\n",
    "In [212]: %timeit (x - y).mean()\n",
    "100 loops, best of 3: 14.7 ms per loop\n",
    "```"
   ]
  },
  {
   "cell_type": "markdown",
   "metadata": {},
   "source": [
    "```python\n",
    "In [213]: import numba as nb\n",
    "\n",
    "In [214]: numba_mean_distance = nb.jit(mean_distance)\n",
    "```"
   ]
  },
  {
   "cell_type": "markdown",
   "metadata": {},
   "source": [
    "```python\n",
    "@nb.jit\n",
    "def mean_distance(x, y):\n",
    "    nx = len(x)\n",
    "    result = 0.0\n",
    "    count = 0\n",
    "    for i in range(nx):\n",
    "        result += x[i] - y[i]\n",
    "        count += 1\n",
    "    return result / count\n",
    "```"
   ]
  },
  {
   "cell_type": "markdown",
   "metadata": {},
   "source": [
    "```python\n",
    "In [215]: %timeit numba_mean_distance(x, y)\n",
    "100 loops, best of 3: 10.3 ms per loop\n",
    "```"
   ]
  },
  {
   "cell_type": "markdown",
   "metadata": {},
   "source": [
    "```python\n",
    "from numba import float64, njit\n",
    "\n",
    "@njit(float64(float64[:], float64[:]))\n",
    "def mean_distance(x, y):\n",
    "    return (x - y).mean()\n",
    "```"
   ]
  },
  {
   "cell_type": "markdown",
   "metadata": {},
   "source": [
    "### Creating Custom numpy.ufunc Objects with Numba"
   ]
  },
  {
   "cell_type": "markdown",
   "metadata": {},
   "source": [
    "```python\n",
    "from numba import vectorize\n",
    "\n",
    "@vectorize\n",
    "def nb_add(x, y):\n",
    "    return x + y\n",
    "```"
   ]
  },
  {
   "cell_type": "markdown",
   "metadata": {},
   "source": [
    "```python\n",
    "In [13]: x = np.arange(10)\n",
    "\n",
    "In [14]: nb_add(x, x)\n",
    "Out[14]: array([  0.,   2.,   4.,   6.,   8.,  10.,  12.,  14.,  16.,  18.])\n",
    "\n",
    "In [15]: nb_add.accumulate(x, 0)\n",
    "Out[15]: array([  0.,   1.,   3.,   6.,  10.,  15.,  21.,  28.,  36.,  45.])\n",
    "```"
   ]
  },
  {
   "cell_type": "markdown",
   "metadata": {},
   "source": [
    "## Advanced Array Input and Output"
   ]
  },
  {
   "cell_type": "markdown",
   "metadata": {},
   "source": [
    "### Memory-Mapped Files"
   ]
  },
  {
   "cell_type": "code",
   "execution_count": 77,
   "metadata": {},
   "outputs": [
    {
     "data": {
      "text/plain": [
       "memmap([[0., 0., 0., ..., 0., 0., 0.],\n",
       "        [0., 0., 0., ..., 0., 0., 0.],\n",
       "        [0., 0., 0., ..., 0., 0., 0.],\n",
       "        ...,\n",
       "        [0., 0., 0., ..., 0., 0., 0.],\n",
       "        [0., 0., 0., ..., 0., 0., 0.],\n",
       "        [0., 0., 0., ..., 0., 0., 0.]])"
      ]
     },
     "execution_count": 77,
     "metadata": {},
     "output_type": "execute_result"
    }
   ],
   "source": [
    "mmap = np.memmap('mymmap', dtype='float64', mode='w+',\n",
    "                 shape=(10000, 10000))\n",
    "mmap"
   ]
  },
  {
   "cell_type": "code",
   "execution_count": 78,
   "metadata": {},
   "outputs": [],
   "source": [
    "section = mmap[:5]"
   ]
  },
  {
   "cell_type": "code",
   "execution_count": 79,
   "metadata": {},
   "outputs": [],
   "source": [
    "section[:] = np.random.randn(5, 10000)\n",
    "mmap.flush()\n",
    "mmap\n",
    "del mmap"
   ]
  },
  {
   "cell_type": "code",
   "execution_count": 80,
   "metadata": {},
   "outputs": [
    {
     "data": {
      "text/plain": [
       "memmap([[ 0.7584, -0.6605,  0.8626, ...,  0.6046, -0.6212,  2.0542],\n",
       "        [-1.2113, -1.0375,  0.7093, ..., -1.4117, -0.1719, -0.8957],\n",
       "        [-0.1419, -0.3375,  0.4329, ...,  1.2914, -0.752 , -0.44  ],\n",
       "        ...,\n",
       "        [ 0.    ,  0.    ,  0.    , ...,  0.    ,  0.    ,  0.    ],\n",
       "        [ 0.    ,  0.    ,  0.    , ...,  0.    ,  0.    ,  0.    ],\n",
       "        [ 0.    ,  0.    ,  0.    , ...,  0.    ,  0.    ,  0.    ]])"
      ]
     },
     "execution_count": 80,
     "metadata": {},
     "output_type": "execute_result"
    }
   ],
   "source": [
    "mmap = np.memmap('mymmap', dtype='float64', shape=(10000, 10000))\n",
    "mmap"
   ]
  },
  {
   "cell_type": "code",
   "execution_count": 81,
   "metadata": {},
   "outputs": [],
   "source": [
    "%xdel mmap\n",
    "!rm mymmap"
   ]
  },
  {
   "cell_type": "markdown",
   "metadata": {},
   "source": [
    "### HDF5 and Other Array Storage Options"
   ]
  },
  {
   "cell_type": "markdown",
   "metadata": {},
   "source": [
    "## Performance Tips"
   ]
  },
  {
   "cell_type": "markdown",
   "metadata": {},
   "source": [
    "### The Importance of Contiguous Memory"
   ]
  },
  {
   "cell_type": "code",
   "execution_count": 82,
   "metadata": {},
   "outputs": [
    {
     "data": {
      "text/plain": [
       "True"
      ]
     },
     "execution_count": 82,
     "metadata": {},
     "output_type": "execute_result"
    }
   ],
   "source": [
    "arr_c = np.ones((1000, 1000), order='C')\n",
    "arr_f = np.ones((1000, 1000), order='F')\n",
    "arr_c.flags\n",
    "arr_f.flags\n",
    "arr_f.flags.f_contiguous"
   ]
  },
  {
   "cell_type": "code",
   "execution_count": 83,
   "metadata": {},
   "outputs": [
    {
     "name": "stdout",
     "output_type": "stream",
     "text": [
      "346 µs ± 5.58 µs per loop (mean ± std. dev. of 7 runs, 1000 loops each)\n",
      "491 µs ± 4.75 µs per loop (mean ± std. dev. of 7 runs, 1000 loops each)\n"
     ]
    }
   ],
   "source": [
    "%timeit arr_c.sum(1)\n",
    "%timeit arr_f.sum(1)"
   ]
  },
  {
   "cell_type": "code",
   "execution_count": 84,
   "metadata": {},
   "outputs": [
    {
     "data": {
      "text/plain": [
       "  C_CONTIGUOUS : True\n",
       "  F_CONTIGUOUS : False\n",
       "  OWNDATA : True\n",
       "  WRITEABLE : True\n",
       "  ALIGNED : True\n",
       "  WRITEBACKIFCOPY : False\n",
       "  UPDATEIFCOPY : False"
      ]
     },
     "execution_count": 84,
     "metadata": {},
     "output_type": "execute_result"
    }
   ],
   "source": [
    "arr_f.copy('C').flags"
   ]
  },
  {
   "cell_type": "code",
   "execution_count": 85,
   "metadata": {},
   "outputs": [
    {
     "data": {
      "text/plain": [
       "  C_CONTIGUOUS : False\n",
       "  F_CONTIGUOUS : False\n",
       "  OWNDATA : False\n",
       "  WRITEABLE : True\n",
       "  ALIGNED : True\n",
       "  WRITEBACKIFCOPY : False\n",
       "  UPDATEIFCOPY : False"
      ]
     },
     "execution_count": 85,
     "metadata": {},
     "output_type": "execute_result"
    }
   ],
   "source": [
    "arr_c[:50].flags.contiguous\n",
    "arr_c[:, :50].flags"
   ]
  },
  {
   "cell_type": "code",
   "execution_count": 86,
   "metadata": {},
   "outputs": [],
   "source": [
    "%xdel arr_c\n",
    "%xdel arr_f"
   ]
  },
  {
   "cell_type": "code",
   "execution_count": 87,
   "metadata": {},
   "outputs": [],
   "source": [
    "pd.options.display.max_rows = PREVIOUS_MAX_ROWS"
   ]
  }
 ],
 "metadata": {
  "kernelspec": {
   "display_name": "Python 3",
   "language": "python",
   "name": "python3"
  },
  "language_info": {
   "codemirror_mode": {
    "name": "ipython",
    "version": 3
   },
   "file_extension": ".py",
   "mimetype": "text/x-python",
   "name": "python",
   "nbconvert_exporter": "python",
   "pygments_lexer": "ipython3",
   "version": "3.7.5"
  }
 },
 "nbformat": 4,
 "nbformat_minor": 1
}
