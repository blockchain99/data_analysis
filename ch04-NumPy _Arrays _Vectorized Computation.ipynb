{
 "cells": [
  {
   "cell_type": "code",
   "execution_count": 1,
   "metadata": {},
   "outputs": [],
   "source": [
    "#$conda activate py37\n",
    "#(py37)$ jupyter notebook "
   ]
  },
  {
   "cell_type": "code",
   "execution_count": null,
   "metadata": {},
   "outputs": [],
   "source": [
    "# %config IPCompleter.greedy=True"
   ]
  },
  {
   "cell_type": "code",
   "execution_count": null,
   "metadata": {},
   "outputs": [],
   "source": [
    "#press [SHIFT] and [TAB] from within the method parentheses\n",
    "\n",
    "### intellisense - works perfect!! -> excute in command line windows. : (py37) $ -> works perfect !!\n",
    "# (py37) $pip3 install jupyter-tabnine\n",
    "# (py37) $sudo jupyter nbextension install --py jupyter_tabnine\n",
    "\n",
    "# (py37) $jupyter nbextension enable jupyter_tabnine --py\n",
    "##### jupyter nbextension enable --py jupyter_tabnine ##instead above line excuted. \n",
    "\n",
    "# (py37) $jupyter serverextension enable --py jupyter_tabnine\n",
    "\n",
    "#--> I installed in (py37) conda env."
   ]
  },
  {
   "cell_type": "markdown",
   "metadata": {},
   "source": [
    "# NumPy Basics: Arrays and Vectorized Computation\n",
    "* NumPy operations perform complex computations on entire arrays without the\n",
    "need for Python for loops.\n",
    "* "
   ]
  },
  {
   "cell_type": "code",
   "execution_count": 9,
   "metadata": {},
   "outputs": [],
   "source": [
    "import numpy as np\n",
    "np.random.seed(12345)\n",
    "import matplotlib.pyplot as plt\n",
    "%matplotlib inline\n",
    "\n",
    "plt.rc('figure', figsize=(10, 6))\n",
    "np.set_printoptions(precision=4, suppress=True)"
   ]
  },
  {
   "cell_type": "code",
   "execution_count": 10,
   "metadata": {},
   "outputs": [],
   "source": [
    "import numpy as np\n",
    "my_arr = np.arange(1000000)\n",
    "my_list = list(range(1000000))"
   ]
  },
  {
   "cell_type": "code",
   "execution_count": 12,
   "metadata": {},
   "outputs": [
    {
     "name": "stdout",
     "output_type": "stream",
     "text": [
      "CPU times: user 16.7 ms, sys: 4.11 ms, total: 20.9 ms\n",
      "Wall time: 18.5 ms\n"
     ]
    }
   ],
   "source": [
    "%time for _ in range(10): my_arr2 = my_arr * 2\n"
   ]
  },
  {
   "cell_type": "code",
   "execution_count": 13,
   "metadata": {},
   "outputs": [
    {
     "name": "stdout",
     "output_type": "stream",
     "text": [
      "CPU times: user 480 ms, sys: 60.5 ms, total: 540 ms\n",
      "Wall time: 538 ms\n"
     ]
    }
   ],
   "source": [
    "%time for _ in range(10): my_list2 = [x * 2 for x in my_list]"
   ]
  },
  {
   "cell_type": "markdown",
   "metadata": {},
   "source": [
    "## The NumPy ndarray: A Multidimensional Array Object"
   ]
  },
  {
   "cell_type": "code",
   "execution_count": 14,
   "metadata": {},
   "outputs": [
    {
     "data": {
      "text/plain": [
       "array([[-0.2047,  0.4789, -0.5194],\n",
       "       [-0.5557,  1.9658,  1.3934]])"
      ]
     },
     "execution_count": 14,
     "metadata": {},
     "output_type": "execute_result"
    }
   ],
   "source": [
    "import numpy as np\n",
    "# Generate some random data\n",
    "data = np.random.randn(2, 3)\n",
    "data"
   ]
  },
  {
   "cell_type": "code",
   "execution_count": 16,
   "metadata": {},
   "outputs": [
    {
     "data": {
      "text/plain": [
       "array([[-2.0471,  4.7894, -5.1944],\n",
       "       [-5.5573, 19.6578, 13.9341]])"
      ]
     },
     "execution_count": 16,
     "metadata": {},
     "output_type": "execute_result"
    }
   ],
   "source": [
    "data * 10"
   ]
  },
  {
   "cell_type": "code",
   "execution_count": 17,
   "metadata": {},
   "outputs": [
    {
     "data": {
      "text/plain": [
       "array([[-0.4094,  0.9579, -1.0389],\n",
       "       [-1.1115,  3.9316,  2.7868]])"
      ]
     },
     "execution_count": 17,
     "metadata": {},
     "output_type": "execute_result"
    }
   ],
   "source": [
    "data + data"
   ]
  },
  {
   "cell_type": "code",
   "execution_count": 18,
   "metadata": {},
   "outputs": [
    {
     "name": "stdout",
     "output_type": "stream",
     "text": [
      "(2, 3)\n"
     ]
    },
    {
     "data": {
      "text/plain": [
       "dtype('float64')"
      ]
     },
     "execution_count": 18,
     "metadata": {},
     "output_type": "execute_result"
    }
   ],
   "source": [
    "print(data.shape)\n",
    "data.dtype"
   ]
  },
  {
   "cell_type": "markdown",
   "metadata": {},
   "source": [
    "### Creating ndarrays"
   ]
  },
  {
   "cell_type": "code",
   "execution_count": 19,
   "metadata": {},
   "outputs": [
    {
     "data": {
      "text/plain": [
       "array([6. , 7.5, 8. , 0. , 1. ])"
      ]
     },
     "execution_count": 19,
     "metadata": {},
     "output_type": "execute_result"
    }
   ],
   "source": [
    "data1 = [6, 7.5, 8, 0, 1]\n",
    "arr1 = np.array(data1)\n",
    "arr1"
   ]
  },
  {
   "cell_type": "code",
   "execution_count": 20,
   "metadata": {},
   "outputs": [
    {
     "data": {
      "text/plain": [
       "array([[1, 2, 3, 4],\n",
       "       [5, 6, 7, 8]])"
      ]
     },
     "execution_count": 20,
     "metadata": {},
     "output_type": "execute_result"
    }
   ],
   "source": [
    "data2 = [[1, 2, 3, 4], [5, 6, 7, 8]]\n",
    "arr2 = np.array(data2)\n",
    "arr2"
   ]
  },
  {
   "cell_type": "code",
   "execution_count": 22,
   "metadata": {},
   "outputs": [
    {
     "name": "stdout",
     "output_type": "stream",
     "text": [
      "2\n"
     ]
    },
    {
     "data": {
      "text/plain": [
       "(2, 4)"
      ]
     },
     "execution_count": 22,
     "metadata": {},
     "output_type": "execute_result"
    }
   ],
   "source": [
    "print(arr2.ndim) #.ndim -> n dimensions\n",
    "arr2.shape"
   ]
  },
  {
   "cell_type": "code",
   "execution_count": 24,
   "metadata": {},
   "outputs": [
    {
     "data": {
      "text/plain": [
       "dtype('float64')"
      ]
     },
     "execution_count": 24,
     "metadata": {},
     "output_type": "execute_result"
    }
   ],
   "source": [
    "arr1.dtype"
   ]
  },
  {
   "cell_type": "code",
   "execution_count": 25,
   "metadata": {},
   "outputs": [
    {
     "data": {
      "text/plain": [
       "dtype('int64')"
      ]
     },
     "execution_count": 25,
     "metadata": {},
     "output_type": "execute_result"
    }
   ],
   "source": [
    "arr2.dtype"
   ]
  },
  {
   "cell_type": "code",
   "execution_count": 26,
   "metadata": {},
   "outputs": [
    {
     "data": {
      "text/plain": [
       "array([0., 0., 0., 0., 0., 0., 0., 0., 0., 0.])"
      ]
     },
     "execution_count": 26,
     "metadata": {},
     "output_type": "execute_result"
    }
   ],
   "source": [
    "np.zeros(10)\n"
   ]
  },
  {
   "cell_type": "code",
   "execution_count": 27,
   "metadata": {},
   "outputs": [
    {
     "data": {
      "text/plain": [
       "array([[0., 0., 0., 0., 0., 0.],\n",
       "       [0., 0., 0., 0., 0., 0.],\n",
       "       [0., 0., 0., 0., 0., 0.]])"
      ]
     },
     "execution_count": 27,
     "metadata": {},
     "output_type": "execute_result"
    }
   ],
   "source": [
    "np.zeros((3, 6))\n"
   ]
  },
  {
   "cell_type": "code",
   "execution_count": 28,
   "metadata": {},
   "outputs": [
    {
     "data": {
      "text/plain": [
       "array([[[0., 0.],\n",
       "        [0., 0.],\n",
       "        [0., 0.]],\n",
       "\n",
       "       [[0., 0.],\n",
       "        [0., 0.],\n",
       "        [0., 0.]]])"
      ]
     },
     "execution_count": 28,
     "metadata": {},
     "output_type": "execute_result"
    }
   ],
   "source": [
    "np.empty((2, 3, 2)) "
   ]
  },
  {
   "cell_type": "code",
   "execution_count": 29,
   "metadata": {},
   "outputs": [
    {
     "data": {
      "text/plain": [
       "array([ 0,  1,  2,  3,  4,  5,  6,  7,  8,  9, 10, 11, 12, 13, 14])"
      ]
     },
     "execution_count": 29,
     "metadata": {},
     "output_type": "execute_result"
    }
   ],
   "source": [
    "np.arange(15)"
   ]
  },
  {
   "cell_type": "markdown",
   "metadata": {},
   "source": [
    "### Data Types for ndarrays"
   ]
  },
  {
   "cell_type": "code",
   "execution_count": 30,
   "metadata": {},
   "outputs": [
    {
     "name": "stdout",
     "output_type": "stream",
     "text": [
      "float64\n",
      "int32\n"
     ]
    }
   ],
   "source": [
    "arr1 = np.array([1, 2, 3], dtype=np.float64)\n",
    "arr2 = np.array([1, 2, 3], dtype=np.int32)\n",
    "print(arr1.dtype)\n",
    "print(arr2.dtype)"
   ]
  },
  {
   "cell_type": "code",
   "execution_count": 31,
   "metadata": {},
   "outputs": [
    {
     "data": {
      "text/plain": [
       "dtype('int64')"
      ]
     },
     "execution_count": 31,
     "metadata": {},
     "output_type": "execute_result"
    }
   ],
   "source": [
    "arr = np.array([1, 2, 3, 4, 5])\n",
    "arr.dtype"
   ]
  },
  {
   "cell_type": "code",
   "execution_count": 32,
   "metadata": {},
   "outputs": [
    {
     "data": {
      "text/plain": [
       "dtype('float64')"
      ]
     },
     "execution_count": 32,
     "metadata": {},
     "output_type": "execute_result"
    }
   ],
   "source": [
    "float_arr = arr.astype(np.float64)\n",
    "float_arr.dtype"
   ]
  },
  {
   "cell_type": "code",
   "execution_count": 33,
   "metadata": {},
   "outputs": [
    {
     "data": {
      "text/plain": [
       "array([ 3.7, -1.2, -2.6,  0.5, 12.9, 10.1])"
      ]
     },
     "execution_count": 33,
     "metadata": {},
     "output_type": "execute_result"
    }
   ],
   "source": [
    "arr = np.array([3.7, -1.2, -2.6, 0.5, 12.9, 10.1])\n",
    "arr\n"
   ]
  },
  {
   "cell_type": "code",
   "execution_count": 34,
   "metadata": {},
   "outputs": [
    {
     "data": {
      "text/plain": [
       "array([ 3, -1, -2,  0, 12, 10], dtype=int32)"
      ]
     },
     "execution_count": 34,
     "metadata": {},
     "output_type": "execute_result"
    }
   ],
   "source": [
    "arr.astype(np.int32)"
   ]
  },
  {
   "cell_type": "code",
   "execution_count": 35,
   "metadata": {},
   "outputs": [
    {
     "data": {
      "text/plain": [
       "array([ 1.25, -9.6 , 42.  ])"
      ]
     },
     "execution_count": 35,
     "metadata": {},
     "output_type": "execute_result"
    }
   ],
   "source": [
    "numeric_strings = np.array(['1.25', '-9.6', '42'], dtype=np.string_) \n",
    "numeric_strings.astype(float)"
   ]
  },
  {
   "cell_type": "code",
   "execution_count": 37,
   "metadata": {},
   "outputs": [
    {
     "name": "stdout",
     "output_type": "stream",
     "text": [
      "float64\n"
     ]
    },
    {
     "data": {
      "text/plain": [
       "array([0., 1., 2., 3., 4., 5., 6., 7., 8., 9.])"
      ]
     },
     "execution_count": 37,
     "metadata": {},
     "output_type": "execute_result"
    }
   ],
   "source": [
    "int_array = np.arange(10)\n",
    "calibers = np.array([.22, .270, .357, .380, .44, .50], dtype=np.float64)\n",
    "print(calibers.dtype)\n",
    "int_array.astype(calibers.dtype)"
   ]
  },
  {
   "cell_type": "code",
   "execution_count": 38,
   "metadata": {},
   "outputs": [
    {
     "data": {
      "text/plain": [
       "array([         0, 1075314688,          0, 1075707904,          0,\n",
       "       1075838976,          0, 1072693248], dtype=uint32)"
      ]
     },
     "execution_count": 38,
     "metadata": {},
     "output_type": "execute_result"
    }
   ],
   "source": [
    "#np.empty : create empty memeory but not alwasy zeros, or ones\n",
    "empty_uint32 = np.empty(8, dtype='u4')  #Type code : 'u4' -> unsigned 32-bit integer\n",
    "empty_uint32"
   ]
  },
  {
   "cell_type": "markdown",
   "metadata": {},
   "source": [
    "### Arithmetic with NumPy Arrays"
   ]
  },
  {
   "cell_type": "code",
   "execution_count": 40,
   "metadata": {},
   "outputs": [
    {
     "data": {
      "text/plain": [
       "array([[1., 2., 3.],\n",
       "       [4., 5., 6.]])"
      ]
     },
     "execution_count": 40,
     "metadata": {},
     "output_type": "execute_result"
    }
   ],
   "source": [
    "arr = np.array([[1., 2., 3.], [4., 5., 6.]])\n",
    "arr"
   ]
  },
  {
   "cell_type": "code",
   "execution_count": 41,
   "metadata": {},
   "outputs": [
    {
     "data": {
      "text/plain": [
       "array([[ 1.,  4.,  9.],\n",
       "       [16., 25., 36.]])"
      ]
     },
     "execution_count": 41,
     "metadata": {},
     "output_type": "execute_result"
    }
   ],
   "source": [
    "arr * arr"
   ]
  },
  {
   "cell_type": "code",
   "execution_count": 42,
   "metadata": {},
   "outputs": [
    {
     "data": {
      "text/plain": [
       "array([[0., 0., 0.],\n",
       "       [0., 0., 0.]])"
      ]
     },
     "execution_count": 42,
     "metadata": {},
     "output_type": "execute_result"
    }
   ],
   "source": [
    "arr - arr"
   ]
  },
  {
   "cell_type": "code",
   "execution_count": 43,
   "metadata": {},
   "outputs": [
    {
     "data": {
      "text/plain": [
       "array([[1.    , 0.5   , 0.3333],\n",
       "       [0.25  , 0.2   , 0.1667]])"
      ]
     },
     "execution_count": 43,
     "metadata": {},
     "output_type": "execute_result"
    }
   ],
   "source": [
    "1 / arr"
   ]
  },
  {
   "cell_type": "code",
   "execution_count": 44,
   "metadata": {},
   "outputs": [
    {
     "data": {
      "text/plain": [
       "array([[1.    , 1.4142, 1.7321],\n",
       "       [2.    , 2.2361, 2.4495]])"
      ]
     },
     "execution_count": 44,
     "metadata": {},
     "output_type": "execute_result"
    }
   ],
   "source": [
    "arr ** 0.5"
   ]
  },
  {
   "cell_type": "code",
   "execution_count": 45,
   "metadata": {},
   "outputs": [
    {
     "data": {
      "text/plain": [
       "array([[False,  True, False],\n",
       "       [ True, False,  True]])"
      ]
     },
     "execution_count": 45,
     "metadata": {},
     "output_type": "execute_result"
    }
   ],
   "source": [
    "arr2 = np.array([[0., 4., 1.], [7., 2., 12.]])\n",
    "arr2\n",
    "arr2 > arr"
   ]
  },
  {
   "cell_type": "markdown",
   "metadata": {},
   "source": [
    "### Basic Indexing and Slicing"
   ]
  },
  {
   "cell_type": "code",
   "execution_count": 52,
   "metadata": {},
   "outputs": [
    {
     "data": {
      "text/plain": [
       "array([0, 1, 2, 3, 4, 5, 6, 7, 8, 9])"
      ]
     },
     "execution_count": 52,
     "metadata": {},
     "output_type": "execute_result"
    }
   ],
   "source": [
    "arr = np.arange(10)\n",
    "arr"
   ]
  },
  {
   "cell_type": "code",
   "execution_count": 53,
   "metadata": {},
   "outputs": [
    {
     "data": {
      "text/plain": [
       "5"
      ]
     },
     "execution_count": 53,
     "metadata": {},
     "output_type": "execute_result"
    }
   ],
   "source": [
    "arr[5]"
   ]
  },
  {
   "cell_type": "code",
   "execution_count": 57,
   "metadata": {},
   "outputs": [
    {
     "data": {
      "text/plain": [
       "array([   12, 12345,    12])"
      ]
     },
     "execution_count": 57,
     "metadata": {},
     "output_type": "execute_result"
    }
   ],
   "source": [
    "arr[5:8]"
   ]
  },
  {
   "cell_type": "code",
   "execution_count": 54,
   "metadata": {},
   "outputs": [
    {
     "data": {
      "text/plain": [
       "array([ 0,  1,  2,  3,  4, 12, 12, 12,  8,  9])"
      ]
     },
     "execution_count": 54,
     "metadata": {},
     "output_type": "execute_result"
    }
   ],
   "source": [
    "arr[5:8] = 12\n",
    "arr"
   ]
  },
  {
   "cell_type": "code",
   "execution_count": 55,
   "metadata": {},
   "outputs": [
    {
     "data": {
      "text/plain": [
       "array([12, 12, 12])"
      ]
     },
     "execution_count": 55,
     "metadata": {},
     "output_type": "execute_result"
    }
   ],
   "source": [
    "arr_slice = arr[5:8]\n",
    "arr_slice"
   ]
  },
  {
   "cell_type": "markdown",
   "metadata": {},
   "source": [
    "#### Now, when I change values in arr_slice , the mutations are reflected in the original array arr :"
   ]
  },
  {
   "cell_type": "code",
   "execution_count": 71,
   "metadata": {},
   "outputs": [
    {
     "data": {
      "text/plain": [
       "array([    0,     1,     2,     3,     4,    64, 12345,    64,     8,\n",
       "           9])"
      ]
     },
     "execution_count": 71,
     "metadata": {},
     "output_type": "execute_result"
    }
   ],
   "source": [
    "arr_slice[1] = 12345\n",
    "arr"
   ]
  },
  {
   "cell_type": "code",
   "execution_count": 72,
   "metadata": {},
   "outputs": [
    {
     "data": {
      "text/plain": [
       "array([ 0,  1,  2,  3,  4, 64, 64, 64,  8,  9])"
      ]
     },
     "execution_count": 72,
     "metadata": {},
     "output_type": "execute_result"
    }
   ],
   "source": [
    "arr_slice[:] = 64\n",
    "arr"
   ]
  },
  {
   "cell_type": "code",
   "execution_count": 73,
   "metadata": {},
   "outputs": [
    {
     "name": "stdout",
     "output_type": "stream",
     "text": [
      "(3, 3)\n"
     ]
    },
    {
     "data": {
      "text/plain": [
       "array([7, 8, 9])"
      ]
     },
     "execution_count": 73,
     "metadata": {},
     "output_type": "execute_result"
    }
   ],
   "source": [
    "arr2d = np.array([[1, 2, 3], [4, 5, 6], [7, 8, 9]])\n",
    "print(arr2d.shape)\n",
    "arr2d[2]"
   ]
  },
  {
   "cell_type": "code",
   "execution_count": 74,
   "metadata": {},
   "outputs": [
    {
     "name": "stdout",
     "output_type": "stream",
     "text": [
      "3\n",
      "3\n"
     ]
    }
   ],
   "source": [
    "###########\n",
    "print( arr2d[0][2] )\n",
    "print( arr2d[0, 2] )"
   ]
  },
  {
   "cell_type": "code",
   "execution_count": 75,
   "metadata": {},
   "outputs": [
    {
     "name": "stdout",
     "output_type": "stream",
     "text": [
      "(2, 2, 3)\n"
     ]
    },
    {
     "data": {
      "text/plain": [
       "array([[[ 1,  2,  3],\n",
       "        [ 4,  5,  6]],\n",
       "\n",
       "       [[ 7,  8,  9],\n",
       "        [10, 11, 12]]])"
      ]
     },
     "execution_count": 75,
     "metadata": {},
     "output_type": "execute_result"
    }
   ],
   "source": [
    "arr3d = np.array([[[1, 2, 3], [4, 5, 6]], [[7, 8, 9], [10, 11, 12]]])\n",
    "print(arr3d.shape)\n",
    "arr3d"
   ]
  },
  {
   "cell_type": "code",
   "execution_count": 76,
   "metadata": {},
   "outputs": [
    {
     "data": {
      "text/plain": [
       "array([[1, 2, 3],\n",
       "       [4, 5, 6]])"
      ]
     },
     "execution_count": 76,
     "metadata": {},
     "output_type": "execute_result"
    }
   ],
   "source": [
    "arr3d[0]"
   ]
  },
  {
   "cell_type": "code",
   "execution_count": 77,
   "metadata": {},
   "outputs": [
    {
     "data": {
      "text/plain": [
       "array([[1, 2, 3],\n",
       "       [4, 5, 6]])"
      ]
     },
     "execution_count": 77,
     "metadata": {},
     "output_type": "execute_result"
    }
   ],
   "source": [
    "old_values = arr3d[0].copy()\n",
    "old_values"
   ]
  },
  {
   "cell_type": "code",
   "execution_count": 78,
   "metadata": {},
   "outputs": [
    {
     "data": {
      "text/plain": [
       "array([[[42, 42, 42],\n",
       "        [42, 42, 42]],\n",
       "\n",
       "       [[ 7,  8,  9],\n",
       "        [10, 11, 12]]])"
      ]
     },
     "execution_count": 78,
     "metadata": {},
     "output_type": "execute_result"
    }
   ],
   "source": [
    "arr3d[0] = 42\n",
    "arr3d"
   ]
  },
  {
   "cell_type": "code",
   "execution_count": 79,
   "metadata": {},
   "outputs": [
    {
     "data": {
      "text/plain": [
       "array([[[ 1,  2,  3],\n",
       "        [ 4,  5,  6]],\n",
       "\n",
       "       [[ 7,  8,  9],\n",
       "        [10, 11, 12]]])"
      ]
     },
     "execution_count": 79,
     "metadata": {},
     "output_type": "execute_result"
    }
   ],
   "source": [
    "arr3d[0] = old_values\n",
    "arr3d"
   ]
  },
  {
   "cell_type": "code",
   "execution_count": 80,
   "metadata": {},
   "outputs": [
    {
     "data": {
      "text/plain": [
       "array([7, 8, 9])"
      ]
     },
     "execution_count": 80,
     "metadata": {},
     "output_type": "execute_result"
    }
   ],
   "source": [
    "arr3d[1, 0] #2nd array, row 0."
   ]
  },
  {
   "cell_type": "code",
   "execution_count": 82,
   "metadata": {},
   "outputs": [
    {
     "data": {
      "text/plain": [
       "array([ 7, 10])"
      ]
     },
     "execution_count": 82,
     "metadata": {},
     "output_type": "execute_result"
    }
   ],
   "source": [
    "arr3d[1, : , 0] #2nd array, for all row, column 0."
   ]
  },
  {
   "cell_type": "code",
   "execution_count": 92,
   "metadata": {},
   "outputs": [
    {
     "data": {
      "text/plain": [
       "array([[ 7],\n",
       "       [10]])"
      ]
     },
     "execution_count": 92,
     "metadata": {},
     "output_type": "execute_result"
    }
   ],
   "source": [
    "arr3d[1, : , :1]"
   ]
  },
  {
   "cell_type": "code",
   "execution_count": 83,
   "metadata": {},
   "outputs": [
    {
     "data": {
      "text/plain": [
       "array([[ 7,  8,  9],\n",
       "       [10, 11, 12]])"
      ]
     },
     "execution_count": 83,
     "metadata": {},
     "output_type": "execute_result"
    }
   ],
   "source": [
    "x = arr3d[1] #2nd array\n",
    "x"
   ]
  },
  {
   "cell_type": "code",
   "execution_count": 84,
   "metadata": {},
   "outputs": [
    {
     "data": {
      "text/plain": [
       "array([7, 8, 9])"
      ]
     },
     "execution_count": 84,
     "metadata": {},
     "output_type": "execute_result"
    }
   ],
   "source": [
    "x[0]"
   ]
  },
  {
   "cell_type": "markdown",
   "metadata": {},
   "source": [
    "#### Indexing with slices"
   ]
  },
  {
   "cell_type": "code",
   "execution_count": 86,
   "metadata": {},
   "outputs": [
    {
     "name": "stdout",
     "output_type": "stream",
     "text": [
      "[ 0  1  2  3  4 64 64 64  8  9]\n"
     ]
    },
    {
     "data": {
      "text/plain": [
       "array([ 1,  2,  3,  4, 64])"
      ]
     },
     "execution_count": 86,
     "metadata": {},
     "output_type": "execute_result"
    }
   ],
   "source": [
    "print(arr)\n",
    "arr[1:6]"
   ]
  },
  {
   "cell_type": "code",
   "execution_count": 87,
   "metadata": {},
   "outputs": [
    {
     "name": "stdout",
     "output_type": "stream",
     "text": [
      "[[1 2 3]\n",
      " [4 5 6]\n",
      " [7 8 9]]\n"
     ]
    },
    {
     "data": {
      "text/plain": [
       "array([[1, 2, 3],\n",
       "       [4, 5, 6]])"
      ]
     },
     "execution_count": 87,
     "metadata": {},
     "output_type": "execute_result"
    }
   ],
   "source": [
    "print(arr2d)\n",
    "arr2d[:2] #row 0, 1"
   ]
  },
  {
   "cell_type": "code",
   "execution_count": 88,
   "metadata": {},
   "outputs": [
    {
     "data": {
      "text/plain": [
       "array([[2, 3],\n",
       "       [5, 6]])"
      ]
     },
     "execution_count": 88,
     "metadata": {},
     "output_type": "execute_result"
    }
   ],
   "source": [
    "arr2d[:2, 1:]"
   ]
  },
  {
   "cell_type": "code",
   "execution_count": 89,
   "metadata": {},
   "outputs": [
    {
     "data": {
      "text/plain": [
       "array([4, 5])"
      ]
     },
     "execution_count": 89,
     "metadata": {},
     "output_type": "execute_result"
    }
   ],
   "source": [
    "arr2d[1, :2]"
   ]
  },
  {
   "cell_type": "code",
   "execution_count": 90,
   "metadata": {},
   "outputs": [
    {
     "data": {
      "text/plain": [
       "array([3, 6])"
      ]
     },
     "execution_count": 90,
     "metadata": {},
     "output_type": "execute_result"
    }
   ],
   "source": [
    "arr2d[:2, 2]"
   ]
  },
  {
   "cell_type": "code",
   "execution_count": 91,
   "metadata": {},
   "outputs": [
    {
     "data": {
      "text/plain": [
       "array([[1],\n",
       "       [4],\n",
       "       [7]])"
      ]
     },
     "execution_count": 91,
     "metadata": {},
     "output_type": "execute_result"
    }
   ],
   "source": [
    "arr2d[:, :1]"
   ]
  },
  {
   "cell_type": "code",
   "execution_count": 93,
   "metadata": {},
   "outputs": [
    {
     "data": {
      "text/plain": [
       "array([1, 4, 7])"
      ]
     },
     "execution_count": 93,
     "metadata": {},
     "output_type": "execute_result"
    }
   ],
   "source": [
    "arr2d[:, 0]"
   ]
  },
  {
   "cell_type": "code",
   "execution_count": 94,
   "metadata": {},
   "outputs": [
    {
     "data": {
      "text/plain": [
       "array([[1, 0, 0],\n",
       "       [4, 0, 0],\n",
       "       [7, 8, 9]])"
      ]
     },
     "execution_count": 94,
     "metadata": {},
     "output_type": "execute_result"
    }
   ],
   "source": [
    "arr2d[:2, 1:] = 0\n",
    "arr2d"
   ]
  },
  {
   "cell_type": "markdown",
   "metadata": {},
   "source": [
    "### Boolean Indexing"
   ]
  },
  {
   "cell_type": "code",
   "execution_count": 95,
   "metadata": {},
   "outputs": [
    {
     "data": {
      "text/plain": [
       "array(['Bob', 'Joe', 'Will', 'Bob', 'Will', 'Joe', 'Joe'], dtype='<U4')"
      ]
     },
     "execution_count": 95,
     "metadata": {},
     "output_type": "execute_result"
    }
   ],
   "source": [
    "names = np.array(['Bob', 'Joe', 'Will', 'Bob', 'Will', 'Joe', 'Joe'])\n",
    "names"
   ]
  },
  {
   "cell_type": "code",
   "execution_count": 96,
   "metadata": {},
   "outputs": [
    {
     "data": {
      "text/plain": [
       "array([[ 0.0929,  0.2817,  0.769 ,  1.2464],\n",
       "       [ 1.0072, -1.2962,  0.275 ,  0.2289],\n",
       "       [ 1.3529,  0.8864, -2.0016, -0.3718],\n",
       "       [ 1.669 , -0.4386, -0.5397,  0.477 ],\n",
       "       [ 3.2489, -1.0212, -0.5771,  0.1241],\n",
       "       [ 0.3026,  0.5238,  0.0009,  1.3438],\n",
       "       [-0.7135, -0.8312, -2.3702, -1.8608]])"
      ]
     },
     "execution_count": 96,
     "metadata": {},
     "output_type": "execute_result"
    }
   ],
   "source": [
    "data = np.random.randn(7, 4)\n",
    "data"
   ]
  },
  {
   "cell_type": "code",
   "execution_count": 97,
   "metadata": {},
   "outputs": [
    {
     "data": {
      "text/plain": [
       "array([ True, False, False,  True, False, False, False])"
      ]
     },
     "execution_count": 97,
     "metadata": {},
     "output_type": "execute_result"
    }
   ],
   "source": [
    "names == 'Bob'"
   ]
  },
  {
   "cell_type": "code",
   "execution_count": 102,
   "metadata": {},
   "outputs": [
    {
     "data": {
      "text/plain": [
       "array(['Bob', 'Bob'], dtype='<U4')"
      ]
     },
     "execution_count": 102,
     "metadata": {},
     "output_type": "execute_result"
    }
   ],
   "source": [
    "names[names == 'Bob']"
   ]
  },
  {
   "cell_type": "code",
   "execution_count": 98,
   "metadata": {},
   "outputs": [
    {
     "data": {
      "text/plain": [
       "array([[ 0.0929,  0.2817,  0.769 ,  1.2464],\n",
       "       [ 1.669 , -0.4386, -0.5397,  0.477 ]])"
      ]
     },
     "execution_count": 98,
     "metadata": {},
     "output_type": "execute_result"
    }
   ],
   "source": [
    "data[names == 'Bob'] #apply for row of data"
   ]
  },
  {
   "cell_type": "code",
   "execution_count": 143,
   "metadata": {},
   "outputs": [
    {
     "data": {
      "text/plain": [
       "array([[ 0.0929,  0.2817,  0.769 ,  1.2464],\n",
       "       [ 1.669 , -0.4386, -0.5397,  0.477 ]])"
      ]
     },
     "execution_count": 143,
     "metadata": {},
     "output_type": "execute_result"
    }
   ],
   "source": [
    "data[names == 'Bob', :] #apply for all row of data"
   ]
  },
  {
   "cell_type": "code",
   "execution_count": 144,
   "metadata": {},
   "outputs": [
    {
     "data": {
      "text/plain": [
       "array([[ 0.0929,  0.2817],\n",
       "       [ 1.669 , -0.4386]])"
      ]
     },
     "execution_count": 144,
     "metadata": {},
     "output_type": "execute_result"
    }
   ],
   "source": [
    "data[names == 'Bob', :2] #apply for all row of data and  0, 1 column"
   ]
  },
  {
   "cell_type": "code",
   "execution_count": 101,
   "metadata": {},
   "outputs": [
    {
     "data": {
      "text/plain": [
       "array([[ 0.0929,  0.2817,  0.769 ,  1.2464],\n",
       "       [ 1.669 , -0.4386, -0.5397,  0.477 ]])"
      ]
     },
     "execution_count": 101,
     "metadata": {},
     "output_type": "execute_result"
    }
   ],
   "source": [
    "#test\n",
    "data[([ True, False, False,  True, False, False, False])]"
   ]
  },
  {
   "cell_type": "code",
   "execution_count": 141,
   "metadata": {},
   "outputs": [
    {
     "data": {
      "text/plain": [
       "array([ True, False, False,  True])"
      ]
     },
     "execution_count": 141,
     "metadata": {},
     "output_type": "execute_result"
    }
   ],
   "source": [
    "column_tf = np.array(['Bob', 'Joe', 'Will', 'Bob'])\n",
    "column_tf == 'Bob'"
   ]
  },
  {
   "cell_type": "code",
   "execution_count": 142,
   "metadata": {},
   "outputs": [
    {
     "data": {
      "text/plain": [
       "array([[ 0.0929,  1.2464],\n",
       "       [ 1.0072,  0.2289],\n",
       "       [ 1.3529, -0.3718],\n",
       "       [ 1.669 ,  0.477 ],\n",
       "       [ 3.2489,  0.1241],\n",
       "       [ 0.3026,  1.3438],\n",
       "       [-0.7135, -1.8608]])"
      ]
     },
     "execution_count": 142,
     "metadata": {},
     "output_type": "execute_result"
    }
   ],
   "source": [
    "data[:, column_tf == 'Bob'] #for all row, column is True('Bob')"
   ]
  },
  {
   "cell_type": "code",
   "execution_count": 133,
   "metadata": {},
   "outputs": [
    {
     "data": {
      "text/plain": [
       "array([[ 0.769 ,  1.2464],\n",
       "       [-0.5397,  0.477 ]])"
      ]
     },
     "execution_count": 133,
     "metadata": {},
     "output_type": "execute_result"
    }
   ],
   "source": [
    "# select from the rows where names == 'Bob' and index the columns,\n",
    "data[names == 'Bob', 2:] #row is names == 'Bob', column is 2:\n"
   ]
  },
  {
   "cell_type": "code",
   "execution_count": 145,
   "metadata": {},
   "outputs": [
    {
     "data": {
      "text/plain": [
       "array([1.2464, 0.477 ])"
      ]
     },
     "execution_count": 145,
     "metadata": {},
     "output_type": "execute_result"
    }
   ],
   "source": [
    "data[names == 'Bob', 3]"
   ]
  },
  {
   "cell_type": "code",
   "execution_count": null,
   "metadata": {},
   "outputs": [],
   "source": [
    "#### all row except Bob "
   ]
  },
  {
   "cell_type": "code",
   "execution_count": 148,
   "metadata": {},
   "outputs": [
    {
     "data": {
      "text/plain": [
       "array([False,  True,  True, False,  True,  True,  True])"
      ]
     },
     "execution_count": 148,
     "metadata": {},
     "output_type": "execute_result"
    }
   ],
   "source": [
    "names != 'Bob'"
   ]
  },
  {
   "cell_type": "code",
   "execution_count": 146,
   "metadata": {},
   "outputs": [
    {
     "data": {
      "text/plain": [
       "array([[ 1.0072, -1.2962,  0.275 ,  0.2289],\n",
       "       [ 1.3529,  0.8864, -2.0016, -0.3718],\n",
       "       [ 3.2489, -1.0212, -0.5771,  0.1241],\n",
       "       [ 0.3026,  0.5238,  0.0009,  1.3438],\n",
       "       [-0.7135, -0.8312, -2.3702, -1.8608]])"
      ]
     },
     "execution_count": 146,
     "metadata": {},
     "output_type": "execute_result"
    }
   ],
   "source": [
    "data[~(names == 'Bob')]"
   ]
  },
  {
   "cell_type": "code",
   "execution_count": 149,
   "metadata": {},
   "outputs": [
    {
     "data": {
      "text/plain": [
       "array([[ 1.0072, -1.2962,  0.275 ,  0.2289],\n",
       "       [ 1.3529,  0.8864, -2.0016, -0.3718],\n",
       "       [ 3.2489, -1.0212, -0.5771,  0.1241],\n",
       "       [ 0.3026,  0.5238,  0.0009,  1.3438],\n",
       "       [-0.7135, -0.8312, -2.3702, -1.8608]])"
      ]
     },
     "execution_count": 149,
     "metadata": {},
     "output_type": "execute_result"
    }
   ],
   "source": [
    "data[names != 'Bob']"
   ]
  },
  {
   "cell_type": "code",
   "execution_count": 150,
   "metadata": {},
   "outputs": [
    {
     "data": {
      "text/plain": [
       "array([[ 1.0072, -1.2962,  0.275 ,  0.2289],\n",
       "       [ 1.3529,  0.8864, -2.0016, -0.3718],\n",
       "       [ 3.2489, -1.0212, -0.5771,  0.1241],\n",
       "       [ 0.3026,  0.5238,  0.0009,  1.3438],\n",
       "       [-0.7135, -0.8312, -2.3702, -1.8608]])"
      ]
     },
     "execution_count": 150,
     "metadata": {},
     "output_type": "execute_result"
    }
   ],
   "source": [
    "cond = names == 'Bob'\n",
    "data[~cond]"
   ]
  },
  {
   "cell_type": "code",
   "execution_count": 151,
   "metadata": {},
   "outputs": [
    {
     "data": {
      "text/plain": [
       "array([ True, False,  True,  True,  True, False, False])"
      ]
     },
     "execution_count": 151,
     "metadata": {},
     "output_type": "execute_result"
    }
   ],
   "source": [
    "mask = (names == 'Bob') | (names == 'Will')\n",
    "mask\n"
   ]
  },
  {
   "cell_type": "code",
   "execution_count": 152,
   "metadata": {},
   "outputs": [
    {
     "data": {
      "text/plain": [
       "array([[ 0.0929,  0.2817,  0.769 ,  1.2464],\n",
       "       [ 1.3529,  0.8864, -2.0016, -0.3718],\n",
       "       [ 1.669 , -0.4386, -0.5397,  0.477 ],\n",
       "       [ 3.2489, -1.0212, -0.5771,  0.1241]])"
      ]
     },
     "execution_count": 152,
     "metadata": {},
     "output_type": "execute_result"
    }
   ],
   "source": [
    "data[mask]"
   ]
  },
  {
   "cell_type": "code",
   "execution_count": 153,
   "metadata": {},
   "outputs": [
    {
     "data": {
      "text/plain": [
       "array([[0.0929, 0.2817, 0.769 , 1.2464],\n",
       "       [1.0072, 0.    , 0.275 , 0.2289],\n",
       "       [1.3529, 0.8864, 0.    , 0.    ],\n",
       "       [1.669 , 0.    , 0.    , 0.477 ],\n",
       "       [3.2489, 0.    , 0.    , 0.1241],\n",
       "       [0.3026, 0.5238, 0.0009, 1.3438],\n",
       "       [0.    , 0.    , 0.    , 0.    ]])"
      ]
     },
     "execution_count": 153,
     "metadata": {},
     "output_type": "execute_result"
    }
   ],
   "source": [
    "data[data < 0] = 0\n",
    "data"
   ]
  },
  {
   "cell_type": "code",
   "execution_count": 154,
   "metadata": {},
   "outputs": [
    {
     "data": {
      "text/plain": [
       "array([[7.    , 7.    , 7.    , 7.    ],\n",
       "       [1.0072, 0.    , 0.275 , 0.2289],\n",
       "       [7.    , 7.    , 7.    , 7.    ],\n",
       "       [7.    , 7.    , 7.    , 7.    ],\n",
       "       [7.    , 7.    , 7.    , 7.    ],\n",
       "       [0.3026, 0.5238, 0.0009, 1.3438],\n",
       "       [0.    , 0.    , 0.    , 0.    ]])"
      ]
     },
     "execution_count": 154,
     "metadata": {},
     "output_type": "execute_result"
    }
   ],
   "source": [
    "data[names != 'Joe'] = 7\n",
    "data"
   ]
  },
  {
   "cell_type": "markdown",
   "metadata": {},
   "source": [
    "### Fancy Indexing\n",
    "Fancy indexing is a term adopted by NumPy to **describe indexing using integer arrays.**"
   ]
  },
  {
   "cell_type": "code",
   "execution_count": 155,
   "metadata": {},
   "outputs": [
    {
     "data": {
      "text/plain": [
       "array([[0., 0., 0., 0.],\n",
       "       [1., 1., 1., 1.],\n",
       "       [2., 2., 2., 2.],\n",
       "       [3., 3., 3., 3.],\n",
       "       [4., 4., 4., 4.],\n",
       "       [5., 5., 5., 5.],\n",
       "       [6., 6., 6., 6.],\n",
       "       [7., 7., 7., 7.]])"
      ]
     },
     "execution_count": 155,
     "metadata": {},
     "output_type": "execute_result"
    }
   ],
   "source": [
    "arr = np.empty((8, 4))\n",
    "for i in range(8):\n",
    "    arr[i] = i #arr[i] -> row number\n",
    "arr"
   ]
  },
  {
   "cell_type": "code",
   "execution_count": 13,
   "metadata": {},
   "outputs": [
    {
     "data": {
      "text/plain": [
       "array([[0., 0., 0.],\n",
       "       [0., 0., 0.],\n",
       "       [0., 0., 0.],\n",
       "       [0., 0., 0.]])"
      ]
     },
     "execution_count": 13,
     "metadata": {},
     "output_type": "execute_result"
    }
   ],
   "source": [
    "#test \n",
    "import numpy as np\n",
    "test_arr  = np.empty((4,3)).astype(dtype= 'float64') #np.empty((dimension_1, dimension_2)) , int32, int64, float32\n",
    "test_arr"
   ]
  },
  {
   "cell_type": "code",
   "execution_count": 31,
   "metadata": {},
   "outputs": [
    {
     "name": "stdout",
     "output_type": "stream",
     "text": [
      "[0.44161524 0.1038453  0.03554193 0.5368913 ]\n"
     ]
    },
    {
     "data": {
      "text/plain": [
       "array([[0.87243009, 0.34929653, 0.20780818],\n",
       "       [0.05418773, 0.89728483, 0.06535557],\n",
       "       [0.6779851 , 0.62906478, 0.8871396 ],\n",
       "       [0.68570674, 0.12233902, 0.51649004]])"
      ]
     },
     "execution_count": 31,
     "metadata": {},
     "output_type": "execute_result"
    }
   ],
   "source": [
    "print(np.random.rand(4))\n",
    "test_arr1 = np.random.rand(4,3)\n",
    "test_arr1"
   ]
  },
  {
   "cell_type": "code",
   "execution_count": 25,
   "metadata": {},
   "outputs": [
    {
     "data": {
      "text/plain": [
       "4"
      ]
     },
     "execution_count": 25,
     "metadata": {},
     "output_type": "execute_result"
    }
   ],
   "source": [
    "test_arr2 = np.random.randint(0,5) #random inteter from 0 to 4(5 not included)\n",
    "test_arr2"
   ]
  },
  {
   "cell_type": "code",
   "execution_count": 26,
   "metadata": {},
   "outputs": [
    {
     "data": {
      "text/plain": [
       "array([[1, 1, 1],\n",
       "       [3, 3, 4],\n",
       "       [4, 0, 4],\n",
       "       [2, 3, 4]])"
      ]
     },
     "execution_count": 26,
     "metadata": {},
     "output_type": "execute_result"
    }
   ],
   "source": [
    "#test\n",
    "test_arr2 = np.random.randint(0,5, size =(4,3)) #random inteter from 0 to 4(5 not included)\n",
    "test_arr2"
   ]
  },
  {
   "cell_type": "code",
   "execution_count": 27,
   "metadata": {},
   "outputs": [
    {
     "data": {
      "text/plain": [
       "array([1, 1, 1])"
      ]
     },
     "execution_count": 27,
     "metadata": {},
     "output_type": "execute_result"
    }
   ],
   "source": [
    "test_arr2[0]"
   ]
  },
  {
   "cell_type": "markdown",
   "metadata": {},
   "source": [
    "To select out a subset of the **rows** in a particular order, you can simply pass a list or\n",
    "ndarray of integers specifying the desired order:"
   ]
  },
  {
   "cell_type": "code",
   "execution_count": 36,
   "metadata": {},
   "outputs": [
    {
     "data": {
      "text/plain": [
       "array([[ 9.,  9.,  9.,  9.],\n",
       "       [16., 16., 16., 16.],\n",
       "       [13., 13., 13., 13.],\n",
       "       [ 5.,  5.,  5.,  5.],\n",
       "       [13., 13., 13., 13.],\n",
       "       [10., 10., 10., 10.],\n",
       "       [ 2.,  2.,  2.,  2.],\n",
       "       [16., 16., 16., 16.]])"
      ]
     },
     "execution_count": 36,
     "metadata": {},
     "output_type": "execute_result"
    }
   ],
   "source": [
    "arr_row = arr = np.empty((8, 4))\n",
    "for i in range(8):\n",
    "     #row : one integer from 1 to 7 ->  fill entire columns(4) with the integer automatically\n",
    "    arr_row[i] = np.random.randint(1,20)\n",
    "arr_row"
   ]
  },
  {
   "cell_type": "code",
   "execution_count": 45,
   "metadata": {},
   "outputs": [
    {
     "data": {
      "text/plain": [
       "array([[0., 0., 0., 0.],\n",
       "       [1., 1., 1., 1.],\n",
       "       [2., 2., 2., 2.],\n",
       "       [3., 3., 3., 3.],\n",
       "       [4., 4., 4., 4.],\n",
       "       [5., 5., 5., 5.],\n",
       "       [6., 6., 6., 6.],\n",
       "       [7., 7., 7., 7.]])"
      ]
     },
     "execution_count": 45,
     "metadata": {},
     "output_type": "execute_result"
    }
   ],
   "source": [
    "arr = arr = np.empty((8, 4))\n",
    "for i in range(8):\n",
    "     #row : one integer from 1 to 7 ->  fill entire columns(4) with the integer automatically\n",
    "    arr[i] = i\n",
    "arr    "
   ]
  },
  {
   "cell_type": "code",
   "execution_count": 41,
   "metadata": {},
   "outputs": [
    {
     "data": {
      "text/plain": [
       "array([[4., 4., 4., 4.],\n",
       "       [3., 3., 3., 3.],\n",
       "       [0., 0., 0., 0.],\n",
       "       [6., 6., 6., 6.]])"
      ]
     },
     "execution_count": 41,
     "metadata": {},
     "output_type": "execute_result"
    }
   ],
   "source": [
    "arr[[4, 3, 0, 6]] #subset of rows"
   ]
  },
  {
   "cell_type": "code",
   "execution_count": 42,
   "metadata": {},
   "outputs": [
    {
     "data": {
      "text/plain": [
       "array([[5., 5., 5., 5.],\n",
       "       [3., 3., 3., 3.],\n",
       "       [1., 1., 1., 1.]])"
      ]
     },
     "execution_count": 42,
     "metadata": {},
     "output_type": "execute_result"
    }
   ],
   "source": [
    "# Using negative indices selects rows from the end:\n",
    "arr[[-3, -5, -7]]"
   ]
  },
  {
   "cell_type": "code",
   "execution_count": 46,
   "metadata": {},
   "outputs": [
    {
     "data": {
      "text/plain": [
       "array([[ 0,  1,  2,  3],\n",
       "       [ 4,  5,  6,  7],\n",
       "       [ 8,  9, 10, 11],\n",
       "       [12, 13, 14, 15],\n",
       "       [16, 17, 18, 19],\n",
       "       [20, 21, 22, 23],\n",
       "       [24, 25, 26, 27],\n",
       "       [28, 29, 30, 31]])"
      ]
     },
     "execution_count": 46,
     "metadata": {},
     "output_type": "execute_result"
    }
   ],
   "source": [
    "arr2 = np.arange(32).reshape((8, 4))\n",
    "arr2"
   ]
  },
  {
   "cell_type": "code",
   "execution_count": 48,
   "metadata": {},
   "outputs": [
    {
     "data": {
      "text/plain": [
       "array([[ 4,  5,  6,  7],\n",
       "       [20, 21, 22, 23],\n",
       "       [28, 29, 30, 31],\n",
       "       [ 8,  9, 10, 11]])"
      ]
     },
     "execution_count": 48,
     "metadata": {},
     "output_type": "execute_result"
    }
   ],
   "source": [
    "arr2[[1, 5, 7, 2]] #select this subset , then columns [0, 3, 1, 2] subset -> below cell"
   ]
  },
  {
   "cell_type": "code",
   "execution_count": 47,
   "metadata": {},
   "outputs": [
    {
     "data": {
      "text/plain": [
       "array([[ 4,  7,  5,  6],\n",
       "       [20, 23, 21, 22],\n",
       "       [28, 31, 29, 30],\n",
       "       [ 8, 11,  9, 10]])"
      ]
     },
     "execution_count": 47,
     "metadata": {},
     "output_type": "execute_result"
    }
   ],
   "source": [
    "arr2[[1, 5, 7, 2]][:, [0, 3, 1, 2]] "
   ]
  },
  {
   "cell_type": "markdown",
   "metadata": {},
   "source": [
    "### Transposing Arrays- (arr.T)  and Swapping Axes (.reshape(n,m))\n",
    "* ``np.dot(arr.T, arr) - matrix computation``\n",
    "* "
   ]
  },
  {
   "cell_type": "code",
   "execution_count": 53,
   "metadata": {},
   "outputs": [
    {
     "name": "stdout",
     "output_type": "stream",
     "text": [
      "(3, 5)\n"
     ]
    },
    {
     "data": {
      "text/plain": [
       "array([[ 0,  1,  2,  3,  4],\n",
       "       [ 5,  6,  7,  8,  9],\n",
       "       [10, 11, 12, 13, 14]])"
      ]
     },
     "execution_count": 53,
     "metadata": {},
     "output_type": "execute_result"
    }
   ],
   "source": [
    "arr = np.arange(15).reshape((3, 5))\n",
    "print(arr.shape)\n",
    "arr"
   ]
  },
  {
   "cell_type": "code",
   "execution_count": 54,
   "metadata": {},
   "outputs": [
    {
     "name": "stdout",
     "output_type": "stream",
     "text": [
      "(5, 3)\n"
     ]
    },
    {
     "data": {
      "text/plain": [
       "array([[ 0,  5, 10],\n",
       "       [ 1,  6, 11],\n",
       "       [ 2,  7, 12],\n",
       "       [ 3,  8, 13],\n",
       "       [ 4,  9, 14]])"
      ]
     },
     "execution_count": 54,
     "metadata": {},
     "output_type": "execute_result"
    }
   ],
   "source": [
    "print(arr.T.shape)\n",
    "arr.T"
   ]
  },
  {
   "cell_type": "code",
   "execution_count": 57,
   "metadata": {},
   "outputs": [
    {
     "data": {
      "text/plain": [
       "5"
      ]
     },
     "execution_count": 57,
     "metadata": {},
     "output_type": "execute_result"
    }
   ],
   "source": [
    "np.random.randint(3,6) #just on from 3 to 5(6 not included)"
   ]
  },
  {
   "cell_type": "code",
   "execution_count": 60,
   "metadata": {},
   "outputs": [
    {
     "name": "stdout",
     "output_type": "stream",
     "text": [
      "(6, 3)\n"
     ]
    },
    {
     "data": {
      "text/plain": [
       "array([[3, 3, 4],\n",
       "       [3, 0, 5],\n",
       "       [0, 3, 0],\n",
       "       [3, 0, 0],\n",
       "       [1, 5, 1],\n",
       "       [3, 5, 0]])"
      ]
     },
     "execution_count": 60,
     "metadata": {},
     "output_type": "execute_result"
    }
   ],
   "source": [
    "arr_randint1 = np.random.randint(6, size=(6,3))\n",
    "print(arr_randint1.shape)\n",
    "arr_randint1"
   ]
  },
  {
   "cell_type": "code",
   "execution_count": 55,
   "metadata": {},
   "outputs": [
    {
     "name": "stdout",
     "output_type": "stream",
     "text": [
      "(6, 3)\n"
     ]
    },
    {
     "data": {
      "text/plain": [
       "array([[-0.05583848, -2.66544315, -0.26943309],\n",
       "       [ 0.65598285,  1.37770382,  0.74118448],\n",
       "       [-0.9716926 , -0.49314703, -1.39925523],\n",
       "       [-0.27143709,  0.56579268,  0.77236233],\n",
       "       [-1.46467786,  0.61230432, -0.21976031],\n",
       "       [-0.16358115, -0.79192491, -1.03431895]])"
      ]
     },
     "execution_count": 55,
     "metadata": {},
     "output_type": "execute_result"
    }
   ],
   "source": [
    "arr = np.random.randn(6, 3)\n",
    "print(arr.shape)\n",
    "arr"
   ]
  },
  {
   "cell_type": "code",
   "execution_count": 54,
   "metadata": {},
   "outputs": [
    {
     "data": {
      "text/plain": [
       "array([[ 6.72652421, -2.72978103,  2.65778279],\n",
       "       [-2.72978103,  4.34480299, -0.54210299],\n",
       "       [ 2.65778279, -0.54210299,  1.56133367]])"
      ]
     },
     "execution_count": 54,
     "metadata": {},
     "output_type": "execute_result"
    }
   ],
   "source": [
    "np.dot(arr.T, arr)"
   ]
  },
  {
   "cell_type": "markdown",
   "metadata": {},
   "source": [
    "### For higher dimensional arrays, transpose will accept a tuple of axis numbers to permute the axes: arr.transpose((1, 0, 2)) ->second axis ,  first axis swap. "
   ]
  },
  {
   "cell_type": "code",
   "execution_count": 34,
   "metadata": {},
   "outputs": [
    {
     "name": "stdout",
     "output_type": "stream",
     "text": [
      "(2, 2, 4)\n"
     ]
    },
    {
     "data": {
      "text/plain": [
       "array([[[ 0,  1,  2,  3],\n",
       "        [ 4,  5,  6,  7]],\n",
       "\n",
       "       [[ 8,  9, 10, 11],\n",
       "        [12, 13, 14, 15]]])"
      ]
     },
     "execution_count": 34,
     "metadata": {},
     "output_type": "execute_result"
    }
   ],
   "source": [
    "arr = np.arange(16).reshape((2, 2, 4))\n",
    "print(arr.shape)\n",
    "arr"
   ]
  },
  {
   "cell_type": "code",
   "execution_count": 29,
   "metadata": {},
   "outputs": [
    {
     "data": {
      "text/plain": [
       "array([[0, 1, 2, 3],\n",
       "       [4, 5, 6, 7]])"
      ]
     },
     "execution_count": 29,
     "metadata": {},
     "output_type": "execute_result"
    }
   ],
   "source": [
    "arr[0] #first axis's first element"
   ]
  },
  {
   "cell_type": "code",
   "execution_count": 30,
   "metadata": {},
   "outputs": [
    {
     "data": {
      "text/plain": [
       "array([0, 1, 2, 3])"
      ]
     },
     "execution_count": 30,
     "metadata": {},
     "output_type": "execute_result"
    }
   ],
   "source": [
    "arr[0][0] #first axis & second axis's first element"
   ]
  },
  {
   "cell_type": "code",
   "execution_count": 31,
   "metadata": {},
   "outputs": [
    {
     "data": {
      "text/plain": [
       "0"
      ]
     },
     "execution_count": 31,
     "metadata": {},
     "output_type": "execute_result"
    }
   ],
   "source": [
    "arr[0][0][0]"
   ]
  },
  {
   "cell_type": "code",
   "execution_count": 33,
   "metadata": {},
   "outputs": [
    {
     "name": "stdout",
     "output_type": "stream",
     "text": [
      "(2, 2, 4)\n"
     ]
    },
    {
     "data": {
      "text/plain": [
       "array([[[ 0,  1,  2,  3],\n",
       "        [ 8,  9, 10, 11]],\n",
       "\n",
       "       [[ 4,  5,  6,  7],\n",
       "        [12, 13, 14, 15]]])"
      ]
     },
     "execution_count": 33,
     "metadata": {},
     "output_type": "execute_result"
    }
   ],
   "source": [
    "# Here, the axes have been reordered with the second axis first, the first axis second,\n",
    "# and the last axis unchanged.\n",
    "trasnpose_arr = arr.transpose((1, 0, 2)) #(1,0,2) : \n",
    "print(trasnpose_arr.shape)\n",
    "trasnpose_arr"
   ]
  },
  {
   "cell_type": "code",
   "execution_count": 94,
   "metadata": {},
   "outputs": [
    {
     "data": {
      "text/plain": [
       "array([[[0, 1, 2]],\n",
       "\n",
       "       [[3, 4, 5]]])"
      ]
     },
     "execution_count": 94,
     "metadata": {},
     "output_type": "execute_result"
    }
   ],
   "source": [
    "#test\n",
    "arr3 = np.arange(6).reshape((2, 1, 3))\n",
    "arr3"
   ]
  },
  {
   "cell_type": "code",
   "execution_count": 95,
   "metadata": {},
   "outputs": [
    {
     "data": {
      "text/plain": [
       "array([[[0, 1, 2],\n",
       "        [3, 4, 5]]])"
      ]
     },
     "execution_count": 95,
     "metadata": {},
     "output_type": "execute_result"
    }
   ],
   "source": [
    "arr4 = np.arange(6).reshape((1,2,3))\n",
    "arr4"
   ]
  },
  {
   "cell_type": "code",
   "execution_count": 96,
   "metadata": {},
   "outputs": [
    {
     "data": {
      "text/plain": [
       "array([[[0, 1, 2],\n",
       "        [3, 4, 5]]])"
      ]
     },
     "execution_count": 96,
     "metadata": {},
     "output_type": "execute_result"
    }
   ],
   "source": [
    "arr3.transpose((1,0,2))"
   ]
  },
  {
   "cell_type": "code",
   "execution_count": 115,
   "metadata": {},
   "outputs": [
    {
     "name": "stdout",
     "output_type": "stream",
     "text": [
      "Overwriting transpose_assert.py\n"
     ]
    }
   ],
   "source": [
    "%%writefile transpose_assert.py\n",
    "import unittest\n",
    "import numpy as np\n",
    "\n",
    "class AssertTrasnpose(unittest.TestCase):\n",
    "    def test_traspose(self):\n",
    "        np.allclose(np.arange(6).reshape((1,2,3)), np.arange(6).reshape((2, 1, 3)).transpose((1, 0, 2)))\n",
    "   #assertEqual -> ambiguous error occurred !!\n",
    "if __name__ == '__main__':\n",
    "    unittest.main()"
   ]
  },
  {
   "cell_type": "code",
   "execution_count": 113,
   "metadata": {},
   "outputs": [
    {
     "name": "stdout",
     "output_type": "stream",
     "text": [
      "import unittest\n",
      "import numpy as np\n",
      "\n",
      "class AssertTrasnpose(unittest.TestCase):\n",
      "    def test_traspose(self):\n",
      "        np.allclose(np.arange(6).reshape((1,2,3)), np.arange(6).reshape((2, 1, 3)).transpose((1, 0, 2)))\n",
      "   \n",
      "if __name__ == '__main__':\n",
      "    unittest.main()\n",
      "\n"
     ]
    }
   ],
   "source": [
    "with open('transpose_assert.py', 'r') as file:\n",
    "    readfile  = file.read()\n",
    "    print(readfile)"
   ]
  },
  {
   "cell_type": "code",
   "execution_count": 114,
   "metadata": {},
   "outputs": [
    {
     "name": "stderr",
     "output_type": "stream",
     "text": [
      ".\n",
      "----------------------------------------------------------------------\n",
      "Ran 1 test in 0.002s\n",
      "\n",
      "OK\n"
     ]
    }
   ],
   "source": [
    "%run transpose_assert.py"
   ]
  },
  {
   "cell_type": "code",
   "execution_count": 81,
   "metadata": {},
   "outputs": [
    {
     "name": "stdout",
     "output_type": "stream",
     "text": [
      "Writing unitest1.py\n"
     ]
    }
   ],
   "source": [
    "# %%writefile unitest1.py\n",
    "# import unittest\n",
    "\n",
    "# class TestStringMethods(unittest.TestCase):\n",
    "\n",
    "#     def test_upper(self):\n",
    "#         self.assertEqual('foo'.upper(), 'FOO')\n",
    "\n",
    "#     def test_isupper(self):\n",
    "#         self.assertTrue('FOO'.isupper())\n",
    "#         self.assertFalse('Foo'.isupper())\n",
    "\n",
    "#     def test_split(self):\n",
    "#         s = 'hello world'\n",
    "#         self.assertEqual(s.split(), ['hello', 'world'])\n",
    "#         # check that s.split fails when the separator is not a string\n",
    "#         with self.assertRaises(TypeError):\n",
    "#             s.split(2)\n",
    "\n",
    "# if __name__ == '__main__':\n",
    "#     unittest.main()"
   ]
  },
  {
   "cell_type": "code",
   "execution_count": 83,
   "metadata": {},
   "outputs": [
    {
     "name": "stdout",
     "output_type": "stream",
     "text": [
      "import unittest\n",
      "\n",
      "class TestStringMethods(unittest.TestCase):\n",
      "\n",
      "    def test_upper(self):\n",
      "        self.assertEqual('foo'.upper(), 'FOO')\n",
      "\n",
      "    def test_isupper(self):\n",
      "        self.assertTrue('FOO'.isupper())\n",
      "        self.assertFalse('Foo'.isupper())\n",
      "\n",
      "    def test_split(self):\n",
      "        s = 'hello world'\n",
      "        self.assertEqual(s.split(), ['hello', 'world'])\n",
      "        # check that s.split fails when the separator is not a string\n",
      "        with self.assertRaises(TypeError):\n",
      "            s.split(2)\n",
      "\n",
      "if __name__ == '__main__':\n",
      "    unittest.main()\n",
      "\n"
     ]
    }
   ],
   "source": [
    "with open('unitest1.py', 'r') as file:\n",
    "    readfile  = file.read()\n",
    "    print(readfile)"
   ]
  },
  {
   "cell_type": "code",
   "execution_count": 85,
   "metadata": {},
   "outputs": [
    {
     "name": "stderr",
     "output_type": "stream",
     "text": [
      "...\n",
      "----------------------------------------------------------------------\n",
      "Ran 3 tests in 0.003s\n",
      "\n",
      "OK\n"
     ]
    }
   ],
   "source": [
    "%run unitest1.py"
   ]
  },
  {
   "cell_type": "markdown",
   "metadata": {},
   "source": [
    "## Universal Functions: Fast Element-Wise Array Functions"
   ]
  },
  {
   "cell_type": "code",
   "execution_count": 1,
   "metadata": {},
   "outputs": [
    {
     "data": {
      "text/plain": [
       "array([0, 1, 2, 3, 4, 5, 6, 7, 8, 9])"
      ]
     },
     "execution_count": 1,
     "metadata": {},
     "output_type": "execute_result"
    }
   ],
   "source": [
    "import numpy as np\n",
    "arr = np.arange(10)\n",
    "arr"
   ]
  },
  {
   "cell_type": "code",
   "execution_count": 2,
   "metadata": {},
   "outputs": [
    {
     "data": {
      "text/plain": [
       "array([0.        , 1.        , 1.41421356, 1.73205081, 2.        ,\n",
       "       2.23606798, 2.44948974, 2.64575131, 2.82842712, 3.        ])"
      ]
     },
     "execution_count": 2,
     "metadata": {},
     "output_type": "execute_result"
    }
   ],
   "source": [
    "np.sqrt(arr)"
   ]
  },
  {
   "cell_type": "code",
   "execution_count": 3,
   "metadata": {},
   "outputs": [
    {
     "data": {
      "text/plain": [
       "array([1.00000000e+00, 2.71828183e+00, 7.38905610e+00, 2.00855369e+01,\n",
       "       5.45981500e+01, 1.48413159e+02, 4.03428793e+02, 1.09663316e+03,\n",
       "       2.98095799e+03, 8.10308393e+03])"
      ]
     },
     "execution_count": 3,
     "metadata": {},
     "output_type": "execute_result"
    }
   ],
   "source": [
    "np.exp(arr)"
   ]
  },
  {
   "cell_type": "code",
   "execution_count": 4,
   "metadata": {},
   "outputs": [
    {
     "data": {
      "text/plain": [
       "array([-0.8349355 ,  0.30331764,  0.16139854,  0.64452157,  1.8232606 ,\n",
       "        0.55548895, -0.7257292 ,  1.32966883])"
      ]
     },
     "execution_count": 4,
     "metadata": {},
     "output_type": "execute_result"
    }
   ],
   "source": [
    "x = np.random.randn(8)\n",
    "x"
   ]
  },
  {
   "cell_type": "code",
   "execution_count": 5,
   "metadata": {},
   "outputs": [
    {
     "data": {
      "text/plain": [
       "array([ 1.3855284 , -0.07629235,  0.12117572, -0.03175233, -0.61098741,\n",
       "        0.73457515,  0.09049393,  0.214027  ])"
      ]
     },
     "execution_count": 5,
     "metadata": {},
     "output_type": "execute_result"
    }
   ],
   "source": [
    "y = np.random.randn(8)\n",
    "y"
   ]
  },
  {
   "cell_type": "code",
   "execution_count": 6,
   "metadata": {},
   "outputs": [
    {
     "data": {
      "text/plain": [
       "array([1.3855284 , 0.30331764, 0.16139854, 0.64452157, 1.8232606 ,\n",
       "       0.73457515, 0.09049393, 1.32966883])"
      ]
     },
     "execution_count": 6,
     "metadata": {},
     "output_type": "execute_result"
    }
   ],
   "source": [
    "np.maximum(x, y)"
   ]
  },
  {
   "cell_type": "code",
   "execution_count": 7,
   "metadata": {},
   "outputs": [
    {
     "data": {
      "text/plain": [
       "array([ 0.20309756, -4.82788834,  3.95209949,  4.96808558, -8.69284657,\n",
       "        0.57750829, -5.01172517])"
      ]
     },
     "execution_count": 7,
     "metadata": {},
     "output_type": "execute_result"
    }
   ],
   "source": [
    "arr = np.random.randn(7) * 5\n",
    "arr"
   ]
  },
  {
   "cell_type": "code",
   "execution_count": 8,
   "metadata": {},
   "outputs": [
    {
     "name": "stdout",
     "output_type": "stream",
     "text": [
      "[ 0.20309756 -0.82788834  0.95209949  0.96808558 -0.69284657  0.57750829\n",
      " -0.01172517]\n"
     ]
    },
    {
     "data": {
      "text/plain": [
       "array([ 0., -4.,  3.,  4., -8.,  0., -5.])"
      ]
     },
     "execution_count": 8,
     "metadata": {},
     "output_type": "execute_result"
    }
   ],
   "source": [
    "#Return fractional and integral parts of array as a separate array\n",
    "remainder, whole_part = np.modf(arr)\n",
    "print(remainder)\n",
    "whole_part"
   ]
  },
  {
   "cell_type": "code",
   "execution_count": 9,
   "metadata": {},
   "outputs": [
    {
     "name": "stderr",
     "output_type": "stream",
     "text": [
      "/home/ys/anaconda3/envs/py37/lib/python3.7/site-packages/ipykernel_launcher.py:2: RuntimeWarning: invalid value encountered in sqrt\n",
      "  \n"
     ]
    },
    {
     "data": {
      "text/plain": [
       "array([0.45066346,        nan, 1.9879888 , 2.22892027,        nan,\n",
       "       0.75993966,        nan])"
      ]
     },
     "execution_count": 9,
     "metadata": {},
     "output_type": "execute_result"
    }
   ],
   "source": [
    "arr\n",
    "np.sqrt(arr)"
   ]
  },
  {
   "cell_type": "code",
   "execution_count": 10,
   "metadata": {},
   "outputs": [
    {
     "name": "stderr",
     "output_type": "stream",
     "text": [
      "/home/ys/anaconda3/envs/py37/lib/python3.7/site-packages/ipykernel_launcher.py:1: RuntimeWarning: invalid value encountered in sqrt\n",
      "  \"\"\"Entry point for launching an IPython kernel.\n"
     ]
    },
    {
     "data": {
      "text/plain": [
       "array([0.45066346,        nan, 1.9879888 , 2.22892027,        nan,\n",
       "       0.75993966,        nan])"
      ]
     },
     "execution_count": 10,
     "metadata": {},
     "output_type": "execute_result"
    }
   ],
   "source": [
    "np.sqrt(arr, arr)\n",
    "arr"
   ]
  },
  {
   "cell_type": "markdown",
   "metadata": {},
   "source": [
    "#### unary function \n",
    "|Function|Description|\n",
    "|:-------|:----------|\n",
    "|abs, fabs|Compute the absolute value elementwise for integer, floating-point, or complex values|\n",
    "|sqrt|(equivalent to arr ** 0.5 )|\n",
    "|square|(equivalent to arr ** 2 )|\n",
    "|exp| |\n",
    "|log, log10,| |\n",
    "|log2, log1p| |\n",
    "|sign|Compute the sign of each element: 1 (positive), 0 (zero), or –1 (negative)|\n",
    "|ceil|ceiling of each element (i.e., the smallest integer greater than or equal to that number)|\n",
    "|floor|Compute the floor of each element (the largest integer less than or equal to each element)|\n",
    "|rint|Round elements to the nearest integer, preserving the dtype|\n",
    "|modf|Return fractional and integral parts of array as a separate array|\n",
    "|isnan|Return boolean array indicating whether each value is NaN (Not a Number)|\n",
    "|isfinite, isinf|boolean array whether each element is finite (non- inf , non- NaN ),infinite|\n",
    "|cos, cosh, sin,||\n",
    "|sinh, tan, tanh||\n",
    "|logical_not|Compute truth value of not x element-wise (equivalent to ~arr ).|"
   ]
  },
  {
   "cell_type": "markdown",
   "metadata": {},
   "source": [
    "### binary function\n",
    "|Function|Description|\n",
    "|:-------|:----------|\n",
    "|add||\n",
    "|subtract||\n",
    "|multiply||\n",
    "|divide, floor_divide|Divide or floor divide (truncating the remainder)|\n",
    "|power||\n",
    "|maximum, fmax|Element-wise maximum; fmax ignores NaN|\n",
    "|minimum, fmin|Element-wise minimum; fmin ignores NaN|\n",
    "|mod|remainder of division|\n",
    "|copysign|Copy sign of values in second argument to values in first argument|\n",
    "|greater, greater_equal,||\n",
    "|less, less_equal,||\n",
    "|equal, not_equal|\n",
    "|logical_and,||\n",
    "|logical_or, logical_xor||\n",
    "\n",
    "\n",
    "\n",
    "\n",
    "\n"
   ]
  },
  {
   "cell_type": "markdown",
   "metadata": {},
   "source": [
    "## Array-Oriented Programming with Arrays\n",
    "* ***np.meshgrid*** :The np.meshgrid function takes two 1D arrays and\n",
    "produces two 2D matrices corresponding to all pairs of (x, y) in the two arrays:\n",
    "*  suppose we wished to evaluate the function sqrt(x^2 + y^2)\n",
    "across a regular grid of values "
   ]
  },
  {
   "cell_type": "markdown",
   "metadata": {},
   "source": [
    "* np.arange(start, stop, interval)\n",
    "* np.meshgrid(array1, array2)"
   ]
  },
  {
   "cell_type": "code",
   "execution_count": 24,
   "metadata": {},
   "outputs": [
    {
     "name": "stdout",
     "output_type": "stream",
     "text": [
      "1000\n",
      "(1000,)\n"
     ]
    },
    {
     "data": {
      "text/plain": [
       "array([-5.0000000e+00, -4.9900000e+00, -4.9800000e+00, -4.9700000e+00,\n",
       "       -4.9600000e+00, -4.9500000e+00, -4.9400000e+00, -4.9300000e+00,\n",
       "       -4.9200000e+00, -4.9100000e+00, -4.9000000e+00, -4.8900000e+00,\n",
       "       -4.8800000e+00, -4.8700000e+00, -4.8600000e+00, -4.8500000e+00,\n",
       "       -4.8400000e+00, -4.8300000e+00, -4.8200000e+00, -4.8100000e+00,\n",
       "       -4.8000000e+00, -4.7900000e+00, -4.7800000e+00, -4.7700000e+00,\n",
       "       -4.7600000e+00, -4.7500000e+00, -4.7400000e+00, -4.7300000e+00,\n",
       "       -4.7200000e+00, -4.7100000e+00, -4.7000000e+00, -4.6900000e+00,\n",
       "       -4.6800000e+00, -4.6700000e+00, -4.6600000e+00, -4.6500000e+00,\n",
       "       -4.6400000e+00, -4.6300000e+00, -4.6200000e+00, -4.6100000e+00,\n",
       "       -4.6000000e+00, -4.5900000e+00, -4.5800000e+00, -4.5700000e+00,\n",
       "       -4.5600000e+00, -4.5500000e+00, -4.5400000e+00, -4.5300000e+00,\n",
       "       -4.5200000e+00, -4.5100000e+00, -4.5000000e+00, -4.4900000e+00,\n",
       "       -4.4800000e+00, -4.4700000e+00, -4.4600000e+00, -4.4500000e+00,\n",
       "       -4.4400000e+00, -4.4300000e+00, -4.4200000e+00, -4.4100000e+00,\n",
       "       -4.4000000e+00, -4.3900000e+00, -4.3800000e+00, -4.3700000e+00,\n",
       "       -4.3600000e+00, -4.3500000e+00, -4.3400000e+00, -4.3300000e+00,\n",
       "       -4.3200000e+00, -4.3100000e+00, -4.3000000e+00, -4.2900000e+00,\n",
       "       -4.2800000e+00, -4.2700000e+00, -4.2600000e+00, -4.2500000e+00,\n",
       "       -4.2400000e+00, -4.2300000e+00, -4.2200000e+00, -4.2100000e+00,\n",
       "       -4.2000000e+00, -4.1900000e+00, -4.1800000e+00, -4.1700000e+00,\n",
       "       -4.1600000e+00, -4.1500000e+00, -4.1400000e+00, -4.1300000e+00,\n",
       "       -4.1200000e+00, -4.1100000e+00, -4.1000000e+00, -4.0900000e+00,\n",
       "       -4.0800000e+00, -4.0700000e+00, -4.0600000e+00, -4.0500000e+00,\n",
       "       -4.0400000e+00, -4.0300000e+00, -4.0200000e+00, -4.0100000e+00,\n",
       "       -4.0000000e+00, -3.9900000e+00, -3.9800000e+00, -3.9700000e+00,\n",
       "       -3.9600000e+00, -3.9500000e+00, -3.9400000e+00, -3.9300000e+00,\n",
       "       -3.9200000e+00, -3.9100000e+00, -3.9000000e+00, -3.8900000e+00,\n",
       "       -3.8800000e+00, -3.8700000e+00, -3.8600000e+00, -3.8500000e+00,\n",
       "       -3.8400000e+00, -3.8300000e+00, -3.8200000e+00, -3.8100000e+00,\n",
       "       -3.8000000e+00, -3.7900000e+00, -3.7800000e+00, -3.7700000e+00,\n",
       "       -3.7600000e+00, -3.7500000e+00, -3.7400000e+00, -3.7300000e+00,\n",
       "       -3.7200000e+00, -3.7100000e+00, -3.7000000e+00, -3.6900000e+00,\n",
       "       -3.6800000e+00, -3.6700000e+00, -3.6600000e+00, -3.6500000e+00,\n",
       "       -3.6400000e+00, -3.6300000e+00, -3.6200000e+00, -3.6100000e+00,\n",
       "       -3.6000000e+00, -3.5900000e+00, -3.5800000e+00, -3.5700000e+00,\n",
       "       -3.5600000e+00, -3.5500000e+00, -3.5400000e+00, -3.5300000e+00,\n",
       "       -3.5200000e+00, -3.5100000e+00, -3.5000000e+00, -3.4900000e+00,\n",
       "       -3.4800000e+00, -3.4700000e+00, -3.4600000e+00, -3.4500000e+00,\n",
       "       -3.4400000e+00, -3.4300000e+00, -3.4200000e+00, -3.4100000e+00,\n",
       "       -3.4000000e+00, -3.3900000e+00, -3.3800000e+00, -3.3700000e+00,\n",
       "       -3.3600000e+00, -3.3500000e+00, -3.3400000e+00, -3.3300000e+00,\n",
       "       -3.3200000e+00, -3.3100000e+00, -3.3000000e+00, -3.2900000e+00,\n",
       "       -3.2800000e+00, -3.2700000e+00, -3.2600000e+00, -3.2500000e+00,\n",
       "       -3.2400000e+00, -3.2300000e+00, -3.2200000e+00, -3.2100000e+00,\n",
       "       -3.2000000e+00, -3.1900000e+00, -3.1800000e+00, -3.1700000e+00,\n",
       "       -3.1600000e+00, -3.1500000e+00, -3.1400000e+00, -3.1300000e+00,\n",
       "       -3.1200000e+00, -3.1100000e+00, -3.1000000e+00, -3.0900000e+00,\n",
       "       -3.0800000e+00, -3.0700000e+00, -3.0600000e+00, -3.0500000e+00,\n",
       "       -3.0400000e+00, -3.0300000e+00, -3.0200000e+00, -3.0100000e+00,\n",
       "       -3.0000000e+00, -2.9900000e+00, -2.9800000e+00, -2.9700000e+00,\n",
       "       -2.9600000e+00, -2.9500000e+00, -2.9400000e+00, -2.9300000e+00,\n",
       "       -2.9200000e+00, -2.9100000e+00, -2.9000000e+00, -2.8900000e+00,\n",
       "       -2.8800000e+00, -2.8700000e+00, -2.8600000e+00, -2.8500000e+00,\n",
       "       -2.8400000e+00, -2.8300000e+00, -2.8200000e+00, -2.8100000e+00,\n",
       "       -2.8000000e+00, -2.7900000e+00, -2.7800000e+00, -2.7700000e+00,\n",
       "       -2.7600000e+00, -2.7500000e+00, -2.7400000e+00, -2.7300000e+00,\n",
       "       -2.7200000e+00, -2.7100000e+00, -2.7000000e+00, -2.6900000e+00,\n",
       "       -2.6800000e+00, -2.6700000e+00, -2.6600000e+00, -2.6500000e+00,\n",
       "       -2.6400000e+00, -2.6300000e+00, -2.6200000e+00, -2.6100000e+00,\n",
       "       -2.6000000e+00, -2.5900000e+00, -2.5800000e+00, -2.5700000e+00,\n",
       "       -2.5600000e+00, -2.5500000e+00, -2.5400000e+00, -2.5300000e+00,\n",
       "       -2.5200000e+00, -2.5100000e+00, -2.5000000e+00, -2.4900000e+00,\n",
       "       -2.4800000e+00, -2.4700000e+00, -2.4600000e+00, -2.4500000e+00,\n",
       "       -2.4400000e+00, -2.4300000e+00, -2.4200000e+00, -2.4100000e+00,\n",
       "       -2.4000000e+00, -2.3900000e+00, -2.3800000e+00, -2.3700000e+00,\n",
       "       -2.3600000e+00, -2.3500000e+00, -2.3400000e+00, -2.3300000e+00,\n",
       "       -2.3200000e+00, -2.3100000e+00, -2.3000000e+00, -2.2900000e+00,\n",
       "       -2.2800000e+00, -2.2700000e+00, -2.2600000e+00, -2.2500000e+00,\n",
       "       -2.2400000e+00, -2.2300000e+00, -2.2200000e+00, -2.2100000e+00,\n",
       "       -2.2000000e+00, -2.1900000e+00, -2.1800000e+00, -2.1700000e+00,\n",
       "       -2.1600000e+00, -2.1500000e+00, -2.1400000e+00, -2.1300000e+00,\n",
       "       -2.1200000e+00, -2.1100000e+00, -2.1000000e+00, -2.0900000e+00,\n",
       "       -2.0800000e+00, -2.0700000e+00, -2.0600000e+00, -2.0500000e+00,\n",
       "       -2.0400000e+00, -2.0300000e+00, -2.0200000e+00, -2.0100000e+00,\n",
       "       -2.0000000e+00, -1.9900000e+00, -1.9800000e+00, -1.9700000e+00,\n",
       "       -1.9600000e+00, -1.9500000e+00, -1.9400000e+00, -1.9300000e+00,\n",
       "       -1.9200000e+00, -1.9100000e+00, -1.9000000e+00, -1.8900000e+00,\n",
       "       -1.8800000e+00, -1.8700000e+00, -1.8600000e+00, -1.8500000e+00,\n",
       "       -1.8400000e+00, -1.8300000e+00, -1.8200000e+00, -1.8100000e+00,\n",
       "       -1.8000000e+00, -1.7900000e+00, -1.7800000e+00, -1.7700000e+00,\n",
       "       -1.7600000e+00, -1.7500000e+00, -1.7400000e+00, -1.7300000e+00,\n",
       "       -1.7200000e+00, -1.7100000e+00, -1.7000000e+00, -1.6900000e+00,\n",
       "       -1.6800000e+00, -1.6700000e+00, -1.6600000e+00, -1.6500000e+00,\n",
       "       -1.6400000e+00, -1.6300000e+00, -1.6200000e+00, -1.6100000e+00,\n",
       "       -1.6000000e+00, -1.5900000e+00, -1.5800000e+00, -1.5700000e+00,\n",
       "       -1.5600000e+00, -1.5500000e+00, -1.5400000e+00, -1.5300000e+00,\n",
       "       -1.5200000e+00, -1.5100000e+00, -1.5000000e+00, -1.4900000e+00,\n",
       "       -1.4800000e+00, -1.4700000e+00, -1.4600000e+00, -1.4500000e+00,\n",
       "       -1.4400000e+00, -1.4300000e+00, -1.4200000e+00, -1.4100000e+00,\n",
       "       -1.4000000e+00, -1.3900000e+00, -1.3800000e+00, -1.3700000e+00,\n",
       "       -1.3600000e+00, -1.3500000e+00, -1.3400000e+00, -1.3300000e+00,\n",
       "       -1.3200000e+00, -1.3100000e+00, -1.3000000e+00, -1.2900000e+00,\n",
       "       -1.2800000e+00, -1.2700000e+00, -1.2600000e+00, -1.2500000e+00,\n",
       "       -1.2400000e+00, -1.2300000e+00, -1.2200000e+00, -1.2100000e+00,\n",
       "       -1.2000000e+00, -1.1900000e+00, -1.1800000e+00, -1.1700000e+00,\n",
       "       -1.1600000e+00, -1.1500000e+00, -1.1400000e+00, -1.1300000e+00,\n",
       "       -1.1200000e+00, -1.1100000e+00, -1.1000000e+00, -1.0900000e+00,\n",
       "       -1.0800000e+00, -1.0700000e+00, -1.0600000e+00, -1.0500000e+00,\n",
       "       -1.0400000e+00, -1.0300000e+00, -1.0200000e+00, -1.0100000e+00,\n",
       "       -1.0000000e+00, -9.9000000e-01, -9.8000000e-01, -9.7000000e-01,\n",
       "       -9.6000000e-01, -9.5000000e-01, -9.4000000e-01, -9.3000000e-01,\n",
       "       -9.2000000e-01, -9.1000000e-01, -9.0000000e-01, -8.9000000e-01,\n",
       "       -8.8000000e-01, -8.7000000e-01, -8.6000000e-01, -8.5000000e-01,\n",
       "       -8.4000000e-01, -8.3000000e-01, -8.2000000e-01, -8.1000000e-01,\n",
       "       -8.0000000e-01, -7.9000000e-01, -7.8000000e-01, -7.7000000e-01,\n",
       "       -7.6000000e-01, -7.5000000e-01, -7.4000000e-01, -7.3000000e-01,\n",
       "       -7.2000000e-01, -7.1000000e-01, -7.0000000e-01, -6.9000000e-01,\n",
       "       -6.8000000e-01, -6.7000000e-01, -6.6000000e-01, -6.5000000e-01,\n",
       "       -6.4000000e-01, -6.3000000e-01, -6.2000000e-01, -6.1000000e-01,\n",
       "       -6.0000000e-01, -5.9000000e-01, -5.8000000e-01, -5.7000000e-01,\n",
       "       -5.6000000e-01, -5.5000000e-01, -5.4000000e-01, -5.3000000e-01,\n",
       "       -5.2000000e-01, -5.1000000e-01, -5.0000000e-01, -4.9000000e-01,\n",
       "       -4.8000000e-01, -4.7000000e-01, -4.6000000e-01, -4.5000000e-01,\n",
       "       -4.4000000e-01, -4.3000000e-01, -4.2000000e-01, -4.1000000e-01,\n",
       "       -4.0000000e-01, -3.9000000e-01, -3.8000000e-01, -3.7000000e-01,\n",
       "       -3.6000000e-01, -3.5000000e-01, -3.4000000e-01, -3.3000000e-01,\n",
       "       -3.2000000e-01, -3.1000000e-01, -3.0000000e-01, -2.9000000e-01,\n",
       "       -2.8000000e-01, -2.7000000e-01, -2.6000000e-01, -2.5000000e-01,\n",
       "       -2.4000000e-01, -2.3000000e-01, -2.2000000e-01, -2.1000000e-01,\n",
       "       -2.0000000e-01, -1.9000000e-01, -1.8000000e-01, -1.7000000e-01,\n",
       "       -1.6000000e-01, -1.5000000e-01, -1.4000000e-01, -1.3000000e-01,\n",
       "       -1.2000000e-01, -1.1000000e-01, -1.0000000e-01, -9.0000000e-02,\n",
       "       -8.0000000e-02, -7.0000000e-02, -6.0000000e-02, -5.0000000e-02,\n",
       "       -4.0000000e-02, -3.0000000e-02, -2.0000000e-02, -1.0000000e-02,\n",
       "       -1.0658141e-13,  1.0000000e-02,  2.0000000e-02,  3.0000000e-02,\n",
       "        4.0000000e-02,  5.0000000e-02,  6.0000000e-02,  7.0000000e-02,\n",
       "        8.0000000e-02,  9.0000000e-02,  1.0000000e-01,  1.1000000e-01,\n",
       "        1.2000000e-01,  1.3000000e-01,  1.4000000e-01,  1.5000000e-01,\n",
       "        1.6000000e-01,  1.7000000e-01,  1.8000000e-01,  1.9000000e-01,\n",
       "        2.0000000e-01,  2.1000000e-01,  2.2000000e-01,  2.3000000e-01,\n",
       "        2.4000000e-01,  2.5000000e-01,  2.6000000e-01,  2.7000000e-01,\n",
       "        2.8000000e-01,  2.9000000e-01,  3.0000000e-01,  3.1000000e-01,\n",
       "        3.2000000e-01,  3.3000000e-01,  3.4000000e-01,  3.5000000e-01,\n",
       "        3.6000000e-01,  3.7000000e-01,  3.8000000e-01,  3.9000000e-01,\n",
       "        4.0000000e-01,  4.1000000e-01,  4.2000000e-01,  4.3000000e-01,\n",
       "        4.4000000e-01,  4.5000000e-01,  4.6000000e-01,  4.7000000e-01,\n",
       "        4.8000000e-01,  4.9000000e-01,  5.0000000e-01,  5.1000000e-01,\n",
       "        5.2000000e-01,  5.3000000e-01,  5.4000000e-01,  5.5000000e-01,\n",
       "        5.6000000e-01,  5.7000000e-01,  5.8000000e-01,  5.9000000e-01,\n",
       "        6.0000000e-01,  6.1000000e-01,  6.2000000e-01,  6.3000000e-01,\n",
       "        6.4000000e-01,  6.5000000e-01,  6.6000000e-01,  6.7000000e-01,\n",
       "        6.8000000e-01,  6.9000000e-01,  7.0000000e-01,  7.1000000e-01,\n",
       "        7.2000000e-01,  7.3000000e-01,  7.4000000e-01,  7.5000000e-01,\n",
       "        7.6000000e-01,  7.7000000e-01,  7.8000000e-01,  7.9000000e-01,\n",
       "        8.0000000e-01,  8.1000000e-01,  8.2000000e-01,  8.3000000e-01,\n",
       "        8.4000000e-01,  8.5000000e-01,  8.6000000e-01,  8.7000000e-01,\n",
       "        8.8000000e-01,  8.9000000e-01,  9.0000000e-01,  9.1000000e-01,\n",
       "        9.2000000e-01,  9.3000000e-01,  9.4000000e-01,  9.5000000e-01,\n",
       "        9.6000000e-01,  9.7000000e-01,  9.8000000e-01,  9.9000000e-01,\n",
       "        1.0000000e+00,  1.0100000e+00,  1.0200000e+00,  1.0300000e+00,\n",
       "        1.0400000e+00,  1.0500000e+00,  1.0600000e+00,  1.0700000e+00,\n",
       "        1.0800000e+00,  1.0900000e+00,  1.1000000e+00,  1.1100000e+00,\n",
       "        1.1200000e+00,  1.1300000e+00,  1.1400000e+00,  1.1500000e+00,\n",
       "        1.1600000e+00,  1.1700000e+00,  1.1800000e+00,  1.1900000e+00,\n",
       "        1.2000000e+00,  1.2100000e+00,  1.2200000e+00,  1.2300000e+00,\n",
       "        1.2400000e+00,  1.2500000e+00,  1.2600000e+00,  1.2700000e+00,\n",
       "        1.2800000e+00,  1.2900000e+00,  1.3000000e+00,  1.3100000e+00,\n",
       "        1.3200000e+00,  1.3300000e+00,  1.3400000e+00,  1.3500000e+00,\n",
       "        1.3600000e+00,  1.3700000e+00,  1.3800000e+00,  1.3900000e+00,\n",
       "        1.4000000e+00,  1.4100000e+00,  1.4200000e+00,  1.4300000e+00,\n",
       "        1.4400000e+00,  1.4500000e+00,  1.4600000e+00,  1.4700000e+00,\n",
       "        1.4800000e+00,  1.4900000e+00,  1.5000000e+00,  1.5100000e+00,\n",
       "        1.5200000e+00,  1.5300000e+00,  1.5400000e+00,  1.5500000e+00,\n",
       "        1.5600000e+00,  1.5700000e+00,  1.5800000e+00,  1.5900000e+00,\n",
       "        1.6000000e+00,  1.6100000e+00,  1.6200000e+00,  1.6300000e+00,\n",
       "        1.6400000e+00,  1.6500000e+00,  1.6600000e+00,  1.6700000e+00,\n",
       "        1.6800000e+00,  1.6900000e+00,  1.7000000e+00,  1.7100000e+00,\n",
       "        1.7200000e+00,  1.7300000e+00,  1.7400000e+00,  1.7500000e+00,\n",
       "        1.7600000e+00,  1.7700000e+00,  1.7800000e+00,  1.7900000e+00,\n",
       "        1.8000000e+00,  1.8100000e+00,  1.8200000e+00,  1.8300000e+00,\n",
       "        1.8400000e+00,  1.8500000e+00,  1.8600000e+00,  1.8700000e+00,\n",
       "        1.8800000e+00,  1.8900000e+00,  1.9000000e+00,  1.9100000e+00,\n",
       "        1.9200000e+00,  1.9300000e+00,  1.9400000e+00,  1.9500000e+00,\n",
       "        1.9600000e+00,  1.9700000e+00,  1.9800000e+00,  1.9900000e+00,\n",
       "        2.0000000e+00,  2.0100000e+00,  2.0200000e+00,  2.0300000e+00,\n",
       "        2.0400000e+00,  2.0500000e+00,  2.0600000e+00,  2.0700000e+00,\n",
       "        2.0800000e+00,  2.0900000e+00,  2.1000000e+00,  2.1100000e+00,\n",
       "        2.1200000e+00,  2.1300000e+00,  2.1400000e+00,  2.1500000e+00,\n",
       "        2.1600000e+00,  2.1700000e+00,  2.1800000e+00,  2.1900000e+00,\n",
       "        2.2000000e+00,  2.2100000e+00,  2.2200000e+00,  2.2300000e+00,\n",
       "        2.2400000e+00,  2.2500000e+00,  2.2600000e+00,  2.2700000e+00,\n",
       "        2.2800000e+00,  2.2900000e+00,  2.3000000e+00,  2.3100000e+00,\n",
       "        2.3200000e+00,  2.3300000e+00,  2.3400000e+00,  2.3500000e+00,\n",
       "        2.3600000e+00,  2.3700000e+00,  2.3800000e+00,  2.3900000e+00,\n",
       "        2.4000000e+00,  2.4100000e+00,  2.4200000e+00,  2.4300000e+00,\n",
       "        2.4400000e+00,  2.4500000e+00,  2.4600000e+00,  2.4700000e+00,\n",
       "        2.4800000e+00,  2.4900000e+00,  2.5000000e+00,  2.5100000e+00,\n",
       "        2.5200000e+00,  2.5300000e+00,  2.5400000e+00,  2.5500000e+00,\n",
       "        2.5600000e+00,  2.5700000e+00,  2.5800000e+00,  2.5900000e+00,\n",
       "        2.6000000e+00,  2.6100000e+00,  2.6200000e+00,  2.6300000e+00,\n",
       "        2.6400000e+00,  2.6500000e+00,  2.6600000e+00,  2.6700000e+00,\n",
       "        2.6800000e+00,  2.6900000e+00,  2.7000000e+00,  2.7100000e+00,\n",
       "        2.7200000e+00,  2.7300000e+00,  2.7400000e+00,  2.7500000e+00,\n",
       "        2.7600000e+00,  2.7700000e+00,  2.7800000e+00,  2.7900000e+00,\n",
       "        2.8000000e+00,  2.8100000e+00,  2.8200000e+00,  2.8300000e+00,\n",
       "        2.8400000e+00,  2.8500000e+00,  2.8600000e+00,  2.8700000e+00,\n",
       "        2.8800000e+00,  2.8900000e+00,  2.9000000e+00,  2.9100000e+00,\n",
       "        2.9200000e+00,  2.9300000e+00,  2.9400000e+00,  2.9500000e+00,\n",
       "        2.9600000e+00,  2.9700000e+00,  2.9800000e+00,  2.9900000e+00,\n",
       "        3.0000000e+00,  3.0100000e+00,  3.0200000e+00,  3.0300000e+00,\n",
       "        3.0400000e+00,  3.0500000e+00,  3.0600000e+00,  3.0700000e+00,\n",
       "        3.0800000e+00,  3.0900000e+00,  3.1000000e+00,  3.1100000e+00,\n",
       "        3.1200000e+00,  3.1300000e+00,  3.1400000e+00,  3.1500000e+00,\n",
       "        3.1600000e+00,  3.1700000e+00,  3.1800000e+00,  3.1900000e+00,\n",
       "        3.2000000e+00,  3.2100000e+00,  3.2200000e+00,  3.2300000e+00,\n",
       "        3.2400000e+00,  3.2500000e+00,  3.2600000e+00,  3.2700000e+00,\n",
       "        3.2800000e+00,  3.2900000e+00,  3.3000000e+00,  3.3100000e+00,\n",
       "        3.3200000e+00,  3.3300000e+00,  3.3400000e+00,  3.3500000e+00,\n",
       "        3.3600000e+00,  3.3700000e+00,  3.3800000e+00,  3.3900000e+00,\n",
       "        3.4000000e+00,  3.4100000e+00,  3.4200000e+00,  3.4300000e+00,\n",
       "        3.4400000e+00,  3.4500000e+00,  3.4600000e+00,  3.4700000e+00,\n",
       "        3.4800000e+00,  3.4900000e+00,  3.5000000e+00,  3.5100000e+00,\n",
       "        3.5200000e+00,  3.5300000e+00,  3.5400000e+00,  3.5500000e+00,\n",
       "        3.5600000e+00,  3.5700000e+00,  3.5800000e+00,  3.5900000e+00,\n",
       "        3.6000000e+00,  3.6100000e+00,  3.6200000e+00,  3.6300000e+00,\n",
       "        3.6400000e+00,  3.6500000e+00,  3.6600000e+00,  3.6700000e+00,\n",
       "        3.6800000e+00,  3.6900000e+00,  3.7000000e+00,  3.7100000e+00,\n",
       "        3.7200000e+00,  3.7300000e+00,  3.7400000e+00,  3.7500000e+00,\n",
       "        3.7600000e+00,  3.7700000e+00,  3.7800000e+00,  3.7900000e+00,\n",
       "        3.8000000e+00,  3.8100000e+00,  3.8200000e+00,  3.8300000e+00,\n",
       "        3.8400000e+00,  3.8500000e+00,  3.8600000e+00,  3.8700000e+00,\n",
       "        3.8800000e+00,  3.8900000e+00,  3.9000000e+00,  3.9100000e+00,\n",
       "        3.9200000e+00,  3.9300000e+00,  3.9400000e+00,  3.9500000e+00,\n",
       "        3.9600000e+00,  3.9700000e+00,  3.9800000e+00,  3.9900000e+00,\n",
       "        4.0000000e+00,  4.0100000e+00,  4.0200000e+00,  4.0300000e+00,\n",
       "        4.0400000e+00,  4.0500000e+00,  4.0600000e+00,  4.0700000e+00,\n",
       "        4.0800000e+00,  4.0900000e+00,  4.1000000e+00,  4.1100000e+00,\n",
       "        4.1200000e+00,  4.1300000e+00,  4.1400000e+00,  4.1500000e+00,\n",
       "        4.1600000e+00,  4.1700000e+00,  4.1800000e+00,  4.1900000e+00,\n",
       "        4.2000000e+00,  4.2100000e+00,  4.2200000e+00,  4.2300000e+00,\n",
       "        4.2400000e+00,  4.2500000e+00,  4.2600000e+00,  4.2700000e+00,\n",
       "        4.2800000e+00,  4.2900000e+00,  4.3000000e+00,  4.3100000e+00,\n",
       "        4.3200000e+00,  4.3300000e+00,  4.3400000e+00,  4.3500000e+00,\n",
       "        4.3600000e+00,  4.3700000e+00,  4.3800000e+00,  4.3900000e+00,\n",
       "        4.4000000e+00,  4.4100000e+00,  4.4200000e+00,  4.4300000e+00,\n",
       "        4.4400000e+00,  4.4500000e+00,  4.4600000e+00,  4.4700000e+00,\n",
       "        4.4800000e+00,  4.4900000e+00,  4.5000000e+00,  4.5100000e+00,\n",
       "        4.5200000e+00,  4.5300000e+00,  4.5400000e+00,  4.5500000e+00,\n",
       "        4.5600000e+00,  4.5700000e+00,  4.5800000e+00,  4.5900000e+00,\n",
       "        4.6000000e+00,  4.6100000e+00,  4.6200000e+00,  4.6300000e+00,\n",
       "        4.6400000e+00,  4.6500000e+00,  4.6600000e+00,  4.6700000e+00,\n",
       "        4.6800000e+00,  4.6900000e+00,  4.7000000e+00,  4.7100000e+00,\n",
       "        4.7200000e+00,  4.7300000e+00,  4.7400000e+00,  4.7500000e+00,\n",
       "        4.7600000e+00,  4.7700000e+00,  4.7800000e+00,  4.7900000e+00,\n",
       "        4.8000000e+00,  4.8100000e+00,  4.8200000e+00,  4.8300000e+00,\n",
       "        4.8400000e+00,  4.8500000e+00,  4.8600000e+00,  4.8700000e+00,\n",
       "        4.8800000e+00,  4.8900000e+00,  4.9000000e+00,  4.9100000e+00,\n",
       "        4.9200000e+00,  4.9300000e+00,  4.9400000e+00,  4.9500000e+00,\n",
       "        4.9600000e+00,  4.9700000e+00,  4.9800000e+00,  4.9900000e+00])"
      ]
     },
     "execution_count": 24,
     "metadata": {},
     "output_type": "execute_result"
    }
   ],
   "source": [
    "points = np.arange(-5, 5, 0.01) # 1000 equally spaced points -> 1-d array\n",
    "print(len(points)) #1000\n",
    "print(points.shape) #1-d array, (1000,)\n",
    "points"
   ]
  },
  {
   "cell_type": "code",
   "execution_count": 25,
   "metadata": {},
   "outputs": [
    {
     "name": "stdout",
     "output_type": "stream",
     "text": [
      "(1000, 1000)\n"
     ]
    },
    {
     "data": {
      "text/plain": [
       "array([[-5.  , -4.99, -4.98, ...,  4.97,  4.98,  4.99],\n",
       "       [-5.  , -4.99, -4.98, ...,  4.97,  4.98,  4.99],\n",
       "       [-5.  , -4.99, -4.98, ...,  4.97,  4.98,  4.99],\n",
       "       ...,\n",
       "       [-5.  , -4.99, -4.98, ...,  4.97,  4.98,  4.99],\n",
       "       [-5.  , -4.99, -4.98, ...,  4.97,  4.98,  4.99],\n",
       "       [-5.  , -4.99, -4.98, ...,  4.97,  4.98,  4.99]])"
      ]
     },
     "execution_count": 25,
     "metadata": {},
     "output_type": "execute_result"
    }
   ],
   "source": [
    "xs, ys = np.meshgrid(points, points) # two 1D arrays, (1000,) (1000,) -> tow 2-d array (1000,1000) (1000,1000) \n",
    "print(xs.shape)\n",
    "xs"
   ]
  },
  {
   "cell_type": "code",
   "execution_count": 26,
   "metadata": {},
   "outputs": [
    {
     "name": "stdout",
     "output_type": "stream",
     "text": [
      "(1000, 1000)\n"
     ]
    },
    {
     "data": {
      "text/plain": [
       "array([[-5.  , -5.  , -5.  , ..., -5.  , -5.  , -5.  ],\n",
       "       [-4.99, -4.99, -4.99, ..., -4.99, -4.99, -4.99],\n",
       "       [-4.98, -4.98, -4.98, ..., -4.98, -4.98, -4.98],\n",
       "       ...,\n",
       "       [ 4.97,  4.97,  4.97, ...,  4.97,  4.97,  4.97],\n",
       "       [ 4.98,  4.98,  4.98, ...,  4.98,  4.98,  4.98],\n",
       "       [ 4.99,  4.99,  4.99, ...,  4.99,  4.99,  4.99]])"
      ]
     },
     "execution_count": 26,
     "metadata": {},
     "output_type": "execute_result"
    }
   ],
   "source": [
    "print(ys.shape)\n",
    "ys"
   ]
  },
  {
   "cell_type": "code",
   "execution_count": 27,
   "metadata": {},
   "outputs": [
    {
     "name": "stdout",
     "output_type": "stream",
     "text": [
      "(1000, 1000)\n"
     ]
    },
    {
     "data": {
      "text/plain": [
       "array([[7.07106781, 7.06400028, 7.05693985, ..., 7.04988652, 7.05693985,\n",
       "        7.06400028],\n",
       "       [7.06400028, 7.05692568, 7.04985815, ..., 7.04279774, 7.04985815,\n",
       "        7.05692568],\n",
       "       [7.05693985, 7.04985815, 7.04278354, ..., 7.03571603, 7.04278354,\n",
       "        7.04985815],\n",
       "       ...,\n",
       "       [7.04988652, 7.04279774, 7.03571603, ..., 7.0286414 , 7.03571603,\n",
       "        7.04279774],\n",
       "       [7.05693985, 7.04985815, 7.04278354, ..., 7.03571603, 7.04278354,\n",
       "        7.04985815],\n",
       "       [7.06400028, 7.05692568, 7.04985815, ..., 7.04279774, 7.04985815,\n",
       "        7.05692568]])"
      ]
     },
     "execution_count": 27,
     "metadata": {},
     "output_type": "execute_result"
    }
   ],
   "source": [
    "z = np.sqrt(xs ** 2 + ys ** 2)\n",
    "print(z.shape)\n",
    "z"
   ]
  },
  {
   "cell_type": "markdown",
   "metadata": {},
   "source": [
    "### mathjax\n",
    "[mathjax_example _ basic tutorial](https://math.meta.stackexchange.com/questions/5020/mathjax-basic-tutorial-and-quick-reference)\n",
    "\n",
    "$\\sqrt{x^2 + y^2}$\n",
    "\n",
    "$sqrt{x^2 + y^2}$\n",
    "\n",
    "Inline $\\sum_{i=0}^n i^2 = \\frac{(n^2+n)(2n+1)}{6}$ expression\n",
    "\n",
    "$$\\sum_{i=0}^n i^2 = \\frac{(n^2+n)(2n+1)}{6}$$\n",
    "\n",
    "$\\alpha, \\beta, …, \\omega$\n",
    "\n",
    "$\\Gamma, \\Delta, …, \\Omega$\n",
    "\n",
    "$x_i^2$  , $\\log_2 x$ \n",
    "\n",
    "$ 10^10$, $10^{10}$ , \n",
    "\n",
    "$ x^5^6 $\n",
    "\n",
    "${x^y}^z$, $x_i^2$, $x_{i^2}$\n",
    "\n",
    "$(\\frac{\\sqrt x}{y^3})$\n",
    "\n",
    "$\\left(\\frac{\\sqrt x}{y^3}\\right)$\n",
    "\n",
    "$\\left.\\frac12\\right\\rbrace$"
   ]
  },
  {
   "cell_type": "code",
   "execution_count": 15,
   "metadata": {},
   "outputs": [
    {
     "data": {
      "text/plain": [
       "Text(0.5, 1.0, 'Image plot of $\\\\sqrt{x^2 + y^2}$ for a grid of values')"
      ]
     },
     "execution_count": 15,
     "metadata": {},
     "output_type": "execute_result"
    },
    {
     "data": {
      "image/png": "[encoded data removed]",
      "text/plain": [
       "<Figure size 432x288 with 2 Axes>"
      ]
     },
     "metadata": {
      "needs_background": "light"
     },
     "output_type": "display_data"
    }
   ],
   "source": [
    "import matplotlib.pyplot as plt\n",
    "%matplotlib inline\n",
    "plt.imshow(z, cmap=plt.cm.gray); plt.colorbar()\n",
    "plt.title(\"Image plot of $\\sqrt{x^2 + y^2}$ for a grid of values\")"
   ]
  },
  {
   "cell_type": "code",
   "execution_count": 16,
   "metadata": {},
   "outputs": [
    {
     "data": {
      "text/plain": [
       "<Figure size 432x288 with 0 Axes>"
      ]
     },
     "metadata": {},
     "output_type": "display_data"
    }
   ],
   "source": [
    "plt.draw()"
   ]
  },
  {
   "cell_type": "code",
   "execution_count": 17,
   "metadata": {},
   "outputs": [],
   "source": [
    "plt.close('all')"
   ]
  },
  {
   "cell_type": "markdown",
   "metadata": {},
   "source": [
    "### Expressing Conditional Logic as Array Operations"
   ]
  },
  {
   "cell_type": "code",
   "execution_count": 18,
   "metadata": {},
   "outputs": [],
   "source": [
    "xarr = np.array([1.1, 1.2, 1.3, 1.4, 1.5])\n",
    "yarr = np.array([2.1, 2.2, 2.3, 2.4, 2.5])\n",
    "cond = np.array([True, False, True, True, False])"
   ]
  },
  {
   "cell_type": "code",
   "execution_count": 19,
   "metadata": {},
   "outputs": [
    {
     "data": {
      "text/plain": [
       "[1.1, 2.2, 1.3, 1.4, 2.5]"
      ]
     },
     "execution_count": 19,
     "metadata": {},
     "output_type": "execute_result"
    }
   ],
   "source": [
    "result = [(x if c else y)\n",
    "          for x, y, c in zip(xarr, yarr, cond)]\n",
    "result"
   ]
  },
  {
   "cell_type": "code",
   "execution_count": 20,
   "metadata": {},
   "outputs": [
    {
     "data": {
      "text/plain": [
       "array([1.1, 2.2, 1.3, 1.4, 2.5])"
      ]
     },
     "execution_count": 20,
     "metadata": {},
     "output_type": "execute_result"
    }
   ],
   "source": [
    "result = np.where(cond, xarr, yarr) #if cond is true xarr, else yarr\n",
    "result"
   ]
  },
  {
   "cell_type": "code",
   "execution_count": 35,
   "metadata": {},
   "outputs": [
    {
     "name": "stdout",
     "output_type": "stream",
     "text": [
      "(4, 4)\n"
     ]
    },
    {
     "data": {
      "text/plain": [
       "array([[ 0.76898607, -0.0057684 , -0.33696184, -0.15779146],\n",
       "       [ 0.34805947,  0.70605343, -0.0891196 , -0.71281299],\n",
       "       [ 1.30629102, -0.45443389,  0.59465038,  1.51501933],\n",
       "       [-1.35379099,  1.6656092 ,  0.21746309, -0.66053049]])"
      ]
     },
     "execution_count": 35,
     "metadata": {},
     "output_type": "execute_result"
    }
   ],
   "source": [
    "arr = np.random.randn(4, 4)\n",
    "print(arr.shape)\n",
    "arr"
   ]
  },
  {
   "cell_type": "code",
   "execution_count": 22,
   "metadata": {},
   "outputs": [
    {
     "data": {
      "text/plain": [
       "array([[False, False,  True,  True],\n",
       "       [False, False, False,  True],\n",
       "       [False,  True, False, False],\n",
       "       [False, False,  True,  True]])"
      ]
     },
     "execution_count": 22,
     "metadata": {},
     "output_type": "execute_result"
    }
   ],
   "source": [
    "arr > 0"
   ]
  },
  {
   "cell_type": "code",
   "execution_count": 23,
   "metadata": {},
   "outputs": [
    {
     "data": {
      "text/plain": [
       "array([[-2, -2,  2,  2],\n",
       "       [-2, -2, -2,  2],\n",
       "       [-2,  2, -2, -2],\n",
       "       [-2, -2,  2,  2]])"
      ]
     },
     "execution_count": 23,
     "metadata": {},
     "output_type": "execute_result"
    }
   ],
   "source": [
    "np.where(arr > 0, 2, -2) #if arr > 0 2, else -2"
   ]
  },
  {
   "cell_type": "code",
   "execution_count": 46,
   "metadata": {},
   "outputs": [
    {
     "data": {
      "text/plain": [
       "array([[-0.68855482, -1.15813657, -0.19494839,  2.        ],\n",
       "       [-1.48295675,  2.        ,  2.        ,  2.        ],\n",
       "       [ 2.        ,  2.        , -1.21729593, -0.82692056],\n",
       "       [ 2.        , -0.85414651,  2.        , -0.47521579]])"
      ]
     },
     "execution_count": 46,
     "metadata": {},
     "output_type": "execute_result"
    }
   ],
   "source": [
    "np.where(arr > 0, 2, arr) # set only positive values to 2"
   ]
  },
  {
   "cell_type": "markdown",
   "metadata": {},
   "source": [
    "### Mathematical and Statistical Methods"
   ]
  },
  {
   "cell_type": "code",
   "execution_count": 46,
   "metadata": {},
   "outputs": [
    {
     "data": {
      "text/plain": [
       "array([[ 2.56187946,  0.02479746,  0.5988881 ,  0.71857684],\n",
       "       [ 0.84264295, -2.68073666,  0.36770832, -0.22638366],\n",
       "       [ 0.12148968,  1.89723859, -1.3446908 , -0.87392712],\n",
       "       [-0.22205191,  0.01778673, -1.41192441, -0.63945447],\n",
       "       [-0.57504012,  0.38120427,  0.51962981,  0.64645377]])"
      ]
     },
     "execution_count": 46,
     "metadata": {},
     "output_type": "execute_result"
    }
   ],
   "source": [
    "arr = np.random.randn(5, 4)\n",
    "arr"
   ]
  },
  {
   "cell_type": "code",
   "execution_count": 47,
   "metadata": {},
   "outputs": [
    {
     "data": {
      "text/plain": [
       "0.03620434175062972"
      ]
     },
     "execution_count": 47,
     "metadata": {},
     "output_type": "execute_result"
    }
   ],
   "source": [
    "arr.mean()"
   ]
  },
  {
   "cell_type": "code",
   "execution_count": 48,
   "metadata": {},
   "outputs": [
    {
     "data": {
      "text/plain": [
       "0.03620434175062972"
      ]
     },
     "execution_count": 48,
     "metadata": {},
     "output_type": "execute_result"
    }
   ],
   "source": [
    "np.mean(arr)"
   ]
  },
  {
   "cell_type": "code",
   "execution_count": 49,
   "metadata": {},
   "outputs": [
    {
     "data": {
      "text/plain": [
       "0.7240868350125944"
      ]
     },
     "execution_count": 49,
     "metadata": {},
     "output_type": "execute_result"
    }
   ],
   "source": [
    "arr.sum()"
   ]
  },
  {
   "cell_type": "code",
   "execution_count": 50,
   "metadata": {},
   "outputs": [
    {
     "data": {
      "text/plain": [
       "array([ 0.54578401, -0.07194192, -0.2540778 , -0.07494693])"
      ]
     },
     "execution_count": 50,
     "metadata": {},
     "output_type": "execute_result"
    }
   ],
   "source": [
    "arr.mean(axis=0) # row-wise mean() -> result is 4 elements column, each element is mean of all rows "
   ]
  },
  {
   "cell_type": "code",
   "execution_count": 51,
   "metadata": {},
   "outputs": [
    {
     "data": {
      "text/plain": [
       "array([ 0.97603547, -0.42419226, -0.04997241, -0.56391101,  0.24306193])"
      ]
     },
     "execution_count": 51,
     "metadata": {},
     "output_type": "execute_result"
    }
   ],
   "source": [
    "arr.mean(axis=1) # column-wise mean() -> result is 5 elements row, each element is mean of all columns"
   ]
  },
  {
   "cell_type": "code",
   "execution_count": 52,
   "metadata": {},
   "outputs": [
    {
     "data": {
      "text/plain": [
       "array([ 2.72892007, -0.35970961, -1.27038898, -0.37473464])"
      ]
     },
     "execution_count": 52,
     "metadata": {},
     "output_type": "execute_result"
    }
   ],
   "source": [
    "arr.sum(axis=0) # row-wise sum()"
   ]
  },
  {
   "cell_type": "code",
   "execution_count": 53,
   "metadata": {},
   "outputs": [
    {
     "data": {
      "text/plain": [
       "array([ 3.90414186, -1.69676905, -0.19988965, -2.25564406,  0.97224772])"
      ]
     },
     "execution_count": 53,
     "metadata": {},
     "output_type": "execute_result"
    }
   ],
   "source": [
    "arr.sum(axis=1) # column-wise sum()"
   ]
  },
  {
   "cell_type": "code",
   "execution_count": 54,
   "metadata": {},
   "outputs": [
    {
     "data": {
      "text/plain": [
       "array([ 0,  1,  3,  6, 10, 15, 21, 28])"
      ]
     },
     "execution_count": 54,
     "metadata": {},
     "output_type": "execute_result"
    }
   ],
   "source": [
    "arr = np.array([0, 1, 2, 3, 4, 5, 6, 7])\n",
    "arr.cumsum() #cumulative sum"
   ]
  },
  {
   "cell_type": "code",
   "execution_count": 55,
   "metadata": {},
   "outputs": [
    {
     "data": {
      "text/plain": [
       "array([[0, 1, 2],\n",
       "       [3, 4, 5],\n",
       "       [6, 7, 8]])"
      ]
     },
     "execution_count": 55,
     "metadata": {},
     "output_type": "execute_result"
    }
   ],
   "source": [
    "arr = np.array([[0, 1, 2], [3, 4, 5], [6, 7, 8]])\n",
    "arr"
   ]
  },
  {
   "cell_type": "code",
   "execution_count": 56,
   "metadata": {},
   "outputs": [
    {
     "data": {
      "text/plain": [
       "array([[ 0,  1,  2],\n",
       "       [ 3,  5,  7],\n",
       "       [ 9, 12, 15]])"
      ]
     },
     "execution_count": 56,
     "metadata": {},
     "output_type": "execute_result"
    }
   ],
   "source": [
    "arr.cumsum(axis=0) #row-wise cumulative sum"
   ]
  },
  {
   "cell_type": "code",
   "execution_count": 58,
   "metadata": {},
   "outputs": [
    {
     "data": {
      "text/plain": [
       "array([[  0,   0,   0],\n",
       "       [  3,  12,  60],\n",
       "       [  6,  42, 336]])"
      ]
     },
     "execution_count": 58,
     "metadata": {},
     "output_type": "execute_result"
    }
   ],
   "source": [
    "arr.cumprod(axis=1) #colum-wise cumulative product "
   ]
  },
  {
   "cell_type": "markdown",
   "metadata": {},
   "source": [
    "### Methods for Boolean Arrays"
   ]
  },
  {
   "cell_type": "code",
   "execution_count": 63,
   "metadata": {},
   "outputs": [
    {
     "data": {
      "text/plain": [
       "array([ 1.65077882, -1.01343212,  1.03219684,  0.99960024,  0.20943071,\n",
       "        0.64762618,  0.12561539, -0.04721041,  1.24576034, -0.13753955,\n",
       "       -1.41987566,  0.3241739 ,  0.49636869,  0.16548652, -1.08699641,\n",
       "       -0.24253381, -0.79999418,  1.54279911, -1.36151423,  0.60874187,\n",
       "        0.7292059 ,  0.07860446,  0.87573662,  1.12366067,  2.1899592 ,\n",
       "       -1.18399429, -0.52873926,  0.36407127,  0.56141916,  0.92467562,\n",
       "        1.62999183,  0.02199755, -1.66214177, -0.39416552, -0.64808053,\n",
       "       -1.10881471,  0.40014594, -0.11968635,  0.96425021, -0.43333385,\n",
       "        0.61022481,  0.92456259, -1.02902922, -0.42312743, -0.1214451 ,\n",
       "       -1.34588434, -1.84283777, -0.52971431, -1.11841795,  1.4696667 ,\n",
       "       -0.14182799, -0.53166553, -0.34355793, -0.98825222, -0.10990227,\n",
       "       -0.91213156,  0.5459085 ,  0.71233233, -0.82046467, -0.637903  ,\n",
       "        0.3891306 , -0.48719229,  0.13645207,  0.15744351, -0.00852242,\n",
       "       -1.94713274,  0.74923181,  0.26212995,  0.03475947, -0.27720194,\n",
       "        0.96773634, -1.15597181, -1.63646088,  1.26741474, -0.31639219,\n",
       "       -1.95313681,  0.65907288,  1.18470829,  0.82200079,  1.42687986,\n",
       "        0.54736018, -0.2446875 , -0.54044195, -0.25298301, -0.50356162,\n",
       "       -0.09826722,  0.89642179, -0.54843828,  0.88569842, -3.05069418,\n",
       "        0.96184255, -1.13831052,  0.43633021,  0.77270176,  0.0854698 ,\n",
       "       -0.03317107, -0.03891626,  0.4708707 ,  0.38096759, -1.81364238])"
      ]
     },
     "execution_count": 63,
     "metadata": {},
     "output_type": "execute_result"
    }
   ],
   "source": [
    "arr = np.random.randn(100)\n",
    "arr"
   ]
  },
  {
   "cell_type": "code",
   "execution_count": 64,
   "metadata": {},
   "outputs": [
    {
     "data": {
      "text/plain": [
       "50"
      ]
     },
     "execution_count": 64,
     "metadata": {},
     "output_type": "execute_result"
    }
   ],
   "source": [
    "# sum is often used as a means of counting True values in a boolean array\n",
    "(arr > 0).sum() # Number of positive values"
   ]
  },
  {
   "cell_type": "code",
   "execution_count": 65,
   "metadata": {},
   "outputs": [
    {
     "data": {
      "text/plain": [
       "True"
      ]
     },
     "execution_count": 65,
     "metadata": {},
     "output_type": "execute_result"
    }
   ],
   "source": [
    "bools = np.array([False, False, True, False])\n",
    "bools.any()"
   ]
  },
  {
   "cell_type": "code",
   "execution_count": 66,
   "metadata": {},
   "outputs": [
    {
     "data": {
      "text/plain": [
       "False"
      ]
     },
     "execution_count": 66,
     "metadata": {},
     "output_type": "execute_result"
    }
   ],
   "source": [
    "bools.all()"
   ]
  },
  {
   "cell_type": "markdown",
   "metadata": {},
   "source": [
    "### Sorting\n",
    "* np.rand(), np.randn()"
   ]
  },
  {
   "cell_type": "code",
   "execution_count": 71,
   "metadata": {},
   "outputs": [
    {
     "data": {
      "text/plain": [
       "array([0.8161542 , 0.88138135, 0.16662868, 0.74283513, 0.64220872,\n",
       "       0.71878522])"
      ]
     },
     "execution_count": 71,
     "metadata": {},
     "output_type": "execute_result"
    }
   ],
   "source": [
    "arr_sort1 = np.random.rand(6) #only positive numbers\n",
    "arr_sort1"
   ]
  },
  {
   "cell_type": "code",
   "execution_count": 72,
   "metadata": {},
   "outputs": [
    {
     "data": {
      "text/plain": [
       "array([0.16662868, 0.64220872, 0.71878522, 0.74283513, 0.8161542 ,\n",
       "       0.88138135])"
      ]
     },
     "execution_count": 72,
     "metadata": {},
     "output_type": "execute_result"
    }
   ],
   "source": [
    "arr_sort1.sort()\n",
    "arr_sort1"
   ]
  },
  {
   "cell_type": "code",
   "execution_count": 78,
   "metadata": {},
   "outputs": [
    {
     "data": {
      "text/plain": [
       "array([[0.7569352 , 0.28626356, 0.09516002],\n",
       "       [0.78540966, 0.15130171, 0.48847202],\n",
       "       [0.81613387, 0.51708565, 0.18103021],\n",
       "       [0.36511708, 0.47483488, 0.87451869],\n",
       "       [0.01705394, 0.98161096, 0.60456641]])"
      ]
     },
     "execution_count": 78,
     "metadata": {},
     "output_type": "execute_result"
    }
   ],
   "source": [
    "arr_sort2 = np.random.rand(5,3)\n",
    "arr_sort2"
   ]
  },
  {
   "cell_type": "code",
   "execution_count": 79,
   "metadata": {},
   "outputs": [
    {
     "data": {
      "text/plain": [
       "array([[0.01705394, 0.15130171, 0.09516002],\n",
       "       [0.36511708, 0.28626356, 0.18103021],\n",
       "       [0.7569352 , 0.47483488, 0.48847202],\n",
       "       [0.78540966, 0.51708565, 0.60456641],\n",
       "       [0.81613387, 0.98161096, 0.87451869]])"
      ]
     },
     "execution_count": 79,
     "metadata": {},
     "output_type": "execute_result"
    }
   ],
   "source": [
    "arr_sort2.sort(0) #row-wise sort\n",
    "arr_sort2"
   ]
  },
  {
   "cell_type": "code",
   "execution_count": 80,
   "metadata": {},
   "outputs": [
    {
     "data": {
      "text/plain": [
       "array([[0.01705394, 0.09516002, 0.15130171],\n",
       "       [0.18103021, 0.28626356, 0.36511708],\n",
       "       [0.47483488, 0.48847202, 0.7569352 ],\n",
       "       [0.51708565, 0.60456641, 0.78540966],\n",
       "       [0.81613387, 0.87451869, 0.98161096]])"
      ]
     },
     "execution_count": 80,
     "metadata": {},
     "output_type": "execute_result"
    }
   ],
   "source": [
    "arr_sort2.sort(1) #colum-wise sort\n",
    "arr_sort2"
   ]
  },
  {
   "cell_type": "code",
   "execution_count": 81,
   "metadata": {},
   "outputs": [
    {
     "data": {
      "text/plain": [
       "array([ 0.42808873,  0.07643684, -0.19599115, -1.12045604, -0.50473495,\n",
       "       -0.47420266])"
      ]
     },
     "execution_count": 81,
     "metadata": {},
     "output_type": "execute_result"
    }
   ],
   "source": [
    "arr = np.random.randn(6) # negative numbers included\n",
    "arr"
   ]
  },
  {
   "cell_type": "code",
   "execution_count": 68,
   "metadata": {},
   "outputs": [
    {
     "data": {
      "text/plain": [
       "array([-0.84871825, -0.50359322,  0.30785261,  0.41040443,  0.43498265,\n",
       "        0.68779833])"
      ]
     },
     "execution_count": 68,
     "metadata": {},
     "output_type": "execute_result"
    }
   ],
   "source": [
    "arr.sort()\n",
    "arr"
   ]
  },
  {
   "cell_type": "code",
   "execution_count": 73,
   "metadata": {},
   "outputs": [
    {
     "data": {
      "text/plain": [
       "array([[ 0.48495218,  0.94306954, -0.93283349],\n",
       "       [ 0.53032777,  2.05341144,  1.07671039],\n",
       "       [-0.14557277,  0.13089374, -0.12471887],\n",
       "       [-0.31661353,  0.77216295,  0.9769592 ],\n",
       "       [-0.00839785, -0.69478317, -0.47084491]])"
      ]
     },
     "execution_count": 73,
     "metadata": {},
     "output_type": "execute_result"
    }
   ],
   "source": [
    "arr = np.random.randn(5, 3)\n",
    "arr"
   ]
  },
  {
   "cell_type": "code",
   "execution_count": 74,
   "metadata": {},
   "outputs": [
    {
     "data": {
      "text/plain": [
       "array([[-0.93283349,  0.48495218,  0.94306954],\n",
       "       [ 0.53032777,  1.07671039,  2.05341144],\n",
       "       [-0.14557277, -0.12471887,  0.13089374],\n",
       "       [-0.31661353,  0.77216295,  0.9769592 ],\n",
       "       [-0.69478317, -0.47084491, -0.00839785]])"
      ]
     },
     "execution_count": 74,
     "metadata": {},
     "output_type": "execute_result"
    }
   ],
   "source": [
    "arr.sort(1)\n",
    "arr"
   ]
  },
  {
   "cell_type": "code",
   "execution_count": 88,
   "metadata": {},
   "outputs": [
    {
     "data": {
      "text/plain": [
       "array([-1.46388714e+00, -2.04310263e-01, -2.74071586e-01, -3.60523715e-01,\n",
       "       -1.30862240e+00, -4.76114952e-01,  8.85363922e-01, -1.11911813e-01,\n",
       "       -1.90775539e+00, -6.06978873e-01,  7.12511099e-01,  5.93980932e-02,\n",
       "       -5.87455076e-01,  1.10681396e+00, -6.83774368e-01, -3.02100900e+00,\n",
       "        1.06480875e+00,  1.55870931e+00,  1.22134008e+00, -1.04184400e+00,\n",
       "       -2.55658156e-01, -6.72944475e-03,  1.72404810e+00,  7.97784222e-02,\n",
       "        1.39349742e+00,  2.17766342e+00, -5.50218029e-01, -4.33301101e-01,\n",
       "        7.91123894e-02,  3.14537270e-01, -1.97206235e-01,  1.82373592e+00,\n",
       "       -2.46778860e-03,  1.69016605e-02, -8.77328859e-01, -2.71888208e-01,\n",
       "       -4.01600365e-01, -5.89005467e-01,  1.61603096e-01, -6.40717823e-01,\n",
       "       -3.40050662e-01, -4.11037300e-01, -4.22389920e-01,  5.17766990e-01,\n",
       "       -7.89728897e-01, -2.57085870e+00,  4.81981941e-01, -5.09615072e-02,\n",
       "        1.59064279e+00, -1.22244725e+00,  5.80390285e-01,  5.56254544e-01,\n",
       "        5.24403253e-01,  1.25172661e+00,  1.92250647e-01, -1.71350846e+00,\n",
       "       -1.55051920e+00, -3.20890696e-02,  4.71227572e-01, -8.53485164e-01,\n",
       "       -2.40506335e-01, -1.71616874e+00,  2.38156608e-01,  1.81712732e+00,\n",
       "       -1.28210916e+00, -5.58744621e-01,  6.01201742e-01,  6.33787957e-01,\n",
       "        1.52862081e+00,  6.09276831e-01, -9.88314471e-01,  7.83798127e-01,\n",
       "        3.17789890e-01,  1.39054094e+00, -6.81243112e-01,  3.55624562e-03,\n",
       "       -2.22529960e+00, -1.18724622e+00,  1.03082719e+00,  9.74816734e-01,\n",
       "       -1.10358661e+00, -1.44549846e+00,  1.16390821e+00, -8.65826307e-01,\n",
       "       -7.95750970e-01,  1.69632586e+00,  1.91704944e-01, -8.81655912e-01,\n",
       "       -1.15716717e+00, -5.72585172e-01, -9.66273789e-01,  8.35931117e-01,\n",
       "        1.65311602e-02, -4.29258726e-01, -3.52166692e-01,  1.82355172e-01,\n",
       "       -2.18277405e-01,  1.80330507e+00,  8.32790371e-02,  9.03104035e-02,\n",
       "       -3.38715599e-01,  3.85118810e-03, -1.80570377e-01, -1.42678809e+00,\n",
       "        1.48454955e-01,  1.02825798e-02,  3.98470106e-01,  7.78438829e-01,\n",
       "        1.12971284e+00, -1.10730693e-01, -8.20758211e-01,  2.36398050e+00,\n",
       "        1.40543074e+00,  2.56630493e-01, -1.96824071e+00, -1.01674446e-01,\n",
       "       -6.35304091e-01, -5.85303650e-01, -6.22061551e-01,  4.29246530e-01,\n",
       "       -1.67609199e+00, -1.40578219e-02, -6.52733256e-01, -3.50781803e-01,\n",
       "        2.09104910e-01, -2.14379395e-01,  7.27587891e-01,  6.53032153e-01,\n",
       "       -3.43702664e-01, -9.60011112e-01,  3.94209966e-01,  1.21382906e+00,\n",
       "        5.13572531e-01, -4.21431786e-01,  2.13750861e-01,  9.58586483e-01,\n",
       "        1.25606612e+00, -4.79312720e-01,  1.09294385e+00, -1.33130270e+00,\n",
       "        4.11620947e-01,  8.82419756e-01,  1.37344813e-01,  9.94077940e-01,\n",
       "        7.89862387e-01,  1.21820562e-01, -5.53647735e-01, -7.38737319e-01,\n",
       "        1.74170117e+00, -1.54700371e+00,  1.47185274e+00,  9.70333629e-02,\n",
       "       -1.58696812e+00,  2.14531821e-02, -7.28780634e-01,  2.80513648e-01,\n",
       "        3.32041666e-01, -2.57201868e-01,  1.23402149e+00,  1.03367027e-01,\n",
       "        1.32582363e+00,  1.55317747e-01, -6.19657293e-02,  6.67327044e-01,\n",
       "        2.49936722e-01, -2.12800035e+00,  2.20603399e+00,  2.34317398e-01,\n",
       "        2.21200507e+00,  9.08795290e-01,  1.41862905e+00, -1.37606238e-01,\n",
       "       -1.09397356e+00, -3.49640765e-01, -4.45453554e-01,  2.19917252e+00,\n",
       "       -8.60972302e-01, -9.52050161e-01, -3.33012713e-01, -3.84519229e-01,\n",
       "        6.54113625e-01, -1.51735791e+00,  6.51137404e-01, -7.96046776e-02,\n",
       "        4.69829633e-01,  5.39622691e-01, -1.75417445e+00,  1.35339276e+00,\n",
       "        6.47747458e-02, -2.63122303e+00, -4.93817720e-01,  3.40914973e-02,\n",
       "       -7.38273227e-02, -1.47461724e-01,  1.35661167e+00,  7.91443008e-01,\n",
       "       -1.02345905e+00, -2.76290649e-02, -1.97709628e+00, -1.33056421e+00,\n",
       "       -1.45540289e+00, -3.26134468e-01, -1.02421953e+00,  7.89171776e-01,\n",
       "        7.42170799e-01,  1.89433907e+00, -1.19135800e+00,  8.36154313e-01,\n",
       "        5.74689529e-02,  2.37212049e+00,  6.09198466e-01, -2.03423710e+00,\n",
       "        1.58294591e+00,  2.96683341e-01,  1.31553502e+00,  8.00474481e-02,\n",
       "       -5.45880896e-01,  5.03511649e-01, -3.96799754e-01,  1.18449399e-01,\n",
       "        5.95965544e-01, -1.11989048e+00, -7.63186602e-01,  8.67953677e-01,\n",
       "        1.55397329e+00, -3.50298339e-02, -5.01858360e-03,  1.67473226e+00,\n",
       "       -2.30143449e-01,  1.01628285e-01,  3.68712126e-01, -1.09896367e+00,\n",
       "       -1.10560695e+00,  1.15073805e+00, -8.72521229e-02,  3.80132553e-01,\n",
       "       -7.07215862e-01,  7.13534123e-01,  2.38176408e+00, -1.04008282e+00,\n",
       "       -1.53513005e+00, -5.12428509e-01,  3.13394209e-01,  3.10370769e-01,\n",
       "       -1.75974177e-01, -2.63459002e+00,  8.41335305e-01,  3.99859018e-01,\n",
       "       -1.14476831e+00, -1.66611606e-01, -5.89806785e-01,  9.44107529e-01,\n",
       "       -1.96055149e+00, -1.17496928e+00,  4.50151292e-01, -5.84144816e-01,\n",
       "       -9.68052106e-02, -9.55790941e-01,  1.56612309e-01,  4.76909235e-01,\n",
       "       -2.22325731e-01, -5.65320532e-01, -4.09994355e-02, -8.44615754e-01,\n",
       "       -1.96044426e+00, -1.08404798e+00, -3.22860454e-01, -4.11427565e-01,\n",
       "       -1.68163589e+00,  1.49624254e-01,  3.66601804e-01, -6.40568094e-01,\n",
       "       -1.71894775e+00,  8.72152055e-01,  2.85782636e-01,  7.88182457e-01,\n",
       "        9.34313104e-01, -2.02818440e-01,  1.32581758e-01, -3.93197498e-01,\n",
       "       -2.24208730e-01, -9.03061901e-01,  3.02263086e-01,  1.30762924e+00,\n",
       "        5.65774806e-01,  6.75493491e-01, -1.68793575e+00,  4.14288613e-01,\n",
       "       -7.97346772e-02, -9.50950376e-01,  1.69753385e+00, -2.59036045e+00,\n",
       "        1.01384247e+00, -3.30174478e-01, -1.02226341e+00, -4.52905143e-02,\n",
       "        6.14360552e-03, -9.41335686e-01, -1.12096763e+00,  6.59335948e-01,\n",
       "        6.16966412e-01,  2.31568269e+00,  9.65258657e-01,  2.81371992e+00,\n",
       "       -1.05080059e+00,  2.82716272e-01,  2.03691101e-01, -2.26355953e-01,\n",
       "       -2.14939230e-01,  1.68652910e-01, -1.21663468e+00, -5.30432613e-01,\n",
       "        9.61787927e-01,  3.55705266e-01, -3.99876976e-01,  3.50613017e-01,\n",
       "       -2.20815526e+00,  2.06197979e+00,  2.98940727e+00,  2.19014850e-01,\n",
       "       -1.09606056e+00,  8.27758614e-01,  5.77047736e-01, -3.67406805e-01,\n",
       "        1.03688077e+00,  7.70174712e-01, -1.42450746e+00,  8.34333512e-02,\n",
       "        2.32025460e-01, -1.36960896e-01, -7.02675129e-01, -1.62033417e-02,\n",
       "        1.21577069e+00, -2.26272953e+00, -7.10572331e-01,  1.39868237e+00,\n",
       "        4.39683756e-01, -1.56508499e-01,  2.41683250e-01,  8.00518291e-01,\n",
       "       -9.82938495e-01,  8.26343243e-01, -1.19934664e+00,  1.58004668e+00,\n",
       "       -8.06291523e-01, -9.12825411e-01,  1.78924377e-01, -1.48337190e+00,\n",
       "       -9.04007244e-02, -2.13560467e-01, -8.18376884e-01,  5.15138917e-01,\n",
       "       -8.99788206e-01, -1.12489354e+00,  8.14151535e-01, -8.02492596e-01,\n",
       "       -9.41306160e-01,  1.71989950e+00, -1.39721170e+00,  1.22792371e+00,\n",
       "        5.57277217e-01,  1.50849250e+00,  3.64035266e-01,  2.60146031e-01,\n",
       "        9.31251796e-01,  5.69995008e-01, -2.33298258e+00,  2.92479504e-01,\n",
       "        2.05072225e+00, -1.87830495e+00, -2.11233349e+00, -5.05466451e-01,\n",
       "        5.81155524e-01,  1.09615909e+00, -9.20686798e-01,  1.65376784e-01,\n",
       "        2.10118418e+00, -8.58951300e-01, -4.25645969e-01,  1.08047483e+00,\n",
       "        7.59688010e-01, -5.07885982e-01, -1.00017887e+00, -2.59666842e+00,\n",
       "        1.21327630e+00, -6.90066663e-01,  8.68217075e-01, -6.55554927e-01,\n",
       "       -3.19841686e-01, -1.95610877e+00, -8.11917846e-01, -5.46539131e-01,\n",
       "       -9.69321887e-01,  9.83274770e-01, -7.38798134e-01,  8.46340737e-01,\n",
       "        9.28925685e-01,  8.13682084e-02,  1.15071491e+00, -1.24021191e+00,\n",
       "       -5.16303760e-01, -1.67410400e+00,  1.18733833e+00,  1.32918425e+00,\n",
       "        1.68513309e+00,  5.52577582e-01, -2.27664012e-02, -1.36105638e+00,\n",
       "       -5.23375433e-01,  1.28312676e-01,  9.82647935e-01, -8.90563970e-01,\n",
       "       -1.01723618e+00,  6.46424603e-02,  3.18941861e-01, -1.06428296e-01,\n",
       "       -1.80387030e+00,  1.16101056e+00, -6.72289629e-01,  2.04217886e-01,\n",
       "       -1.10091627e-01,  6.19931782e-01,  8.98108370e-01, -2.36976433e-01,\n",
       "        7.83578756e-01,  9.54187517e-01,  1.94987701e+00, -9.49364129e-01,\n",
       "        5.98131482e-01,  1.33791361e+00, -1.63107461e+00,  1.26953347e+00,\n",
       "       -1.69459444e-01,  2.38296471e-01,  2.39155946e-01,  9.60696197e-01,\n",
       "        1.89449346e+00, -1.40355027e+00, -8.99492747e-01, -1.45028695e+00,\n",
       "        1.91911751e+00, -3.65148620e-02,  1.44022489e+00, -5.24149365e-01,\n",
       "       -7.57645895e-02,  3.80819212e-01,  3.79033906e-01,  3.11162158e-02,\n",
       "        8.29988590e-01,  7.06111025e-01, -1.90563574e-01,  1.62131699e+00,\n",
       "        3.06222510e-01, -2.84431501e-01, -6.04145249e-01,  5.31844011e-01,\n",
       "        1.07275463e+00,  1.28554515e+00,  1.23084114e+00, -4.97091322e-01,\n",
       "        1.47077098e+00,  1.03205679e+00,  6.03781453e-02, -3.70437883e-01,\n",
       "       -1.00987276e+00,  2.19153903e+00,  7.13340204e-01,  7.35383088e-01,\n",
       "       -6.77226446e-02,  2.13248922e+00,  9.79238709e-01,  1.06592266e+00,\n",
       "        1.95261555e+00, -3.40124285e-02, -1.77946032e+00, -2.18198320e-01,\n",
       "        1.46473061e+00, -5.24073911e-02, -3.11140544e+00,  1.66255991e-01,\n",
       "       -9.62707237e-01,  3.01571047e-01, -1.52466603e+00, -1.08339821e+00,\n",
       "       -6.53550263e-02,  5.40654093e-01, -2.19347596e-01, -2.20791726e+00,\n",
       "       -1.91114944e-01,  5.53484078e-01, -4.07848641e-01, -1.77284335e+00,\n",
       "        1.07341669e-02,  1.06008339e+00,  5.53889885e-01, -7.11903786e-01,\n",
       "        1.17848545e+00,  3.84586358e-01, -3.93231914e-01, -4.01716192e-01,\n",
       "        1.46189218e+00, -8.66370006e-01,  4.28152228e-01,  6.33842389e-01,\n",
       "       -2.03152053e+00, -7.98327477e-01, -4.32500861e-01, -4.30569913e-01,\n",
       "       -2.53074850e-01,  4.36716530e-01, -1.85103749e-01,  2.66732291e-01,\n",
       "       -6.55809725e-01,  2.23597242e-01,  1.34046927e+00,  1.27784506e+00,\n",
       "        1.01723853e+00,  1.01751700e+00,  4.37884439e-01,  5.50119109e-01,\n",
       "       -1.05416924e+00,  4.55570298e-01, -9.67562010e-01, -2.95046199e-03,\n",
       "       -7.52618787e-01,  2.14788379e-01,  3.95900791e-01, -7.65709814e-02,\n",
       "       -5.77109593e-01, -7.93763624e-01, -8.77431367e-01,  1.94018887e-01,\n",
       "        1.57905372e+00, -4.10870716e-01, -3.72011735e-01,  5.30499482e-01,\n",
       "       -6.80985125e-01,  1.84761551e+00, -7.09842976e-01,  3.37605035e-01,\n",
       "        2.23864514e-01, -5.15646338e-01, -2.27997925e-01,  4.25731465e-01,\n",
       "       -1.10921714e+00,  6.62952888e-01,  1.38673260e+00,  1.34004785e+00,\n",
       "       -5.12159285e-01, -8.84214610e-01,  2.58936412e+00,  1.19296352e+00,\n",
       "       -1.16218708e+00, -4.94239469e-01,  6.18117481e-01,  1.45890058e+00,\n",
       "        1.02789195e+00, -1.96786522e+00,  6.59991656e-01,  1.34223704e+00,\n",
       "       -1.44572153e-01, -7.38700614e-01, -1.29018355e+00,  7.63850807e-01,\n",
       "        3.14446393e-01, -5.17687114e-01,  1.34898853e+00, -3.58711216e-01,\n",
       "       -9.23328175e-01, -1.38067767e+00, -1.15172967e+00,  1.16263789e-01,\n",
       "       -6.28531962e-01,  1.41915275e+00, -1.57124190e+00, -5.53540033e-01,\n",
       "       -4.71560150e-01,  3.59094511e-01,  1.07709560e+00,  3.66252494e-01,\n",
       "       -1.98845243e+00, -9.61858807e-02,  1.50027988e-01, -4.08124229e-01,\n",
       "       -3.64380592e-01, -9.79797272e-01,  6.61806132e-02, -9.15975298e-01,\n",
       "       -4.14746089e-01,  5.62903082e-01, -1.44858994e+00, -4.10289225e-01,\n",
       "       -5.41011908e-01, -9.15222429e-01,  2.79442092e-01,  1.25197326e-01,\n",
       "        1.49884108e+00,  1.12168327e-01, -9.43884602e-01, -1.00635348e-01,\n",
       "       -1.06291886e+00,  1.23097369e+00,  1.99169466e+00,  1.87069675e-01,\n",
       "        1.81968580e-01, -8.00967273e-02, -5.97948519e-01, -6.02019830e-01,\n",
       "        5.79418258e-01,  4.65906134e-01, -1.14755474e+00, -3.92552465e-01,\n",
       "        9.85621855e-02, -3.17823158e-01,  7.28842267e-01,  1.22964989e+00,\n",
       "       -9.77099801e-01, -7.13364070e-01,  9.38164787e-01, -4.98700840e-01,\n",
       "       -1.73478374e+00, -2.31228245e+00,  1.07552116e+00,  9.84928912e-01,\n",
       "       -1.13319282e+00, -4.81720086e-01, -1.44980873e-02,  9.60110954e-02,\n",
       "        4.36885307e-01, -1.22476977e+00, -1.08333459e+00, -7.08018917e-01,\n",
       "       -4.21666356e-01, -1.21405315e+00,  6.63843786e-01,  7.41025272e-01,\n",
       "       -1.97286184e-01,  7.57280726e-01,  5.87320254e-01,  5.96535058e-01,\n",
       "       -5.74924941e-01, -5.24247086e-01, -2.49238436e-01,  5.70135924e-02,\n",
       "       -1.30109127e-01, -3.45109758e-01, -8.45783442e-02,  9.06486209e-01,\n",
       "        1.74157868e+00, -1.93745359e-01,  8.42886682e-01,  5.81451216e-01,\n",
       "        4.41576242e-01,  2.69947631e-01, -1.86287909e+00,  2.03379488e+00,\n",
       "        1.17050687e+00, -1.33956562e-03,  6.40756544e-01, -7.83909425e-01,\n",
       "       -4.32822434e-01,  1.06302419e-01, -7.39737657e-01, -1.61264984e+00,\n",
       "        2.05324966e-01,  4.17668675e-01,  3.44886278e-01,  2.43871217e-01,\n",
       "       -1.88822764e+00, -4.96397977e-01,  6.66995445e-01,  1.65478520e+00,\n",
       "        1.10092949e+00, -1.04165385e+00,  3.09896167e-01,  2.73538151e-01,\n",
       "       -8.91569034e-01,  2.88667313e-01,  3.85496627e-01, -9.61985676e-02,\n",
       "       -1.80321200e+00, -7.88376216e-01,  1.07248597e+00,  1.58864796e+00,\n",
       "       -1.59387261e+00,  3.40174488e-01,  1.69912348e-01, -2.84177094e-01,\n",
       "       -8.87246298e-02,  6.95688354e-01,  1.30425903e+00,  3.02019838e-01,\n",
       "       -3.25882048e-01, -8.44314057e-02,  1.22970638e+00,  9.55979753e-01,\n",
       "       -1.50146706e-01, -6.63455834e-01,  9.49310195e-01, -3.14295032e-01,\n",
       "       -1.15358560e+00, -3.27664151e-01,  1.06090669e-01,  1.03954400e+00,\n",
       "        9.89232710e-01,  9.02039890e-01,  5.50424355e-01, -1.16854755e+00,\n",
       "       -1.23586298e+00,  8.66153527e-01, -7.85004147e-01, -5.50556132e-01,\n",
       "       -1.27081032e+00,  1.03803660e+00, -2.95697667e-01,  2.32932197e+00,\n",
       "        3.51777064e-01, -1.52931343e+00, -2.38643055e-01, -9.62916506e-01,\n",
       "        1.81335577e-02,  1.54930971e+00,  7.22420272e-01,  9.28847992e-01,\n",
       "        5.44543346e-01, -3.07159140e-01,  1.61912613e+00, -7.61687210e-01,\n",
       "       -6.43012002e-01,  8.75801175e-01, -1.95964438e+00,  3.28832453e-01,\n",
       "        6.41757983e-01,  9.44174497e-01,  3.17094229e-01, -2.97680892e-01,\n",
       "        1.11182882e+00, -1.43186359e+00, -6.68386352e-02, -2.08534238e+00,\n",
       "        7.27533301e-01, -2.02975231e-01, -3.10556296e-01,  4.85698045e-01,\n",
       "        1.11569680e-01,  9.20718384e-01, -2.58421834e-01, -6.97197055e-01,\n",
       "        1.01102952e+00, -6.58967407e-01,  1.00912714e+00,  1.37456752e-01,\n",
       "       -9.04352234e-01, -8.37790914e-01,  7.14617045e-01, -4.37325798e-01,\n",
       "        1.51988055e+00, -3.90077787e-01, -9.42552554e-01, -1.69736067e+00,\n",
       "        9.11978262e-01, -1.72896650e+00, -1.77100994e+00,  1.11580728e+00,\n",
       "       -1.86332776e+00, -8.12513000e-01, -1.47658144e+00,  8.91915342e-01,\n",
       "       -1.29197203e+00,  2.76676855e-01,  1.93664188e+00,  1.62704539e+00,\n",
       "       -1.71958136e-01,  1.80877685e+00, -2.41032003e-01,  1.08898349e-01,\n",
       "       -1.58895133e-01, -2.36729247e-01,  1.40805134e-01, -1.29150262e+00,\n",
       "        8.91163805e-01, -1.46968839e+00, -4.15295114e-01, -6.98794309e-01,\n",
       "        1.57117498e+00,  1.71750861e-01, -3.44652566e-01, -1.28650482e+00,\n",
       "        2.80137341e-01, -9.86548244e-01,  6.79210342e-01, -1.36327554e-01,\n",
       "       -5.65452343e-01,  1.41293520e+00,  3.72978609e-01,  1.26238947e+00,\n",
       "       -1.88035554e-01, -2.60458115e+00, -2.12299104e-01,  6.88655544e-01,\n",
       "       -8.60265441e-01,  5.69409826e-04, -1.33696004e+00, -3.61376303e-01,\n",
       "       -5.46575167e-01,  1.34972797e-01, -1.85756506e+00,  8.88137688e-01,\n",
       "        1.02782100e+00, -1.61097828e-01, -7.18992056e-01,  3.99472839e-01,\n",
       "        1.02951385e+00, -1.20501566e-01,  3.01029777e-01,  2.78101609e+00,\n",
       "        4.19230538e-01,  1.10879984e+00, -2.28175730e-01, -9.28618028e-01,\n",
       "        8.44088969e-03,  1.24814739e+00,  1.38499447e+00, -1.08160612e+00,\n",
       "        1.81239186e+00, -1.03012580e+00, -1.58754846e-01,  1.00353500e+00,\n",
       "       -1.46492547e-01, -1.06442537e+00, -1.72693226e+00,  2.05673989e-01,\n",
       "        1.48098708e+00, -1.06719932e+00,  1.05552099e+00, -9.54551926e-01,\n",
       "        9.23499586e-01,  1.88795083e+00, -4.53329418e-01,  5.70076547e-01,\n",
       "        1.02360758e-01,  9.16129256e-02, -3.35585963e-01, -3.00544559e-01,\n",
       "        9.83576843e-01, -4.62130245e-01,  1.33621122e+00, -7.74733976e-01,\n",
       "       -1.08696664e+00, -1.21856071e+00, -5.14666853e-01, -5.67812279e-01,\n",
       "       -1.23831660e+00,  3.27778813e-01,  3.04077734e-01,  1.06664490e+00,\n",
       "        1.18940802e+00, -9.70266827e-02, -1.89981710e+00,  7.46842197e-01,\n",
       "       -1.31957305e-01,  3.80576084e-01,  6.16254013e-01, -2.33334168e+00,\n",
       "        7.06175566e-01,  9.68574897e-01, -1.49973095e-01, -1.58496633e+00,\n",
       "        5.59413803e-01, -6.89464724e-01, -1.72629810e+00, -2.73565584e-01,\n",
       "        1.42854893e-01,  1.60646930e+00, -4.71717365e-01,  3.81788984e-02,\n",
       "        5.89700693e-01,  3.11041517e-01, -8.82119367e-01,  4.13006092e-01,\n",
       "        1.36725476e+00, -2.08083969e-01,  1.88997791e-01,  1.77404541e+00,\n",
       "       -1.41545454e-01, -6.77227965e-01,  1.19928262e+00,  1.43873090e+00,\n",
       "       -3.40827102e-01, -2.01962008e-01,  6.39104587e-01,  3.80220391e-01,\n",
       "       -8.51837129e-01,  5.71005798e-01,  6.57124191e-01, -4.26277671e-02,\n",
       "       -4.63447436e-01,  1.21213963e+00,  4.10033952e-02, -1.67712421e+00,\n",
       "        7.40910409e-01, -5.18509070e-01,  5.23440177e-01, -2.39710587e-01,\n",
       "        1.09353314e+00,  1.50545979e+00,  7.43795812e-01, -1.20479284e+00,\n",
       "        6.15243248e-01, -1.68610440e-01, -7.32850609e-02,  1.18503487e+00,\n",
       "        1.15996362e+00,  1.42399258e+00, -2.34343798e-01,  8.97879365e-02,\n",
       "        1.43620193e+00,  1.15953080e+00,  3.88077666e-02,  1.56825774e+00,\n",
       "       -4.04216353e-01, -6.81672956e-02,  1.53270455e+00,  8.81900455e-01,\n",
       "       -5.00383626e-01, -5.39004044e-01, -1.88959516e+00,  2.75817544e-01,\n",
       "       -6.12059930e-01, -7.65349870e-01, -9.75305312e-01,  2.00482425e+00,\n",
       "        6.12578487e-01,  9.71246385e-01,  1.93779846e-01,  1.20736234e+00,\n",
       "       -1.34698111e-01, -1.46018551e+00, -1.70549151e+00, -3.44153800e-01,\n",
       "       -2.07853547e+00, -2.87374430e-01,  1.92996661e-01, -3.92945926e-02,\n",
       "        4.47151275e-01,  1.40940016e+00, -1.07439040e+00,  5.43438086e-02,\n",
       "       -1.78114766e+00,  2.84152432e-01,  1.31833055e-01, -1.51444658e-01,\n",
       "       -4.47528358e-02,  2.29193184e-01, -1.18253572e-01, -1.55981670e+00,\n",
       "       -2.23667290e-01,  1.63240430e-01, -2.37290931e+00, -8.76537524e-03,\n",
       "       -2.54482248e+00, -1.02356685e+00, -8.45337766e-01,  1.73350965e+00,\n",
       "        1.57527124e+00,  1.08478484e+00,  1.83246840e-02, -1.85130366e+00,\n",
       "       -8.36585060e-01, -3.57540877e-01,  3.23074728e-01, -6.01848180e-01,\n",
       "       -3.19252713e-01, -2.01843454e+00,  1.22528451e+00,  1.03220668e+00,\n",
       "        5.75458484e-01, -6.73454270e-01, -2.72367162e-01, -6.48612880e-01,\n",
       "       -1.32598523e+00, -3.66009613e-01, -3.61039406e-01,  2.40027426e-01,\n",
       "        1.79786032e+00, -3.25463136e-01, -1.49384670e-01, -1.47121436e+00,\n",
       "        2.37917657e-01, -1.27712453e+00, -5.95520273e-01,  3.89799864e-01,\n",
       "       -2.00485834e-01, -4.75288592e-01,  1.37024607e-01,  1.26481951e+00,\n",
       "       -1.27559880e-02, -2.24837569e-01, -6.26288740e-01, -1.00545346e+00])"
      ]
     },
     "execution_count": 88,
     "metadata": {},
     "output_type": "execute_result"
    }
   ],
   "source": [
    "large_arr = np.random.randn(1000)\n",
    "large_arr"
   ]
  },
  {
   "cell_type": "code",
   "execution_count": 93,
   "metadata": {},
   "outputs": [
    {
     "name": "stdout",
     "output_type": "stream",
     "text": [
      "(1000,)\n"
     ]
    }
   ],
   "source": [
    "large_arr.sort()\n",
    "print(large_arr.shape)\n",
    "# large_arr"
   ]
  },
  {
   "cell_type": "code",
   "execution_count": 90,
   "metadata": {},
   "outputs": [
    {
     "data": {
      "text/plain": [
       "50"
      ]
     },
     "execution_count": 90,
     "metadata": {},
     "output_type": "execute_result"
    }
   ],
   "source": [
    "int(0.05 * len(large_arr))"
   ]
  },
  {
   "cell_type": "code",
   "execution_count": 83,
   "metadata": {},
   "outputs": [
    {
     "data": {
      "text/plain": [
       "-1.6541909563136075"
      ]
     },
     "execution_count": 83,
     "metadata": {},
     "output_type": "execute_result"
    }
   ],
   "source": [
    "large_arr[int(0.05 * len(large_arr))] # 5% quantile"
   ]
  },
  {
   "cell_type": "markdown",
   "metadata": {},
   "source": [
    "### Unique and Other Set Logic"
   ]
  },
  {
   "cell_type": "code",
   "execution_count": 94,
   "metadata": {},
   "outputs": [
    {
     "data": {
      "text/plain": [
       "array(['Bob', 'Joe', 'Will'], dtype='<U4')"
      ]
     },
     "execution_count": 94,
     "metadata": {},
     "output_type": "execute_result"
    }
   ],
   "source": [
    "names = np.array(['Bob', 'Joe', 'Will', 'Bob', 'Will', 'Joe', 'Joe'])\n",
    "np.unique(names)"
   ]
  },
  {
   "cell_type": "code",
   "execution_count": 98,
   "metadata": {},
   "outputs": [
    {
     "data": {
      "text/plain": [
       "{'Bob', 'Joe', 'Will'}"
      ]
     },
     "execution_count": 98,
     "metadata": {},
     "output_type": "execute_result"
    }
   ],
   "source": [
    "set(names)"
   ]
  },
  {
   "cell_type": "code",
   "execution_count": 95,
   "metadata": {},
   "outputs": [
    {
     "data": {
      "text/plain": [
       "array([1, 2, 3, 4])"
      ]
     },
     "execution_count": 95,
     "metadata": {},
     "output_type": "execute_result"
    }
   ],
   "source": [
    "ints = np.array([3, 3, 3, 2, 2, 1, 1, 4, 4])\n",
    "np.unique(ints)"
   ]
  },
  {
   "cell_type": "code",
   "execution_count": 99,
   "metadata": {},
   "outputs": [
    {
     "data": {
      "text/plain": [
       "['Bob', 'Joe', 'Will']"
      ]
     },
     "execution_count": 99,
     "metadata": {},
     "output_type": "execute_result"
    }
   ],
   "source": [
    "sorted(set(names))"
   ]
  },
  {
   "cell_type": "markdown",
   "metadata": {},
   "source": [
    "#### in1d(x, y) : Compute a boolean array indicating whether each element of x is contained in y"
   ]
  },
  {
   "cell_type": "code",
   "execution_count": 104,
   "metadata": {},
   "outputs": [
    {
     "data": {
      "text/plain": [
       "array([ True, False, False,  True,  True, False,  True])"
      ]
     },
     "execution_count": 104,
     "metadata": {},
     "output_type": "execute_result"
    }
   ],
   "source": [
    "values1 = np.array([6, 0, 0, 3, 2, 5, 6])\n",
    "values2 = [2, 3, 6]\n",
    "values3 = [2, 7, 9, 3, 6]\n",
    "np.in1d(values1, values2) # 6 in in [2,3,6], 0 in not in [2,3,6]..."
   ]
  },
  {
   "cell_type": "code",
   "execution_count": 105,
   "metadata": {},
   "outputs": [
    {
     "data": {
      "text/plain": [
       "array([0, 2, 3, 5, 6, 7, 9])"
      ]
     },
     "execution_count": 105,
     "metadata": {},
     "output_type": "execute_result"
    }
   ],
   "source": [
    "np.union1d(values1, values3)"
   ]
  },
  {
   "cell_type": "code",
   "execution_count": 106,
   "metadata": {},
   "outputs": [
    {
     "data": {
      "text/plain": [
       "array([2, 3, 6])"
      ]
     },
     "execution_count": 106,
     "metadata": {},
     "output_type": "execute_result"
    }
   ],
   "source": [
    "np.intersect1d(values1, values3)"
   ]
  },
  {
   "cell_type": "code",
   "execution_count": 107,
   "metadata": {},
   "outputs": [
    {
     "data": {
      "text/plain": [
       "array([0, 5])"
      ]
     },
     "execution_count": 107,
     "metadata": {},
     "output_type": "execute_result"
    }
   ],
   "source": [
    "np.setdiff1d(values1, values3) #in values1 but not in values3"
   ]
  },
  {
   "cell_type": "code",
   "execution_count": 109,
   "metadata": {},
   "outputs": [
    {
     "data": {
      "text/plain": [
       "array([0, 5, 7, 9])"
      ]
     },
     "execution_count": 109,
     "metadata": {},
     "output_type": "execute_result"
    }
   ],
   "source": [
    "np.setxor1d(values1, values3) #exclusive or"
   ]
  },
  {
   "cell_type": "markdown",
   "metadata": {},
   "source": [
    "|Method|Description|\n",
    "|:-----|:----------|\n",
    "|unique(x)|Compute the sorted, unique elements in x|\n",
    "|intersect1d(x, y)|Compute the sorted, common elements in x and y\n",
    "|union1d(x, y)|Compute the sorted union of elements|\n",
    "|in1d(x, y)|Compute a boolean array indicating whether each element of x is contained in y|\n",
    "|setdiff1d(x, y)|Set difference, elements in x that are not in y|\n",
    "|setxor1d(x, y)|Set symmetric differences; elements that are in either of the arrays, but not both|"
   ]
  },
  {
   "cell_type": "markdown",
   "metadata": {},
   "source": [
    "## File Input and Output with Arrays"
   ]
  },
  {
   "cell_type": "markdown",
   "metadata": {},
   "source": [
    "* np.save('some_array', arr) : Arrays are saved by default in an uncompressed raw binary\n",
    "format with file extension .npy -> some_array.npy\n",
    "* np.load('some_array')\n",
    "* np.savez('array_archive.npz', a=arr, b=arr):save multiple arrays in an uncompressed archive using np.savez and passing the\n",
    "arrays as keyword arguments:"
   ]
  },
  {
   "cell_type": "code",
   "execution_count": 122,
   "metadata": {},
   "outputs": [],
   "source": [
    "arr = np.arange(10)\n",
    "arr2 = np.arange(10,20)\n",
    "# an uncompressed raw binary (default extension .npy)\n",
    "np.save('some_array', arr)"
   ]
  },
  {
   "cell_type": "code",
   "execution_count": 117,
   "metadata": {},
   "outputs": [
    {
     "data": {
      "text/plain": [
       "array([0, 1, 2, 3, 4, 5, 6, 7, 8, 9])"
      ]
     },
     "execution_count": 117,
     "metadata": {},
     "output_type": "execute_result"
    }
   ],
   "source": [
    "np.load('some_array.npy')"
   ]
  },
  {
   "cell_type": "code",
   "execution_count": 123,
   "metadata": {},
   "outputs": [],
   "source": [
    "#multiple , uncompressed archive, passing argument arr\n",
    "np.savez('array_archive.npz', a=arr, b=arr2)"
   ]
  },
  {
   "cell_type": "code",
   "execution_count": 124,
   "metadata": {},
   "outputs": [
    {
     "data": {
      "text/plain": [
       "<numpy.lib.npyio.NpzFile at 0x7fe1cc91ca10>"
      ]
     },
     "execution_count": 124,
     "metadata": {},
     "output_type": "execute_result"
    }
   ],
   "source": [
    "arch = np.load('array_archive.npz')\n",
    "arch"
   ]
  },
  {
   "cell_type": "code",
   "execution_count": 125,
   "metadata": {},
   "outputs": [
    {
     "data": {
      "text/plain": [
       "array([0, 1, 2, 3, 4, 5, 6, 7, 8, 9])"
      ]
     },
     "execution_count": 125,
     "metadata": {},
     "output_type": "execute_result"
    }
   ],
   "source": [
    "arch['a']"
   ]
  },
  {
   "cell_type": "code",
   "execution_count": 126,
   "metadata": {},
   "outputs": [
    {
     "data": {
      "text/plain": [
       "array([10, 11, 12, 13, 14, 15, 16, 17, 18, 19])"
      ]
     },
     "execution_count": 126,
     "metadata": {},
     "output_type": "execute_result"
    }
   ],
   "source": [
    "arch['b']"
   ]
  },
  {
   "cell_type": "code",
   "execution_count": 131,
   "metadata": {},
   "outputs": [],
   "source": [
    "np.savez_compressed('arrays_compressed.npz', a=arr, b=arr2)"
   ]
  },
  {
   "cell_type": "code",
   "execution_count": 132,
   "metadata": {},
   "outputs": [
    {
     "data": {
      "text/plain": [
       "<numpy.lib.npyio.NpzFile at 0x7fe1cda5ae50>"
      ]
     },
     "execution_count": 132,
     "metadata": {},
     "output_type": "execute_result"
    }
   ],
   "source": [
    "array_compressed = np.load('arrays_compressed.npz')\n",
    "array_compressed"
   ]
  },
  {
   "cell_type": "code",
   "execution_count": 133,
   "metadata": {},
   "outputs": [
    {
     "data": {
      "text/plain": [
       "array([10, 11, 12, 13, 14, 15, 16, 17, 18, 19])"
      ]
     },
     "execution_count": 133,
     "metadata": {},
     "output_type": "execute_result"
    }
   ],
   "source": [
    "array_compressed['b']"
   ]
  },
  {
   "cell_type": "code",
   "execution_count": 134,
   "metadata": {},
   "outputs": [],
   "source": [
    "#!rm saved_file_name\n",
    "\n",
    "!rm some_array.npy\n",
    "!rm array_archive.npz\n",
    "!rm arrays_compressed.npz"
   ]
  },
  {
   "cell_type": "markdown",
   "metadata": {},
   "source": [
    "## Linear Algebra\n",
    "* x.dot(y)\n",
    "* np.dot(x,y)\n",
    "* x @ y"
   ]
  },
  {
   "cell_type": "code",
   "execution_count": 150,
   "metadata": {},
   "outputs": [],
   "source": [
    "x = np.array([[1., 2., 3.], [4., 5., 6.]])\n",
    "y = np.array([[6., 23.], [-1, 7], [8, 9]])\n"
   ]
  },
  {
   "cell_type": "code",
   "execution_count": 151,
   "metadata": {},
   "outputs": [
    {
     "name": "stdout",
     "output_type": "stream",
     "text": [
      "(2, 3)\n"
     ]
    },
    {
     "data": {
      "text/plain": [
       "array([[1., 2., 3.],\n",
       "       [4., 5., 6.]])"
      ]
     },
     "execution_count": 151,
     "metadata": {},
     "output_type": "execute_result"
    }
   ],
   "source": [
    "print(x.shape)\n",
    "x"
   ]
  },
  {
   "cell_type": "code",
   "execution_count": 152,
   "metadata": {
    "scrolled": true
   },
   "outputs": [
    {
     "name": "stdout",
     "output_type": "stream",
     "text": [
      "(3, 2)\n"
     ]
    },
    {
     "data": {
      "text/plain": [
       "array([[ 6., 23.],\n",
       "       [-1.,  7.],\n",
       "       [ 8.,  9.]])"
      ]
     },
     "execution_count": 152,
     "metadata": {},
     "output_type": "execute_result"
    }
   ],
   "source": [
    "print(y.shape)\n",
    "y"
   ]
  },
  {
   "cell_type": "code",
   "execution_count": 153,
   "metadata": {},
   "outputs": [
    {
     "data": {
      "text/plain": [
       "array([[ 28.,  64.],\n",
       "       [ 67., 181.]])"
      ]
     },
     "execution_count": 153,
     "metadata": {},
     "output_type": "execute_result"
    }
   ],
   "source": [
    "x.dot(y) #(2,3) dot (3,2) -> (2,2)"
   ]
  },
  {
   "cell_type": "code",
   "execution_count": 154,
   "metadata": {},
   "outputs": [
    {
     "data": {
      "text/plain": [
       "array([[ 28.,  64.],\n",
       "       [ 67., 181.]])"
      ]
     },
     "execution_count": 154,
     "metadata": {},
     "output_type": "execute_result"
    }
   ],
   "source": [
    "np.dot(x, y)"
   ]
  },
  {
   "cell_type": "code",
   "execution_count": 155,
   "metadata": {},
   "outputs": [
    {
     "data": {
      "text/plain": [
       "array([[ 28.,  64.],\n",
       "       [ 67., 181.]])"
      ]
     },
     "execution_count": 155,
     "metadata": {},
     "output_type": "execute_result"
    }
   ],
   "source": [
    "x @ y "
   ]
  },
  {
   "cell_type": "code",
   "execution_count": 146,
   "metadata": {},
   "outputs": [
    {
     "name": "stdout",
     "output_type": "stream",
     "text": [
      "(3,)\n"
     ]
    },
    {
     "data": {
      "text/plain": [
       "array([1., 1., 1.])"
      ]
     },
     "execution_count": 146,
     "metadata": {},
     "output_type": "execute_result"
    }
   ],
   "source": [
    "print(np.ones(3).shape)\n",
    "np.ones(3)"
   ]
  },
  {
   "cell_type": "code",
   "execution_count": 143,
   "metadata": {},
   "outputs": [
    {
     "data": {
      "text/plain": [
       "array([ 6., 15.])"
      ]
     },
     "execution_count": 143,
     "metadata": {},
     "output_type": "execute_result"
    }
   ],
   "source": [
    "np.dot(x, np.ones(3)) #(2,3)-2d * (3,)-1d -> (2,)-1d"
   ]
  },
  {
   "cell_type": "code",
   "execution_count": 149,
   "metadata": {},
   "outputs": [
    {
     "data": {
      "text/plain": [
       "array([ 6., 15.])"
      ]
     },
     "execution_count": 149,
     "metadata": {},
     "output_type": "execute_result"
    }
   ],
   "source": [
    "# The @ symbol (as of Python 3.5) matrix multiplication:\n",
    "x @ np.ones(3)"
   ]
  },
  {
   "cell_type": "markdown",
   "metadata": {},
   "source": [
    "* numpy.linalg: standard linear algebra libraries(inverse and determinant.)\n",
    "* The expression X.T.dot(X) computes the dot product of X with its transpose X.T ."
   ]
  },
  {
   "cell_type": "markdown",
   "metadata": {},
   "source": [
    "### numpy.linalg functions\n",
    "|Function|Description|\n",
    "|:-----|:----------|\n",
    "|diag|diagonal (or off-diagonal) elements of a square matrix as a 1D array, or convert a 1D array into a square matrix with zeros on the off-diagonal|\n",
    "|dot|Matrix multiplication|\n",
    "|trace|Compute the sum of the diagonal elements|\n",
    "|det|Compute the matrix determinant|\n",
    "|eig|Compute the eigenvalues and eigenvectors of a square matrix|\n",
    "|inv|Compute the inverse of a square matrix|\n",
    "|pinv|Compute the Moore-Penrose pseudo-inverse of a matrix|\n",
    "|qr|Compute the QR decomposition|\n",
    "|svd|Compute the singular value decomposition (SVD)|\n",
    "|solve|Solve the linear system Ax = b for x, where A is a square matrix)|\n",
    "|lstsq|Compute the least-squares solution to Ax = b)|"
   ]
  },
  {
   "cell_type": "code",
   "execution_count": 170,
   "metadata": {},
   "outputs": [
    {
     "name": "stdout",
     "output_type": "stream",
     "text": [
      "---------X ---------\n",
      "[[6 7 8 6 7]\n",
      " [6 7 6 6 3]\n",
      " [6 8 3 3 7]\n",
      " [4 4 7 8 6]\n",
      " [4 7 7 8 3]]\n",
      "---------X.T--------\n",
      "[[6 6 6 4 4]\n",
      " [7 7 8 4 7]\n",
      " [8 6 3 7 7]\n",
      " [6 6 3 8 8]\n",
      " [7 3 7 6 3]]\n"
     ]
    },
    {
     "data": {
      "text/plain": [
       "array([[140, 176, 158, 154, 138],\n",
       "       [176, 227, 199, 196, 171],\n",
       "       [158, 199, 207, 205, 158],\n",
       "       [154, 196, 205, 209, 153],\n",
       "       [138, 171, 158, 153, 152]])"
      ]
     },
     "execution_count": 170,
     "metadata": {},
     "output_type": "execute_result"
    }
   ],
   "source": [
    "from numpy.linalg import inv, qr\n",
    "X = np.random.randint(1,9, size=(5,5))\n",
    "print(\"---------X ---------\")\n",
    "print(X)\n",
    "print(\"---------X.T--------\")\n",
    "print(X.T)\n",
    "mat = X.T.dot(X)\n",
    "mat"
   ]
  },
  {
   "cell_type": "code",
   "execution_count": 171,
   "metadata": {},
   "outputs": [
    {
     "data": {
      "text/plain": [
       "array([[ 0.51705152, -0.29498171, -0.14254687,  0.10530026, -0.09539323],\n",
       "       [-0.29498171,  0.21017661,  0.06884431, -0.06782979,  0.02807785],\n",
       "       [-0.14254687,  0.06884431,  0.27280521, -0.21876429, -0.01140261],\n",
       "       [ 0.10530026, -0.06782979, -0.21876429,  0.20156512,  0.00521548],\n",
       "       [-0.09539323,  0.02807785, -0.01140261,  0.00521548,  0.0682013 ]])"
      ]
     },
     "execution_count": 171,
     "metadata": {},
     "output_type": "execute_result"
    }
   ],
   "source": [
    "inv_sq_mat = inv(mat)\n",
    "inv_sq_mat"
   ]
  },
  {
   "cell_type": "code",
   "execution_count": 172,
   "metadata": {},
   "outputs": [
    {
     "data": {
      "text/plain": [
       "array([[ 1.00000000e+00,  5.49560397e-15,  2.50147125e-15,\n",
       "        -1.83533744e-15,  2.22044605e-16],\n",
       "       [-8.46545056e-15,  1.00000000e+00,  4.97865638e-16,\n",
       "        -2.75821033e-16, -1.11022302e-16],\n",
       "       [-3.38618023e-15, -3.94129174e-15,  1.00000000e+00,\n",
       "        -2.28636554e-15, -1.11022302e-15],\n",
       "       [-1.67366121e-14,  4.16333634e-16,  2.03483064e-15,\n",
       "         1.00000000e+00, -1.22124533e-15],\n",
       "       [-2.22044605e-16, -5.10702591e-15, -2.56739074e-15,\n",
       "        -5.41233725e-16,  1.00000000e+00]])"
      ]
     },
     "execution_count": 172,
     "metadata": {},
     "output_type": "execute_result"
    }
   ],
   "source": [
    "mat @ inv_sq_mat #unit matrix with diagonal elements are all 1"
   ]
  },
  {
   "cell_type": "code",
   "execution_count": 173,
   "metadata": {},
   "outputs": [
    {
     "data": {
      "text/plain": [
       "array([[-343.94767044, -435.57788837, -416.41218217, -412.11501686,\n",
       "        -345.74445539],\n",
       "       [   0.        ,   -5.90788976,    1.34379666,   -1.66069312,\n",
       "          12.12612286],\n",
       "       [   0.        ,    0.        ,  -31.65578541,  -37.35551478,\n",
       "           2.16384421],\n",
       "       [   0.        ,    0.        ,    0.        ,   -3.16551678,\n",
       "          -1.73343596],\n",
       "       [   0.        ,    0.        ,    0.        ,    0.        ,\n",
       "           8.24873846]])"
      ]
     },
     "execution_count": 173,
     "metadata": {},
     "output_type": "execute_result"
    }
   ],
   "source": [
    "mat.dot(inv(mat)) #unit array\n",
    "q, r = qr(mat)\n",
    "r"
   ]
  },
  {
   "cell_type": "code",
   "execution_count": 175,
   "metadata": {},
   "outputs": [],
   "source": [
    "# q"
   ]
  },
  {
   "cell_type": "markdown",
   "metadata": {},
   "source": [
    "## Pseudorandom Number Generation\n",
    "* np.random.normal(size=(4, 4)) : get a 4 × 4 array of samples from the standard normal distribution "
   ]
  },
  {
   "cell_type": "code",
   "execution_count": 176,
   "metadata": {},
   "outputs": [
    {
     "data": {
      "text/plain": [
       "array([[ 0.24692667, -0.14420274,  1.39091236, -0.1119799 ],\n",
       "       [ 0.73414405, -0.53062134,  1.45021746, -0.5697832 ],\n",
       "       [-1.06392394,  1.17174266,  0.05199359, -0.19996241],\n",
       "       [-0.10894236, -2.40202308, -2.41120002, -0.92473451]])"
      ]
     },
     "execution_count": 176,
     "metadata": {},
     "output_type": "execute_result"
    }
   ],
   "source": [
    "samples = np.random.normal(size=(4, 4))\n",
    "samples"
   ]
  },
  {
   "cell_type": "code",
   "execution_count": 187,
   "metadata": {},
   "outputs": [
    {
     "data": {
      "text/plain": [
       "array([[-1.34058638, -1.02218075, -0.46163431],\n",
       "       [ 0.77491899, -2.67489165,  0.03411971],\n",
       "       [-1.04568467,  1.29153986,  0.53154167]])"
      ]
     },
     "execution_count": 187,
     "metadata": {},
     "output_type": "execute_result"
    }
   ],
   "source": [
    "# np.random.normal? # np.random.normal(mean, std_dev, size=(m,n))\n",
    "np.random.normal(0,1,size=(3,3))"
   ]
  },
  {
   "cell_type": "code",
   "execution_count": 188,
   "metadata": {},
   "outputs": [
    {
     "name": "stdout",
     "output_type": "stream",
     "text": [
      "630 ms ± 9.96 ms per loop (mean ± std. dev. of 7 runs, 1 loop each)\n",
      "32.1 ms ± 107 µs per loop (mean ± std. dev. of 7 runs, 10 loops each)\n"
     ]
    }
   ],
   "source": [
    "from random import normalvariate\n",
    "N = 1000000\n",
    "%timeit samples = [normalvariate(0, 1) for _ in range(N)]\n",
    "%timeit np.random.normal(size=N)"
   ]
  },
  {
   "cell_type": "code",
   "execution_count": 6,
   "metadata": {},
   "outputs": [
    {
     "name": "stdout",
     "output_type": "stream",
     "text": [
      "total time elapsed is 0.62233567237854\n",
      "total time elapsed is 0.032096147537231445\n"
     ]
    }
   ],
   "source": [
    "import numpy as np\n",
    "from functools import wraps\n",
    "# wraps preserves a function's metadata\n",
    "# when it is decorated\n",
    "from time import time\n",
    "\n",
    "def speed_test(fn):\n",
    "    @wraps(fn)\n",
    "    def wrapper(*args, **kwargs):\n",
    "        start = time()\n",
    "        result = fn(*args, **kwargs)\n",
    "        end = time()\n",
    "#         print(\"------------------------------------\")\n",
    "#         print(f\"function name is {fn.__name__}\")\n",
    "#         print(f\"this is for {fn.__doc__}\")\n",
    "        print(f\"total time elapsed is {end - start}\")\n",
    "#         return f\"the result of function excution is {result}\"\n",
    "    return wrapper\n",
    "\n",
    "@speed_test\n",
    "def normal_var(N):\n",
    "    ''' normalvariate(0,1) '''\n",
    "    return [normalvariate(0, 1) for _ in range(N)]\n",
    "\n",
    "@speed_test\n",
    "def np_random_normal(N):\n",
    "    ''' np.random.normal '''\n",
    "    return np.random.normal(size=N)\n",
    "\n",
    "\n",
    "from random import normalvariate\n",
    "N = 1000000\n",
    "normal_var(N)\n",
    "np_random_normal(N)"
   ]
  },
  {
   "cell_type": "markdown",
   "metadata": {},
   "source": [
    "* change NumPy’s random number generation seed using  **np.random.seed(1234)** :\n",
    "* The data generation functions in numpy.random use a global random seed. To avoid\n",
    "global state, you can use **np.random.RandomState(1234)** to create a random number\n",
    "generator isolated from others:"
   ]
  },
  {
   "cell_type": "code",
   "execution_count": 7,
   "metadata": {},
   "outputs": [],
   "source": [
    "np.random.seed(1234)"
   ]
  },
  {
   "cell_type": "code",
   "execution_count": 8,
   "metadata": {},
   "outputs": [
    {
     "data": {
      "text/plain": [
       "array([ 0.47143516, -1.19097569,  1.43270697, -0.3126519 , -0.72058873,\n",
       "        0.88716294,  0.85958841, -0.6365235 ,  0.01569637, -2.24268495])"
      ]
     },
     "execution_count": 8,
     "metadata": {},
     "output_type": "execute_result"
    }
   ],
   "source": [
    "rng = np.random.RandomState(1234)\n",
    "rng.randn(10)"
   ]
  },
  {
   "cell_type": "markdown",
   "metadata": {},
   "source": [
    "### numpy.linalg functions\n",
    "|Function|Description|\n",
    "|:-----|:----------|\n",
    "|seed |Seed the random number generator|\n",
    "|permutation |Return a random permutation of a sequence, or return a permuted range|\n",
    "|shuffle |Randomly permute a sequence in-place|\n",
    "|rand |Draw samples from a uniform distribution|\n",
    "|randint |Draw random integers from a given low-to-high range|\n",
    "|randn |Draw samples from a normal distribution with mean 0 and standard deviation 1 |\n",
    "|binomial |Draw samples from a binomial distribution|\n",
    "|normal |Draw samples from a normal (Gaussian) distribution|\n",
    "|beta |Draw samples from a beta distribution|\n",
    "|chisquare |Draw samples from a chi-square distribution|\n",
    "|gamma |Draw samples from a gamma distribution|\n",
    "|uniform |Draw samples from a uniform [0, 1) distribution|"
   ]
  },
  {
   "cell_type": "markdown",
   "metadata": {},
   "source": [
    "## Example: Random Walks"
   ]
  },
  {
   "cell_type": "code",
   "execution_count": 12,
   "metadata": {},
   "outputs": [],
   "source": [
    "import random\n",
    "position = 0\n",
    "walk = [position]\n",
    "steps = 1000\n",
    "for i in range(steps):\n",
    "    step = 1 if random.randint(0, 1) else -1\n",
    "    position += step\n",
    "    walk.append(position)"
   ]
  },
  {
   "cell_type": "code",
   "execution_count": 14,
   "metadata": {},
   "outputs": [
    {
     "data": {
      "text/plain": [
       "<Figure size 432x288 with 0 Axes>"
      ]
     },
     "execution_count": 14,
     "metadata": {},
     "output_type": "execute_result"
    },
    {
     "data": {
      "text/plain": [
       "<Figure size 432x288 with 0 Axes>"
      ]
     },
     "metadata": {},
     "output_type": "display_data"
    }
   ],
   "source": [
    "import matplotlib.pyplot as plt\n",
    "%matplotlib inline\n",
    "plt.figure()"
   ]
  },
  {
   "cell_type": "code",
   "execution_count": 15,
   "metadata": {},
   "outputs": [
    {
     "data": {
      "text/plain": [
       "[<matplotlib.lines.Line2D at 0x7fae978b4350>]"
      ]
     },
     "execution_count": 15,
     "metadata": {},
     "output_type": "execute_result"
    },
    {
     "data": {
      "image/png": "[encoded data removed]",
      "text/plain": [
       "<Figure size 432x288 with 1 Axes>"
      ]
     },
     "metadata": {
      "needs_background": "light"
     },
     "output_type": "display_data"
    }
   ],
   "source": [
    "plt.plot(walk[:100])"
   ]
  },
  {
   "cell_type": "code",
   "execution_count": 16,
   "metadata": {},
   "outputs": [],
   "source": [
    "np.random.seed(12345)"
   ]
  },
  {
   "cell_type": "code",
   "execution_count": 18,
   "metadata": {},
   "outputs": [
    {
     "data": {
      "text/plain": [
       "array([0, 1, 1, 1, 0, 1, 0, 0, 1, 0, 1, 1, 0, 1, 1, 0, 1, 1, 1, 0, 0, 0,\n",
       "       1, 1, 1, 0, 1, 0, 0, 1, 1, 1, 1, 1, 0, 1, 1, 1, 1, 1, 1, 0, 0, 1,\n",
       "       1, 0, 0, 1, 1, 1, 1, 0, 1, 1, 1, 1, 0, 1, 1, 0, 1, 0, 0, 1, 1, 1,\n",
       "       0, 0, 1, 0, 1, 0, 0, 0, 1, 1, 0, 0, 0, 0, 0, 0, 1, 0, 0, 0, 1, 0,\n",
       "       0, 1, 1, 1, 1, 1, 1, 0, 0, 0, 1, 0, 0, 1, 0, 1, 0, 1, 0, 0, 0, 1,\n",
       "       1, 0, 0, 1, 0, 1, 0, 0, 1, 1, 0, 1, 1, 0, 0, 1, 0, 0, 1, 1, 1, 1,\n",
       "       0, 0, 0, 1, 0, 1, 0, 0, 1, 1, 0, 1, 0, 1, 0, 1, 1, 1, 0, 1, 0, 0,\n",
       "       0, 1, 1, 0, 0, 0, 0, 0, 0, 1, 1, 1, 0, 0, 1, 0, 1, 0, 1, 0, 0, 1,\n",
       "       1, 0, 1, 1, 0, 1, 1, 0, 0, 1, 0, 0, 1, 1, 1, 1, 0, 1, 1, 0, 1, 1,\n",
       "       1, 0, 0, 0, 0, 0, 1, 1, 1, 0, 0, 1, 0, 1, 0, 1, 0, 0, 0, 0, 1, 0,\n",
       "       0, 1, 1, 1, 0, 0, 0, 1, 1, 0, 1, 1, 0, 1, 0, 0, 0, 0, 0, 1, 0, 0,\n",
       "       1, 1, 1, 1, 1, 0, 0, 0, 1, 0, 0, 0, 1, 1, 1, 1, 0, 1, 0, 1, 1, 0,\n",
       "       1, 1, 0, 0, 1, 0, 1, 1, 1, 0, 1, 0, 1, 0, 0, 0, 0, 0, 0, 0, 0, 0,\n",
       "       1, 0, 0, 0, 1, 0, 0, 1, 1, 1, 1, 1, 1, 1, 1, 1, 1, 0, 0, 1, 0, 0,\n",
       "       0, 0, 0, 1, 1, 1, 0, 1, 1, 0, 1, 0, 1, 0, 0, 0, 0, 1, 1, 1, 1, 1,\n",
       "       0, 0, 1, 1, 0, 1, 1, 0, 0, 1, 0, 0, 1, 0, 0, 1, 1, 1, 0, 0, 1, 1,\n",
       "       1, 0, 1, 1, 0, 0, 0, 0, 1, 1, 1, 0, 0, 1, 1, 0, 1, 1, 1, 1, 1, 0,\n",
       "       1, 0, 1, 0, 0, 1, 1, 1, 0, 0, 1, 0, 1, 0, 1, 1, 1, 1, 0, 0, 0, 1,\n",
       "       0, 0, 0, 0, 1, 0, 0, 1, 0, 0, 1, 1, 1, 0, 1, 0, 1, 1, 1, 1, 1, 1,\n",
       "       1, 0, 0, 0, 1, 1, 1, 0, 1, 1, 1, 0, 0, 1, 0, 1, 1, 1, 1, 0, 1, 0,\n",
       "       0, 0, 0, 0, 0, 0, 1, 0, 1, 1, 0, 1, 0, 1, 1, 0, 0, 0, 0, 0, 1, 0,\n",
       "       1, 1, 0, 1, 0, 0, 1, 1, 0, 1, 1, 0, 1, 1, 0, 1, 0, 1, 1, 0, 1, 0,\n",
       "       0, 0, 0, 0, 0, 0, 0, 1, 0, 0, 0, 0, 1, 0, 0, 1, 0, 0, 1, 1, 1, 1,\n",
       "       0, 0, 0, 0, 0, 1, 0, 1, 1, 1, 0, 1, 0, 1, 1, 0, 0, 1, 0, 1, 1, 0,\n",
       "       1, 0, 0, 0, 1, 0, 0, 1, 1, 0, 0, 1, 0, 1, 0, 0, 1, 1, 0, 1, 0, 1,\n",
       "       1, 0, 0, 1, 1, 1, 1, 0, 0, 0, 1, 0, 0, 1, 0, 1, 1, 0, 0, 1, 1, 1,\n",
       "       0, 0, 1, 1, 1, 1, 1, 0, 0, 0, 0, 0, 0, 1, 1, 0, 0, 1, 1, 1, 1, 1,\n",
       "       1, 0, 1, 1, 0, 1, 0, 1, 1, 0, 1, 0, 0, 0, 0, 1, 0, 0, 0, 1, 0, 1,\n",
       "       1, 1, 0, 1, 1, 1, 1, 0, 1, 0, 1, 1, 0, 1, 1, 1, 1, 1, 0, 0, 0, 1,\n",
       "       0, 1, 1, 0, 1, 1, 0, 1, 0, 0, 1, 0, 1, 1, 1, 0, 0, 0, 0, 0, 0, 1,\n",
       "       0, 0, 0, 0, 1, 1, 0, 1, 1, 0, 1, 1, 0, 1, 1, 0, 1, 0, 1, 0, 1, 0,\n",
       "       0, 1, 1, 1, 1, 0, 1, 0, 1, 1, 1, 0, 0, 0, 1, 0, 0, 0, 1, 0, 0, 0,\n",
       "       0, 0, 1, 0, 0, 0, 1, 0, 1, 1, 0, 0, 1, 0, 1, 0, 0, 1, 0, 1, 0, 1,\n",
       "       1, 1, 1, 1, 1, 0, 0, 1, 1, 1, 1, 0, 0, 0, 0, 0, 1, 1, 0, 1, 0, 1,\n",
       "       0, 0, 0, 1, 0, 1, 1, 1, 0, 1, 1, 1, 0, 0, 1, 0, 1, 1, 0, 1, 0, 0,\n",
       "       1, 0, 0, 1, 1, 0, 1, 0, 1, 0, 1, 0, 1, 1, 1, 0, 1, 1, 0, 1, 1, 1,\n",
       "       1, 0, 0, 1, 1, 1, 0, 0, 1, 1, 1, 0, 0, 0, 0, 1, 0, 1, 0, 1, 0, 1,\n",
       "       0, 1, 1, 1, 1, 0, 1, 1, 0, 0, 1, 1, 0, 1, 0, 1, 1, 1, 0, 0, 1, 1,\n",
       "       0, 0, 0, 1, 0, 1, 1, 1, 0, 0, 0, 0, 0, 1, 1, 1, 1, 1, 1, 1, 0, 0,\n",
       "       1, 1, 0, 1, 0, 1, 0, 0, 1, 1, 1, 0, 1, 0, 1, 0, 0, 1, 1, 1, 0, 1,\n",
       "       0, 1, 1, 0, 1, 1, 1, 1, 1, 0, 1, 0, 0, 0, 0, 1, 1, 0, 1, 1, 0, 0,\n",
       "       1, 0, 1, 1, 0, 1, 1, 1, 1, 0, 1, 0, 0, 1, 0, 0, 1, 0, 1, 1, 0, 0,\n",
       "       0, 0, 0, 0, 0, 0, 1, 0, 1, 0, 0, 0, 0, 0, 0, 1, 0, 1, 1, 0, 1, 0,\n",
       "       0, 0, 1, 0, 1, 1, 0, 1, 0, 0, 0, 0, 0, 1, 1, 1, 1, 0, 1, 1, 0, 0,\n",
       "       0, 0, 0, 1, 0, 1, 0, 1, 1, 0, 0, 1, 0, 1, 1, 1, 0, 1, 0, 1, 0, 0,\n",
       "       1, 0, 0, 1, 0, 0, 1, 0, 1, 1])"
      ]
     },
     "execution_count": 18,
     "metadata": {},
     "output_type": "execute_result"
    }
   ],
   "source": [
    "#test\n",
    "np.random.randint(0, 2, size=1000) # "
   ]
  },
  {
   "cell_type": "code",
   "execution_count": 20,
   "metadata": {},
   "outputs": [
    {
     "data": {
      "text/plain": [
       "array([ 1, -1, -1, -1, -1, -1,  1,  1,  1,  1, -1,  1, -1,  1,  1, -1,  1,\n",
       "       -1,  1, -1, -1,  1,  1, -1,  1, -1,  1,  1,  1, -1, -1, -1, -1,  1,\n",
       "       -1, -1, -1,  1,  1, -1, -1,  1,  1, -1, -1,  1, -1, -1,  1, -1, -1,\n",
       "        1,  1,  1, -1, -1,  1,  1, -1,  1,  1,  1, -1, -1, -1, -1,  1, -1,\n",
       "       -1,  1,  1, -1, -1,  1, -1,  1, -1, -1,  1,  1,  1,  1,  1, -1,  1,\n",
       "       -1,  1,  1, -1, -1, -1,  1, -1, -1,  1,  1, -1,  1, -1,  1,  1,  1,\n",
       "       -1, -1,  1,  1, -1, -1,  1,  1, -1,  1,  1, -1,  1,  1,  1, -1, -1,\n",
       "        1, -1,  1,  1, -1,  1, -1,  1,  1, -1, -1, -1,  1, -1, -1, -1, -1,\n",
       "        1, -1,  1,  1, -1, -1,  1,  1, -1, -1, -1,  1, -1, -1, -1, -1, -1,\n",
       "       -1,  1, -1,  1,  1,  1, -1,  1, -1,  1, -1, -1,  1, -1,  1,  1,  1,\n",
       "        1, -1, -1, -1, -1,  1, -1,  1,  1,  1, -1, -1,  1, -1, -1, -1,  1,\n",
       "        1, -1,  1,  1,  1, -1,  1,  1,  1,  1, -1,  1, -1, -1,  1,  1, -1,\n",
       "       -1, -1, -1,  1,  1,  1,  1,  1, -1, -1,  1, -1, -1,  1,  1,  1,  1,\n",
       "        1, -1, -1, -1,  1,  1, -1, -1,  1, -1,  1,  1,  1, -1,  1,  1,  1,\n",
       "       -1, -1, -1,  1, -1, -1,  1,  1,  1, -1, -1,  1, -1, -1, -1,  1, -1,\n",
       "       -1, -1, -1, -1, -1,  1,  1, -1, -1,  1, -1,  1, -1, -1,  1,  1,  1,\n",
       "        1,  1, -1,  1, -1, -1,  1,  1,  1,  1,  1, -1, -1,  1,  1,  1, -1,\n",
       "       -1,  1,  1, -1,  1, -1,  1, -1,  1,  1,  1, -1, -1, -1,  1, -1,  1,\n",
       "       -1, -1,  1,  1, -1,  1, -1, -1,  1,  1, -1,  1, -1,  1, -1,  1,  1,\n",
       "       -1, -1,  1, -1, -1, -1,  1, -1,  1, -1, -1, -1, -1, -1,  1,  1,  1,\n",
       "        1, -1, -1, -1,  1,  1, -1, -1, -1, -1,  1, -1, -1,  1,  1,  1,  1,\n",
       "        1, -1,  1,  1, -1, -1,  1,  1,  1,  1,  1, -1,  1, -1,  1, -1,  1,\n",
       "       -1, -1, -1,  1,  1, -1,  1,  1,  1,  1, -1, -1,  1,  1,  1, -1, -1,\n",
       "        1,  1,  1, -1, -1, -1, -1,  1,  1, -1,  1, -1,  1, -1, -1,  1,  1,\n",
       "        1, -1,  1,  1,  1, -1, -1, -1,  1, -1,  1,  1, -1, -1, -1,  1, -1,\n",
       "        1,  1, -1, -1, -1,  1,  1, -1, -1, -1,  1, -1, -1,  1, -1, -1,  1,\n",
       "        1, -1,  1,  1,  1,  1,  1, -1, -1,  1,  1,  1, -1,  1, -1,  1,  1,\n",
       "       -1, -1, -1,  1,  1,  1, -1,  1,  1,  1, -1, -1,  1,  1,  1,  1,  1,\n",
       "       -1,  1,  1, -1, -1,  1,  1,  1,  1, -1, -1,  1,  1,  1, -1,  1, -1,\n",
       "        1, -1, -1, -1,  1, -1,  1,  1,  1, -1,  1,  1,  1, -1, -1,  1, -1,\n",
       "       -1,  1,  1, -1,  1,  1, -1, -1,  1, -1, -1,  1,  1,  1, -1,  1, -1,\n",
       "       -1,  1,  1,  1,  1,  1, -1,  1, -1, -1, -1, -1, -1, -1,  1,  1,  1,\n",
       "        1,  1, -1, -1,  1, -1,  1,  1,  1,  1, -1, -1, -1, -1,  1,  1, -1,\n",
       "       -1, -1,  1, -1, -1, -1,  1, -1, -1,  1,  1, -1, -1,  1,  1,  1, -1,\n",
       "        1,  1,  1,  1,  1, -1, -1, -1, -1,  1, -1,  1,  1,  1,  1,  1, -1,\n",
       "       -1, -1,  1,  1,  1,  1,  1, -1,  1,  1, -1, -1, -1,  1, -1,  1, -1,\n",
       "       -1, -1, -1, -1,  1,  1,  1,  1,  1, -1,  1,  1,  1,  1, -1,  1,  1,\n",
       "       -1,  1, -1, -1,  1, -1, -1,  1, -1, -1, -1,  1,  1,  1,  1,  1, -1,\n",
       "       -1, -1,  1, -1, -1, -1, -1, -1, -1,  1,  1,  1, -1, -1, -1, -1,  1,\n",
       "       -1, -1,  1, -1,  1,  1, -1,  1,  1,  1, -1, -1,  1, -1,  1,  1, -1,\n",
       "       -1, -1, -1,  1, -1, -1, -1,  1, -1, -1,  1,  1,  1,  1,  1,  1,  1,\n",
       "       -1,  1, -1, -1,  1,  1,  1, -1,  1,  1,  1, -1,  1, -1, -1,  1,  1,\n",
       "       -1,  1,  1,  1,  1,  1,  1, -1, -1, -1,  1,  1,  1, -1,  1, -1,  1,\n",
       "       -1,  1, -1,  1,  1,  1, -1, -1,  1, -1,  1,  1, -1, -1, -1, -1, -1,\n",
       "       -1,  1,  1,  1,  1,  1, -1,  1,  1,  1,  1,  1, -1, -1,  1, -1,  1,\n",
       "       -1,  1,  1,  1,  1, -1, -1,  1,  1, -1, -1,  1,  1,  1,  1, -1,  1,\n",
       "        1, -1,  1, -1, -1, -1,  1, -1,  1, -1,  1, -1,  1, -1, -1, -1, -1,\n",
       "       -1,  1, -1, -1, -1,  1, -1,  1, -1,  1, -1,  1, -1,  1,  1, -1, -1,\n",
       "       -1,  1, -1,  1,  1,  1, -1,  1, -1, -1, -1, -1, -1,  1, -1, -1,  1,\n",
       "        1, -1,  1,  1, -1,  1, -1, -1, -1, -1,  1,  1, -1, -1,  1,  1, -1,\n",
       "        1, -1, -1,  1, -1, -1,  1, -1,  1,  1,  1,  1, -1, -1, -1, -1, -1,\n",
       "        1, -1,  1, -1,  1, -1,  1,  1,  1,  1,  1, -1,  1,  1, -1,  1,  1,\n",
       "       -1,  1, -1, -1,  1, -1,  1,  1,  1, -1,  1,  1, -1, -1, -1, -1,  1,\n",
       "       -1,  1,  1,  1, -1,  1, -1,  1, -1,  1,  1,  1,  1, -1,  1, -1,  1,\n",
       "        1,  1, -1,  1,  1,  1,  1, -1,  1,  1, -1,  1,  1,  1, -1, -1, -1,\n",
       "       -1,  1, -1,  1,  1, -1, -1, -1,  1, -1,  1,  1,  1, -1,  1, -1,  1,\n",
       "       -1, -1,  1,  1, -1, -1,  1, -1, -1,  1,  1, -1, -1, -1, -1,  1, -1,\n",
       "        1, -1, -1, -1,  1, -1, -1,  1, -1,  1, -1, -1, -1,  1,  1, -1, -1,\n",
       "        1,  1,  1,  1,  1,  1, -1, -1,  1, -1,  1, -1, -1, -1])"
      ]
     },
     "execution_count": 20,
     "metadata": {},
     "output_type": "execute_result"
    }
   ],
   "source": [
    "nsteps = 1000\n",
    "draws = np.random.randint(0, 2, size=nsteps)\n",
    "steps = np.where(draws > 0, 1, -1)\n",
    "steps"
   ]
  },
  {
   "cell_type": "code",
   "execution_count": 21,
   "metadata": {},
   "outputs": [
    {
     "data": {
      "text/plain": [
       "array([ 1,  0, -1, -2, -3, -4, -3, -2, -1,  0, -1,  0, -1,  0,  1,  0,  1,\n",
       "        0,  1,  0, -1,  0,  1,  0,  1,  0,  1,  2,  3,  2,  1,  0, -1,  0,\n",
       "       -1, -2, -3, -2, -1, -2, -3, -2, -1, -2, -3, -2, -3, -4, -3, -4, -5,\n",
       "       -4, -3, -2, -3, -4, -3, -2, -3, -2, -1,  0, -1, -2, -3, -4, -3, -4,\n",
       "       -5, -4, -3, -4, -5, -4, -5, -4, -5, -6, -5, -4, -3, -2, -1, -2, -1,\n",
       "       -2, -1,  0, -1, -2, -3, -2, -3, -4, -3, -2, -3, -2, -3, -2, -1,  0,\n",
       "       -1, -2, -1,  0, -1, -2, -1,  0, -1,  0,  1,  0,  1,  2,  3,  2,  1,\n",
       "        2,  1,  2,  3,  2,  3,  2,  3,  4,  3,  2,  1,  2,  1,  0, -1, -2,\n",
       "       -1, -2, -1,  0, -1, -2, -1,  0, -1, -2, -3, -2, -3, -4, -5, -6, -7,\n",
       "       -8, -7, -8, -7, -6, -5, -6, -5, -6, -5, -6, -7, -6, -7, -6, -5, -4,\n",
       "       -3, -4, -5, -6, -7, -6, -7, -6, -5, -4, -5, -6, -5, -6, -7, -8, -7,\n",
       "       -6, -7, -6, -5, -4, -5, -4, -3, -2, -1, -2, -1, -2, -3, -2, -1, -2,\n",
       "       -3, -4, -5, -4, -3, -2, -1,  0, -1, -2, -1, -2, -3, -2, -1,  0,  1,\n",
       "        2,  1,  0, -1,  0,  1,  0, -1,  0, -1,  0,  1,  2,  1,  2,  3,  4,\n",
       "        3,  2,  1,  2,  1,  0,  1,  2,  3,  2,  1,  2,  1,  0, -1,  0, -1,\n",
       "       -2, -3, -4, -5, -6, -5, -4, -5, -6, -5, -6, -5, -6, -7, -6, -5, -4,\n",
       "       -3, -2, -3, -2, -3, -4, -3, -2, -1,  0,  1,  0, -1,  0,  1,  2,  1,\n",
       "        0,  1,  2,  1,  2,  1,  2,  1,  2,  3,  4,  3,  2,  1,  2,  1,  2,\n",
       "        1,  0,  1,  2,  1,  2,  1,  0,  1,  2,  1,  2,  1,  2,  1,  2,  3,\n",
       "        2,  1,  2,  1,  0, -1,  0, -1,  0, -1, -2, -3, -4, -5, -4, -3, -2,\n",
       "       -1, -2, -3, -4, -3, -2, -3, -4, -5, -6, -5, -6, -7, -6, -5, -4, -3,\n",
       "       -2, -3, -2, -1, -2, -3, -2, -1,  0,  1,  2,  1,  2,  1,  2,  1,  2,\n",
       "        1,  0, -1,  0,  1,  0,  1,  2,  3,  4,  3,  2,  3,  4,  5,  4,  3,\n",
       "        4,  5,  6,  5,  4,  3,  2,  3,  4,  3,  4,  3,  4,  3,  2,  3,  4,\n",
       "        5,  4,  5,  6,  7,  6,  5,  4,  5,  4,  5,  6,  5,  4,  3,  4,  3,\n",
       "        4,  5,  4,  3,  2,  3,  4,  3,  2,  1,  2,  1,  0,  1,  0, -1,  0,\n",
       "        1,  0,  1,  2,  3,  4,  5,  4,  3,  4,  5,  6,  5,  6,  5,  6,  7,\n",
       "        6,  5,  4,  5,  6,  7,  6,  7,  8,  9,  8,  7,  8,  9, 10, 11, 12,\n",
       "       11, 12, 13, 12, 11, 12, 13, 14, 15, 14, 13, 14, 15, 16, 15, 16, 15,\n",
       "       16, 15, 14, 13, 14, 13, 14, 15, 16, 15, 16, 17, 18, 17, 16, 17, 16,\n",
       "       15, 16, 17, 16, 17, 18, 17, 16, 17, 16, 15, 16, 17, 18, 17, 18, 17,\n",
       "       16, 17, 18, 19, 20, 21, 20, 21, 20, 19, 18, 17, 16, 15, 16, 17, 18,\n",
       "       19, 20, 19, 18, 19, 18, 19, 20, 21, 22, 21, 20, 19, 18, 19, 20, 19,\n",
       "       18, 17, 18, 17, 16, 15, 16, 15, 14, 15, 16, 15, 14, 15, 16, 17, 16,\n",
       "       17, 18, 19, 20, 21, 20, 19, 18, 17, 18, 17, 18, 19, 20, 21, 22, 21,\n",
       "       20, 19, 20, 21, 22, 23, 24, 23, 24, 25, 24, 23, 22, 23, 22, 23, 22,\n",
       "       21, 20, 19, 18, 19, 20, 21, 22, 23, 22, 23, 24, 25, 26, 25, 26, 27,\n",
       "       26, 27, 26, 25, 26, 25, 24, 25, 24, 23, 22, 23, 24, 25, 26, 27, 26,\n",
       "       25, 24, 25, 24, 23, 22, 21, 20, 19, 20, 21, 22, 21, 20, 19, 18, 19,\n",
       "       18, 17, 18, 17, 18, 19, 18, 19, 20, 21, 20, 19, 20, 19, 20, 21, 20,\n",
       "       19, 18, 17, 18, 17, 16, 15, 16, 15, 14, 15, 16, 17, 18, 19, 20, 21,\n",
       "       20, 21, 20, 19, 20, 21, 22, 21, 22, 23, 24, 23, 24, 23, 22, 23, 24,\n",
       "       23, 24, 25, 26, 27, 28, 29, 28, 27, 26, 27, 28, 29, 28, 29, 28, 29,\n",
       "       28, 29, 28, 29, 30, 31, 30, 29, 30, 29, 30, 31, 30, 29, 28, 27, 26,\n",
       "       25, 26, 27, 28, 29, 30, 29, 30, 31, 32, 33, 34, 33, 32, 33, 32, 33,\n",
       "       32, 33, 34, 35, 36, 35, 34, 35, 36, 35, 34, 35, 36, 37, 38, 37, 38,\n",
       "       39, 38, 39, 38, 37, 36, 37, 36, 37, 36, 37, 36, 37, 36, 35, 34, 33,\n",
       "       32, 33, 32, 31, 30, 31, 30, 31, 30, 31, 30, 31, 30, 31, 32, 31, 30,\n",
       "       29, 30, 29, 30, 31, 32, 31, 32, 31, 30, 29, 28, 27, 28, 27, 26, 27,\n",
       "       28, 27, 28, 29, 28, 29, 28, 27, 26, 25, 26, 27, 26, 25, 26, 27, 26,\n",
       "       27, 26, 25, 26, 25, 24, 25, 24, 25, 26, 27, 28, 27, 26, 25, 24, 23,\n",
       "       24, 23, 24, 23, 24, 23, 24, 25, 26, 27, 28, 27, 28, 29, 28, 29, 30,\n",
       "       29, 30, 29, 28, 29, 28, 29, 30, 31, 30, 31, 32, 31, 30, 29, 28, 29,\n",
       "       28, 29, 30, 31, 30, 31, 30, 31, 30, 31, 32, 33, 34, 33, 34, 33, 34,\n",
       "       35, 36, 35, 36, 37, 38, 39, 38, 39, 40, 39, 40, 41, 42, 41, 40, 39,\n",
       "       38, 39, 38, 39, 40, 39, 38, 37, 38, 37, 38, 39, 40, 39, 40, 39, 40,\n",
       "       39, 38, 39, 40, 39, 38, 39, 38, 37, 38, 39, 38, 37, 36, 35, 36, 35,\n",
       "       36, 35, 34, 33, 34, 33, 32, 33, 32, 33, 32, 31, 30, 31, 32, 31, 30,\n",
       "       31, 32, 33, 34, 35, 36, 35, 34, 35, 34, 35, 34, 33, 32])"
      ]
     },
     "execution_count": 21,
     "metadata": {},
     "output_type": "execute_result"
    }
   ],
   "source": [
    "walk = steps.cumsum()\n",
    "walk"
   ]
  },
  {
   "cell_type": "code",
   "execution_count": 22,
   "metadata": {},
   "outputs": [
    {
     "data": {
      "text/plain": [
       "-8"
      ]
     },
     "execution_count": 22,
     "metadata": {},
     "output_type": "execute_result"
    }
   ],
   "source": [
    "walk.min()"
   ]
  },
  {
   "cell_type": "code",
   "execution_count": 23,
   "metadata": {},
   "outputs": [
    {
     "data": {
      "text/plain": [
       "42"
      ]
     },
     "execution_count": 23,
     "metadata": {},
     "output_type": "execute_result"
    }
   ],
   "source": [
    "walk.max()"
   ]
  },
  {
   "cell_type": "code",
   "execution_count": 25,
   "metadata": {},
   "outputs": [
    {
     "data": {
      "text/plain": [
       "array([False, False, False, False, False, False, False, False, False,\n",
       "       False, False, False, False, False, False, False, False, False,\n",
       "       False, False, False, False, False, False, False, False, False,\n",
       "       False, False, False, False, False, False, False, False, False,\n",
       "       False, False, False, False, False, False, False, False, False,\n",
       "       False, False, False, False, False, False, False, False, False,\n",
       "       False, False, False, False, False, False, False, False, False,\n",
       "       False, False, False, False, False, False, False, False, False,\n",
       "       False, False, False, False, False, False, False, False, False,\n",
       "       False, False, False, False, False, False, False, False, False,\n",
       "       False, False, False, False, False, False, False, False, False,\n",
       "       False, False, False, False, False, False, False, False, False,\n",
       "       False, False, False, False, False, False, False, False, False,\n",
       "       False, False, False, False, False, False, False, False, False,\n",
       "       False, False, False, False, False, False, False, False, False,\n",
       "       False, False, False, False, False, False, False, False, False,\n",
       "       False, False, False, False, False, False, False, False, False,\n",
       "       False, False, False, False, False, False, False, False, False,\n",
       "       False, False, False, False, False, False, False, False, False,\n",
       "       False, False, False, False, False, False, False, False, False,\n",
       "       False, False, False, False, False, False, False, False, False,\n",
       "       False, False, False, False, False, False, False, False, False,\n",
       "       False, False, False, False, False, False, False, False, False,\n",
       "       False, False, False, False, False, False, False, False, False,\n",
       "       False, False, False, False, False, False, False, False, False,\n",
       "       False, False, False, False, False, False, False, False, False,\n",
       "       False, False, False, False, False, False, False, False, False,\n",
       "       False, False, False, False, False, False, False, False, False,\n",
       "       False, False, False, False, False, False, False, False, False,\n",
       "       False, False, False, False, False, False, False, False, False,\n",
       "       False, False, False, False, False, False, False, False, False,\n",
       "       False, False, False, False, False, False, False, False, False,\n",
       "       False, False, False, False, False, False, False, False, False,\n",
       "       False, False, False, False, False, False, False, False, False,\n",
       "       False, False, False, False, False, False, False, False, False,\n",
       "       False, False, False, False, False, False, False, False, False,\n",
       "       False, False, False, False, False, False, False, False, False,\n",
       "       False, False, False, False, False, False, False, False, False,\n",
       "       False, False, False, False, False, False, False, False, False,\n",
       "       False, False, False, False, False, False, False, False, False,\n",
       "       False, False, False, False, False, False, False, False, False,\n",
       "       False, False, False, False, False, False, False, False, False,\n",
       "       False, False, False, False, False, False, False, False, False,\n",
       "       False, False, False, False, False, False, False, False, False,\n",
       "       False, False, False, False, False, False, False, False, False,\n",
       "       False, False, False, False, False, False, False, False, False,\n",
       "       False, False, False, False, False, False, False, False, False,\n",
       "       False, False, False, False, False, False, False, False, False,\n",
       "       False, False, False, False, False, False, False, False, False,\n",
       "       False, False, False, False, False, False, False, False, False,\n",
       "       False, False, False, False, False, False, False, False, False,\n",
       "       False, False, False, False, False, False, False, False, False,\n",
       "       False, False, False, False, False,  True,  True,  True,  True,\n",
       "        True,  True,  True,  True,  True,  True,  True,  True,  True,\n",
       "        True,  True,  True,  True,  True,  True,  True,  True,  True,\n",
       "        True,  True,  True,  True,  True,  True,  True,  True,  True,\n",
       "        True,  True,  True,  True,  True,  True,  True,  True,  True,\n",
       "        True,  True,  True,  True,  True,  True,  True,  True,  True,\n",
       "        True,  True,  True,  True,  True,  True,  True,  True,  True,\n",
       "        True,  True,  True,  True,  True,  True,  True,  True,  True,\n",
       "        True,  True,  True,  True,  True,  True,  True,  True,  True,\n",
       "        True,  True,  True,  True,  True,  True,  True,  True,  True,\n",
       "        True,  True,  True,  True,  True,  True,  True,  True,  True,\n",
       "        True,  True,  True,  True,  True,  True,  True,  True,  True,\n",
       "        True,  True,  True,  True,  True,  True,  True,  True,  True,\n",
       "        True,  True,  True,  True,  True,  True,  True,  True,  True,\n",
       "        True,  True,  True,  True,  True,  True,  True,  True,  True,\n",
       "        True,  True,  True,  True,  True,  True,  True,  True,  True,\n",
       "        True,  True,  True,  True,  True,  True,  True,  True,  True,\n",
       "        True,  True,  True,  True,  True,  True,  True,  True,  True,\n",
       "        True,  True,  True,  True,  True,  True,  True,  True,  True,\n",
       "        True,  True,  True,  True,  True,  True,  True,  True,  True,\n",
       "        True,  True,  True,  True,  True,  True,  True,  True,  True,\n",
       "        True,  True,  True,  True,  True,  True,  True,  True,  True,\n",
       "        True,  True,  True,  True,  True,  True,  True,  True,  True,\n",
       "        True,  True,  True,  True,  True,  True,  True,  True,  True,\n",
       "        True,  True,  True,  True,  True,  True,  True,  True,  True,\n",
       "        True,  True,  True,  True,  True,  True,  True,  True,  True,\n",
       "        True,  True,  True,  True,  True,  True,  True,  True,  True,\n",
       "        True,  True,  True,  True,  True,  True,  True,  True,  True,\n",
       "        True,  True,  True,  True,  True,  True,  True,  True,  True,\n",
       "        True,  True,  True,  True,  True,  True,  True,  True,  True,\n",
       "        True,  True,  True,  True,  True,  True,  True,  True,  True,\n",
       "        True,  True,  True,  True,  True,  True,  True,  True,  True,\n",
       "        True,  True,  True,  True,  True,  True,  True,  True,  True,\n",
       "        True,  True,  True,  True,  True,  True,  True,  True,  True,\n",
       "        True,  True,  True,  True,  True,  True,  True,  True,  True,\n",
       "        True,  True,  True,  True,  True,  True,  True,  True,  True,\n",
       "        True,  True,  True,  True,  True,  True,  True,  True,  True,\n",
       "        True,  True,  True,  True,  True,  True,  True,  True,  True,\n",
       "        True,  True,  True,  True,  True,  True,  True,  True,  True,\n",
       "        True,  True,  True,  True,  True,  True,  True,  True,  True,\n",
       "        True,  True,  True,  True,  True,  True,  True,  True,  True,\n",
       "        True,  True,  True,  True,  True,  True,  True,  True,  True,\n",
       "        True,  True,  True,  True,  True,  True,  True,  True,  True,\n",
       "        True,  True,  True,  True,  True,  True,  True,  True,  True,\n",
       "        True,  True,  True,  True,  True,  True,  True,  True,  True,\n",
       "        True,  True,  True,  True,  True,  True,  True,  True,  True,\n",
       "        True,  True,  True,  True,  True,  True,  True,  True,  True,\n",
       "        True,  True,  True,  True,  True,  True,  True,  True,  True,\n",
       "        True,  True,  True,  True,  True,  True,  True,  True,  True,\n",
       "        True,  True,  True,  True,  True,  True,  True,  True,  True,\n",
       "        True,  True,  True,  True,  True,  True,  True,  True,  True,\n",
       "        True,  True,  True,  True,  True,  True,  True,  True,  True,\n",
       "        True,  True,  True,  True,  True,  True,  True,  True,  True,\n",
       "        True,  True,  True,  True,  True,  True,  True,  True,  True,\n",
       "        True,  True,  True,  True,  True,  True,  True,  True,  True,\n",
       "        True,  True,  True,  True,  True,  True,  True,  True,  True,\n",
       "        True,  True,  True,  True,  True,  True,  True,  True,  True,\n",
       "        True,  True,  True,  True,  True,  True,  True,  True,  True,\n",
       "        True,  True,  True,  True,  True,  True,  True,  True,  True,\n",
       "        True])"
      ]
     },
     "execution_count": 25,
     "metadata": {},
     "output_type": "execute_result"
    }
   ],
   "source": [
    "(np.abs(walk) >= 10)"
   ]
  },
  {
   "cell_type": "code",
   "execution_count": 24,
   "metadata": {},
   "outputs": [
    {
     "data": {
      "text/plain": [
       "473"
      ]
     },
     "execution_count": 24,
     "metadata": {},
     "output_type": "execute_result"
    }
   ],
   "source": [
    "# argmax() returns the first index of the maximum value in the\n",
    "# boolean array ( True is the maximum value): -> return first True value's index\n",
    "(np.abs(walk) >= 10).argmax()"
   ]
  },
  {
   "cell_type": "code",
   "execution_count": 41,
   "metadata": {},
   "outputs": [
    {
     "name": "stdout",
     "output_type": "stream",
     "text": [
      "False\n",
      "False\n",
      "----------first True-index473-----------\n",
      "True\n",
      "True\n"
     ]
    }
   ],
   "source": [
    "print((np.abs(walk) >= 10)[471])\n",
    "print((np.abs(walk) >= 10)[472])\n",
    "print(\"----------first True-index473-----------\")\n",
    "print((np.abs(walk) >= 10)[473])\n",
    "print((np.abs(walk) >= 10)[474])"
   ]
  },
  {
   "cell_type": "code",
   "execution_count": 26,
   "metadata": {},
   "outputs": [
    {
     "data": {
      "text/plain": [
       "array([[10, 11, 12],\n",
       "       [13, 14, 15]])"
      ]
     },
     "execution_count": 26,
     "metadata": {},
     "output_type": "execute_result"
    }
   ],
   "source": [
    "#test\n",
    "a = np.arange(6).reshape(2,3) + 10\n",
    "a"
   ]
  },
  {
   "cell_type": "code",
   "execution_count": 27,
   "metadata": {},
   "outputs": [
    {
     "data": {
      "text/plain": [
       "5"
      ]
     },
     "execution_count": 27,
     "metadata": {},
     "output_type": "execute_result"
    }
   ],
   "source": [
    "np.argmax(a)"
   ]
  },
  {
   "cell_type": "code",
   "execution_count": 30,
   "metadata": {},
   "outputs": [
    {
     "data": {
      "text/plain": [
       "array([1, 1, 1])"
      ]
     },
     "execution_count": 30,
     "metadata": {},
     "output_type": "execute_result"
    }
   ],
   "source": [
    "np.argmax(a, axis=0) #row-wise max value's index"
   ]
  },
  {
   "cell_type": "code",
   "execution_count": 29,
   "metadata": {},
   "outputs": [
    {
     "data": {
      "text/plain": [
       "array([2, 2])"
      ]
     },
     "execution_count": 29,
     "metadata": {},
     "output_type": "execute_result"
    }
   ],
   "source": [
    "np.argmax(a, axis=1)"
   ]
  },
  {
   "cell_type": "code",
   "execution_count": 32,
   "metadata": {},
   "outputs": [
    {
     "data": {
      "text/plain": [
       "(1, 2)"
      ]
     },
     "execution_count": 32,
     "metadata": {},
     "output_type": "execute_result"
    }
   ],
   "source": [
    "#Indexes of the maximal elements of a N-dimensional array:\n",
    "index_of_2d_max_val = np.unravel_index(np.argmax(a, axis=None), a.shape) #a: (2,3) 2-d array\n",
    "index_of_2d_max_val"
   ]
  },
  {
   "cell_type": "code",
   "execution_count": 33,
   "metadata": {},
   "outputs": [
    {
     "data": {
      "text/plain": [
       "15"
      ]
     },
     "execution_count": 33,
     "metadata": {},
     "output_type": "execute_result"
    }
   ],
   "source": [
    "a[index_of_2d_max_val] #value of index(1,2) -> max value"
   ]
  },
  {
   "cell_type": "code",
   "execution_count": 36,
   "metadata": {},
   "outputs": [
    {
     "name": "stdout",
     "output_type": "stream",
     "text": [
      "[0 5 2 3 4 5]\n"
     ]
    },
    {
     "data": {
      "text/plain": [
       "1"
      ]
     },
     "execution_count": 36,
     "metadata": {},
     "output_type": "execute_result"
    }
   ],
   "source": [
    "#only first max value's index\n",
    "b = np.arange(6)\n",
    "b[1] = 5\n",
    "print(b)\n",
    "np.argmax(b)"
   ]
  },
  {
   "cell_type": "markdown",
   "metadata": {},
   "source": [
    "### Simulating Many Random Walks at Once"
   ]
  },
  {
   "cell_type": "code",
   "execution_count": 83,
   "metadata": {},
   "outputs": [
    {
     "data": {
      "text/plain": [
       "array([[0, 0, 1, ..., 0, 0, 1],\n",
       "       [0, 1, 0, ..., 0, 0, 1],\n",
       "       [1, 0, 0, ..., 1, 1, 1],\n",
       "       ...,\n",
       "       [0, 0, 0, ..., 0, 1, 0],\n",
       "       [0, 0, 1, ..., 0, 1, 1],\n",
       "       [0, 1, 0, ..., 1, 0, 1]])"
      ]
     },
     "execution_count": 83,
     "metadata": {},
     "output_type": "execute_result"
    }
   ],
   "source": [
    "nwalks = 5000\n",
    "nsteps = 1000\n",
    "draws = np.random.randint(0, 2, size=(nwalks, nsteps)) # 0 or 1 (5000, 1000)-2d array\n",
    "draws"
   ]
  },
  {
   "cell_type": "code",
   "execution_count": 84,
   "metadata": {},
   "outputs": [
    {
     "data": {
      "text/plain": [
       "array([[-1, -1,  1, ..., -1, -1,  1],\n",
       "       [-1,  1, -1, ..., -1, -1,  1],\n",
       "       [ 1, -1, -1, ...,  1,  1,  1],\n",
       "       ...,\n",
       "       [-1, -1, -1, ..., -1,  1, -1],\n",
       "       [-1, -1,  1, ..., -1,  1,  1],\n",
       "       [-1,  1, -1, ...,  1, -1,  1]])"
      ]
     },
     "execution_count": 84,
     "metadata": {},
     "output_type": "execute_result"
    }
   ],
   "source": [
    "steps = np.where(draws > 0, 1, -1)\n",
    "steps"
   ]
  },
  {
   "cell_type": "code",
   "execution_count": 85,
   "metadata": {},
   "outputs": [
    {
     "data": {
      "text/plain": [
       "array([[ -1,  -2,  -1, ...,  -4,  -5,  -4],\n",
       "       [ -1,   0,  -1, ..., -26, -27, -26],\n",
       "       [  1,   0,  -1, ...,  48,  49,  50],\n",
       "       ...,\n",
       "       [ -1,  -2,  -3, ...,  10,  11,  10],\n",
       "       [ -1,  -2,  -1, ..., -16, -15, -14],\n",
       "       [ -1,   0,  -1, ..., -40, -41, -40]])"
      ]
     },
     "execution_count": 85,
     "metadata": {},
     "output_type": "execute_result"
    }
   ],
   "source": [
    "walks = steps.cumsum(1) #column-wise cumulative sum\n",
    "walks"
   ]
  },
  {
   "cell_type": "code",
   "execution_count": 86,
   "metadata": {},
   "outputs": [
    {
     "data": {
      "text/plain": [
       "113"
      ]
     },
     "execution_count": 86,
     "metadata": {},
     "output_type": "execute_result"
    }
   ],
   "source": [
    "walks.max()"
   ]
  },
  {
   "cell_type": "code",
   "execution_count": 87,
   "metadata": {},
   "outputs": [
    {
     "data": {
      "text/plain": [
       "-118"
      ]
     },
     "execution_count": 87,
     "metadata": {},
     "output_type": "execute_result"
    }
   ],
   "source": [
    "walks.min()"
   ]
  },
  {
   "cell_type": "code",
   "execution_count": 88,
   "metadata": {},
   "outputs": [
    {
     "name": "stdout",
     "output_type": "stream",
     "text": [
      "(5000, 1000)\n"
     ]
    },
    {
     "data": {
      "text/plain": [
       "array([[False, False, False, ..., False, False, False],\n",
       "       [False, False, False, ..., False, False, False],\n",
       "       [False, False, False, ...,  True,  True,  True],\n",
       "       ...,\n",
       "       [False, False, False, ..., False, False, False],\n",
       "       [False, False, False, ..., False, False, False],\n",
       "       [False, False, False, ...,  True,  True,  True]])"
      ]
     },
     "execution_count": 88,
     "metadata": {},
     "output_type": "execute_result"
    }
   ],
   "source": [
    "#test\n",
    "print((np.abs(walks) >= 30).shape)\n",
    "(np.abs(walks) >= 30)"
   ]
  },
  {
   "cell_type": "code",
   "execution_count": 54,
   "metadata": {},
   "outputs": [
    {
     "name": "stdout",
     "output_type": "stream",
     "text": [
      "(1000,)\n"
     ]
    },
    {
     "data": {
      "text/plain": [
       "array([False, False, False, False, False, False, False, False, False,\n",
       "       False, False, False, False, False, False, False, False, False,\n",
       "       False, False, False, False, False, False, False, False, False,\n",
       "       False, False, False, False, False, False, False, False, False,\n",
       "       False, False, False, False, False, False, False, False, False,\n",
       "       False, False, False, False, False, False, False, False, False,\n",
       "       False, False, False, False, False, False, False, False, False,\n",
       "       False, False, False, False, False, False, False, False, False,\n",
       "       False, False, False, False, False, False, False, False, False,\n",
       "       False, False, False, False, False, False, False, False, False,\n",
       "       False, False, False, False, False, False, False, False, False,\n",
       "       False, False, False, False, False, False, False, False, False,\n",
       "       False, False, False, False, False, False, False, False, False,\n",
       "       False, False, False, False, False, False, False, False, False,\n",
       "       False, False, False, False, False, False, False, False, False,\n",
       "       False, False, False, False, False, False, False, False, False,\n",
       "       False, False, False, False, False, False, False, False, False,\n",
       "       False, False, False, False, False, False, False, False, False,\n",
       "       False, False, False, False, False, False, False, False, False,\n",
       "       False, False, False, False, False, False, False, False, False,\n",
       "       False, False, False, False, False, False, False, False, False,\n",
       "       False, False, False, False, False, False, False, False, False,\n",
       "       False, False, False, False, False, False, False, False, False,\n",
       "       False, False, False, False, False, False, False, False, False,\n",
       "       False, False, False, False, False, False, False, False, False,\n",
       "       False, False, False, False, False, False, False, False, False,\n",
       "       False, False, False, False, False, False, False, False, False,\n",
       "       False, False, False, False, False, False, False, False, False,\n",
       "       False, False, False, False, False, False, False, False, False,\n",
       "       False, False, False, False, False, False, False, False, False,\n",
       "       False, False, False, False, False, False, False, False, False,\n",
       "       False, False, False, False, False, False, False, False, False,\n",
       "       False, False, False, False, False, False, False, False, False,\n",
       "       False, False, False, False, False, False, False, False, False,\n",
       "       False, False, False, False, False, False, False, False, False,\n",
       "       False, False, False, False, False, False, False, False, False,\n",
       "       False, False, False, False, False, False, False, False, False,\n",
       "       False, False, False, False, False, False, False, False, False,\n",
       "       False, False, False, False, False, False, False, False, False,\n",
       "       False, False, False, False, False, False, False, False, False,\n",
       "       False, False, False, False, False, False, False, False, False,\n",
       "       False, False, False, False, False, False, False, False, False,\n",
       "       False, False, False, False, False, False, False, False, False,\n",
       "       False, False, False, False, False, False, False, False, False,\n",
       "       False, False, False, False, False, False, False, False, False,\n",
       "       False, False, False, False, False, False, False, False, False,\n",
       "       False, False, False, False, False, False, False, False, False,\n",
       "       False, False, False, False, False, False, False, False, False,\n",
       "       False, False, False, False, False, False, False, False, False,\n",
       "       False, False, False, False, False, False, False, False, False,\n",
       "       False, False, False, False, False, False, False, False, False,\n",
       "       False, False, False, False, False, False, False, False, False,\n",
       "       False, False, False, False, False, False, False, False, False,\n",
       "       False, False, False, False, False, False, False, False, False,\n",
       "       False, False, False, False, False, False, False, False, False,\n",
       "       False, False, False, False, False, False, False, False, False,\n",
       "       False, False, False, False, False, False, False, False, False,\n",
       "       False, False, False, False, False, False, False, False, False,\n",
       "       False, False, False, False, False, False, False, False, False,\n",
       "       False, False, False, False, False, False, False, False, False,\n",
       "       False, False, False, False, False, False, False, False, False,\n",
       "       False, False, False, False, False, False, False, False, False,\n",
       "       False, False, False, False, False, False, False, False, False,\n",
       "       False, False, False, False, False, False, False, False, False,\n",
       "       False, False, False, False, False, False, False, False, False,\n",
       "       False, False, False, False, False, False, False, False, False,\n",
       "       False, False, False, False, False, False, False, False, False,\n",
       "       False, False, False, False, False, False, False, False, False,\n",
       "       False, False, False, False, False, False, False, False, False,\n",
       "       False, False, False, False, False, False, False, False, False,\n",
       "       False, False, False, False, False, False, False, False, False,\n",
       "       False, False, False, False, False, False, False, False, False,\n",
       "       False, False, False, False, False, False, False, False, False,\n",
       "       False, False, False, False, False, False, False, False, False,\n",
       "       False, False, False, False, False, False, False, False, False,\n",
       "       False, False, False, False, False, False, False, False, False,\n",
       "       False, False, False, False, False, False, False, False, False,\n",
       "       False, False, False, False, False, False, False, False, False,\n",
       "       False, False, False, False, False, False, False, False, False,\n",
       "       False, False, False, False, False, False, False, False, False,\n",
       "       False, False, False, False, False, False, False, False, False,\n",
       "       False, False, False, False, False, False, False, False, False,\n",
       "       False, False, False, False, False, False, False, False, False,\n",
       "       False, False, False, False, False, False, False, False, False,\n",
       "       False, False, False, False, False, False, False, False, False,\n",
       "       False, False, False, False, False, False, False, False, False,\n",
       "       False, False, False, False, False, False, False, False, False,\n",
       "       False, False, False, False, False, False, False, False, False,\n",
       "       False, False, False, False, False, False, False, False, False,\n",
       "       False, False, False, False, False, False, False, False, False,\n",
       "       False, False, False, False, False, False, False, False, False,\n",
       "       False, False, False, False, False, False, False, False, False,\n",
       "       False, False, False, False, False, False, False, False, False,\n",
       "       False, False, False, False, False, False, False, False, False,\n",
       "       False, False, False, False, False, False, False, False, False,\n",
       "       False, False, False, False, False, False, False, False, False,\n",
       "       False, False, False, False, False, False, False, False, False,\n",
       "       False, False, False, False, False, False, False, False, False,\n",
       "       False, False, False, False, False, False, False, False, False,\n",
       "       False, False, False, False, False, False, False, False, False,\n",
       "       False, False, False, False, False, False, False, False, False,\n",
       "       False, False, False, False, False, False, False, False, False,\n",
       "       False, False, False, False, False, False, False, False, False,\n",
       "       False, False, False, False, False, False, False, False, False,\n",
       "       False, False, False, False, False, False, False, False, False,\n",
       "       False, False, False, False, False, False, False, False, False,\n",
       "       False, False, False, False, False, False, False, False, False,\n",
       "       False, False, False, False, False, False, False, False, False,\n",
       "       False, False, False, False, False, False, False, False, False,\n",
       "       False, False, False, False, False, False, False, False, False,\n",
       "       False, False, False, False, False, False, False, False, False,\n",
       "       False])"
      ]
     },
     "execution_count": 54,
     "metadata": {},
     "output_type": "execute_result"
    }
   ],
   "source": [
    "#test\n",
    "print((np.abs(walks) >= 30)[0].shape ) # first row consists of 1000 columns\n",
    "(np.abs(walks) >= 30)[0]#all False for 1st row consists of 1000 columns"
   ]
  },
  {
   "cell_type": "markdown",
   "metadata": {},
   "source": [
    "Out of these walks, let’s compute the minimum crossing time to 30 or –30.(not all 5,000 of them reach 30. Use any)"
   ]
  },
  {
   "cell_type": "code",
   "execution_count": 76,
   "metadata": {},
   "outputs": [
    {
     "name": "stdout",
     "output_type": "stream",
     "text": [
      "(5000,)\n"
     ]
    },
    {
     "data": {
      "text/plain": [
       "array([False,  True, False, ...,  True, False, False])"
      ]
     },
     "execution_count": 76,
     "metadata": {},
     "output_type": "execute_result"
    }
   ],
   "source": [
    "hits30 = (np.abs(walks) >= 30).any(1) # In a row,for all column-wise elements, if there is any value >= 30 -> True\n",
    "print(hits30.shape) #5000 rows\n",
    "hits30"
   ]
  },
  {
   "cell_type": "code",
   "execution_count": 77,
   "metadata": {},
   "outputs": [
    {
     "data": {
      "text/plain": [
       "3389"
      ]
     },
     "execution_count": 77,
     "metadata": {},
     "output_type": "execute_result"
    }
   ],
   "source": [
    "hits30.sum() # Number that hit 30 or -30 (number row which has at least one True across columns)"
   ]
  },
  {
   "cell_type": "code",
   "execution_count": 78,
   "metadata": {},
   "outputs": [
    {
     "name": "stdout",
     "output_type": "stream",
     "text": [
      "----walks-------------------------------------------------------------------------\n",
      "(5000, 1000)\n",
      "[[ -1   0  -1 ...   6   7   6]\n",
      " [  1   0   1 ...   8   9  10]\n",
      " [  1   2   3 ...  12  13  14]\n",
      " ...\n",
      " [  1   0  -1 ... -54 -55 -56]\n",
      " [  1   0  -1 ... -16 -17 -16]\n",
      " [ -1   0  -1 ...  -6  -7  -6]]\n",
      "----hits30---5000 rows, each of row:True only if at least one column >= 30--------\n",
      "(5000,)\n",
      "[False  True False ...  True False False]\n",
      "==========rows with True( at least one column >= 30) with 1000 columns==========\n",
      "(3389, 1000)\n"
     ]
    },
    {
     "data": {
      "text/plain": [
       "array([[ 1,  0,  1, ...,  8,  9, 10],\n",
       "       [ 1,  0,  1, ..., 46, 47, 46],\n",
       "       [ 1,  0,  1, ..., 18, 17, 18],\n",
       "       ...,\n",
       "       [ 1,  0,  1, ..., 36, 35, 36],\n",
       "       [ 1,  2,  3, ..., 18, 19, 18],\n",
       "       [ 1,  0,  1, ..., 54, 55, 56]])"
      ]
     },
     "execution_count": 78,
     "metadata": {},
     "output_type": "execute_result"
    }
   ],
   "source": [
    "#test\n",
    "print(\"----walks-------------------------------------------------------------------------\")\n",
    "print(walks.shape)\n",
    "print(walks)\n",
    "\n",
    "print(\"----hits30---5000 rows, each of row:True only if at least one column >= 30--------\")\n",
    "print(hits30.shape)\n",
    "print(hits30)\n",
    "\n",
    "print(\"==========rows with True( at least one column >= 30) with 1000 columns==========\")\n",
    "print(np.abs(walks[hits30]).shape)\n",
    "np.abs(walks[hits30])"
   ]
  },
  {
   "cell_type": "markdown",
   "metadata": {},
   "source": [
    "We can use boolean array, hits30[False  True False ...  True False False] to select out the rows of walks that actually cross the absolute 30 level and call argmax across axis 1 to get the crossing times:"
   ]
  },
  {
   "cell_type": "code",
   "execution_count": 82,
   "metadata": {},
   "outputs": [
    {
     "name": "stdout",
     "output_type": "stream",
     "text": [
      "(3389, 1000)\n"
     ]
    },
    {
     "data": {
      "text/plain": [
       "array([[False, False, False, ..., False, False, False],\n",
       "       [False, False, False, ...,  True,  True,  True],\n",
       "       [False, False, False, ..., False, False, False],\n",
       "       ...,\n",
       "       [False, False, False, ...,  True,  True,  True],\n",
       "       [False, False, False, ..., False, False, False],\n",
       "       [False, False, False, ...,  True,  True,  True]])"
      ]
     },
     "execution_count": 82,
     "metadata": {},
     "output_type": "execute_result"
    }
   ],
   "source": [
    "#test\n",
    "print( (np.abs(walks[hits30]) >= 30).shape )\n",
    "np.abs(walks[hits30]) >= 30"
   ]
  },
  {
   "cell_type": "code",
   "execution_count": 79,
   "metadata": {},
   "outputs": [
    {
     "data": {
      "text/plain": [
       "503.0578341693715"
      ]
     },
     "execution_count": 79,
     "metadata": {},
     "output_type": "execute_result"
    }
   ],
   "source": [
    "crossing_times = (np.abs(walks[hits30]) >= 30).argmax(1) #In a row for all columns, first True 's index\n",
    "crossing_times.mean()"
   ]
  },
  {
   "cell_type": "markdown",
   "metadata": {},
   "source": [
    "#### normal(mean, std_variation, size=(row, column)) \n",
    "    * np.random.normal(loc=0, scale=0.25,\n",
    "                         size=(nwalks, nsteps))"
   ]
  },
  {
   "cell_type": "code",
   "execution_count": 89,
   "metadata": {},
   "outputs": [
    {
     "data": {
      "text/plain": [
       "array([[-0.01530765,  0.31737337, -0.48576156, ...,  0.07369825,\n",
       "         0.32044659,  0.11523858],\n",
       "       [ 0.14229683, -0.2926846 ,  0.12700988, ...,  0.1232333 ,\n",
       "        -0.15899696, -0.01624805],\n",
       "       [-0.48359747,  0.03450848,  0.04271223, ..., -0.02768219,\n",
       "        -0.14332061, -0.05862137],\n",
       "       ...,\n",
       "       [ 0.29419761,  0.21032134,  0.11033733, ...,  0.07385653,\n",
       "         0.0571997 , -0.22961058],\n",
       "       [-0.20016049, -0.32138936,  0.41836948, ...,  0.19590574,\n",
       "        -0.01297895,  0.38326207],\n",
       "       [-0.22445469, -0.1216921 , -0.2568661 , ..., -0.34567041,\n",
       "         0.02126605, -0.01311631]])"
      ]
     },
     "execution_count": 89,
     "metadata": {},
     "output_type": "execute_result"
    }
   ],
   "source": [
    "steps = np.random.normal(loc=0, scale=0.25,\n",
    "                         size=(nwalks, nsteps))\n",
    "steps"
   ]
  },
  {
   "cell_type": "markdown",
   "metadata": {},
   "source": [
    "## Conclusion"
   ]
  }
 ],
 "metadata": {
  "kernelspec": {
   "display_name": "Python 3",
   "language": "python",
   "name": "python3"
  },
  "language_info": {
   "codemirror_mode": {
    "name": "ipython",
    "version": 3
   },
   "file_extension": ".py",
   "mimetype": "text/x-python",
   "name": "python",
   "nbconvert_exporter": "python",
   "pygments_lexer": "ipython3",
   "version": "3.7.5"
  }
 },
 "nbformat": 4,
 "nbformat_minor": 1
}
