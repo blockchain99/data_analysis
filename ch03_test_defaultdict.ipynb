{
 "cells": [
  {
   "cell_type": "code",
   "execution_count": 2,
   "metadata": {},
   "outputs": [
    {
     "name": "stdout",
     "output_type": "stream",
     "text": [
      "new key:a for my_dict: {'a': []} with word:apple\n",
      "------------apple-------------\n",
      "my_dict: {'a': None} with word:abocado\n",
      "------------abocado-------------\n",
      "new key:b for my_dict: {'a': None, 'b': []} with word:banana\n",
      "------------banana-------------\n",
      "my_dict: {'a': None, 'b': None} with word:bread\n",
      "------------bread-------------\n",
      "{'a': None, 'b': None}\n"
     ]
    }
   ],
   "source": [
    "#not working!\n",
    "words = ['apple','abocado','banana','bread']\n",
    "my_dict = {}\n",
    "for word in words:\n",
    "    letter = word[0]\n",
    "    if letter not in my_dict: # key, letter is not in dictionary, my_dict\n",
    "        my_dict[letter] = [] #letter is key of dictionary, my_dict -> {'a':[]}\n",
    "        [].append(word)\n",
    "        print(f\"new key:{word[0]} for my_dict: {my_dict} with word:{word}\")\n",
    "    else:\n",
    "        my_dict[letter] = [].append(word)\n",
    "        print(f\"my_dict: {my_dict} with word:{word}\")\n",
    "    print(f\"------------{word}-------------\")   \n",
    "print(my_dict)\n",
    "        "
   ]
  },
  {
   "cell_type": "code",
   "execution_count": 7,
   "metadata": {},
   "outputs": [
    {
     "name": "stdout",
     "output_type": "stream",
     "text": [
      "new key:a for my_dict: {'a': []} with word:apple\n",
      "------------apple-------------\n",
      "my_dict: {'a': None} with word:abocado\n",
      "------------abocado-------------\n",
      "new key:b for my_dict: {'a': None, 'b': []} with word:banana\n",
      "------------banana-------------\n",
      "my_dict: {'a': None, 'b': None} with word:bread\n",
      "------------bread-------------\n",
      "{'a': None, 'b': None}\n"
     ]
    }
   ],
   "source": [
    "#2nd try - not working!\n",
    "words = ['apple','abocado','banana','bread']\n",
    "my_dict = {}\n",
    "for word in words:\n",
    "    letter = word[0]\n",
    "    if letter not in my_dict: # key, letter is not in dictionary, my_dict\n",
    "        my_dict[letter] = [] #letter is key of dictionary, my_dict -> {'a':[]}\n",
    "        print(f\"new key:{word[0]} for my_dict: {my_dict} with word:{word}\")\n",
    "    else:\n",
    "        my_dict[letter] = [].append(word)\n",
    "        print(f\"my_dict: {my_dict} with word:{word}\")\n",
    "    print(f\"------------{word}-------------\")   \n",
    "print(my_dict)"
   ]
  },
  {
   "cell_type": "code",
   "execution_count": 15,
   "metadata": {},
   "outputs": [
    {
     "name": "stdout",
     "output_type": "stream",
     "text": [
      "new key:a, for my_dict: {'a': ['apple']} with word:apple\n",
      "------------apple-------------\n",
      "my_dict: {'a': ['apple', 'abocado']}, with word:abocado\n",
      "------------abocado-------------\n",
      "new key:b, for my_dict: {'a': ['apple', 'abocado'], 'b': ['banana']} with word:banana\n",
      "------------banana-------------\n",
      "my_dict: {'a': ['apple', 'abocado'], 'b': ['banana', 'bread']}, with word:bread\n",
      "------------bread-------------\n",
      "{'a': ['apple', 'abocado'], 'b': ['banana', 'bread']}\n"
     ]
    }
   ],
   "source": [
    "#3rd try - works!\n",
    "words = ['apple','abocado','banana','bread']\n",
    "my_dict = {}\n",
    "for word in words:\n",
    "    letter = word[0]\n",
    "    if letter not in my_dict: # key, letter is not in dictionary, my_dict\n",
    "        my_dict[letter] = [] #letter is key of dictionary, my_dict -> {'a':[]}\n",
    "        my_dict[letter] = [word]\n",
    "        print(f\"new key:{word[0]}, for my_dict: {my_dict} with word:{word}\")\n",
    "    else:\n",
    "        my_dict[letter].append(word) #my_dict[letter] is value, which is [...]\n",
    "        print(f\"my_dict: {my_dict}, with word:{word}\")\n",
    "    print(f\"------------{word}-------------\")   \n",
    "print(my_dict)"
   ]
  },
  {
   "cell_type": "code",
   "execution_count": 14,
   "metadata": {},
   "outputs": [
    {
     "name": "stdout",
     "output_type": "stream",
     "text": [
      "[[1, 2, 3, 4, 5], [123, 234, 456]]\n"
     ]
    }
   ],
   "source": [
    "#test - append value to dictionary\n",
    "list1 = [1, 2, 3, 4, 5]\n",
    "list2 = [123, 234, 456]\n",
    "d = {'a': [], 'b': []}\n",
    "d['a'].append(list1)\n",
    "d['a'].append(list2)\n",
    "print(d['a'])"
   ]
  },
  {
   "cell_type": "code",
   "execution_count": 16,
   "metadata": {},
   "outputs": [
    {
     "name": "stdout",
     "output_type": "stream",
     "text": [
      "new key:a, for my_dict: {'a': ['apple']} with word:apple\n",
      "------------apple-------------\n",
      "my_dict: {'a': ['apple', 'abocado']}, with word:abocado\n",
      "------------abocado-------------\n",
      "new key:b, for my_dict: {'a': ['apple', 'abocado'], 'b': ['banana']} with word:banana\n",
      "------------banana-------------\n",
      "my_dict: {'a': ['apple', 'abocado'], 'b': ['banana', 'bread']}, with word:bread\n",
      "------------bread-------------\n",
      "{'a': ['apple', 'abocado'], 'b': ['banana', 'bread']}\n"
     ]
    }
   ],
   "source": [
    "#4th try - work!\n",
    "words = ['apple','abocado','banana','bread']\n",
    "my_dict = {}\n",
    "for word in words:\n",
    "    letter = word[0]\n",
    "    if letter not in my_dict: # key, letter is not in dictionary, my_dict\n",
    "        my_dict[letter] = [] #letter is key of dictionary, my_dict -> {'a':[]}\n",
    "#         my_dict[letter] = [word]\n",
    "        my_dict[letter].append(word)\n",
    "        \n",
    "        print(f\"new key:{word[0]}, for my_dict: {my_dict} with word:{word}\")\n",
    "    else:\n",
    "        my_dict[letter].append(word)\n",
    "        print(f\"my_dict: {my_dict}, with word:{word}\")\n",
    "    print(f\"------------{word}-------------\")   \n",
    "print(my_dict)"
   ]
  },
  {
   "cell_type": "code",
   "execution_count": 18,
   "metadata": {},
   "outputs": [
    {
     "name": "stdout",
     "output_type": "stream",
     "text": [
      "new key:a, for my_dict: {'a': ['apple']} with word:apple\n",
      "------------apple-------------\n",
      "my_dict: {'a': ['apple', 'abocado']}, with word:abocado\n",
      "------------abocado-------------\n",
      "new key:b, for my_dict: {'a': ['apple', 'abocado'], 'b': ['banana']} with word:banana\n",
      "------------banana-------------\n",
      "my_dict: {'a': ['apple', 'abocado'], 'b': ['banana', 'bread']}, with word:bread\n",
      "------------bread-------------\n",
      "{'a': ['apple', 'abocado'], 'b': ['banana', 'bread']}\n"
     ]
    }
   ],
   "source": [
    "#5th try - work!\n",
    "words = ['apple','abocado','banana','bread']\n",
    "my_dict = {}\n",
    "for word in words:\n",
    "    letter = word[0]\n",
    "    if letter not in my_dict: # key, letter is not in dictionary, my_dict\n",
    "        my_dict[letter] = [word]\n",
    "        print(f\"new key:{word[0]}, for my_dict: {my_dict} with word:{word}\")\n",
    "    else:\n",
    "        my_dict[letter].append(word)\n",
    "        print(f\"my_dict: {my_dict}, with word:{word}\")\n",
    "    print(f\"------------{word}-------------\")   \n",
    "print(my_dict)"
   ]
  },
  {
   "cell_type": "code",
   "execution_count": 19,
   "metadata": {},
   "outputs": [
    {
     "data": {
      "text/plain": [
       "{'a': ['apple', 'abocado'], 'b': ['banana', 'bread']}"
      ]
     },
     "execution_count": 19,
     "metadata": {},
     "output_type": "execute_result"
    }
   ],
   "source": [
    "##setdefault\n",
    "words = ['apple','abocado','banana','bread']\n",
    "my_dict ={}\n",
    "for word in words:\n",
    "    letter = word[0]\n",
    "#like my_dict[letter] is dictionary value,[...]; my_dict.setdefault(letter, []) is dictionary value.\n",
    "#But if there is no key(letter) in dict, makes default key value pair such as  {letter: {}} \n",
    "#then append 'word' to dict value in key, 'letter'.\n",
    "    my_dict.setdefault(letter, []).append(word) \n",
    "my_dict"
   ]
  },
  {
   "cell_type": "code",
   "execution_count": 20,
   "metadata": {},
   "outputs": [
    {
     "data": {
      "text/plain": [
       "defaultdict(list, {'a': ['apple', 'abocado'], 'b': ['banana', 'bread']})"
      ]
     },
     "execution_count": 20,
     "metadata": {},
     "output_type": "execute_result"
    }
   ],
   "source": [
    "#defaultdict -> my_dict[key].append(value)\n",
    "from collections import defaultdict\n",
    "words = ['apple','abocado','banana','bread']\n",
    "my_dict = defaultdict(list)\n",
    "for word in words:\n",
    "   my_dict[word[0]].append(word)\n",
    "my_dict"
   ]
  },
  {
   "cell_type": "code",
   "execution_count": 23,
   "metadata": {},
   "outputs": [
    {
     "name": "stdout",
     "output_type": "stream",
     "text": [
      "None\n"
     ]
    }
   ],
   "source": [
    "#test\n",
    "\n",
    "def func(value1):\n",
    "    return value1 + \"!\"\n",
    "\n",
    "# def for_loop(iterable, func):\n",
    "def for_loop(iterable):\n",
    "    \n",
    "    iterator = iter(iterable)\n",
    "    while True:\n",
    "        try:\n",
    "            thing = next(iterator)\n",
    "        except StopIteration:\n",
    "            break \n",
    "        else:\n",
    "            func(thing)\n",
    "\n",
    "# print(for_loop(\"hello\", func))\n",
    "print(for_loop(\"hello\"))"
   ]
  },
  {
   "cell_type": "code",
   "execution_count": 24,
   "metadata": {},
   "outputs": [
    {
     "data": {
      "text/plain": [
       "'Amazon'"
      ]
     },
     "execution_count": 24,
     "metadata": {},
     "output_type": "execute_result"
    }
   ],
   "source": [
    "#str.strip() test\n",
    "str.strip(\"  Amazon\")"
   ]
  },
  {
   "cell_type": "code",
   "execution_count": 25,
   "metadata": {},
   "outputs": [
    {
     "data": {
      "text/plain": [
       "' #Tht '"
      ]
     },
     "execution_count": 25,
     "metadata": {},
     "output_type": "execute_result"
    }
   ],
   "source": [
    "#str.title test\n",
    "str.title(\" #thT \")"
   ]
  },
  {
   "cell_type": "code",
   "execution_count": 52,
   "metadata": {},
   "outputs": [
    {
     "data": {
      "text/plain": [
       "{1: 'Geeks'}"
      ]
     },
     "execution_count": 52,
     "metadata": {},
     "output_type": "execute_result"
    }
   ],
   "source": [
    "dict_test0 = dict([(1, 'Geeks')]) \n",
    "dict_test0"
   ]
  },
  {
   "cell_type": "code",
   "execution_count": 50,
   "metadata": {},
   "outputs": [
    {
     "data": {
      "text/plain": [
       "{1: 'Geeks', 2: 'For'}"
      ]
     },
     "execution_count": 50,
     "metadata": {},
     "output_type": "execute_result"
    }
   ],
   "source": [
    "dict_test1 = dict([(1, 'Geeks'), (2, 'For')]) \n",
    "dict_test1"
   ]
  },
  {
   "cell_type": "code",
   "execution_count": 57,
   "metadata": {},
   "outputs": [
    {
     "data": {
      "text/plain": [
       "<generator object <genexpr> at 0x7f6e05398b50>"
      ]
     },
     "execution_count": 57,
     "metadata": {},
     "output_type": "execute_result"
    }
   ],
   "source": [
    "gen0 = (dict([(i, i**2)]) for i in range(5)) \n",
    "gen0"
   ]
  },
  {
   "cell_type": "code",
   "execution_count": 58,
   "metadata": {},
   "outputs": [
    {
     "name": "stdout",
     "output_type": "stream",
     "text": [
      "{0: 0}\n",
      "{1: 1}\n",
      "{2: 4}\n",
      "{3: 9}\n",
      "{4: 16}\n"
     ]
    }
   ],
   "source": [
    "for x in gen0:\n",
    "    print(x)"
   ]
  },
  {
   "cell_type": "code",
   "execution_count": 48,
   "metadata": {},
   "outputs": [
    {
     "data": {
      "text/plain": [
       "<generator object <genexpr> at 0x7f6e06ac4d50>"
      ]
     },
     "execution_count": 48,
     "metadata": {},
     "output_type": "execute_result"
    }
   ],
   "source": [
    "gen1 =({i: i**2} for i in range(5))\n",
    "gen1"
   ]
  },
  {
   "cell_type": "code",
   "execution_count": 49,
   "metadata": {},
   "outputs": [
    {
     "data": {
      "text/plain": [
       "[{0: 0}, {1: 1}, {2: 4}, {3: 9}, {4: 16}]"
      ]
     },
     "execution_count": 49,
     "metadata": {},
     "output_type": "execute_result"
    }
   ],
   "source": [
    "list(gen1)"
   ]
  },
  {
   "cell_type": "code",
   "execution_count": null,
   "metadata": {},
   "outputs": [],
   "source": []
  }
 ],
 "metadata": {
  "kernelspec": {
   "display_name": "Python 3",
   "language": "python",
   "name": "python3"
  },
  "language_info": {
   "codemirror_mode": {
    "name": "ipython",
    "version": 3
   },
   "file_extension": ".py",
   "mimetype": "text/x-python",
   "name": "python",
   "nbconvert_exporter": "python",
   "pygments_lexer": "ipython3",
   "version": "3.7.5"
  }
 },
 "nbformat": 4,
 "nbformat_minor": 2
}
